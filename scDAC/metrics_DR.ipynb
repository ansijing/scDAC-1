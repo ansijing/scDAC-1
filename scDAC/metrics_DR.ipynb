{
 "cells": [
  {
   "cell_type": "code",
   "execution_count": 2,
   "metadata": {
    "vscode": {
     "languageId": "r"
    }
   },
   "outputs": [],
   "source": [
    "label <- read.csv('./data/label_chen_10.csv',,head = T,row.names =1)\n",
    "p_true <- length(table(label))\n",
    "labelp <- read.csv('./data/chen_10/predict_label.csv',head = F)\n",
    "p_predicted <- length(table(labelp))\n",
    "DR <- (p_predicted  - p_true) / p_true\n",
    "DR"
   ]
  }
 ],
 "metadata": {
  "kernelspec": {
   "display_name": "R",
   "language": "R",
   "name": "ir"
  },
  "language_info": {
   "codemirror_mode": "r",
   "file_extension": ".r",
   "mimetype": "text/x-r-source",
   "name": "R",
   "pygments_lexer": "r",
   "version": "4.1.1"
  },
  "orig_nbformat": 4
 },
 "nbformat": 4,
 "nbformat_minor": 2
}
