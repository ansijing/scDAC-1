{
 "cells": [
  {
   "cell_type": "code",
   "execution_count": 1,
   "metadata": {},
   "outputs": [],
   "source": [
    "from os import path\n",
    "from os.path import join as pj \n",
    "import time\n",
    "import argparse \n",
    "\n",
    "from tqdm import tqdm \n",
    "import math\n",
    "import numpy as np\n",
    "import torch as th\n",
    "import pandas as pd\n",
    "import os\n",
    "from torch import nn, autograd\n",
    "import matplotlib.pyplot as plt\n",
    "import umap\n",
    "\n",
    "from modules import models, utils\n",
    "from modules.datasets import MultimodalDataset\n",
    "from modules.datasets import MultiDatasetSampler\n",
    "from sklearn.metrics.cluster import adjusted_rand_score\n",
    "from sklearn.metrics.cluster import normalized_mutual_info_score\n",
    "from sklearn import metrics\n",
    "from sklearn.mixture import BayesianGaussianMixture\n",
    "from sklearn.metrics import silhouette_score"
   ]
  },
  {
   "cell_type": "code",
   "execution_count": 2,
   "metadata": {},
   "outputs": [],
   "source": [
    "parser = argparse.ArgumentParser()\n",
    "## Task\n",
    "parser.add_argument('--task', type=str, default='baron_single',\n",
    "    help=\"Choose a task\")\n",
    "parser.add_argument('--reference', type=str, default='',\n",
    "    help=\"Choose a reference task\")\n",
    "parser.add_argument('--exp', type=str, default='e0',\n",
    "    help=\"Choose an experiment\")\n",
    "parser.add_argument('--model', type=str, default='default',\n",
    "    help=\"Choose a model configuration\")\n",
    "# parser.add_argument('--data', type=str, default='sup',\n",
    "#     help=\"Choose a data configuration\")\n",
    "parser.add_argument('--action', type=str, default='train',\n",
    "    help=\"Choose an action to run\")\n",
    "parser.add_argument('--method', type=str, default='scDAC',\n",
    "    help=\"Choose an method to benchmark\")\n",
    "parser.add_argument('--init-model', type=str, default='',\n",
    "    help=\"Load a saved model\")\n",
    "parser.add_argument('--mods-conditioned', type=str, nargs='+', default=[],\n",
    "    help=\"Modalities conditioned for sampling\")\n",
    "parser.add_argument('--data-conditioned', type=str, default='prior.csv',\n",
    "    help=\"Data conditioned for sampling\")\n",
    "parser.add_argument('--sample-num', type=int, default=0,\n",
    "    help='Number of samples to be generated')\n",
    "parser.add_argument('--input-mods', type=str, nargs='+', default=[],\n",
    "    help=\"Input modalities for transformation\")\n",
    "## Training\n",
    "parser.add_argument('--epoch-num', type=int, default=600,\n",
    "    help='Number of epochs to train')\n",
    "parser.add_argument('--lr', type=float, default=1e-4,\n",
    "    help='Learning rate')\n",
    "#parser.add_argument('--dim_logitx', type=int, default=64,\n",
    "#    help='dim_logitx')\n",
    "parser.add_argument('--grad-clip', type=float, default=-1,\n",
    "    help='Gradient clipping value')\n",
    "parser.add_argument('--s-drop-rate', type=float, default=0.1,\n",
    "    help=\"Probility of dropping out subject ID during training\")\n",
    "parser.add_argument('--seed', type=int, default=-1,\n",
    "    help=\"Set the random seed to reproduce the results\")\n",
    "parser.add_argument('--use-shm', type=int, default=1,\n",
    "    help=\"Use shared memory to accelerate training\")\n",
    "## Debugging\n",
    "parser.add_argument('--print-iters', type=int, default=-1,\n",
    "    help=\"Iterations to print training messages\")\n",
    "parser.add_argument('--log-epochs', type=int, default=100,\n",
    "    help='Epochs to log the training states')\n",
    "parser.add_argument('--save-epochs', type=int, default=1,\n",
    "    help='Epochs to save the latest training states (overwrite previous ones)')\n",
    "parser.add_argument('--time', type=int, default=0, choices=[0, 1],\n",
    "    help='Time the forward and backward passes')\n",
    "parser.add_argument('--debug', type=int, default=1, choices=[0, 1],\n",
    "    help='Print intermediate variables')\n",
    "# o, _ = parser.parse_known_args()  # for python interactive\n",
    "o = parser.parse_known_args()[0]"
   ]
  },
  {
   "cell_type": "code",
   "execution_count": 3,
   "metadata": {},
   "outputs": [
    {
     "data": {
      "text/plain": [
       "Namespace(action='train', data_conditioned='prior.csv', debug=1, epoch_num=600, exp='e0', grad_clip=-1, init_model='', input_mods=[], log_epochs=100, lr=0.0001, method='scDAC', model='default', mods_conditioned=[], print_iters=-1, reference='', s_drop_rate=0.1, sample_num=0, save_epochs=1, seed=-1, task='baron_single', time=0, use_shm=1)"
      ]
     },
     "execution_count": 3,
     "metadata": {},
     "output_type": "execute_result"
    }
   ],
   "source": [
    "o"
   ]
  },
  {
   "cell_type": "code",
   "execution_count": 4,
   "metadata": {},
   "outputs": [],
   "source": [
    "data_config = None\n",
    "net = None\n",
    "#discriminator = None \n",
    "optimizer_net = None\n",
    "#optimizer_disc = None\n",
    "benchmark = {\n",
    "    \"train_loss\": [],\n",
    "    \"test_loss\": [],\n",
    "    \"foscttm\": [],\n",
    "    \"epoch_id_start\": 0\n",
    "}"
   ]
  },
  {
   "cell_type": "code",
   "execution_count": 5,
   "metadata": {},
   "outputs": [],
   "source": [
    "def main():\n",
    "    initialize()\n",
    "    if o.action == \"print_model\":\n",
    "        print_model() ##\n",
    "    elif o.action == \"train\":\n",
    "        train() #\n",
    "    elif o.action == \"test\":\n",
    "        test() ###\n",
    "    elif o.action == \"infer_latent\":\n",
    "        infer_latent(only_joint=False, impute=False, save_input=True)###\n",
    "\n",
    "    else:\n",
    "        assert False, \"Invalid action!\""
   ]
  },
  {
   "cell_type": "code",
   "execution_count": 6,
   "metadata": {},
   "outputs": [],
   "source": [
    "def initialize():\n",
    "    init_seed() ##\n",
    "    init_dirs() ##\n",
    "    load_data_config() ##\n",
    "    load_model_config() ##\n",
    "    get_gpu_config() ##\n",
    "    init_model() ##\n",
    "\n",
    "\n",
    "def init_seed():\n",
    "    if o.seed >= 0:\n",
    "        np.random.seed(o.seed) \n",
    "        th.manual_seed(o.seed) \n",
    "        th.cuda.manual_seed_all(o.seed)\n",
    "\n",
    "\n",
    "def init_dirs():\n",
    "    if o.use_shm == 1:\n",
    "        o.data_dir = pj(\"/root/data/asj/2023/0118/sc-transformer-gmvaextoytoz/data\", \"processed\",  o.task)\n",
    "    else:\n",
    "        o.data_dir = pj(\"/root/data/asj/2023/0118/sc-transformer-gmvaextoytoz/data\", \"processed\", o.task)\n",
    "    o.result_dir = pj(\"result\", o.task, o.exp, o.model)\n",
    "    if o.reference == '': \n",
    "        o.train_dir = pj(\"result\", o.task, o.exp, o.model, \"train\")\n",
    "    else:\n",
    "        o.train_dir = pj(\"result\", o.reference, o.exp, o.model, \"train\")\n",
    "    o.debug_dir = pj(o.result_dir, \"debug\")\n",
    "    utils.mkdirs([o.train_dir, o.debug_dir])\n",
    "    print(\"Task: %s\\nExperiment: %s\\nModel: %s\\n\" % (o.task, o.exp, o.model))\n",
    "\n",
    "\n",
    "def load_data_config():\n",
    "    get_dims_x()\n",
    "    o.mods = list(o.dims_x.keys())\n",
    "    o.mod_num = len(o.dims_x)\n",
    "    global data_config\n",
    "    data_config = utils.load_toml(\"configs/data.toml\")[o.task]\n",
    "    for k, v in data_config.items():\n",
    "        vars(o)[k] = v\n",
    "\n",
    "    o.s_joint, o.combs, o.s, o.dims_s = utils.gen_all_batch_ids(o.s_joint, o.combs)\n",
    "    \n",
    "\n",
    "    \n",
    "    if o.reference != '':\n",
    "        data_config_ref = utils.load_toml(\"configs/data.toml\")[o.reference]\n",
    "        _, _, _, o.dims_s = utils.gen_all_batch_ids(data_config_ref[\"s_joint\"], \n",
    "                                                    data_config_ref[\"combs\"])\n",
    "\n",
    "\n",
    "\n",
    "def load_model_config():\n",
    "    model_config = utils.load_toml(\"configs/model.toml\")[\"default\"]\n",
    "    if o.model != \"default\":\n",
    "        model_config.update(utils.load_toml(\"configs/model.toml\")[o.model])\n",
    "    for k, v in model_config.items():\n",
    "        vars(o)[k] = v\n",
    "    o.dim_z = o.dim_c\n",
    "    o.dims_dec_x = o.dims_enc_x[::-1]\n",
    "    if \"dims_enc_chr\" in vars(o).keys():\n",
    "        o.dims_dec_chr = o.dims_enc_chr[::-1]\n",
    "    o.dims_h = {}\n",
    "    for m, dim in o.dims_x.items():\n",
    "        o.dims_h[m] = dim if m != \"atac\" else o.dims_enc_chr[-1] * 22\n",
    "    print(\"dims_h:\", o.dims_h)\n",
    "\n",
    "def get_gpu_config():\n",
    "    o.G = 1  # th.cuda.device_count()  # get GPU number\n",
    "    o.N = 512\n",
    "    assert o.N % o.G == 0, \"Please ensure the mini-batch size can be divided \" \\\n",
    "        \"by the GPU number\"\n",
    "    o.n = o.N // o.G\n",
    "    print(\"Total mini-batch size: %d, GPU number: %d, GPU mini-batch size: %d\" % (o.N, o.G, o.n))\n",
    "\n",
    "\n",
    "def init_model():\n",
    "    \"\"\"\n",
    "    Initialize the model, optimizer, and benchmark\n",
    "    \"\"\"\n",
    "    global net, optimizer_net\n",
    "    net = models.Net_DP(o).cuda()\n",
    "    optimizer_net = th.optim.AdamW(net.parameters(), lr=o.lr)\n",
    "    if o.init_model != '':\n",
    "        fpath = pj(o.train_dir, o.init_model)\n",
    "        savepoint = th.load(fpath+\".pt\")\n",
    "        net.load_state_dict(savepoint['net_states'])\n",
    "        optimizer_net.load_state_dict(savepoint['optim_net_states'])\n",
    "        benchmark.update(utils.load_toml(fpath+\".toml\")['benchmark'])\n",
    "        print('Model is initialized from ' + fpath + \".pt\")\n",
    "    net_param_num = sum([param.data.numel() for param in net.parameters()])\n",
    "    print('Parameter number: %.3f M' % (net_param_num / 1e6))\n",
    "\n",
    "\n",
    "def print_model():\n",
    "    #global net, discriminator\n",
    "    global net\n",
    "    with open(pj(o.result_dir, \"model_architecture.txt\"), 'w') as f:\n",
    "        print(net, file=f)\n",
    "\n",
    "\n",
    "def get_dims_x():\n",
    "    dims_x = utils.load_csv(pj(o.data_dir, \"feat\", \"feat_dims.csv\"))\n",
    "    dims_x = utils.transpose_list(dims_x)\n",
    "    o.dims_x = {}\n",
    "    for i in range(1, len(dims_x)):\n",
    "        m = dims_x[i][0]\n",
    "        if m == \"atac\":\n",
    "            o.dims_chr = list(map(int, dims_x[i][1:]))\n",
    "            o.dims_x[m] = sum(o.dims_chr)\n",
    "        else:\n",
    "            o.dims_x[m] = int(dims_x[i][1])\n",
    "\n",
    "\n",
    "    print(\"Input feature numbers: \", o.dims_x)\n",
    "\n",
    "\n",
    "def train():\n",
    "    train_data_loader_cat = get_dataloader_cat(\"train\")\n",
    "    epoch_id_list = []\n",
    "    ari_list = []\n",
    "    nmi_list = []\n",
    "    sc_list = []\n",
    "\n",
    "    for epoch_id in range(benchmark['epoch_id_start'], o.epoch_num):\n",
    "        run_epoch(train_data_loader_cat, \"train\", epoch_id)\n",
    "        if epoch_id >300:\n",
    "\n",
    "            z = infer_latent_dp(save_input=False)\n",
    "            net.loss_calculator_dp.mean_dp, net.loss_calculator_dp.weight_concentration_dp,net.loss_calculator_dp.mean_precision_dp,net.loss_calculator_dp.precisions_cholesky_dp, net.loss_calculator_dp.degrees_of_freedom_dp, net.scdp.predict_label = dp(z)\n",
    "            epoch_id_list.append(epoch_id)\n",
    "        else:\n",
    "            pass            \n",
    "        check_to_save(epoch_id)"
   ]
  },
  {
   "cell_type": "code",
   "execution_count": 7,
   "metadata": {},
   "outputs": [],
   "source": [
    "if o.task == 'chen_10':\n",
    "    path_label = './data/label_chen_10.csv'\n",
    "elif o.task == 'baron_single':\n",
    "    path_label = '/root/data/asj/2023/0118/sc-transformer-gmvaextoytoz/data/b1/label_seurat/l1.csv'    \n",
    "elif o.task == 'Kozareva_total':\n",
    "    path_label = '/root/data/asj/2023/0118/sc-transformer-gmvaextoytoz/data/k_t/label_seurat/label1.csv'    \n",
    "elif o.task == 'Orozco':\n",
    "    path_label = '/root/data/asj/2023/0118/sc-transformer-gmvaextoytoz/data/o1/label_seurat/label.csv' \n",
    "elif o.task == 'Slyper':\n",
    "    path_label = '/root/data/asj/2023/0118/sc-transformer-gmvaextoytoz/data/s1/label_seurat/label_new.csv' \n",
    "elif o.task == 'Zilionis':\n",
    "    path_label = '/root/data/asj/2023/0118/sc-transformer-gmvaextoytoz/data/z1/label_seurat/label.csv' \n",
    "else:\n",
    "    path_label = './data/label_chen_8.csv'"
   ]
  },
  {
   "cell_type": "code",
   "execution_count": 8,
   "metadata": {},
   "outputs": [],
   "source": [
    "def dp(z):\n",
    "    # z_np = (z).cpu().detach().numpy()   \n",
    "    z_np = z.cpu().detach().numpy()   \n",
    "    bgm = BayesianGaussianMixture(\n",
    "        n_components=50, weight_concentration_prior=1e-10,mean_precision_prior = 80,covariance_type='diag',init_params ='kmeans', max_iter=1000, warm_start = True\n",
    "        ).fit(z_np)\n",
    "    predict_label_array = bgm.predict(z_np)\n",
    "    predict_label_array = bgm.predict(z_np)\n",
    "    predict_label = th.Tensor(np.array(predict_label_array)).unsqueeze(1).cuda()\n",
    "    mean_dp = th.Tensor(np.array(bgm.means_))\n",
    "    weight_concentration_dp = th.Tensor(np.array(bgm.weight_concentration_))\n",
    "    precisions_cholesky_dp = th.Tensor(np.array(bgm.precisions_cholesky_))\n",
    "    degrees_of_freedom_dp = th.Tensor(np.array(bgm.degrees_of_freedom_))\n",
    "    mean_precision_dp = th.Tensor(np.array(bgm.mean_precision_))   \n",
    "    return mean_dp, weight_concentration_dp, mean_precision_dp, precisions_cholesky_dp, degrees_of_freedom_dp, predict_label\n",
    "\n",
    "def dp_infer(z):\n",
    "    # z_np = (z).cpu().detach().numpy()   \n",
    "    z_np = z.cpu().detach().numpy()   \n",
    "    bgm = BayesianGaussianMixture(\n",
    "        n_components=50, weight_concentration_prior=1e-10,mean_precision_prior = 80, covariance_type='diag', n_init = 10, init_params ='kmeans', max_iter=1000, warm_start = True\n",
    "        ).fit(z_np)\n",
    "    predict_label_array = bgm.predict(z_np)\n",
    "    predict_label = th.Tensor(np.array(predict_label_array)).unsqueeze(1).cuda()\n",
    "    mean_dp = th.Tensor(np.array(bgm.means_))\n",
    "    weight_concentration_dp = th.Tensor(np.array(bgm.weight_concentration_))\n",
    "    precisions_cholesky_dp = th.Tensor(np.array(bgm.precisions_cholesky_))\n",
    "    degrees_of_freedom_dp = th.Tensor(np.array(bgm.degrees_of_freedom_))\n",
    "    mean_precision_dp = th.Tensor(np.array(bgm.mean_precision_))   \n",
    "    return mean_dp, weight_concentration_dp, mean_precision_dp, precisions_cholesky_dp, degrees_of_freedom_dp, predict_label"
   ]
  },
  {
   "cell_type": "code",
   "execution_count": 9,
   "metadata": {},
   "outputs": [],
   "source": [
    "\n",
    "def get_dataloaders(split, train_ratio=None):\n",
    "    data_loaders = {}\n",
    "    for subset in range(len(o.s)):\n",
    "        data_loaders[subset] = get_dataloader(subset, split, train_ratio=train_ratio)\n",
    "    return data_loaders\n",
    "\n",
    "\n",
    "def get_dataloader(subset, split, train_ratio=None):\n",
    "    dataset = MultimodalDataset(o.task, o.data_dir, subset, split, train_ratio=train_ratio)\n",
    "    shuffle = True if split == \"train\" else False\n",
    "    # shuffle = False\n",
    "    data_loader = th.utils.data.DataLoader(dataset, batch_size=o.N, shuffle=shuffle,\n",
    "                                           num_workers=64, pin_memory=True)\n",
    "    print(\"Subset: %d, modalities %s: %s size: %d\" %\n",
    "          (subset, str(o.combs[subset]), split, dataset.size))\n",
    "    return data_loader\n",
    "\n",
    "\n",
    "def get_dataloader_cat(split, train_ratio=None):\n",
    "    datasets = []\n",
    "    for subset in range(len(o.s)):\n",
    "        datasets.append(MultimodalDataset(o.task, o.data_dir, subset, split, train_ratio=train_ratio))\n",
    "        print(\"Subset: %d, modalities %s: %s size: %d\" %  (subset, str(o.combs[subset]), split,\n",
    "            datasets[subset].size))\n",
    "    dataset_cat = th.utils.data.dataset.ConcatDataset(datasets)\n",
    "    shuffle = True if split == \"train\" else False\n",
    "    # shuffle = False\n",
    "    sampler = MultiDatasetSampler(dataset_cat, batch_size=o.N, shuffle=shuffle)\n",
    "    data_loader = th.utils.data.DataLoader(dataset_cat, batch_size=o.N, sampler=sampler, \n",
    "        num_workers=64, pin_memory=True)\n",
    "    return data_loader"
   ]
  },
  {
   "cell_type": "code",
   "execution_count": 10,
   "metadata": {},
   "outputs": [],
   "source": [
    "def get_eval_dataloader(train_ratio=False):\n",
    "    data_config_new = utils.copy_dict(data_config)\n",
    "    data_config_new.update({\"combs\": [o.mods], \"comb_ratios\": [1]})\n",
    "    if train_ratio:\n",
    "        data_config_new.update({\"train_ratio\": train_ratio})\n",
    "    dataset = MultimodalDataset(data_config_new, o.mods, \"test\")\n",
    "    data_loader = th.utils.data.DataLoader(dataset, batch_size=o.N,\n",
    "        shuffle=False, num_workers=64, pin_memory=True)\n",
    "    print(\"Eval Dataset %s: test: %d\\n\" % (str(o.mods), dataset.size))\n",
    "    return data_loader\n",
    "\n",
    "\n",
    "def test():\n",
    "    data_loaders = get_dataloaders()\n",
    "    run_epoch(data_loaders, \"test\")"
   ]
  },
  {
   "cell_type": "code",
   "execution_count": 11,
   "metadata": {},
   "outputs": [],
   "source": [
    "def run_epoch(data_loader, split, epoch_id=0):\n",
    "    if split == \"train\":\n",
    "        net.train()\n",
    "    elif split == \"test\":\n",
    "        net.eval()\n",
    "    else:\n",
    "        assert False, \"Invalid split: %s\" % split\n",
    "    net.o.epoch_id = epoch_id\n",
    "    loss_total = 0\n",
    "    for i, data in enumerate(data_loader):\n",
    "        loss = run_iter(split, data)\n",
    "        loss_total += loss\n",
    "        if o.print_iters > 0 and (i+1) % o.print_iters == 0:\n",
    "            print('Epoch: %d/%d, Batch: %d/%d, %s loss: %.3f' % (epoch_id+1,\n",
    "            o.epoch_num, i+1, len(data_loader), split, loss))\n",
    "    loss_avg = loss_total / len(data_loader)\n",
    "    print('Epoch: %d/%d, %s loss: %.3f\\n' % (epoch_id+1, o.epoch_num, split, loss_avg))\n",
    "    benchmark[split+'_loss'].append((float(epoch_id), float(loss_avg)))\n",
    "    return loss_avg\n",
    "\n",
    "\n",
    "\n",
    "def run_iter(split, inputs):\n",
    "    inputs = utils.convert_tensors_to_cuda(inputs)\n",
    "    if split == \"train\":\n",
    "        with autograd.set_detect_anomaly(o.debug == 1):\n",
    "            loss_net = forward_net(inputs)\n",
    "            loss = loss_net\n",
    "            update_net(loss) \n",
    "            \n",
    "            \n",
    "            \n",
    "    else:\n",
    "        with th.no_grad():\n",
    "            loss_net = forward_net(inputs)\n",
    "            loss = loss_net\n",
    "    \n",
    "    return loss.item()\n",
    "\n",
    "\n",
    "def forward_net(inputs):\n",
    "    return net(inputs)\n",
    "\n",
    "\n",
    "def update_net(loss):\n",
    "    update(loss, net, optimizer_net)\n",
    "\n",
    "    \n",
    "\n",
    "def update(loss, model, optimizer):\n",
    "    optimizer.zero_grad()\n",
    "    loss.backward()\n",
    "\n",
    "    if o.grad_clip > 0:\n",
    "        nn.utils.clip_grad_norm_(model.parameters(), o.grad_clip)\n",
    "    optimizer.step()\n",
    "\n",
    "\n",
    "def check_to_save(epoch_id):\n",
    "    if (epoch_id+1) % o.log_epochs == 0 or epoch_id+1 == o.epoch_num:\n",
    "        save_training_states(epoch_id, \"sp_%08d\" % epoch_id)\n",
    "    if (epoch_id+1) % o.save_epochs == 0 or epoch_id+1 == o.epoch_num:\n",
    "        save_training_states(epoch_id, \"sp_latest\")\n",
    "\n",
    "\n",
    "def save_training_states(epoch_id, filename):\n",
    "    benchmark['epoch_id_start'] = epoch_id\n",
    "    utils.save_toml({\"o\": vars(o), \"benchmark\": benchmark}, pj(o.train_dir, filename+\".toml\"))\n",
    "    th.save({\"net_states\": net.state_dict(),\n",
    "             \"optim_net_states\": optimizer_net.state_dict(),\n",
    "            }, pj(o.train_dir, filename+\".pt\"))\n",
    "\n",
    "\n",
    "\n",
    "\n",
    "def infer_latent_dp(save_input=False):\n",
    "    print(\"Inferring ...\")\n",
    "    dirs = {}\n",
    "    base_dir = pj(o.result_dir, \"represent\", o.init_model)\n",
    "    data_loaders = get_dataloaders(\"test\", train_ratio=0)\n",
    "    net.eval()\n",
    "    with th.no_grad():\n",
    "        for subset_id, data_loader in data_loaders.items():\n",
    "            print(\"Processing subset %d: %s\" % (subset_id, str(o.combs[subset_id])))\n",
    "            dirs[subset_id] = {\"z\": {}, \"x_r_pre\": {}, \"x\": {}}\n",
    "            dirs[subset_id][\"z\"][\"rna\"] = pj(base_dir, \"subset_\"+str(subset_id), \"z\", \"rna\")\n",
    "            utils.mkdirs(dirs[subset_id][\"z\"][\"rna\"], remove_old=False)          \n",
    "            z_list = []\n",
    "            if save_input:\n",
    "                for m in o.combs[subset_id]:\n",
    "                    dirs[subset_id][\"x\"][m] = pj(base_dir, \"subset_\"+str(subset_id), \"x\", m)\n",
    "                    utils.mkdirs(dirs[subset_id][\"x\"][m], remove_old=True)\n",
    "            fname_fmt = utils.get_name_fmt(len(data_loader))+\".csv\"    \n",
    "            for i, data in enumerate(data_loader):\n",
    "                data = utils.convert_tensors_to_cuda(data)\n",
    "                _, z= net.scdp(data)      \n",
    "                z_list.append(z)\n",
    "                z_all = th.cat(z_list, dim = 0)\n",
    "    return(z_all)"
   ]
  },
  {
   "cell_type": "code",
   "execution_count": 12,
   "metadata": {},
   "outputs": [],
   "source": [
    "def infer_latent(only_joint=True, impute=False, save_input=False):\n",
    "    print(\"Inferring ...\")\n",
    "    dirs = {}\n",
    "    base_dir = pj(o.result_dir, \"represent\", o.init_model)\n",
    "    data_loaders = get_dataloaders(\"test\", train_ratio=0)\n",
    "    net.eval()\n",
    "    with th.no_grad():\n",
    "        # z_all_large = []\n",
    "        for subset_id, data_loader in data_loaders.items():\n",
    "            print(\"Processing subset %d: %s\" % (subset_id, str(o.combs[subset_id])))\n",
    "            dirs[subset_id] = {\"z\": {}, \"x_r_pre\": {}, \"x\": {}}\n",
    "            dirs[subset_id][\"z\"][\"joint\"] = pj(base_dir, \"subset_\"+str(subset_id), \"z\", \"joint\")\n",
    "            utils.mkdirs(dirs[subset_id][\"z\"][\"joint\"], remove_old=True)\n",
    "            if not only_joint:\n",
    "                for m in o.combs[subset_id]:\n",
    "                    dirs[subset_id][\"z\"][m] = pj(base_dir, \"subset_\"+str(subset_id), \"z\", m)\n",
    "                    utils.mkdirs(dirs[subset_id][\"z\"][m], remove_old=True)\n",
    "                    dirs[subset_id][\"x_r_pre\"][m] = pj(base_dir, \"subset_\"+str(subset_id), \"x_r_pre\", m)\n",
    "                    utils.mkdirs(dirs[subset_id][\"x_r_pre\"][m], remove_old=True)          \n",
    "            if impute:\n",
    "                for m in o.mods:\n",
    "                    dirs[subset_id][\"x_r\"][m] = pj(base_dir, \"subset_\"+str(subset_id), \"x_r\", m)\n",
    "                    utils.mkdirs(dirs[subset_id][\"x_r\"][m], remove_old=True)\n",
    "            if save_input:\n",
    "                for m in o.combs[subset_id]:\n",
    "                    dirs[subset_id][\"x\"][m] = pj(base_dir, \"subset_\"+str(subset_id), \"x\", m)\n",
    "                    utils.mkdirs(dirs[subset_id][\"x\"][m], remove_old=True)\n",
    "            fname_fmt = utils.get_name_fmt(len(data_loader))+\".csv\"\n",
    "            \n",
    "            for i, data in enumerate(tqdm(data_loader)):\n",
    "                data = utils.convert_tensors_to_cuda(data)\n",
    "                x_r_pre, z= net.scdp(data) \n",
    "                utils.save_tensor_to_csv(z, pj(dirs[subset_id][\"z\"][\"joint\"], fname_fmt) % i)\n",
    "                if impute:\n",
    "                    x_r = models.gen_real_data(x_r_pre, sampling=True)\n",
    "                    for m in o.mods:\n",
    "                        utils.save_tensor_to_csv(x_r[m], pj(dirs[subset_id][\"x_r\"][m], fname_fmt) % i)\n",
    "                if save_input:\n",
    "                    for m in o.combs[subset_id]:\n",
    "                        utils.save_tensor_to_csv(data[\"x\"][m], pj(dirs[subset_id][\"x\"][m], fname_fmt) % i)\n",
    "\n",
    "                # conditioned on each individual modalities\n",
    "                if not only_joint:\n",
    "                    for m in data[\"x\"].keys():\n",
    "                        input_data = {\n",
    "                            \"x\": {m: data[\"x\"][m]},\n",
    "                            \"s\": data[\"s\"],  \n",
    "                            \"e\": {}\n",
    "                        }\n",
    "                        if m in data[\"e\"].keys():\n",
    "                            input_data[\"e\"][m] = data[\"e\"][m]\n",
    "                        #_, _, _, _, z, c, b, *_ = net.sct(input_data)  # N * K\n",
    "                        # _, c_ymu, _, _, _, z, y_cat_list, _, _, _, n_covariance2, n_mu, d2, w_covariance3, _ = net.dpmm(input_data)  # N * K\n",
    "                        _, z= net.scdp(input_data)  # N * K\n",
    "                    \n",
    "                        # print(input_data['x']['rna'].shape, z.shape)\n",
    "                        utils.save_tensor_to_csv(z, pj(dirs[subset_id][\"z\"][m], fname_fmt) % i)    \n",
    "                        # utils.save_tensor_to_csv(predict_label, pj(dirs[subset_id][\"predict_label\"][m], fname_fmt) % i)  \n",
    "                    if i >0:\n",
    "                        z_all = th.cat((z_all, z), dim = 0)\n",
    "                    else:\n",
    "                        z_all = z\n",
    "            # z_all_large.append(z_all)\n",
    "        _, _, _, _, _, predict_label = dp_infer(z_all)\n",
    "        if o.task == 'chen_10':\n",
    "            utils.save_tensor_to_csv(z_all, './result/chen_10/e0/default/represent/z.csv')\n",
    "            utils.save_tensor_to_csv(predict_label, './result/chen_10/e0/default/represent/y.csv')   \n",
    "        elif o.task == 'baron_single':\n",
    "            utils.save_tensor_to_csv(z_all, './result/baron_single/e0/default/represent/z.csv')\n",
    "            utils.save_tensor_to_csv(predict_label, './result/baron_single/e0/default/represent/y.csv')    \n",
    "        elif o.task == 'Kozareva_total':\n",
    "            utils.save_tensor_to_csv(z_all, './result/Kozareva_total/e0/default/represent/z.csv')\n",
    "            utils.save_tensor_to_csv(predict_label, './result/Kozareva_total/e0/default/represent/y.csv')   \n",
    "        elif o.task == 'Orozco':\n",
    "            utils.save_tensor_to_csv(z_all, './result/Orozco/e0/default/represent/z.csv')\n",
    "            utils.save_tensor_to_csv(predict_label, './result/Orozco/e0/default/represent/y.csv')   \n",
    "        elif o.task == 'Slyper':\n",
    "            utils.save_tensor_to_csv(z_all, './result/Slyper/e0/default/represent/z.csv')\n",
    "            utils.save_tensor_to_csv(predict_label, './result/Slyper/e0/default/represent/y.csv')   \n",
    "        elif o.task == 'Zilionis':\n",
    "            utils.save_tensor_to_csv(z_all, './result/Zilionis/e0/default/represent/z.csv')\n",
    "            utils.save_tensor_to_csv(predict_label, './result/Zilionis/e0/default/represent/y.csv')   \n",
    "        else:\n",
    "            utils.save_tensor_to_csv(z_all, './result/chen_10/e0/default/represent/z.csv')\n",
    "            utils.save_tensor_to_csv(predict_label, './result/chen_10/e0/default/represent/y.csv')   \n",
    "        z_all_cpu = z_all.cpu()\n",
    "        predict_label_cpu = predict_label.cpu()\n",
    "        # path_label = '/root/data/asj/2023/0118/sc-transformer-gmvaextoytoz/data/m1/label_seurat/label_Macosko.csv'\n",
    "        label_true = utils.load_csv(path_label)\n",
    "        label_tlist = utils.transpose_list(label_true)[1][1:]\n",
    "        label_plist = utils.transpose_list(predict_label_cpu)[0]\n",
    "        ari = adjusted_rand_score(label_tlist, label_plist) #l1 kpca20\n",
    "        nmi = normalized_mutual_info_score(label_tlist, label_plist)\n",
    "        sc = silhouette_score(z_all_cpu, label_plist)\n",
    "        print(\"ari:\", ari)\n",
    "        print(\"nmi:\", nmi)\n",
    "        print(\"sc:\", (1+sc)/2)"
   ]
  },
  {
   "cell_type": "code",
   "execution_count": 13,
   "metadata": {},
   "outputs": [],
   "source": [
    "def main():\n",
    "    initialize()\n",
    "    if o.action == \"print_model\":\n",
    "        print_model() ##\n",
    "    elif o.action == \"train\":\n",
    "        train() #\n",
    "    elif o.action == \"test\":\n",
    "        test() ###\n",
    "    elif o.action == \"infer_latent\":\n",
    "        infer_latent(only_joint=False, impute=False, save_input=True)###\n",
    "\n",
    "    else:\n",
    "        assert False, \"Invalid action!\""
   ]
  },
  {
   "cell_type": "code",
   "execution_count": 14,
   "metadata": {},
   "outputs": [
    {
     "name": "stdout",
     "output_type": "stream",
     "text": [
      "Task: baron_single\n",
      "Experiment: e0\n",
      "Model: default\n",
      "\n",
      "Input feature numbers:  {'rna': 2000}\n",
      "dims_h: {'rna': 2000}\n",
      "Total mini-batch size: 512, GPU number: 1, GPU mini-batch size: 512\n",
      "Parameter number: 1.102 M\n",
      "Subset: 0, modalities ['rna']: train size: 8569\n"
     ]
    },
    {
     "name": "stderr",
     "output_type": "stream",
     "text": [
      "/root/anaconda3/lib/python3.7/site-packages/torch/utils/data/dataloader.py:560: UserWarning: This DataLoader will create 64 worker processes in total. Our suggested max number of worker in current system is 32, which is smaller than what this DataLoader is going to create. Please be aware that excessive worker creation might get DataLoader running slow or even freeze, lower the worker number to avoid potential slowness/freeze if necessary.\n",
      "  cpuset_checked))\n"
     ]
    },
    {
     "name": "stdout",
     "output_type": "stream",
     "text": [
      "Epoch: 1/600, train loss: 6413.329\n",
      "\n",
      "Epoch: 2/600, train loss: 5662.506\n",
      "\n",
      "Epoch: 3/600, train loss: 5065.418\n",
      "\n",
      "Epoch: 4/600, train loss: 4506.875\n",
      "\n",
      "Epoch: 5/600, train loss: 4010.173\n",
      "\n",
      "Epoch: 6/600, train loss: 3569.256\n",
      "\n",
      "Epoch: 7/600, train loss: 3197.664\n",
      "\n",
      "Epoch: 8/600, train loss: 2892.503\n",
      "\n",
      "Epoch: 9/600, train loss: 2615.216\n",
      "\n",
      "Epoch: 10/600, train loss: 2387.529\n",
      "\n",
      "Epoch: 11/600, train loss: 2187.594\n",
      "\n",
      "Epoch: 12/600, train loss: 2026.565\n",
      "\n",
      "Epoch: 13/600, train loss: 1885.248\n",
      "\n",
      "Epoch: 14/600, train loss: 1780.191\n",
      "\n",
      "Epoch: 15/600, train loss: 1696.840\n",
      "\n",
      "Epoch: 16/600, train loss: 1621.351\n",
      "\n",
      "Epoch: 17/600, train loss: 1567.335\n",
      "\n",
      "Epoch: 18/600, train loss: 1515.822\n",
      "\n",
      "Epoch: 19/600, train loss: 1473.248\n",
      "\n",
      "Epoch: 20/600, train loss: 1441.016\n",
      "\n",
      "Epoch: 21/600, train loss: 1412.769\n",
      "\n",
      "Epoch: 22/600, train loss: 1386.578\n",
      "\n",
      "Epoch: 23/600, train loss: 1366.509\n",
      "\n",
      "Epoch: 24/600, train loss: 1350.804\n",
      "\n",
      "Epoch: 25/600, train loss: 1334.530\n",
      "\n",
      "Epoch: 26/600, train loss: 1313.263\n",
      "\n",
      "Epoch: 27/600, train loss: 1296.226\n",
      "\n",
      "Epoch: 28/600, train loss: 1282.500\n",
      "\n",
      "Epoch: 29/600, train loss: 1273.523\n",
      "\n",
      "Epoch: 30/600, train loss: 1256.781\n",
      "\n",
      "Epoch: 31/600, train loss: 1254.562\n",
      "\n",
      "Epoch: 32/600, train loss: 1244.632\n",
      "\n",
      "Epoch: 33/600, train loss: 1232.201\n",
      "\n",
      "Epoch: 34/600, train loss: 1217.910\n",
      "\n",
      "Epoch: 35/600, train loss: 1208.754\n",
      "\n",
      "Epoch: 36/600, train loss: 1204.998\n",
      "\n",
      "Epoch: 37/600, train loss: 1198.968\n",
      "\n",
      "Epoch: 38/600, train loss: 1185.460\n",
      "\n",
      "Epoch: 39/600, train loss: 1177.818\n",
      "\n",
      "Epoch: 40/600, train loss: 1168.422\n",
      "\n",
      "Epoch: 41/600, train loss: 1160.740\n",
      "\n",
      "Epoch: 42/600, train loss: 1157.766\n",
      "\n",
      "Epoch: 43/600, train loss: 1149.750\n",
      "\n",
      "Epoch: 44/600, train loss: 1146.362\n",
      "\n",
      "Epoch: 45/600, train loss: 1139.590\n",
      "\n",
      "Epoch: 46/600, train loss: 1135.338\n",
      "\n",
      "Epoch: 47/600, train loss: 1123.946\n",
      "\n",
      "Epoch: 48/600, train loss: 1124.579\n",
      "\n",
      "Epoch: 49/600, train loss: 1122.249\n",
      "\n",
      "Epoch: 50/600, train loss: 1111.303\n",
      "\n",
      "Epoch: 51/600, train loss: 1106.063\n",
      "\n",
      "Epoch: 52/600, train loss: 1105.874\n",
      "\n",
      "Epoch: 53/600, train loss: 1099.889\n",
      "\n",
      "Epoch: 54/600, train loss: 1094.825\n",
      "\n",
      "Epoch: 55/600, train loss: 1093.117\n",
      "\n",
      "Epoch: 56/600, train loss: 1089.125\n",
      "\n",
      "Epoch: 57/600, train loss: 1080.828\n",
      "\n",
      "Epoch: 58/600, train loss: 1079.198\n",
      "\n",
      "Epoch: 59/600, train loss: 1075.508\n",
      "\n",
      "Epoch: 60/600, train loss: 1071.368\n",
      "\n",
      "Epoch: 61/600, train loss: 1069.231\n",
      "\n",
      "Epoch: 62/600, train loss: 1067.116\n",
      "\n",
      "Epoch: 63/600, train loss: 1059.638\n",
      "\n",
      "Epoch: 64/600, train loss: 1064.923\n",
      "\n",
      "Epoch: 65/600, train loss: 1059.512\n",
      "\n",
      "Epoch: 66/600, train loss: 1056.101\n",
      "\n",
      "Epoch: 67/600, train loss: 1051.505\n",
      "\n",
      "Epoch: 68/600, train loss: 1048.398\n",
      "\n",
      "Epoch: 69/600, train loss: 1048.285\n",
      "\n",
      "Epoch: 70/600, train loss: 1045.350\n",
      "\n",
      "Epoch: 71/600, train loss: 1041.232\n",
      "\n",
      "Epoch: 72/600, train loss: 1036.499\n",
      "\n",
      "Epoch: 73/600, train loss: 1042.579\n",
      "\n",
      "Epoch: 74/600, train loss: 1036.940\n",
      "\n",
      "Epoch: 75/600, train loss: 1025.792\n",
      "\n",
      "Epoch: 76/600, train loss: 1027.826\n",
      "\n",
      "Epoch: 77/600, train loss: 1023.832\n",
      "\n",
      "Epoch: 78/600, train loss: 1025.882\n",
      "\n",
      "Epoch: 79/600, train loss: 1020.349\n",
      "\n",
      "Epoch: 80/600, train loss: 1021.895\n",
      "\n",
      "Epoch: 81/600, train loss: 1020.875\n",
      "\n",
      "Epoch: 82/600, train loss: 1013.667\n",
      "\n",
      "Epoch: 83/600, train loss: 1012.717\n",
      "\n",
      "Epoch: 84/600, train loss: 1012.963\n",
      "\n",
      "Epoch: 85/600, train loss: 1009.566\n",
      "\n",
      "Epoch: 86/600, train loss: 1006.652\n",
      "\n",
      "Epoch: 87/600, train loss: 1008.456\n",
      "\n",
      "Epoch: 88/600, train loss: 1006.613\n",
      "\n",
      "Epoch: 89/600, train loss: 1003.621\n",
      "\n",
      "Epoch: 90/600, train loss: 1002.570\n",
      "\n",
      "Epoch: 91/600, train loss: 1002.469\n",
      "\n",
      "Epoch: 92/600, train loss: 996.702\n",
      "\n",
      "Epoch: 93/600, train loss: 993.215\n",
      "\n",
      "Epoch: 94/600, train loss: 996.698\n",
      "\n",
      "Epoch: 95/600, train loss: 991.985\n",
      "\n",
      "Epoch: 96/600, train loss: 990.322\n",
      "\n",
      "Epoch: 97/600, train loss: 988.397\n",
      "\n",
      "Epoch: 98/600, train loss: 985.149\n",
      "\n",
      "Epoch: 99/600, train loss: 983.053\n",
      "\n",
      "Epoch: 100/600, train loss: 983.007\n",
      "\n",
      "Epoch: 101/600, train loss: 988.241\n",
      "\n",
      "Epoch: 102/600, train loss: 982.383\n",
      "\n",
      "Epoch: 103/600, train loss: 984.327\n",
      "\n",
      "Epoch: 104/600, train loss: 978.508\n",
      "\n",
      "Epoch: 105/600, train loss: 977.652\n",
      "\n",
      "Epoch: 106/600, train loss: 978.503\n",
      "\n",
      "Epoch: 107/600, train loss: 975.478\n",
      "\n",
      "Epoch: 108/600, train loss: 976.114\n",
      "\n",
      "Epoch: 109/600, train loss: 973.092\n",
      "\n",
      "Epoch: 110/600, train loss: 971.393\n",
      "\n",
      "Epoch: 111/600, train loss: 971.486\n",
      "\n",
      "Epoch: 112/600, train loss: 970.484\n",
      "\n",
      "Epoch: 113/600, train loss: 964.369\n",
      "\n",
      "Epoch: 114/600, train loss: 964.350\n",
      "\n",
      "Epoch: 115/600, train loss: 964.155\n",
      "\n",
      "Epoch: 116/600, train loss: 964.200\n",
      "\n",
      "Epoch: 117/600, train loss: 961.258\n",
      "\n",
      "Epoch: 118/600, train loss: 959.515\n",
      "\n",
      "Epoch: 119/600, train loss: 958.782\n",
      "\n",
      "Epoch: 120/600, train loss: 956.618\n",
      "\n",
      "Epoch: 121/600, train loss: 959.374\n",
      "\n",
      "Epoch: 122/600, train loss: 954.687\n",
      "\n",
      "Epoch: 123/600, train loss: 957.820\n",
      "\n",
      "Epoch: 124/600, train loss: 955.918\n",
      "\n",
      "Epoch: 125/600, train loss: 952.407\n",
      "\n",
      "Epoch: 126/600, train loss: 950.905\n",
      "\n",
      "Epoch: 127/600, train loss: 951.151\n",
      "\n",
      "Epoch: 128/600, train loss: 951.519\n",
      "\n",
      "Epoch: 129/600, train loss: 950.787\n",
      "\n",
      "Epoch: 130/600, train loss: 949.644\n",
      "\n",
      "Epoch: 131/600, train loss: 951.116\n",
      "\n",
      "Epoch: 132/600, train loss: 948.076\n",
      "\n",
      "Epoch: 133/600, train loss: 946.832\n",
      "\n",
      "Epoch: 134/600, train loss: 946.696\n",
      "\n",
      "Epoch: 135/600, train loss: 942.680\n",
      "\n",
      "Epoch: 136/600, train loss: 942.052\n",
      "\n",
      "Epoch: 137/600, train loss: 938.623\n",
      "\n",
      "Epoch: 138/600, train loss: 938.475\n",
      "\n",
      "Epoch: 139/600, train loss: 942.598\n",
      "\n",
      "Epoch: 140/600, train loss: 935.441\n",
      "\n",
      "Epoch: 141/600, train loss: 935.540\n",
      "\n",
      "Epoch: 142/600, train loss: 936.362\n",
      "\n",
      "Epoch: 143/600, train loss: 935.065\n",
      "\n",
      "Epoch: 144/600, train loss: 934.622\n",
      "\n",
      "Epoch: 145/600, train loss: 933.756\n",
      "\n",
      "Epoch: 146/600, train loss: 933.912\n",
      "\n",
      "Epoch: 147/600, train loss: 932.718\n",
      "\n",
      "Epoch: 148/600, train loss: 930.121\n",
      "\n",
      "Epoch: 149/600, train loss: 930.403\n",
      "\n",
      "Epoch: 150/600, train loss: 928.981\n",
      "\n",
      "Epoch: 151/600, train loss: 930.365\n",
      "\n",
      "Epoch: 152/600, train loss: 929.770\n",
      "\n",
      "Epoch: 153/600, train loss: 927.499\n",
      "\n",
      "Epoch: 154/600, train loss: 927.086\n",
      "\n",
      "Epoch: 155/600, train loss: 926.251\n",
      "\n",
      "Epoch: 156/600, train loss: 928.018\n",
      "\n",
      "Epoch: 157/600, train loss: 923.802\n",
      "\n",
      "Epoch: 158/600, train loss: 923.213\n",
      "\n",
      "Epoch: 159/600, train loss: 920.193\n",
      "\n",
      "Epoch: 160/600, train loss: 922.843\n",
      "\n",
      "Epoch: 161/600, train loss: 923.824\n",
      "\n",
      "Epoch: 162/600, train loss: 919.250\n",
      "\n",
      "Epoch: 163/600, train loss: 921.380\n",
      "\n",
      "Epoch: 164/600, train loss: 919.465\n",
      "\n",
      "Epoch: 165/600, train loss: 919.829\n",
      "\n",
      "Epoch: 166/600, train loss: 918.535\n",
      "\n",
      "Epoch: 167/600, train loss: 916.095\n",
      "\n",
      "Epoch: 168/600, train loss: 915.634\n",
      "\n",
      "Epoch: 169/600, train loss: 913.470\n",
      "\n",
      "Epoch: 170/600, train loss: 914.021\n",
      "\n",
      "Epoch: 171/600, train loss: 913.319\n",
      "\n",
      "Epoch: 172/600, train loss: 911.276\n",
      "\n",
      "Epoch: 173/600, train loss: 913.524\n",
      "\n",
      "Epoch: 174/600, train loss: 910.233\n",
      "\n",
      "Epoch: 175/600, train loss: 913.127\n",
      "\n",
      "Epoch: 176/600, train loss: 906.461\n",
      "\n",
      "Epoch: 177/600, train loss: 911.011\n",
      "\n",
      "Epoch: 178/600, train loss: 907.806\n",
      "\n",
      "Epoch: 179/600, train loss: 909.310\n",
      "\n",
      "Epoch: 180/600, train loss: 907.256\n",
      "\n",
      "Epoch: 181/600, train loss: 906.659\n",
      "\n",
      "Epoch: 182/600, train loss: 906.036\n",
      "\n",
      "Epoch: 183/600, train loss: 906.298\n",
      "\n",
      "Epoch: 184/600, train loss: 906.733\n",
      "\n",
      "Epoch: 185/600, train loss: 902.672\n",
      "\n",
      "Epoch: 186/600, train loss: 901.277\n",
      "\n",
      "Epoch: 187/600, train loss: 902.984\n",
      "\n",
      "Epoch: 188/600, train loss: 906.951\n",
      "\n",
      "Epoch: 189/600, train loss: 901.755\n",
      "\n",
      "Epoch: 190/600, train loss: 899.539\n",
      "\n",
      "Epoch: 191/600, train loss: 902.171\n",
      "\n",
      "Epoch: 192/600, train loss: 901.192\n",
      "\n",
      "Epoch: 193/600, train loss: 901.840\n",
      "\n",
      "Epoch: 194/600, train loss: 898.238\n",
      "\n",
      "Epoch: 195/600, train loss: 896.795\n",
      "\n",
      "Epoch: 196/600, train loss: 895.165\n",
      "\n",
      "Epoch: 197/600, train loss: 895.176\n",
      "\n",
      "Epoch: 198/600, train loss: 895.179\n",
      "\n",
      "Epoch: 199/600, train loss: 895.012\n",
      "\n",
      "Epoch: 200/600, train loss: 895.335\n",
      "\n",
      "Epoch: 201/600, train loss: 890.743\n",
      "\n",
      "Epoch: 202/600, train loss: 894.029\n",
      "\n",
      "Epoch: 203/600, train loss: 890.235\n",
      "\n",
      "Epoch: 204/600, train loss: 893.530\n",
      "\n",
      "Epoch: 205/600, train loss: 892.521\n",
      "\n",
      "Epoch: 206/600, train loss: 895.039\n",
      "\n",
      "Epoch: 207/600, train loss: 888.130\n",
      "\n",
      "Epoch: 208/600, train loss: 889.503\n",
      "\n",
      "Epoch: 209/600, train loss: 886.767\n",
      "\n",
      "Epoch: 210/600, train loss: 887.192\n",
      "\n",
      "Epoch: 211/600, train loss: 889.853\n",
      "\n",
      "Epoch: 212/600, train loss: 891.875\n",
      "\n",
      "Epoch: 213/600, train loss: 886.544\n",
      "\n",
      "Epoch: 214/600, train loss: 886.578\n",
      "\n",
      "Epoch: 215/600, train loss: 886.199\n",
      "\n",
      "Epoch: 216/600, train loss: 886.331\n",
      "\n",
      "Epoch: 217/600, train loss: 884.864\n",
      "\n",
      "Epoch: 218/600, train loss: 885.767\n",
      "\n",
      "Epoch: 219/600, train loss: 883.557\n",
      "\n",
      "Epoch: 220/600, train loss: 884.084\n",
      "\n",
      "Epoch: 221/600, train loss: 886.503\n",
      "\n",
      "Epoch: 222/600, train loss: 883.875\n",
      "\n",
      "Epoch: 223/600, train loss: 884.687\n",
      "\n",
      "Epoch: 224/600, train loss: 880.766\n",
      "\n",
      "Epoch: 225/600, train loss: 882.361\n",
      "\n",
      "Epoch: 226/600, train loss: 877.749\n",
      "\n",
      "Epoch: 227/600, train loss: 881.108\n",
      "\n",
      "Epoch: 228/600, train loss: 878.512\n",
      "\n",
      "Epoch: 229/600, train loss: 880.999\n",
      "\n",
      "Epoch: 230/600, train loss: 879.466\n",
      "\n",
      "Epoch: 231/600, train loss: 878.251\n",
      "\n",
      "Epoch: 232/600, train loss: 879.042\n",
      "\n",
      "Epoch: 233/600, train loss: 876.098\n",
      "\n",
      "Epoch: 234/600, train loss: 879.031\n",
      "\n",
      "Epoch: 235/600, train loss: 875.292\n",
      "\n",
      "Epoch: 236/600, train loss: 874.634\n",
      "\n",
      "Epoch: 237/600, train loss: 877.813\n",
      "\n",
      "Epoch: 238/600, train loss: 873.359\n",
      "\n",
      "Epoch: 239/600, train loss: 875.173\n",
      "\n",
      "Epoch: 240/600, train loss: 874.836\n",
      "\n",
      "Epoch: 241/600, train loss: 874.304\n",
      "\n",
      "Epoch: 242/600, train loss: 873.379\n",
      "\n",
      "Epoch: 243/600, train loss: 870.621\n",
      "\n",
      "Epoch: 244/600, train loss: 871.601\n",
      "\n",
      "Epoch: 245/600, train loss: 871.449\n",
      "\n",
      "Epoch: 246/600, train loss: 871.093\n",
      "\n",
      "Epoch: 247/600, train loss: 870.250\n",
      "\n",
      "Epoch: 248/600, train loss: 870.476\n",
      "\n",
      "Epoch: 249/600, train loss: 868.080\n",
      "\n",
      "Epoch: 250/600, train loss: 871.649\n",
      "\n",
      "Epoch: 251/600, train loss: 873.841\n",
      "\n",
      "Epoch: 252/600, train loss: 868.517\n",
      "\n",
      "Epoch: 253/600, train loss: 869.204\n",
      "\n",
      "Epoch: 254/600, train loss: 867.698\n",
      "\n",
      "Epoch: 255/600, train loss: 865.917\n",
      "\n",
      "Epoch: 256/600, train loss: 865.021\n",
      "\n",
      "Epoch: 257/600, train loss: 869.195\n",
      "\n",
      "Epoch: 258/600, train loss: 868.281\n",
      "\n",
      "Epoch: 259/600, train loss: 866.683\n",
      "\n",
      "Epoch: 260/600, train loss: 868.181\n",
      "\n",
      "Epoch: 261/600, train loss: 865.859\n",
      "\n",
      "Epoch: 262/600, train loss: 864.915\n",
      "\n",
      "Epoch: 263/600, train loss: 864.199\n",
      "\n",
      "Epoch: 264/600, train loss: 861.892\n",
      "\n",
      "Epoch: 265/600, train loss: 861.235\n",
      "\n",
      "Epoch: 266/600, train loss: 862.941\n",
      "\n",
      "Epoch: 267/600, train loss: 864.351\n",
      "\n",
      "Epoch: 268/600, train loss: 860.459\n",
      "\n",
      "Epoch: 269/600, train loss: 863.481\n",
      "\n",
      "Epoch: 270/600, train loss: 862.431\n",
      "\n",
      "Epoch: 271/600, train loss: 863.805\n",
      "\n",
      "Epoch: 272/600, train loss: 863.132\n",
      "\n",
      "Epoch: 273/600, train loss: 861.484\n",
      "\n",
      "Epoch: 274/600, train loss: 858.078\n",
      "\n",
      "Epoch: 275/600, train loss: 857.530\n",
      "\n",
      "Epoch: 276/600, train loss: 859.824\n",
      "\n",
      "Epoch: 277/600, train loss: 859.693\n",
      "\n",
      "Epoch: 278/600, train loss: 862.855\n",
      "\n",
      "Epoch: 279/600, train loss: 858.938\n",
      "\n",
      "Epoch: 280/600, train loss: 862.136\n",
      "\n",
      "Epoch: 281/600, train loss: 857.800\n",
      "\n",
      "Epoch: 282/600, train loss: 857.998\n",
      "\n",
      "Epoch: 283/600, train loss: 859.722\n",
      "\n",
      "Epoch: 284/600, train loss: 857.501\n",
      "\n",
      "Epoch: 285/600, train loss: 857.758\n",
      "\n",
      "Epoch: 286/600, train loss: 858.793\n",
      "\n",
      "Epoch: 287/600, train loss: 857.016\n",
      "\n",
      "Epoch: 288/600, train loss: 853.828\n",
      "\n",
      "Epoch: 289/600, train loss: 856.014\n",
      "\n",
      "Epoch: 290/600, train loss: 854.904\n",
      "\n",
      "Epoch: 291/600, train loss: 853.330\n",
      "\n",
      "Epoch: 292/600, train loss: 852.425\n",
      "\n",
      "Epoch: 293/600, train loss: 854.739\n",
      "\n",
      "Epoch: 294/600, train loss: 854.082\n",
      "\n",
      "Epoch: 295/600, train loss: 853.480\n",
      "\n",
      "Epoch: 296/600, train loss: 851.509\n",
      "\n",
      "Epoch: 297/600, train loss: 854.563\n",
      "\n",
      "Epoch: 298/600, train loss: 850.191\n",
      "\n",
      "Epoch: 299/600, train loss: 855.954\n",
      "\n",
      "Epoch: 300/600, train loss: 850.775\n",
      "\n",
      "Epoch: 301/600, train loss: 848.865\n",
      "\n",
      "Epoch: 302/600, train loss: 851.523\n",
      "\n",
      "Inferring ...\n",
      "Subset: 0, modalities ['rna']: test size: 8569\n",
      "Processing subset 0: ['rna']\n"
     ]
    },
    {
     "name": "stderr",
     "output_type": "stream",
     "text": [
      "/root/anaconda3/lib/python3.7/site-packages/torch/utils/data/dataloader.py:560: UserWarning: This DataLoader will create 64 worker processes in total. Our suggested max number of worker in current system is 32, which is smaller than what this DataLoader is going to create. Please be aware that excessive worker creation might get DataLoader running slow or even freeze, lower the worker number to avoid potential slowness/freeze if necessary.\n",
      "  cpuset_checked))\n"
     ]
    },
    {
     "name": "stdout",
     "output_type": "stream",
     "text": [
      "Epoch: 303/600, train loss: 875.231\n",
      "\n",
      "Inferring ...\n",
      "Subset: 0, modalities ['rna']: test size: 8569\n",
      "Processing subset 0: ['rna']\n"
     ]
    },
    {
     "name": "stderr",
     "output_type": "stream",
     "text": [
      "/root/anaconda3/lib/python3.7/site-packages/torch/utils/data/dataloader.py:560: UserWarning: This DataLoader will create 64 worker processes in total. Our suggested max number of worker in current system is 32, which is smaller than what this DataLoader is going to create. Please be aware that excessive worker creation might get DataLoader running slow or even freeze, lower the worker number to avoid potential slowness/freeze if necessary.\n",
      "  cpuset_checked))\n"
     ]
    },
    {
     "name": "stdout",
     "output_type": "stream",
     "text": [
      "Epoch: 304/600, train loss: 873.176\n",
      "\n",
      "Inferring ...\n",
      "Subset: 0, modalities ['rna']: test size: 8569\n",
      "Processing subset 0: ['rna']\n"
     ]
    },
    {
     "name": "stderr",
     "output_type": "stream",
     "text": [
      "/root/anaconda3/lib/python3.7/site-packages/torch/utils/data/dataloader.py:560: UserWarning: This DataLoader will create 64 worker processes in total. Our suggested max number of worker in current system is 32, which is smaller than what this DataLoader is going to create. Please be aware that excessive worker creation might get DataLoader running slow or even freeze, lower the worker number to avoid potential slowness/freeze if necessary.\n",
      "  cpuset_checked))\n"
     ]
    },
    {
     "name": "stdout",
     "output_type": "stream",
     "text": [
      "Epoch: 305/600, train loss: 874.691\n",
      "\n",
      "Inferring ...\n",
      "Subset: 0, modalities ['rna']: test size: 8569\n",
      "Processing subset 0: ['rna']\n"
     ]
    },
    {
     "name": "stderr",
     "output_type": "stream",
     "text": [
      "/root/anaconda3/lib/python3.7/site-packages/torch/utils/data/dataloader.py:560: UserWarning: This DataLoader will create 64 worker processes in total. Our suggested max number of worker in current system is 32, which is smaller than what this DataLoader is going to create. Please be aware that excessive worker creation might get DataLoader running slow or even freeze, lower the worker number to avoid potential slowness/freeze if necessary.\n",
      "  cpuset_checked))\n"
     ]
    },
    {
     "name": "stdout",
     "output_type": "stream",
     "text": [
      "Epoch: 306/600, train loss: 874.986\n",
      "\n",
      "Inferring ...\n",
      "Subset: 0, modalities ['rna']: test size: 8569\n",
      "Processing subset 0: ['rna']\n"
     ]
    },
    {
     "name": "stderr",
     "output_type": "stream",
     "text": [
      "/root/anaconda3/lib/python3.7/site-packages/torch/utils/data/dataloader.py:560: UserWarning: This DataLoader will create 64 worker processes in total. Our suggested max number of worker in current system is 32, which is smaller than what this DataLoader is going to create. Please be aware that excessive worker creation might get DataLoader running slow or even freeze, lower the worker number to avoid potential slowness/freeze if necessary.\n",
      "  cpuset_checked))\n"
     ]
    },
    {
     "name": "stdout",
     "output_type": "stream",
     "text": [
      "Epoch: 307/600, train loss: 873.059\n",
      "\n",
      "Inferring ...\n",
      "Subset: 0, modalities ['rna']: test size: 8569\n",
      "Processing subset 0: ['rna']\n"
     ]
    },
    {
     "name": "stderr",
     "output_type": "stream",
     "text": [
      "/root/anaconda3/lib/python3.7/site-packages/torch/utils/data/dataloader.py:560: UserWarning: This DataLoader will create 64 worker processes in total. Our suggested max number of worker in current system is 32, which is smaller than what this DataLoader is going to create. Please be aware that excessive worker creation might get DataLoader running slow or even freeze, lower the worker number to avoid potential slowness/freeze if necessary.\n",
      "  cpuset_checked))\n"
     ]
    },
    {
     "name": "stdout",
     "output_type": "stream",
     "text": [
      "Epoch: 308/600, train loss: 875.316\n",
      "\n",
      "Inferring ...\n",
      "Subset: 0, modalities ['rna']: test size: 8569\n",
      "Processing subset 0: ['rna']\n"
     ]
    },
    {
     "name": "stderr",
     "output_type": "stream",
     "text": [
      "/root/anaconda3/lib/python3.7/site-packages/torch/utils/data/dataloader.py:560: UserWarning: This DataLoader will create 64 worker processes in total. Our suggested max number of worker in current system is 32, which is smaller than what this DataLoader is going to create. Please be aware that excessive worker creation might get DataLoader running slow or even freeze, lower the worker number to avoid potential slowness/freeze if necessary.\n",
      "  cpuset_checked))\n"
     ]
    },
    {
     "name": "stdout",
     "output_type": "stream",
     "text": [
      "Epoch: 309/600, train loss: 872.574\n",
      "\n",
      "Inferring ...\n",
      "Subset: 0, modalities ['rna']: test size: 8569\n",
      "Processing subset 0: ['rna']\n"
     ]
    },
    {
     "name": "stderr",
     "output_type": "stream",
     "text": [
      "/root/anaconda3/lib/python3.7/site-packages/torch/utils/data/dataloader.py:560: UserWarning: This DataLoader will create 64 worker processes in total. Our suggested max number of worker in current system is 32, which is smaller than what this DataLoader is going to create. Please be aware that excessive worker creation might get DataLoader running slow or even freeze, lower the worker number to avoid potential slowness/freeze if necessary.\n",
      "  cpuset_checked))\n"
     ]
    },
    {
     "name": "stdout",
     "output_type": "stream",
     "text": [
      "Epoch: 310/600, train loss: 872.796\n",
      "\n",
      "Inferring ...\n",
      "Subset: 0, modalities ['rna']: test size: 8569\n",
      "Processing subset 0: ['rna']\n"
     ]
    },
    {
     "name": "stderr",
     "output_type": "stream",
     "text": [
      "/root/anaconda3/lib/python3.7/site-packages/torch/utils/data/dataloader.py:560: UserWarning: This DataLoader will create 64 worker processes in total. Our suggested max number of worker in current system is 32, which is smaller than what this DataLoader is going to create. Please be aware that excessive worker creation might get DataLoader running slow or even freeze, lower the worker number to avoid potential slowness/freeze if necessary.\n",
      "  cpuset_checked))\n"
     ]
    },
    {
     "name": "stdout",
     "output_type": "stream",
     "text": [
      "Epoch: 311/600, train loss: 870.463\n",
      "\n",
      "Inferring ...\n",
      "Subset: 0, modalities ['rna']: test size: 8569\n",
      "Processing subset 0: ['rna']\n"
     ]
    },
    {
     "name": "stderr",
     "output_type": "stream",
     "text": [
      "/root/anaconda3/lib/python3.7/site-packages/torch/utils/data/dataloader.py:560: UserWarning: This DataLoader will create 64 worker processes in total. Our suggested max number of worker in current system is 32, which is smaller than what this DataLoader is going to create. Please be aware that excessive worker creation might get DataLoader running slow or even freeze, lower the worker number to avoid potential slowness/freeze if necessary.\n",
      "  cpuset_checked))\n"
     ]
    },
    {
     "name": "stdout",
     "output_type": "stream",
     "text": [
      "Epoch: 312/600, train loss: 871.050\n",
      "\n",
      "Inferring ...\n",
      "Subset: 0, modalities ['rna']: test size: 8569\n",
      "Processing subset 0: ['rna']\n"
     ]
    },
    {
     "name": "stderr",
     "output_type": "stream",
     "text": [
      "/root/anaconda3/lib/python3.7/site-packages/torch/utils/data/dataloader.py:560: UserWarning: This DataLoader will create 64 worker processes in total. Our suggested max number of worker in current system is 32, which is smaller than what this DataLoader is going to create. Please be aware that excessive worker creation might get DataLoader running slow or even freeze, lower the worker number to avoid potential slowness/freeze if necessary.\n",
      "  cpuset_checked))\n"
     ]
    },
    {
     "name": "stdout",
     "output_type": "stream",
     "text": [
      "Epoch: 313/600, train loss: 869.433\n",
      "\n",
      "Inferring ...\n",
      "Subset: 0, modalities ['rna']: test size: 8569\n",
      "Processing subset 0: ['rna']\n"
     ]
    },
    {
     "name": "stderr",
     "output_type": "stream",
     "text": [
      "/root/anaconda3/lib/python3.7/site-packages/torch/utils/data/dataloader.py:560: UserWarning: This DataLoader will create 64 worker processes in total. Our suggested max number of worker in current system is 32, which is smaller than what this DataLoader is going to create. Please be aware that excessive worker creation might get DataLoader running slow or even freeze, lower the worker number to avoid potential slowness/freeze if necessary.\n",
      "  cpuset_checked))\n"
     ]
    },
    {
     "name": "stdout",
     "output_type": "stream",
     "text": [
      "Epoch: 314/600, train loss: 868.871\n",
      "\n",
      "Inferring ...\n",
      "Subset: 0, modalities ['rna']: test size: 8569\n",
      "Processing subset 0: ['rna']\n"
     ]
    },
    {
     "name": "stderr",
     "output_type": "stream",
     "text": [
      "/root/anaconda3/lib/python3.7/site-packages/torch/utils/data/dataloader.py:560: UserWarning: This DataLoader will create 64 worker processes in total. Our suggested max number of worker in current system is 32, which is smaller than what this DataLoader is going to create. Please be aware that excessive worker creation might get DataLoader running slow or even freeze, lower the worker number to avoid potential slowness/freeze if necessary.\n",
      "  cpuset_checked))\n"
     ]
    },
    {
     "name": "stdout",
     "output_type": "stream",
     "text": [
      "Epoch: 315/600, train loss: 868.935\n",
      "\n",
      "Inferring ...\n",
      "Subset: 0, modalities ['rna']: test size: 8569\n",
      "Processing subset 0: ['rna']\n"
     ]
    },
    {
     "name": "stderr",
     "output_type": "stream",
     "text": [
      "/root/anaconda3/lib/python3.7/site-packages/torch/utils/data/dataloader.py:560: UserWarning: This DataLoader will create 64 worker processes in total. Our suggested max number of worker in current system is 32, which is smaller than what this DataLoader is going to create. Please be aware that excessive worker creation might get DataLoader running slow or even freeze, lower the worker number to avoid potential slowness/freeze if necessary.\n",
      "  cpuset_checked))\n"
     ]
    },
    {
     "name": "stdout",
     "output_type": "stream",
     "text": [
      "Epoch: 316/600, train loss: 865.562\n",
      "\n",
      "Inferring ...\n",
      "Subset: 0, modalities ['rna']: test size: 8569\n",
      "Processing subset 0: ['rna']\n"
     ]
    },
    {
     "name": "stderr",
     "output_type": "stream",
     "text": [
      "/root/anaconda3/lib/python3.7/site-packages/torch/utils/data/dataloader.py:560: UserWarning: This DataLoader will create 64 worker processes in total. Our suggested max number of worker in current system is 32, which is smaller than what this DataLoader is going to create. Please be aware that excessive worker creation might get DataLoader running slow or even freeze, lower the worker number to avoid potential slowness/freeze if necessary.\n",
      "  cpuset_checked))\n"
     ]
    },
    {
     "name": "stdout",
     "output_type": "stream",
     "text": [
      "Epoch: 317/600, train loss: 869.688\n",
      "\n",
      "Inferring ...\n",
      "Subset: 0, modalities ['rna']: test size: 8569\n",
      "Processing subset 0: ['rna']\n"
     ]
    },
    {
     "name": "stderr",
     "output_type": "stream",
     "text": [
      "/root/anaconda3/lib/python3.7/site-packages/torch/utils/data/dataloader.py:560: UserWarning: This DataLoader will create 64 worker processes in total. Our suggested max number of worker in current system is 32, which is smaller than what this DataLoader is going to create. Please be aware that excessive worker creation might get DataLoader running slow or even freeze, lower the worker number to avoid potential slowness/freeze if necessary.\n",
      "  cpuset_checked))\n"
     ]
    },
    {
     "name": "stdout",
     "output_type": "stream",
     "text": [
      "Epoch: 318/600, train loss: 866.518\n",
      "\n",
      "Inferring ...\n",
      "Subset: 0, modalities ['rna']: test size: 8569\n",
      "Processing subset 0: ['rna']\n"
     ]
    },
    {
     "name": "stderr",
     "output_type": "stream",
     "text": [
      "/root/anaconda3/lib/python3.7/site-packages/torch/utils/data/dataloader.py:560: UserWarning: This DataLoader will create 64 worker processes in total. Our suggested max number of worker in current system is 32, which is smaller than what this DataLoader is going to create. Please be aware that excessive worker creation might get DataLoader running slow or even freeze, lower the worker number to avoid potential slowness/freeze if necessary.\n",
      "  cpuset_checked))\n"
     ]
    },
    {
     "name": "stdout",
     "output_type": "stream",
     "text": [
      "Epoch: 319/600, train loss: 866.997\n",
      "\n",
      "Inferring ...\n",
      "Subset: 0, modalities ['rna']: test size: 8569\n",
      "Processing subset 0: ['rna']\n"
     ]
    },
    {
     "name": "stderr",
     "output_type": "stream",
     "text": [
      "/root/anaconda3/lib/python3.7/site-packages/torch/utils/data/dataloader.py:560: UserWarning: This DataLoader will create 64 worker processes in total. Our suggested max number of worker in current system is 32, which is smaller than what this DataLoader is going to create. Please be aware that excessive worker creation might get DataLoader running slow or even freeze, lower the worker number to avoid potential slowness/freeze if necessary.\n",
      "  cpuset_checked))\n"
     ]
    },
    {
     "name": "stdout",
     "output_type": "stream",
     "text": [
      "Epoch: 320/600, train loss: 866.020\n",
      "\n",
      "Inferring ...\n",
      "Subset: 0, modalities ['rna']: test size: 8569\n",
      "Processing subset 0: ['rna']\n"
     ]
    },
    {
     "name": "stderr",
     "output_type": "stream",
     "text": [
      "/root/anaconda3/lib/python3.7/site-packages/torch/utils/data/dataloader.py:560: UserWarning: This DataLoader will create 64 worker processes in total. Our suggested max number of worker in current system is 32, which is smaller than what this DataLoader is going to create. Please be aware that excessive worker creation might get DataLoader running slow or even freeze, lower the worker number to avoid potential slowness/freeze if necessary.\n",
      "  cpuset_checked))\n"
     ]
    },
    {
     "name": "stdout",
     "output_type": "stream",
     "text": [
      "Epoch: 321/600, train loss: 865.075\n",
      "\n",
      "Inferring ...\n",
      "Subset: 0, modalities ['rna']: test size: 8569\n",
      "Processing subset 0: ['rna']\n"
     ]
    },
    {
     "name": "stderr",
     "output_type": "stream",
     "text": [
      "/root/anaconda3/lib/python3.7/site-packages/torch/utils/data/dataloader.py:560: UserWarning: This DataLoader will create 64 worker processes in total. Our suggested max number of worker in current system is 32, which is smaller than what this DataLoader is going to create. Please be aware that excessive worker creation might get DataLoader running slow or even freeze, lower the worker number to avoid potential slowness/freeze if necessary.\n",
      "  cpuset_checked))\n"
     ]
    },
    {
     "name": "stdout",
     "output_type": "stream",
     "text": [
      "Epoch: 322/600, train loss: 866.420\n",
      "\n",
      "Inferring ...\n",
      "Subset: 0, modalities ['rna']: test size: 8569\n",
      "Processing subset 0: ['rna']\n"
     ]
    },
    {
     "name": "stderr",
     "output_type": "stream",
     "text": [
      "/root/anaconda3/lib/python3.7/site-packages/torch/utils/data/dataloader.py:560: UserWarning: This DataLoader will create 64 worker processes in total. Our suggested max number of worker in current system is 32, which is smaller than what this DataLoader is going to create. Please be aware that excessive worker creation might get DataLoader running slow or even freeze, lower the worker number to avoid potential slowness/freeze if necessary.\n",
      "  cpuset_checked))\n"
     ]
    },
    {
     "name": "stdout",
     "output_type": "stream",
     "text": [
      "Epoch: 323/600, train loss: 862.326\n",
      "\n",
      "Inferring ...\n",
      "Subset: 0, modalities ['rna']: test size: 8569\n",
      "Processing subset 0: ['rna']\n"
     ]
    },
    {
     "name": "stderr",
     "output_type": "stream",
     "text": [
      "/root/anaconda3/lib/python3.7/site-packages/torch/utils/data/dataloader.py:560: UserWarning: This DataLoader will create 64 worker processes in total. Our suggested max number of worker in current system is 32, which is smaller than what this DataLoader is going to create. Please be aware that excessive worker creation might get DataLoader running slow or even freeze, lower the worker number to avoid potential slowness/freeze if necessary.\n",
      "  cpuset_checked))\n"
     ]
    },
    {
     "name": "stdout",
     "output_type": "stream",
     "text": [
      "Epoch: 324/600, train loss: 859.728\n",
      "\n",
      "Inferring ...\n",
      "Subset: 0, modalities ['rna']: test size: 8569\n",
      "Processing subset 0: ['rna']\n"
     ]
    },
    {
     "name": "stderr",
     "output_type": "stream",
     "text": [
      "/root/anaconda3/lib/python3.7/site-packages/torch/utils/data/dataloader.py:560: UserWarning: This DataLoader will create 64 worker processes in total. Our suggested max number of worker in current system is 32, which is smaller than what this DataLoader is going to create. Please be aware that excessive worker creation might get DataLoader running slow or even freeze, lower the worker number to avoid potential slowness/freeze if necessary.\n",
      "  cpuset_checked))\n"
     ]
    },
    {
     "name": "stdout",
     "output_type": "stream",
     "text": [
      "Epoch: 325/600, train loss: 861.343\n",
      "\n",
      "Inferring ...\n",
      "Subset: 0, modalities ['rna']: test size: 8569\n",
      "Processing subset 0: ['rna']\n"
     ]
    },
    {
     "name": "stderr",
     "output_type": "stream",
     "text": [
      "/root/anaconda3/lib/python3.7/site-packages/torch/utils/data/dataloader.py:560: UserWarning: This DataLoader will create 64 worker processes in total. Our suggested max number of worker in current system is 32, which is smaller than what this DataLoader is going to create. Please be aware that excessive worker creation might get DataLoader running slow or even freeze, lower the worker number to avoid potential slowness/freeze if necessary.\n",
      "  cpuset_checked))\n"
     ]
    },
    {
     "name": "stdout",
     "output_type": "stream",
     "text": [
      "Epoch: 326/600, train loss: 859.784\n",
      "\n",
      "Inferring ...\n",
      "Subset: 0, modalities ['rna']: test size: 8569\n",
      "Processing subset 0: ['rna']\n"
     ]
    },
    {
     "name": "stderr",
     "output_type": "stream",
     "text": [
      "/root/anaconda3/lib/python3.7/site-packages/torch/utils/data/dataloader.py:560: UserWarning: This DataLoader will create 64 worker processes in total. Our suggested max number of worker in current system is 32, which is smaller than what this DataLoader is going to create. Please be aware that excessive worker creation might get DataLoader running slow or even freeze, lower the worker number to avoid potential slowness/freeze if necessary.\n",
      "  cpuset_checked))\n"
     ]
    },
    {
     "name": "stdout",
     "output_type": "stream",
     "text": [
      "Epoch: 327/600, train loss: 860.063\n",
      "\n",
      "Inferring ...\n",
      "Subset: 0, modalities ['rna']: test size: 8569\n",
      "Processing subset 0: ['rna']\n"
     ]
    },
    {
     "name": "stderr",
     "output_type": "stream",
     "text": [
      "/root/anaconda3/lib/python3.7/site-packages/torch/utils/data/dataloader.py:560: UserWarning: This DataLoader will create 64 worker processes in total. Our suggested max number of worker in current system is 32, which is smaller than what this DataLoader is going to create. Please be aware that excessive worker creation might get DataLoader running slow or even freeze, lower the worker number to avoid potential slowness/freeze if necessary.\n",
      "  cpuset_checked))\n"
     ]
    },
    {
     "name": "stdout",
     "output_type": "stream",
     "text": [
      "Epoch: 328/600, train loss: 859.473\n",
      "\n",
      "Inferring ...\n",
      "Subset: 0, modalities ['rna']: test size: 8569\n",
      "Processing subset 0: ['rna']\n"
     ]
    },
    {
     "name": "stderr",
     "output_type": "stream",
     "text": [
      "/root/anaconda3/lib/python3.7/site-packages/torch/utils/data/dataloader.py:560: UserWarning: This DataLoader will create 64 worker processes in total. Our suggested max number of worker in current system is 32, which is smaller than what this DataLoader is going to create. Please be aware that excessive worker creation might get DataLoader running slow or even freeze, lower the worker number to avoid potential slowness/freeze if necessary.\n",
      "  cpuset_checked))\n"
     ]
    },
    {
     "name": "stdout",
     "output_type": "stream",
     "text": [
      "Epoch: 329/600, train loss: 861.173\n",
      "\n",
      "Inferring ...\n",
      "Subset: 0, modalities ['rna']: test size: 8569\n",
      "Processing subset 0: ['rna']\n"
     ]
    },
    {
     "name": "stderr",
     "output_type": "stream",
     "text": [
      "/root/anaconda3/lib/python3.7/site-packages/torch/utils/data/dataloader.py:560: UserWarning: This DataLoader will create 64 worker processes in total. Our suggested max number of worker in current system is 32, which is smaller than what this DataLoader is going to create. Please be aware that excessive worker creation might get DataLoader running slow or even freeze, lower the worker number to avoid potential slowness/freeze if necessary.\n",
      "  cpuset_checked))\n"
     ]
    },
    {
     "name": "stdout",
     "output_type": "stream",
     "text": [
      "Epoch: 330/600, train loss: 857.751\n",
      "\n",
      "Inferring ...\n",
      "Subset: 0, modalities ['rna']: test size: 8569\n",
      "Processing subset 0: ['rna']\n"
     ]
    },
    {
     "name": "stderr",
     "output_type": "stream",
     "text": [
      "/root/anaconda3/lib/python3.7/site-packages/torch/utils/data/dataloader.py:560: UserWarning: This DataLoader will create 64 worker processes in total. Our suggested max number of worker in current system is 32, which is smaller than what this DataLoader is going to create. Please be aware that excessive worker creation might get DataLoader running slow or even freeze, lower the worker number to avoid potential slowness/freeze if necessary.\n",
      "  cpuset_checked))\n"
     ]
    },
    {
     "name": "stdout",
     "output_type": "stream",
     "text": [
      "Epoch: 331/600, train loss: 859.083\n",
      "\n",
      "Inferring ...\n",
      "Subset: 0, modalities ['rna']: test size: 8569\n",
      "Processing subset 0: ['rna']\n"
     ]
    },
    {
     "name": "stderr",
     "output_type": "stream",
     "text": [
      "/root/anaconda3/lib/python3.7/site-packages/torch/utils/data/dataloader.py:560: UserWarning: This DataLoader will create 64 worker processes in total. Our suggested max number of worker in current system is 32, which is smaller than what this DataLoader is going to create. Please be aware that excessive worker creation might get DataLoader running slow or even freeze, lower the worker number to avoid potential slowness/freeze if necessary.\n",
      "  cpuset_checked))\n"
     ]
    },
    {
     "name": "stdout",
     "output_type": "stream",
     "text": [
      "Epoch: 332/600, train loss: 855.817\n",
      "\n",
      "Inferring ...\n",
      "Subset: 0, modalities ['rna']: test size: 8569\n",
      "Processing subset 0: ['rna']\n"
     ]
    },
    {
     "name": "stderr",
     "output_type": "stream",
     "text": [
      "/root/anaconda3/lib/python3.7/site-packages/torch/utils/data/dataloader.py:560: UserWarning: This DataLoader will create 64 worker processes in total. Our suggested max number of worker in current system is 32, which is smaller than what this DataLoader is going to create. Please be aware that excessive worker creation might get DataLoader running slow or even freeze, lower the worker number to avoid potential slowness/freeze if necessary.\n",
      "  cpuset_checked))\n"
     ]
    },
    {
     "name": "stdout",
     "output_type": "stream",
     "text": [
      "Epoch: 333/600, train loss: 857.166\n",
      "\n",
      "Inferring ...\n",
      "Subset: 0, modalities ['rna']: test size: 8569\n",
      "Processing subset 0: ['rna']\n"
     ]
    },
    {
     "name": "stderr",
     "output_type": "stream",
     "text": [
      "/root/anaconda3/lib/python3.7/site-packages/torch/utils/data/dataloader.py:560: UserWarning: This DataLoader will create 64 worker processes in total. Our suggested max number of worker in current system is 32, which is smaller than what this DataLoader is going to create. Please be aware that excessive worker creation might get DataLoader running slow or even freeze, lower the worker number to avoid potential slowness/freeze if necessary.\n",
      "  cpuset_checked))\n"
     ]
    },
    {
     "name": "stdout",
     "output_type": "stream",
     "text": [
      "Epoch: 334/600, train loss: 853.270\n",
      "\n",
      "Inferring ...\n",
      "Subset: 0, modalities ['rna']: test size: 8569\n",
      "Processing subset 0: ['rna']\n"
     ]
    },
    {
     "name": "stderr",
     "output_type": "stream",
     "text": [
      "/root/anaconda3/lib/python3.7/site-packages/torch/utils/data/dataloader.py:560: UserWarning: This DataLoader will create 64 worker processes in total. Our suggested max number of worker in current system is 32, which is smaller than what this DataLoader is going to create. Please be aware that excessive worker creation might get DataLoader running slow or even freeze, lower the worker number to avoid potential slowness/freeze if necessary.\n",
      "  cpuset_checked))\n"
     ]
    },
    {
     "name": "stdout",
     "output_type": "stream",
     "text": [
      "Epoch: 335/600, train loss: 853.938\n",
      "\n",
      "Inferring ...\n",
      "Subset: 0, modalities ['rna']: test size: 8569\n",
      "Processing subset 0: ['rna']\n"
     ]
    },
    {
     "name": "stderr",
     "output_type": "stream",
     "text": [
      "/root/anaconda3/lib/python3.7/site-packages/torch/utils/data/dataloader.py:560: UserWarning: This DataLoader will create 64 worker processes in total. Our suggested max number of worker in current system is 32, which is smaller than what this DataLoader is going to create. Please be aware that excessive worker creation might get DataLoader running slow or even freeze, lower the worker number to avoid potential slowness/freeze if necessary.\n",
      "  cpuset_checked))\n"
     ]
    },
    {
     "name": "stdout",
     "output_type": "stream",
     "text": [
      "Epoch: 336/600, train loss: 855.805\n",
      "\n",
      "Inferring ...\n",
      "Subset: 0, modalities ['rna']: test size: 8569\n",
      "Processing subset 0: ['rna']\n"
     ]
    },
    {
     "name": "stderr",
     "output_type": "stream",
     "text": [
      "/root/anaconda3/lib/python3.7/site-packages/torch/utils/data/dataloader.py:560: UserWarning: This DataLoader will create 64 worker processes in total. Our suggested max number of worker in current system is 32, which is smaller than what this DataLoader is going to create. Please be aware that excessive worker creation might get DataLoader running slow or even freeze, lower the worker number to avoid potential slowness/freeze if necessary.\n",
      "  cpuset_checked))\n"
     ]
    },
    {
     "name": "stdout",
     "output_type": "stream",
     "text": [
      "Epoch: 337/600, train loss: 852.800\n",
      "\n",
      "Inferring ...\n",
      "Subset: 0, modalities ['rna']: test size: 8569\n",
      "Processing subset 0: ['rna']\n"
     ]
    },
    {
     "name": "stderr",
     "output_type": "stream",
     "text": [
      "/root/anaconda3/lib/python3.7/site-packages/torch/utils/data/dataloader.py:560: UserWarning: This DataLoader will create 64 worker processes in total. Our suggested max number of worker in current system is 32, which is smaller than what this DataLoader is going to create. Please be aware that excessive worker creation might get DataLoader running slow or even freeze, lower the worker number to avoid potential slowness/freeze if necessary.\n",
      "  cpuset_checked))\n"
     ]
    },
    {
     "name": "stdout",
     "output_type": "stream",
     "text": [
      "Epoch: 338/600, train loss: 852.073\n",
      "\n",
      "Inferring ...\n",
      "Subset: 0, modalities ['rna']: test size: 8569\n",
      "Processing subset 0: ['rna']\n"
     ]
    },
    {
     "name": "stderr",
     "output_type": "stream",
     "text": [
      "/root/anaconda3/lib/python3.7/site-packages/torch/utils/data/dataloader.py:560: UserWarning: This DataLoader will create 64 worker processes in total. Our suggested max number of worker in current system is 32, which is smaller than what this DataLoader is going to create. Please be aware that excessive worker creation might get DataLoader running slow or even freeze, lower the worker number to avoid potential slowness/freeze if necessary.\n",
      "  cpuset_checked))\n"
     ]
    },
    {
     "name": "stdout",
     "output_type": "stream",
     "text": [
      "Epoch: 339/600, train loss: 854.295\n",
      "\n",
      "Inferring ...\n",
      "Subset: 0, modalities ['rna']: test size: 8569\n",
      "Processing subset 0: ['rna']\n"
     ]
    },
    {
     "name": "stderr",
     "output_type": "stream",
     "text": [
      "/root/anaconda3/lib/python3.7/site-packages/torch/utils/data/dataloader.py:560: UserWarning: This DataLoader will create 64 worker processes in total. Our suggested max number of worker in current system is 32, which is smaller than what this DataLoader is going to create. Please be aware that excessive worker creation might get DataLoader running slow or even freeze, lower the worker number to avoid potential slowness/freeze if necessary.\n",
      "  cpuset_checked))\n"
     ]
    },
    {
     "name": "stdout",
     "output_type": "stream",
     "text": [
      "Epoch: 340/600, train loss: 850.072\n",
      "\n",
      "Inferring ...\n",
      "Subset: 0, modalities ['rna']: test size: 8569\n",
      "Processing subset 0: ['rna']\n"
     ]
    },
    {
     "name": "stderr",
     "output_type": "stream",
     "text": [
      "/root/anaconda3/lib/python3.7/site-packages/torch/utils/data/dataloader.py:560: UserWarning: This DataLoader will create 64 worker processes in total. Our suggested max number of worker in current system is 32, which is smaller than what this DataLoader is going to create. Please be aware that excessive worker creation might get DataLoader running slow or even freeze, lower the worker number to avoid potential slowness/freeze if necessary.\n",
      "  cpuset_checked))\n"
     ]
    },
    {
     "name": "stdout",
     "output_type": "stream",
     "text": [
      "Epoch: 341/600, train loss: 849.362\n",
      "\n",
      "Inferring ...\n",
      "Subset: 0, modalities ['rna']: test size: 8569\n",
      "Processing subset 0: ['rna']\n"
     ]
    },
    {
     "name": "stderr",
     "output_type": "stream",
     "text": [
      "/root/anaconda3/lib/python3.7/site-packages/torch/utils/data/dataloader.py:560: UserWarning: This DataLoader will create 64 worker processes in total. Our suggested max number of worker in current system is 32, which is smaller than what this DataLoader is going to create. Please be aware that excessive worker creation might get DataLoader running slow or even freeze, lower the worker number to avoid potential slowness/freeze if necessary.\n",
      "  cpuset_checked))\n"
     ]
    },
    {
     "name": "stdout",
     "output_type": "stream",
     "text": [
      "Epoch: 342/600, train loss: 848.930\n",
      "\n",
      "Inferring ...\n",
      "Subset: 0, modalities ['rna']: test size: 8569\n",
      "Processing subset 0: ['rna']\n"
     ]
    },
    {
     "name": "stderr",
     "output_type": "stream",
     "text": [
      "/root/anaconda3/lib/python3.7/site-packages/torch/utils/data/dataloader.py:560: UserWarning: This DataLoader will create 64 worker processes in total. Our suggested max number of worker in current system is 32, which is smaller than what this DataLoader is going to create. Please be aware that excessive worker creation might get DataLoader running slow or even freeze, lower the worker number to avoid potential slowness/freeze if necessary.\n",
      "  cpuset_checked))\n"
     ]
    },
    {
     "name": "stdout",
     "output_type": "stream",
     "text": [
      "Epoch: 343/600, train loss: 847.752\n",
      "\n",
      "Inferring ...\n",
      "Subset: 0, modalities ['rna']: test size: 8569\n",
      "Processing subset 0: ['rna']\n"
     ]
    },
    {
     "name": "stderr",
     "output_type": "stream",
     "text": [
      "/root/anaconda3/lib/python3.7/site-packages/torch/utils/data/dataloader.py:560: UserWarning: This DataLoader will create 64 worker processes in total. Our suggested max number of worker in current system is 32, which is smaller than what this DataLoader is going to create. Please be aware that excessive worker creation might get DataLoader running slow or even freeze, lower the worker number to avoid potential slowness/freeze if necessary.\n",
      "  cpuset_checked))\n"
     ]
    },
    {
     "name": "stdout",
     "output_type": "stream",
     "text": [
      "Epoch: 344/600, train loss: 848.508\n",
      "\n",
      "Inferring ...\n",
      "Subset: 0, modalities ['rna']: test size: 8569\n",
      "Processing subset 0: ['rna']\n"
     ]
    },
    {
     "name": "stderr",
     "output_type": "stream",
     "text": [
      "/root/anaconda3/lib/python3.7/site-packages/torch/utils/data/dataloader.py:560: UserWarning: This DataLoader will create 64 worker processes in total. Our suggested max number of worker in current system is 32, which is smaller than what this DataLoader is going to create. Please be aware that excessive worker creation might get DataLoader running slow or even freeze, lower the worker number to avoid potential slowness/freeze if necessary.\n",
      "  cpuset_checked))\n"
     ]
    },
    {
     "name": "stdout",
     "output_type": "stream",
     "text": [
      "Epoch: 345/600, train loss: 846.743\n",
      "\n",
      "Inferring ...\n",
      "Subset: 0, modalities ['rna']: test size: 8569\n",
      "Processing subset 0: ['rna']\n"
     ]
    },
    {
     "name": "stderr",
     "output_type": "stream",
     "text": [
      "/root/anaconda3/lib/python3.7/site-packages/torch/utils/data/dataloader.py:560: UserWarning: This DataLoader will create 64 worker processes in total. Our suggested max number of worker in current system is 32, which is smaller than what this DataLoader is going to create. Please be aware that excessive worker creation might get DataLoader running slow or even freeze, lower the worker number to avoid potential slowness/freeze if necessary.\n",
      "  cpuset_checked))\n"
     ]
    },
    {
     "name": "stdout",
     "output_type": "stream",
     "text": [
      "Epoch: 346/600, train loss: 844.863\n",
      "\n",
      "Inferring ...\n",
      "Subset: 0, modalities ['rna']: test size: 8569\n",
      "Processing subset 0: ['rna']\n"
     ]
    },
    {
     "name": "stderr",
     "output_type": "stream",
     "text": [
      "/root/anaconda3/lib/python3.7/site-packages/torch/utils/data/dataloader.py:560: UserWarning: This DataLoader will create 64 worker processes in total. Our suggested max number of worker in current system is 32, which is smaller than what this DataLoader is going to create. Please be aware that excessive worker creation might get DataLoader running slow or even freeze, lower the worker number to avoid potential slowness/freeze if necessary.\n",
      "  cpuset_checked))\n"
     ]
    },
    {
     "name": "stdout",
     "output_type": "stream",
     "text": [
      "Epoch: 347/600, train loss: 845.755\n",
      "\n",
      "Inferring ...\n",
      "Subset: 0, modalities ['rna']: test size: 8569\n",
      "Processing subset 0: ['rna']\n"
     ]
    },
    {
     "name": "stderr",
     "output_type": "stream",
     "text": [
      "/root/anaconda3/lib/python3.7/site-packages/torch/utils/data/dataloader.py:560: UserWarning: This DataLoader will create 64 worker processes in total. Our suggested max number of worker in current system is 32, which is smaller than what this DataLoader is going to create. Please be aware that excessive worker creation might get DataLoader running slow or even freeze, lower the worker number to avoid potential slowness/freeze if necessary.\n",
      "  cpuset_checked))\n"
     ]
    },
    {
     "name": "stdout",
     "output_type": "stream",
     "text": [
      "Epoch: 348/600, train loss: 844.610\n",
      "\n",
      "Inferring ...\n",
      "Subset: 0, modalities ['rna']: test size: 8569\n",
      "Processing subset 0: ['rna']\n"
     ]
    },
    {
     "name": "stderr",
     "output_type": "stream",
     "text": [
      "/root/anaconda3/lib/python3.7/site-packages/torch/utils/data/dataloader.py:560: UserWarning: This DataLoader will create 64 worker processes in total. Our suggested max number of worker in current system is 32, which is smaller than what this DataLoader is going to create. Please be aware that excessive worker creation might get DataLoader running slow or even freeze, lower the worker number to avoid potential slowness/freeze if necessary.\n",
      "  cpuset_checked))\n"
     ]
    },
    {
     "name": "stdout",
     "output_type": "stream",
     "text": [
      "Epoch: 349/600, train loss: 843.009\n",
      "\n",
      "Inferring ...\n",
      "Subset: 0, modalities ['rna']: test size: 8569\n",
      "Processing subset 0: ['rna']\n"
     ]
    },
    {
     "name": "stderr",
     "output_type": "stream",
     "text": [
      "/root/anaconda3/lib/python3.7/site-packages/torch/utils/data/dataloader.py:560: UserWarning: This DataLoader will create 64 worker processes in total. Our suggested max number of worker in current system is 32, which is smaller than what this DataLoader is going to create. Please be aware that excessive worker creation might get DataLoader running slow or even freeze, lower the worker number to avoid potential slowness/freeze if necessary.\n",
      "  cpuset_checked))\n"
     ]
    },
    {
     "name": "stdout",
     "output_type": "stream",
     "text": [
      "Epoch: 350/600, train loss: 842.487\n",
      "\n",
      "Inferring ...\n",
      "Subset: 0, modalities ['rna']: test size: 8569\n",
      "Processing subset 0: ['rna']\n"
     ]
    },
    {
     "name": "stderr",
     "output_type": "stream",
     "text": [
      "/root/anaconda3/lib/python3.7/site-packages/torch/utils/data/dataloader.py:560: UserWarning: This DataLoader will create 64 worker processes in total. Our suggested max number of worker in current system is 32, which is smaller than what this DataLoader is going to create. Please be aware that excessive worker creation might get DataLoader running slow or even freeze, lower the worker number to avoid potential slowness/freeze if necessary.\n",
      "  cpuset_checked))\n"
     ]
    },
    {
     "name": "stdout",
     "output_type": "stream",
     "text": [
      "Epoch: 351/600, train loss: 841.961\n",
      "\n",
      "Inferring ...\n",
      "Subset: 0, modalities ['rna']: test size: 8569\n",
      "Processing subset 0: ['rna']\n"
     ]
    },
    {
     "name": "stderr",
     "output_type": "stream",
     "text": [
      "/root/anaconda3/lib/python3.7/site-packages/torch/utils/data/dataloader.py:560: UserWarning: This DataLoader will create 64 worker processes in total. Our suggested max number of worker in current system is 32, which is smaller than what this DataLoader is going to create. Please be aware that excessive worker creation might get DataLoader running slow or even freeze, lower the worker number to avoid potential slowness/freeze if necessary.\n",
      "  cpuset_checked))\n"
     ]
    },
    {
     "name": "stdout",
     "output_type": "stream",
     "text": [
      "Epoch: 352/600, train loss: 840.313\n",
      "\n",
      "Inferring ...\n",
      "Subset: 0, modalities ['rna']: test size: 8569\n",
      "Processing subset 0: ['rna']\n"
     ]
    },
    {
     "name": "stderr",
     "output_type": "stream",
     "text": [
      "/root/anaconda3/lib/python3.7/site-packages/torch/utils/data/dataloader.py:560: UserWarning: This DataLoader will create 64 worker processes in total. Our suggested max number of worker in current system is 32, which is smaller than what this DataLoader is going to create. Please be aware that excessive worker creation might get DataLoader running slow or even freeze, lower the worker number to avoid potential slowness/freeze if necessary.\n",
      "  cpuset_checked))\n"
     ]
    },
    {
     "name": "stdout",
     "output_type": "stream",
     "text": [
      "Epoch: 353/600, train loss: 838.450\n",
      "\n",
      "Inferring ...\n",
      "Subset: 0, modalities ['rna']: test size: 8569\n",
      "Processing subset 0: ['rna']\n"
     ]
    },
    {
     "name": "stderr",
     "output_type": "stream",
     "text": [
      "/root/anaconda3/lib/python3.7/site-packages/torch/utils/data/dataloader.py:560: UserWarning: This DataLoader will create 64 worker processes in total. Our suggested max number of worker in current system is 32, which is smaller than what this DataLoader is going to create. Please be aware that excessive worker creation might get DataLoader running slow or even freeze, lower the worker number to avoid potential slowness/freeze if necessary.\n",
      "  cpuset_checked))\n"
     ]
    },
    {
     "name": "stdout",
     "output_type": "stream",
     "text": [
      "Epoch: 354/600, train loss: 837.796\n",
      "\n",
      "Inferring ...\n",
      "Subset: 0, modalities ['rna']: test size: 8569\n",
      "Processing subset 0: ['rna']\n"
     ]
    },
    {
     "name": "stderr",
     "output_type": "stream",
     "text": [
      "/root/anaconda3/lib/python3.7/site-packages/torch/utils/data/dataloader.py:560: UserWarning: This DataLoader will create 64 worker processes in total. Our suggested max number of worker in current system is 32, which is smaller than what this DataLoader is going to create. Please be aware that excessive worker creation might get DataLoader running slow or even freeze, lower the worker number to avoid potential slowness/freeze if necessary.\n",
      "  cpuset_checked))\n"
     ]
    },
    {
     "name": "stdout",
     "output_type": "stream",
     "text": [
      "Epoch: 355/600, train loss: 840.505\n",
      "\n",
      "Inferring ...\n",
      "Subset: 0, modalities ['rna']: test size: 8569\n",
      "Processing subset 0: ['rna']\n"
     ]
    },
    {
     "name": "stderr",
     "output_type": "stream",
     "text": [
      "/root/anaconda3/lib/python3.7/site-packages/torch/utils/data/dataloader.py:560: UserWarning: This DataLoader will create 64 worker processes in total. Our suggested max number of worker in current system is 32, which is smaller than what this DataLoader is going to create. Please be aware that excessive worker creation might get DataLoader running slow or even freeze, lower the worker number to avoid potential slowness/freeze if necessary.\n",
      "  cpuset_checked))\n"
     ]
    },
    {
     "name": "stdout",
     "output_type": "stream",
     "text": [
      "Epoch: 356/600, train loss: 837.173\n",
      "\n",
      "Inferring ...\n",
      "Subset: 0, modalities ['rna']: test size: 8569\n",
      "Processing subset 0: ['rna']\n"
     ]
    },
    {
     "name": "stderr",
     "output_type": "stream",
     "text": [
      "/root/anaconda3/lib/python3.7/site-packages/torch/utils/data/dataloader.py:560: UserWarning: This DataLoader will create 64 worker processes in total. Our suggested max number of worker in current system is 32, which is smaller than what this DataLoader is going to create. Please be aware that excessive worker creation might get DataLoader running slow or even freeze, lower the worker number to avoid potential slowness/freeze if necessary.\n",
      "  cpuset_checked))\n"
     ]
    },
    {
     "name": "stdout",
     "output_type": "stream",
     "text": [
      "Epoch: 357/600, train loss: 836.241\n",
      "\n",
      "Inferring ...\n",
      "Subset: 0, modalities ['rna']: test size: 8569\n",
      "Processing subset 0: ['rna']\n"
     ]
    },
    {
     "name": "stderr",
     "output_type": "stream",
     "text": [
      "/root/anaconda3/lib/python3.7/site-packages/torch/utils/data/dataloader.py:560: UserWarning: This DataLoader will create 64 worker processes in total. Our suggested max number of worker in current system is 32, which is smaller than what this DataLoader is going to create. Please be aware that excessive worker creation might get DataLoader running slow or even freeze, lower the worker number to avoid potential slowness/freeze if necessary.\n",
      "  cpuset_checked))\n"
     ]
    },
    {
     "name": "stdout",
     "output_type": "stream",
     "text": [
      "Epoch: 358/600, train loss: 836.500\n",
      "\n",
      "Inferring ...\n",
      "Subset: 0, modalities ['rna']: test size: 8569\n",
      "Processing subset 0: ['rna']\n"
     ]
    },
    {
     "name": "stderr",
     "output_type": "stream",
     "text": [
      "/root/anaconda3/lib/python3.7/site-packages/torch/utils/data/dataloader.py:560: UserWarning: This DataLoader will create 64 worker processes in total. Our suggested max number of worker in current system is 32, which is smaller than what this DataLoader is going to create. Please be aware that excessive worker creation might get DataLoader running slow or even freeze, lower the worker number to avoid potential slowness/freeze if necessary.\n",
      "  cpuset_checked))\n"
     ]
    },
    {
     "name": "stdout",
     "output_type": "stream",
     "text": [
      "Epoch: 359/600, train loss: 832.051\n",
      "\n",
      "Inferring ...\n",
      "Subset: 0, modalities ['rna']: test size: 8569\n",
      "Processing subset 0: ['rna']\n"
     ]
    },
    {
     "name": "stderr",
     "output_type": "stream",
     "text": [
      "/root/anaconda3/lib/python3.7/site-packages/torch/utils/data/dataloader.py:560: UserWarning: This DataLoader will create 64 worker processes in total. Our suggested max number of worker in current system is 32, which is smaller than what this DataLoader is going to create. Please be aware that excessive worker creation might get DataLoader running slow or even freeze, lower the worker number to avoid potential slowness/freeze if necessary.\n",
      "  cpuset_checked))\n"
     ]
    },
    {
     "name": "stdout",
     "output_type": "stream",
     "text": [
      "Epoch: 360/600, train loss: 834.058\n",
      "\n",
      "Inferring ...\n",
      "Subset: 0, modalities ['rna']: test size: 8569\n",
      "Processing subset 0: ['rna']\n"
     ]
    },
    {
     "name": "stderr",
     "output_type": "stream",
     "text": [
      "/root/anaconda3/lib/python3.7/site-packages/torch/utils/data/dataloader.py:560: UserWarning: This DataLoader will create 64 worker processes in total. Our suggested max number of worker in current system is 32, which is smaller than what this DataLoader is going to create. Please be aware that excessive worker creation might get DataLoader running slow or even freeze, lower the worker number to avoid potential slowness/freeze if necessary.\n",
      "  cpuset_checked))\n"
     ]
    },
    {
     "name": "stdout",
     "output_type": "stream",
     "text": [
      "Epoch: 361/600, train loss: 831.323\n",
      "\n",
      "Inferring ...\n",
      "Subset: 0, modalities ['rna']: test size: 8569\n",
      "Processing subset 0: ['rna']\n"
     ]
    },
    {
     "name": "stderr",
     "output_type": "stream",
     "text": [
      "/root/anaconda3/lib/python3.7/site-packages/torch/utils/data/dataloader.py:560: UserWarning: This DataLoader will create 64 worker processes in total. Our suggested max number of worker in current system is 32, which is smaller than what this DataLoader is going to create. Please be aware that excessive worker creation might get DataLoader running slow or even freeze, lower the worker number to avoid potential slowness/freeze if necessary.\n",
      "  cpuset_checked))\n"
     ]
    },
    {
     "name": "stdout",
     "output_type": "stream",
     "text": [
      "Epoch: 362/600, train loss: 830.740\n",
      "\n",
      "Inferring ...\n",
      "Subset: 0, modalities ['rna']: test size: 8569\n",
      "Processing subset 0: ['rna']\n"
     ]
    },
    {
     "name": "stderr",
     "output_type": "stream",
     "text": [
      "/root/anaconda3/lib/python3.7/site-packages/torch/utils/data/dataloader.py:560: UserWarning: This DataLoader will create 64 worker processes in total. Our suggested max number of worker in current system is 32, which is smaller than what this DataLoader is going to create. Please be aware that excessive worker creation might get DataLoader running slow or even freeze, lower the worker number to avoid potential slowness/freeze if necessary.\n",
      "  cpuset_checked))\n"
     ]
    },
    {
     "name": "stdout",
     "output_type": "stream",
     "text": [
      "Epoch: 363/600, train loss: 829.955\n",
      "\n",
      "Inferring ...\n",
      "Subset: 0, modalities ['rna']: test size: 8569\n",
      "Processing subset 0: ['rna']\n"
     ]
    },
    {
     "name": "stderr",
     "output_type": "stream",
     "text": [
      "/root/anaconda3/lib/python3.7/site-packages/torch/utils/data/dataloader.py:560: UserWarning: This DataLoader will create 64 worker processes in total. Our suggested max number of worker in current system is 32, which is smaller than what this DataLoader is going to create. Please be aware that excessive worker creation might get DataLoader running slow or even freeze, lower the worker number to avoid potential slowness/freeze if necessary.\n",
      "  cpuset_checked))\n"
     ]
    },
    {
     "name": "stdout",
     "output_type": "stream",
     "text": [
      "Epoch: 364/600, train loss: 831.191\n",
      "\n",
      "Inferring ...\n",
      "Subset: 0, modalities ['rna']: test size: 8569\n",
      "Processing subset 0: ['rna']\n"
     ]
    },
    {
     "name": "stderr",
     "output_type": "stream",
     "text": [
      "/root/anaconda3/lib/python3.7/site-packages/torch/utils/data/dataloader.py:560: UserWarning: This DataLoader will create 64 worker processes in total. Our suggested max number of worker in current system is 32, which is smaller than what this DataLoader is going to create. Please be aware that excessive worker creation might get DataLoader running slow or even freeze, lower the worker number to avoid potential slowness/freeze if necessary.\n",
      "  cpuset_checked))\n"
     ]
    },
    {
     "name": "stdout",
     "output_type": "stream",
     "text": [
      "Epoch: 365/600, train loss: 826.893\n",
      "\n",
      "Inferring ...\n",
      "Subset: 0, modalities ['rna']: test size: 8569\n",
      "Processing subset 0: ['rna']\n"
     ]
    },
    {
     "name": "stderr",
     "output_type": "stream",
     "text": [
      "/root/anaconda3/lib/python3.7/site-packages/torch/utils/data/dataloader.py:560: UserWarning: This DataLoader will create 64 worker processes in total. Our suggested max number of worker in current system is 32, which is smaller than what this DataLoader is going to create. Please be aware that excessive worker creation might get DataLoader running slow or even freeze, lower the worker number to avoid potential slowness/freeze if necessary.\n",
      "  cpuset_checked))\n"
     ]
    },
    {
     "name": "stdout",
     "output_type": "stream",
     "text": [
      "Epoch: 366/600, train loss: 826.070\n",
      "\n",
      "Inferring ...\n",
      "Subset: 0, modalities ['rna']: test size: 8569\n",
      "Processing subset 0: ['rna']\n"
     ]
    },
    {
     "name": "stderr",
     "output_type": "stream",
     "text": [
      "/root/anaconda3/lib/python3.7/site-packages/torch/utils/data/dataloader.py:560: UserWarning: This DataLoader will create 64 worker processes in total. Our suggested max number of worker in current system is 32, which is smaller than what this DataLoader is going to create. Please be aware that excessive worker creation might get DataLoader running slow or even freeze, lower the worker number to avoid potential slowness/freeze if necessary.\n",
      "  cpuset_checked))\n"
     ]
    },
    {
     "name": "stdout",
     "output_type": "stream",
     "text": [
      "Epoch: 367/600, train loss: 826.133\n",
      "\n",
      "Inferring ...\n",
      "Subset: 0, modalities ['rna']: test size: 8569\n",
      "Processing subset 0: ['rna']\n"
     ]
    },
    {
     "name": "stderr",
     "output_type": "stream",
     "text": [
      "/root/anaconda3/lib/python3.7/site-packages/torch/utils/data/dataloader.py:560: UserWarning: This DataLoader will create 64 worker processes in total. Our suggested max number of worker in current system is 32, which is smaller than what this DataLoader is going to create. Please be aware that excessive worker creation might get DataLoader running slow or even freeze, lower the worker number to avoid potential slowness/freeze if necessary.\n",
      "  cpuset_checked))\n"
     ]
    },
    {
     "name": "stdout",
     "output_type": "stream",
     "text": [
      "Epoch: 368/600, train loss: 823.159\n",
      "\n",
      "Inferring ...\n",
      "Subset: 0, modalities ['rna']: test size: 8569\n",
      "Processing subset 0: ['rna']\n"
     ]
    },
    {
     "name": "stderr",
     "output_type": "stream",
     "text": [
      "/root/anaconda3/lib/python3.7/site-packages/torch/utils/data/dataloader.py:560: UserWarning: This DataLoader will create 64 worker processes in total. Our suggested max number of worker in current system is 32, which is smaller than what this DataLoader is going to create. Please be aware that excessive worker creation might get DataLoader running slow or even freeze, lower the worker number to avoid potential slowness/freeze if necessary.\n",
      "  cpuset_checked))\n"
     ]
    },
    {
     "name": "stdout",
     "output_type": "stream",
     "text": [
      "Epoch: 369/600, train loss: 825.767\n",
      "\n",
      "Inferring ...\n",
      "Subset: 0, modalities ['rna']: test size: 8569\n",
      "Processing subset 0: ['rna']\n"
     ]
    },
    {
     "name": "stderr",
     "output_type": "stream",
     "text": [
      "/root/anaconda3/lib/python3.7/site-packages/torch/utils/data/dataloader.py:560: UserWarning: This DataLoader will create 64 worker processes in total. Our suggested max number of worker in current system is 32, which is smaller than what this DataLoader is going to create. Please be aware that excessive worker creation might get DataLoader running slow or even freeze, lower the worker number to avoid potential slowness/freeze if necessary.\n",
      "  cpuset_checked))\n"
     ]
    },
    {
     "name": "stdout",
     "output_type": "stream",
     "text": [
      "Epoch: 370/600, train loss: 822.215\n",
      "\n",
      "Inferring ...\n",
      "Subset: 0, modalities ['rna']: test size: 8569\n",
      "Processing subset 0: ['rna']\n"
     ]
    },
    {
     "name": "stderr",
     "output_type": "stream",
     "text": [
      "/root/anaconda3/lib/python3.7/site-packages/torch/utils/data/dataloader.py:560: UserWarning: This DataLoader will create 64 worker processes in total. Our suggested max number of worker in current system is 32, which is smaller than what this DataLoader is going to create. Please be aware that excessive worker creation might get DataLoader running slow or even freeze, lower the worker number to avoid potential slowness/freeze if necessary.\n",
      "  cpuset_checked))\n"
     ]
    },
    {
     "name": "stdout",
     "output_type": "stream",
     "text": [
      "Epoch: 371/600, train loss: 822.963\n",
      "\n",
      "Inferring ...\n",
      "Subset: 0, modalities ['rna']: test size: 8569\n",
      "Processing subset 0: ['rna']\n"
     ]
    },
    {
     "name": "stderr",
     "output_type": "stream",
     "text": [
      "/root/anaconda3/lib/python3.7/site-packages/torch/utils/data/dataloader.py:560: UserWarning: This DataLoader will create 64 worker processes in total. Our suggested max number of worker in current system is 32, which is smaller than what this DataLoader is going to create. Please be aware that excessive worker creation might get DataLoader running slow or even freeze, lower the worker number to avoid potential slowness/freeze if necessary.\n",
      "  cpuset_checked))\n"
     ]
    },
    {
     "name": "stdout",
     "output_type": "stream",
     "text": [
      "Epoch: 372/600, train loss: 820.758\n",
      "\n",
      "Inferring ...\n",
      "Subset: 0, modalities ['rna']: test size: 8569\n",
      "Processing subset 0: ['rna']\n"
     ]
    },
    {
     "name": "stderr",
     "output_type": "stream",
     "text": [
      "/root/anaconda3/lib/python3.7/site-packages/torch/utils/data/dataloader.py:560: UserWarning: This DataLoader will create 64 worker processes in total. Our suggested max number of worker in current system is 32, which is smaller than what this DataLoader is going to create. Please be aware that excessive worker creation might get DataLoader running slow or even freeze, lower the worker number to avoid potential slowness/freeze if necessary.\n",
      "  cpuset_checked))\n"
     ]
    },
    {
     "name": "stdout",
     "output_type": "stream",
     "text": [
      "Epoch: 373/600, train loss: 819.395\n",
      "\n",
      "Inferring ...\n",
      "Subset: 0, modalities ['rna']: test size: 8569\n",
      "Processing subset 0: ['rna']\n"
     ]
    },
    {
     "name": "stderr",
     "output_type": "stream",
     "text": [
      "/root/anaconda3/lib/python3.7/site-packages/torch/utils/data/dataloader.py:560: UserWarning: This DataLoader will create 64 worker processes in total. Our suggested max number of worker in current system is 32, which is smaller than what this DataLoader is going to create. Please be aware that excessive worker creation might get DataLoader running slow or even freeze, lower the worker number to avoid potential slowness/freeze if necessary.\n",
      "  cpuset_checked))\n"
     ]
    },
    {
     "name": "stdout",
     "output_type": "stream",
     "text": [
      "Epoch: 374/600, train loss: 819.320\n",
      "\n",
      "Inferring ...\n",
      "Subset: 0, modalities ['rna']: test size: 8569\n",
      "Processing subset 0: ['rna']\n"
     ]
    },
    {
     "name": "stderr",
     "output_type": "stream",
     "text": [
      "/root/anaconda3/lib/python3.7/site-packages/torch/utils/data/dataloader.py:560: UserWarning: This DataLoader will create 64 worker processes in total. Our suggested max number of worker in current system is 32, which is smaller than what this DataLoader is going to create. Please be aware that excessive worker creation might get DataLoader running slow or even freeze, lower the worker number to avoid potential slowness/freeze if necessary.\n",
      "  cpuset_checked))\n"
     ]
    },
    {
     "name": "stdout",
     "output_type": "stream",
     "text": [
      "Epoch: 375/600, train loss: 821.169\n",
      "\n",
      "Inferring ...\n",
      "Subset: 0, modalities ['rna']: test size: 8569\n",
      "Processing subset 0: ['rna']\n"
     ]
    },
    {
     "name": "stderr",
     "output_type": "stream",
     "text": [
      "/root/anaconda3/lib/python3.7/site-packages/torch/utils/data/dataloader.py:560: UserWarning: This DataLoader will create 64 worker processes in total. Our suggested max number of worker in current system is 32, which is smaller than what this DataLoader is going to create. Please be aware that excessive worker creation might get DataLoader running slow or even freeze, lower the worker number to avoid potential slowness/freeze if necessary.\n",
      "  cpuset_checked))\n"
     ]
    },
    {
     "name": "stdout",
     "output_type": "stream",
     "text": [
      "Epoch: 376/600, train loss: 817.851\n",
      "\n",
      "Inferring ...\n",
      "Subset: 0, modalities ['rna']: test size: 8569\n",
      "Processing subset 0: ['rna']\n"
     ]
    },
    {
     "name": "stderr",
     "output_type": "stream",
     "text": [
      "/root/anaconda3/lib/python3.7/site-packages/torch/utils/data/dataloader.py:560: UserWarning: This DataLoader will create 64 worker processes in total. Our suggested max number of worker in current system is 32, which is smaller than what this DataLoader is going to create. Please be aware that excessive worker creation might get DataLoader running slow or even freeze, lower the worker number to avoid potential slowness/freeze if necessary.\n",
      "  cpuset_checked))\n"
     ]
    },
    {
     "name": "stdout",
     "output_type": "stream",
     "text": [
      "Epoch: 377/600, train loss: 817.818\n",
      "\n",
      "Inferring ...\n",
      "Subset: 0, modalities ['rna']: test size: 8569\n",
      "Processing subset 0: ['rna']\n"
     ]
    },
    {
     "name": "stderr",
     "output_type": "stream",
     "text": [
      "/root/anaconda3/lib/python3.7/site-packages/torch/utils/data/dataloader.py:560: UserWarning: This DataLoader will create 64 worker processes in total. Our suggested max number of worker in current system is 32, which is smaller than what this DataLoader is going to create. Please be aware that excessive worker creation might get DataLoader running slow or even freeze, lower the worker number to avoid potential slowness/freeze if necessary.\n",
      "  cpuset_checked))\n"
     ]
    },
    {
     "name": "stdout",
     "output_type": "stream",
     "text": [
      "Epoch: 378/600, train loss: 815.245\n",
      "\n",
      "Inferring ...\n",
      "Subset: 0, modalities ['rna']: test size: 8569\n",
      "Processing subset 0: ['rna']\n"
     ]
    },
    {
     "name": "stderr",
     "output_type": "stream",
     "text": [
      "/root/anaconda3/lib/python3.7/site-packages/torch/utils/data/dataloader.py:560: UserWarning: This DataLoader will create 64 worker processes in total. Our suggested max number of worker in current system is 32, which is smaller than what this DataLoader is going to create. Please be aware that excessive worker creation might get DataLoader running slow or even freeze, lower the worker number to avoid potential slowness/freeze if necessary.\n",
      "  cpuset_checked))\n"
     ]
    },
    {
     "name": "stdout",
     "output_type": "stream",
     "text": [
      "Epoch: 379/600, train loss: 817.144\n",
      "\n",
      "Inferring ...\n",
      "Subset: 0, modalities ['rna']: test size: 8569\n",
      "Processing subset 0: ['rna']\n"
     ]
    },
    {
     "name": "stderr",
     "output_type": "stream",
     "text": [
      "/root/anaconda3/lib/python3.7/site-packages/torch/utils/data/dataloader.py:560: UserWarning: This DataLoader will create 64 worker processes in total. Our suggested max number of worker in current system is 32, which is smaller than what this DataLoader is going to create. Please be aware that excessive worker creation might get DataLoader running slow or even freeze, lower the worker number to avoid potential slowness/freeze if necessary.\n",
      "  cpuset_checked))\n"
     ]
    },
    {
     "name": "stdout",
     "output_type": "stream",
     "text": [
      "Epoch: 380/600, train loss: 813.914\n",
      "\n",
      "Inferring ...\n",
      "Subset: 0, modalities ['rna']: test size: 8569\n",
      "Processing subset 0: ['rna']\n"
     ]
    },
    {
     "name": "stderr",
     "output_type": "stream",
     "text": [
      "/root/anaconda3/lib/python3.7/site-packages/torch/utils/data/dataloader.py:560: UserWarning: This DataLoader will create 64 worker processes in total. Our suggested max number of worker in current system is 32, which is smaller than what this DataLoader is going to create. Please be aware that excessive worker creation might get DataLoader running slow or even freeze, lower the worker number to avoid potential slowness/freeze if necessary.\n",
      "  cpuset_checked))\n"
     ]
    },
    {
     "name": "stdout",
     "output_type": "stream",
     "text": [
      "Epoch: 381/600, train loss: 813.840\n",
      "\n",
      "Inferring ...\n",
      "Subset: 0, modalities ['rna']: test size: 8569\n",
      "Processing subset 0: ['rna']\n"
     ]
    },
    {
     "name": "stderr",
     "output_type": "stream",
     "text": [
      "/root/anaconda3/lib/python3.7/site-packages/torch/utils/data/dataloader.py:560: UserWarning: This DataLoader will create 64 worker processes in total. Our suggested max number of worker in current system is 32, which is smaller than what this DataLoader is going to create. Please be aware that excessive worker creation might get DataLoader running slow or even freeze, lower the worker number to avoid potential slowness/freeze if necessary.\n",
      "  cpuset_checked))\n"
     ]
    },
    {
     "name": "stdout",
     "output_type": "stream",
     "text": [
      "Epoch: 382/600, train loss: 817.153\n",
      "\n",
      "Inferring ...\n",
      "Subset: 0, modalities ['rna']: test size: 8569\n",
      "Processing subset 0: ['rna']\n"
     ]
    },
    {
     "name": "stderr",
     "output_type": "stream",
     "text": [
      "/root/anaconda3/lib/python3.7/site-packages/torch/utils/data/dataloader.py:560: UserWarning: This DataLoader will create 64 worker processes in total. Our suggested max number of worker in current system is 32, which is smaller than what this DataLoader is going to create. Please be aware that excessive worker creation might get DataLoader running slow or even freeze, lower the worker number to avoid potential slowness/freeze if necessary.\n",
      "  cpuset_checked))\n"
     ]
    },
    {
     "name": "stdout",
     "output_type": "stream",
     "text": [
      "Epoch: 383/600, train loss: 810.222\n",
      "\n",
      "Inferring ...\n",
      "Subset: 0, modalities ['rna']: test size: 8569\n",
      "Processing subset 0: ['rna']\n"
     ]
    },
    {
     "name": "stderr",
     "output_type": "stream",
     "text": [
      "/root/anaconda3/lib/python3.7/site-packages/torch/utils/data/dataloader.py:560: UserWarning: This DataLoader will create 64 worker processes in total. Our suggested max number of worker in current system is 32, which is smaller than what this DataLoader is going to create. Please be aware that excessive worker creation might get DataLoader running slow or even freeze, lower the worker number to avoid potential slowness/freeze if necessary.\n",
      "  cpuset_checked))\n"
     ]
    },
    {
     "name": "stdout",
     "output_type": "stream",
     "text": [
      "Epoch: 384/600, train loss: 811.029\n",
      "\n",
      "Inferring ...\n",
      "Subset: 0, modalities ['rna']: test size: 8569\n",
      "Processing subset 0: ['rna']\n"
     ]
    },
    {
     "name": "stderr",
     "output_type": "stream",
     "text": [
      "/root/anaconda3/lib/python3.7/site-packages/torch/utils/data/dataloader.py:560: UserWarning: This DataLoader will create 64 worker processes in total. Our suggested max number of worker in current system is 32, which is smaller than what this DataLoader is going to create. Please be aware that excessive worker creation might get DataLoader running slow or even freeze, lower the worker number to avoid potential slowness/freeze if necessary.\n",
      "  cpuset_checked))\n"
     ]
    },
    {
     "name": "stdout",
     "output_type": "stream",
     "text": [
      "Epoch: 385/600, train loss: 810.067\n",
      "\n",
      "Inferring ...\n",
      "Subset: 0, modalities ['rna']: test size: 8569\n",
      "Processing subset 0: ['rna']\n"
     ]
    },
    {
     "name": "stderr",
     "output_type": "stream",
     "text": [
      "/root/anaconda3/lib/python3.7/site-packages/torch/utils/data/dataloader.py:560: UserWarning: This DataLoader will create 64 worker processes in total. Our suggested max number of worker in current system is 32, which is smaller than what this DataLoader is going to create. Please be aware that excessive worker creation might get DataLoader running slow or even freeze, lower the worker number to avoid potential slowness/freeze if necessary.\n",
      "  cpuset_checked))\n"
     ]
    },
    {
     "name": "stdout",
     "output_type": "stream",
     "text": [
      "Epoch: 386/600, train loss: 810.705\n",
      "\n",
      "Inferring ...\n",
      "Subset: 0, modalities ['rna']: test size: 8569\n",
      "Processing subset 0: ['rna']\n"
     ]
    },
    {
     "name": "stderr",
     "output_type": "stream",
     "text": [
      "/root/anaconda3/lib/python3.7/site-packages/torch/utils/data/dataloader.py:560: UserWarning: This DataLoader will create 64 worker processes in total. Our suggested max number of worker in current system is 32, which is smaller than what this DataLoader is going to create. Please be aware that excessive worker creation might get DataLoader running slow or even freeze, lower the worker number to avoid potential slowness/freeze if necessary.\n",
      "  cpuset_checked))\n"
     ]
    },
    {
     "name": "stdout",
     "output_type": "stream",
     "text": [
      "Epoch: 387/600, train loss: 804.510\n",
      "\n",
      "Inferring ...\n",
      "Subset: 0, modalities ['rna']: test size: 8569\n",
      "Processing subset 0: ['rna']\n"
     ]
    },
    {
     "name": "stderr",
     "output_type": "stream",
     "text": [
      "/root/anaconda3/lib/python3.7/site-packages/torch/utils/data/dataloader.py:560: UserWarning: This DataLoader will create 64 worker processes in total. Our suggested max number of worker in current system is 32, which is smaller than what this DataLoader is going to create. Please be aware that excessive worker creation might get DataLoader running slow or even freeze, lower the worker number to avoid potential slowness/freeze if necessary.\n",
      "  cpuset_checked))\n"
     ]
    },
    {
     "name": "stdout",
     "output_type": "stream",
     "text": [
      "Epoch: 388/600, train loss: 805.878\n",
      "\n",
      "Inferring ...\n",
      "Subset: 0, modalities ['rna']: test size: 8569\n",
      "Processing subset 0: ['rna']\n"
     ]
    },
    {
     "name": "stderr",
     "output_type": "stream",
     "text": [
      "/root/anaconda3/lib/python3.7/site-packages/torch/utils/data/dataloader.py:560: UserWarning: This DataLoader will create 64 worker processes in total. Our suggested max number of worker in current system is 32, which is smaller than what this DataLoader is going to create. Please be aware that excessive worker creation might get DataLoader running slow or even freeze, lower the worker number to avoid potential slowness/freeze if necessary.\n",
      "  cpuset_checked))\n"
     ]
    },
    {
     "name": "stdout",
     "output_type": "stream",
     "text": [
      "Epoch: 389/600, train loss: 804.269\n",
      "\n",
      "Inferring ...\n",
      "Subset: 0, modalities ['rna']: test size: 8569\n",
      "Processing subset 0: ['rna']\n"
     ]
    },
    {
     "name": "stderr",
     "output_type": "stream",
     "text": [
      "/root/anaconda3/lib/python3.7/site-packages/torch/utils/data/dataloader.py:560: UserWarning: This DataLoader will create 64 worker processes in total. Our suggested max number of worker in current system is 32, which is smaller than what this DataLoader is going to create. Please be aware that excessive worker creation might get DataLoader running slow or even freeze, lower the worker number to avoid potential slowness/freeze if necessary.\n",
      "  cpuset_checked))\n"
     ]
    },
    {
     "name": "stdout",
     "output_type": "stream",
     "text": [
      "Epoch: 390/600, train loss: 804.436\n",
      "\n",
      "Inferring ...\n",
      "Subset: 0, modalities ['rna']: test size: 8569\n",
      "Processing subset 0: ['rna']\n"
     ]
    },
    {
     "name": "stderr",
     "output_type": "stream",
     "text": [
      "/root/anaconda3/lib/python3.7/site-packages/torch/utils/data/dataloader.py:560: UserWarning: This DataLoader will create 64 worker processes in total. Our suggested max number of worker in current system is 32, which is smaller than what this DataLoader is going to create. Please be aware that excessive worker creation might get DataLoader running slow or even freeze, lower the worker number to avoid potential slowness/freeze if necessary.\n",
      "  cpuset_checked))\n"
     ]
    },
    {
     "name": "stdout",
     "output_type": "stream",
     "text": [
      "Epoch: 391/600, train loss: 802.917\n",
      "\n",
      "Inferring ...\n",
      "Subset: 0, modalities ['rna']: test size: 8569\n",
      "Processing subset 0: ['rna']\n"
     ]
    },
    {
     "name": "stderr",
     "output_type": "stream",
     "text": [
      "/root/anaconda3/lib/python3.7/site-packages/torch/utils/data/dataloader.py:560: UserWarning: This DataLoader will create 64 worker processes in total. Our suggested max number of worker in current system is 32, which is smaller than what this DataLoader is going to create. Please be aware that excessive worker creation might get DataLoader running slow or even freeze, lower the worker number to avoid potential slowness/freeze if necessary.\n",
      "  cpuset_checked))\n"
     ]
    },
    {
     "name": "stdout",
     "output_type": "stream",
     "text": [
      "Epoch: 392/600, train loss: 801.518\n",
      "\n",
      "Inferring ...\n",
      "Subset: 0, modalities ['rna']: test size: 8569\n",
      "Processing subset 0: ['rna']\n"
     ]
    },
    {
     "name": "stderr",
     "output_type": "stream",
     "text": [
      "/root/anaconda3/lib/python3.7/site-packages/torch/utils/data/dataloader.py:560: UserWarning: This DataLoader will create 64 worker processes in total. Our suggested max number of worker in current system is 32, which is smaller than what this DataLoader is going to create. Please be aware that excessive worker creation might get DataLoader running slow or even freeze, lower the worker number to avoid potential slowness/freeze if necessary.\n",
      "  cpuset_checked))\n"
     ]
    },
    {
     "name": "stdout",
     "output_type": "stream",
     "text": [
      "Epoch: 393/600, train loss: 801.198\n",
      "\n",
      "Inferring ...\n",
      "Subset: 0, modalities ['rna']: test size: 8569\n",
      "Processing subset 0: ['rna']\n"
     ]
    },
    {
     "name": "stderr",
     "output_type": "stream",
     "text": [
      "/root/anaconda3/lib/python3.7/site-packages/torch/utils/data/dataloader.py:560: UserWarning: This DataLoader will create 64 worker processes in total. Our suggested max number of worker in current system is 32, which is smaller than what this DataLoader is going to create. Please be aware that excessive worker creation might get DataLoader running slow or even freeze, lower the worker number to avoid potential slowness/freeze if necessary.\n",
      "  cpuset_checked))\n"
     ]
    },
    {
     "name": "stdout",
     "output_type": "stream",
     "text": [
      "Epoch: 394/600, train loss: 802.447\n",
      "\n",
      "Inferring ...\n",
      "Subset: 0, modalities ['rna']: test size: 8569\n",
      "Processing subset 0: ['rna']\n"
     ]
    },
    {
     "name": "stderr",
     "output_type": "stream",
     "text": [
      "/root/anaconda3/lib/python3.7/site-packages/torch/utils/data/dataloader.py:560: UserWarning: This DataLoader will create 64 worker processes in total. Our suggested max number of worker in current system is 32, which is smaller than what this DataLoader is going to create. Please be aware that excessive worker creation might get DataLoader running slow or even freeze, lower the worker number to avoid potential slowness/freeze if necessary.\n",
      "  cpuset_checked))\n"
     ]
    },
    {
     "name": "stdout",
     "output_type": "stream",
     "text": [
      "Epoch: 395/600, train loss: 800.682\n",
      "\n",
      "Inferring ...\n",
      "Subset: 0, modalities ['rna']: test size: 8569\n",
      "Processing subset 0: ['rna']\n"
     ]
    },
    {
     "name": "stderr",
     "output_type": "stream",
     "text": [
      "/root/anaconda3/lib/python3.7/site-packages/torch/utils/data/dataloader.py:560: UserWarning: This DataLoader will create 64 worker processes in total. Our suggested max number of worker in current system is 32, which is smaller than what this DataLoader is going to create. Please be aware that excessive worker creation might get DataLoader running slow or even freeze, lower the worker number to avoid potential slowness/freeze if necessary.\n",
      "  cpuset_checked))\n"
     ]
    },
    {
     "name": "stdout",
     "output_type": "stream",
     "text": [
      "Epoch: 396/600, train loss: 799.111\n",
      "\n",
      "Inferring ...\n",
      "Subset: 0, modalities ['rna']: test size: 8569\n",
      "Processing subset 0: ['rna']\n"
     ]
    },
    {
     "name": "stderr",
     "output_type": "stream",
     "text": [
      "/root/anaconda3/lib/python3.7/site-packages/torch/utils/data/dataloader.py:560: UserWarning: This DataLoader will create 64 worker processes in total. Our suggested max number of worker in current system is 32, which is smaller than what this DataLoader is going to create. Please be aware that excessive worker creation might get DataLoader running slow or even freeze, lower the worker number to avoid potential slowness/freeze if necessary.\n",
      "  cpuset_checked))\n"
     ]
    },
    {
     "name": "stdout",
     "output_type": "stream",
     "text": [
      "Epoch: 397/600, train loss: 798.702\n",
      "\n",
      "Inferring ...\n",
      "Subset: 0, modalities ['rna']: test size: 8569\n",
      "Processing subset 0: ['rna']\n"
     ]
    },
    {
     "name": "stderr",
     "output_type": "stream",
     "text": [
      "/root/anaconda3/lib/python3.7/site-packages/torch/utils/data/dataloader.py:560: UserWarning: This DataLoader will create 64 worker processes in total. Our suggested max number of worker in current system is 32, which is smaller than what this DataLoader is going to create. Please be aware that excessive worker creation might get DataLoader running slow or even freeze, lower the worker number to avoid potential slowness/freeze if necessary.\n",
      "  cpuset_checked))\n"
     ]
    },
    {
     "name": "stdout",
     "output_type": "stream",
     "text": [
      "Epoch: 398/600, train loss: 797.370\n",
      "\n",
      "Inferring ...\n",
      "Subset: 0, modalities ['rna']: test size: 8569\n",
      "Processing subset 0: ['rna']\n"
     ]
    },
    {
     "name": "stderr",
     "output_type": "stream",
     "text": [
      "/root/anaconda3/lib/python3.7/site-packages/torch/utils/data/dataloader.py:560: UserWarning: This DataLoader will create 64 worker processes in total. Our suggested max number of worker in current system is 32, which is smaller than what this DataLoader is going to create. Please be aware that excessive worker creation might get DataLoader running slow or even freeze, lower the worker number to avoid potential slowness/freeze if necessary.\n",
      "  cpuset_checked))\n"
     ]
    },
    {
     "name": "stdout",
     "output_type": "stream",
     "text": [
      "Epoch: 399/600, train loss: 795.929\n",
      "\n",
      "Inferring ...\n",
      "Subset: 0, modalities ['rna']: test size: 8569\n",
      "Processing subset 0: ['rna']\n"
     ]
    },
    {
     "name": "stderr",
     "output_type": "stream",
     "text": [
      "/root/anaconda3/lib/python3.7/site-packages/torch/utils/data/dataloader.py:560: UserWarning: This DataLoader will create 64 worker processes in total. Our suggested max number of worker in current system is 32, which is smaller than what this DataLoader is going to create. Please be aware that excessive worker creation might get DataLoader running slow or even freeze, lower the worker number to avoid potential slowness/freeze if necessary.\n",
      "  cpuset_checked))\n"
     ]
    },
    {
     "name": "stdout",
     "output_type": "stream",
     "text": [
      "Epoch: 400/600, train loss: 796.614\n",
      "\n",
      "Inferring ...\n",
      "Subset: 0, modalities ['rna']: test size: 8569\n",
      "Processing subset 0: ['rna']\n"
     ]
    },
    {
     "name": "stderr",
     "output_type": "stream",
     "text": [
      "/root/anaconda3/lib/python3.7/site-packages/torch/utils/data/dataloader.py:560: UserWarning: This DataLoader will create 64 worker processes in total. Our suggested max number of worker in current system is 32, which is smaller than what this DataLoader is going to create. Please be aware that excessive worker creation might get DataLoader running slow or even freeze, lower the worker number to avoid potential slowness/freeze if necessary.\n",
      "  cpuset_checked))\n"
     ]
    },
    {
     "name": "stdout",
     "output_type": "stream",
     "text": [
      "Epoch: 401/600, train loss: 794.440\n",
      "\n",
      "Inferring ...\n",
      "Subset: 0, modalities ['rna']: test size: 8569\n",
      "Processing subset 0: ['rna']\n"
     ]
    },
    {
     "name": "stderr",
     "output_type": "stream",
     "text": [
      "/root/anaconda3/lib/python3.7/site-packages/torch/utils/data/dataloader.py:560: UserWarning: This DataLoader will create 64 worker processes in total. Our suggested max number of worker in current system is 32, which is smaller than what this DataLoader is going to create. Please be aware that excessive worker creation might get DataLoader running slow or even freeze, lower the worker number to avoid potential slowness/freeze if necessary.\n",
      "  cpuset_checked))\n"
     ]
    },
    {
     "name": "stdout",
     "output_type": "stream",
     "text": [
      "Epoch: 402/600, train loss: 793.418\n",
      "\n",
      "Inferring ...\n",
      "Subset: 0, modalities ['rna']: test size: 8569\n",
      "Processing subset 0: ['rna']\n"
     ]
    },
    {
     "name": "stderr",
     "output_type": "stream",
     "text": [
      "/root/anaconda3/lib/python3.7/site-packages/torch/utils/data/dataloader.py:560: UserWarning: This DataLoader will create 64 worker processes in total. Our suggested max number of worker in current system is 32, which is smaller than what this DataLoader is going to create. Please be aware that excessive worker creation might get DataLoader running slow or even freeze, lower the worker number to avoid potential slowness/freeze if necessary.\n",
      "  cpuset_checked))\n"
     ]
    },
    {
     "name": "stdout",
     "output_type": "stream",
     "text": [
      "Epoch: 403/600, train loss: 793.950\n",
      "\n",
      "Inferring ...\n",
      "Subset: 0, modalities ['rna']: test size: 8569\n",
      "Processing subset 0: ['rna']\n"
     ]
    },
    {
     "name": "stderr",
     "output_type": "stream",
     "text": [
      "/root/anaconda3/lib/python3.7/site-packages/torch/utils/data/dataloader.py:560: UserWarning: This DataLoader will create 64 worker processes in total. Our suggested max number of worker in current system is 32, which is smaller than what this DataLoader is going to create. Please be aware that excessive worker creation might get DataLoader running slow or even freeze, lower the worker number to avoid potential slowness/freeze if necessary.\n",
      "  cpuset_checked))\n"
     ]
    },
    {
     "name": "stdout",
     "output_type": "stream",
     "text": [
      "Epoch: 404/600, train loss: 789.568\n",
      "\n",
      "Inferring ...\n",
      "Subset: 0, modalities ['rna']: test size: 8569\n",
      "Processing subset 0: ['rna']\n"
     ]
    },
    {
     "name": "stderr",
     "output_type": "stream",
     "text": [
      "/root/anaconda3/lib/python3.7/site-packages/torch/utils/data/dataloader.py:560: UserWarning: This DataLoader will create 64 worker processes in total. Our suggested max number of worker in current system is 32, which is smaller than what this DataLoader is going to create. Please be aware that excessive worker creation might get DataLoader running slow or even freeze, lower the worker number to avoid potential slowness/freeze if necessary.\n",
      "  cpuset_checked))\n"
     ]
    },
    {
     "name": "stdout",
     "output_type": "stream",
     "text": [
      "Epoch: 405/600, train loss: 790.646\n",
      "\n",
      "Inferring ...\n",
      "Subset: 0, modalities ['rna']: test size: 8569\n",
      "Processing subset 0: ['rna']\n"
     ]
    },
    {
     "name": "stderr",
     "output_type": "stream",
     "text": [
      "/root/anaconda3/lib/python3.7/site-packages/torch/utils/data/dataloader.py:560: UserWarning: This DataLoader will create 64 worker processes in total. Our suggested max number of worker in current system is 32, which is smaller than what this DataLoader is going to create. Please be aware that excessive worker creation might get DataLoader running slow or even freeze, lower the worker number to avoid potential slowness/freeze if necessary.\n",
      "  cpuset_checked))\n"
     ]
    },
    {
     "name": "stdout",
     "output_type": "stream",
     "text": [
      "Epoch: 406/600, train loss: 792.445\n",
      "\n",
      "Inferring ...\n",
      "Subset: 0, modalities ['rna']: test size: 8569\n",
      "Processing subset 0: ['rna']\n"
     ]
    },
    {
     "name": "stderr",
     "output_type": "stream",
     "text": [
      "/root/anaconda3/lib/python3.7/site-packages/torch/utils/data/dataloader.py:560: UserWarning: This DataLoader will create 64 worker processes in total. Our suggested max number of worker in current system is 32, which is smaller than what this DataLoader is going to create. Please be aware that excessive worker creation might get DataLoader running slow or even freeze, lower the worker number to avoid potential slowness/freeze if necessary.\n",
      "  cpuset_checked))\n"
     ]
    },
    {
     "name": "stdout",
     "output_type": "stream",
     "text": [
      "Epoch: 407/600, train loss: 788.529\n",
      "\n",
      "Inferring ...\n",
      "Subset: 0, modalities ['rna']: test size: 8569\n",
      "Processing subset 0: ['rna']\n"
     ]
    },
    {
     "name": "stderr",
     "output_type": "stream",
     "text": [
      "/root/anaconda3/lib/python3.7/site-packages/torch/utils/data/dataloader.py:560: UserWarning: This DataLoader will create 64 worker processes in total. Our suggested max number of worker in current system is 32, which is smaller than what this DataLoader is going to create. Please be aware that excessive worker creation might get DataLoader running slow or even freeze, lower the worker number to avoid potential slowness/freeze if necessary.\n",
      "  cpuset_checked))\n"
     ]
    },
    {
     "name": "stdout",
     "output_type": "stream",
     "text": [
      "Epoch: 408/600, train loss: 787.269\n",
      "\n",
      "Inferring ...\n",
      "Subset: 0, modalities ['rna']: test size: 8569\n",
      "Processing subset 0: ['rna']\n"
     ]
    },
    {
     "name": "stderr",
     "output_type": "stream",
     "text": [
      "/root/anaconda3/lib/python3.7/site-packages/torch/utils/data/dataloader.py:560: UserWarning: This DataLoader will create 64 worker processes in total. Our suggested max number of worker in current system is 32, which is smaller than what this DataLoader is going to create. Please be aware that excessive worker creation might get DataLoader running slow or even freeze, lower the worker number to avoid potential slowness/freeze if necessary.\n",
      "  cpuset_checked))\n"
     ]
    },
    {
     "name": "stdout",
     "output_type": "stream",
     "text": [
      "Epoch: 409/600, train loss: 789.354\n",
      "\n",
      "Inferring ...\n",
      "Subset: 0, modalities ['rna']: test size: 8569\n",
      "Processing subset 0: ['rna']\n"
     ]
    },
    {
     "name": "stderr",
     "output_type": "stream",
     "text": [
      "/root/anaconda3/lib/python3.7/site-packages/torch/utils/data/dataloader.py:560: UserWarning: This DataLoader will create 64 worker processes in total. Our suggested max number of worker in current system is 32, which is smaller than what this DataLoader is going to create. Please be aware that excessive worker creation might get DataLoader running slow or even freeze, lower the worker number to avoid potential slowness/freeze if necessary.\n",
      "  cpuset_checked))\n"
     ]
    },
    {
     "name": "stdout",
     "output_type": "stream",
     "text": [
      "Epoch: 410/600, train loss: 790.337\n",
      "\n",
      "Inferring ...\n",
      "Subset: 0, modalities ['rna']: test size: 8569\n",
      "Processing subset 0: ['rna']\n"
     ]
    },
    {
     "name": "stderr",
     "output_type": "stream",
     "text": [
      "/root/anaconda3/lib/python3.7/site-packages/torch/utils/data/dataloader.py:560: UserWarning: This DataLoader will create 64 worker processes in total. Our suggested max number of worker in current system is 32, which is smaller than what this DataLoader is going to create. Please be aware that excessive worker creation might get DataLoader running slow or even freeze, lower the worker number to avoid potential slowness/freeze if necessary.\n",
      "  cpuset_checked))\n"
     ]
    },
    {
     "name": "stdout",
     "output_type": "stream",
     "text": [
      "Epoch: 411/600, train loss: 786.350\n",
      "\n",
      "Inferring ...\n",
      "Subset: 0, modalities ['rna']: test size: 8569\n",
      "Processing subset 0: ['rna']\n"
     ]
    },
    {
     "name": "stderr",
     "output_type": "stream",
     "text": [
      "/root/anaconda3/lib/python3.7/site-packages/torch/utils/data/dataloader.py:560: UserWarning: This DataLoader will create 64 worker processes in total. Our suggested max number of worker in current system is 32, which is smaller than what this DataLoader is going to create. Please be aware that excessive worker creation might get DataLoader running slow or even freeze, lower the worker number to avoid potential slowness/freeze if necessary.\n",
      "  cpuset_checked))\n"
     ]
    },
    {
     "name": "stdout",
     "output_type": "stream",
     "text": [
      "Epoch: 412/600, train loss: 785.325\n",
      "\n",
      "Inferring ...\n",
      "Subset: 0, modalities ['rna']: test size: 8569\n",
      "Processing subset 0: ['rna']\n"
     ]
    },
    {
     "name": "stderr",
     "output_type": "stream",
     "text": [
      "/root/anaconda3/lib/python3.7/site-packages/torch/utils/data/dataloader.py:560: UserWarning: This DataLoader will create 64 worker processes in total. Our suggested max number of worker in current system is 32, which is smaller than what this DataLoader is going to create. Please be aware that excessive worker creation might get DataLoader running slow or even freeze, lower the worker number to avoid potential slowness/freeze if necessary.\n",
      "  cpuset_checked))\n"
     ]
    },
    {
     "name": "stdout",
     "output_type": "stream",
     "text": [
      "Epoch: 413/600, train loss: 784.547\n",
      "\n",
      "Inferring ...\n",
      "Subset: 0, modalities ['rna']: test size: 8569\n",
      "Processing subset 0: ['rna']\n"
     ]
    },
    {
     "name": "stderr",
     "output_type": "stream",
     "text": [
      "/root/anaconda3/lib/python3.7/site-packages/torch/utils/data/dataloader.py:560: UserWarning: This DataLoader will create 64 worker processes in total. Our suggested max number of worker in current system is 32, which is smaller than what this DataLoader is going to create. Please be aware that excessive worker creation might get DataLoader running slow or even freeze, lower the worker number to avoid potential slowness/freeze if necessary.\n",
      "  cpuset_checked))\n"
     ]
    },
    {
     "name": "stdout",
     "output_type": "stream",
     "text": [
      "Epoch: 414/600, train loss: 782.736\n",
      "\n",
      "Inferring ...\n",
      "Subset: 0, modalities ['rna']: test size: 8569\n",
      "Processing subset 0: ['rna']\n"
     ]
    },
    {
     "name": "stderr",
     "output_type": "stream",
     "text": [
      "/root/anaconda3/lib/python3.7/site-packages/torch/utils/data/dataloader.py:560: UserWarning: This DataLoader will create 64 worker processes in total. Our suggested max number of worker in current system is 32, which is smaller than what this DataLoader is going to create. Please be aware that excessive worker creation might get DataLoader running slow or even freeze, lower the worker number to avoid potential slowness/freeze if necessary.\n",
      "  cpuset_checked))\n"
     ]
    },
    {
     "name": "stdout",
     "output_type": "stream",
     "text": [
      "Epoch: 415/600, train loss: 782.822\n",
      "\n",
      "Inferring ...\n",
      "Subset: 0, modalities ['rna']: test size: 8569\n",
      "Processing subset 0: ['rna']\n"
     ]
    },
    {
     "name": "stderr",
     "output_type": "stream",
     "text": [
      "/root/anaconda3/lib/python3.7/site-packages/torch/utils/data/dataloader.py:560: UserWarning: This DataLoader will create 64 worker processes in total. Our suggested max number of worker in current system is 32, which is smaller than what this DataLoader is going to create. Please be aware that excessive worker creation might get DataLoader running slow or even freeze, lower the worker number to avoid potential slowness/freeze if necessary.\n",
      "  cpuset_checked))\n"
     ]
    },
    {
     "name": "stdout",
     "output_type": "stream",
     "text": [
      "Epoch: 416/600, train loss: 780.860\n",
      "\n",
      "Inferring ...\n",
      "Subset: 0, modalities ['rna']: test size: 8569\n",
      "Processing subset 0: ['rna']\n"
     ]
    },
    {
     "name": "stderr",
     "output_type": "stream",
     "text": [
      "/root/anaconda3/lib/python3.7/site-packages/torch/utils/data/dataloader.py:560: UserWarning: This DataLoader will create 64 worker processes in total. Our suggested max number of worker in current system is 32, which is smaller than what this DataLoader is going to create. Please be aware that excessive worker creation might get DataLoader running slow or even freeze, lower the worker number to avoid potential slowness/freeze if necessary.\n",
      "  cpuset_checked))\n"
     ]
    },
    {
     "name": "stdout",
     "output_type": "stream",
     "text": [
      "Epoch: 417/600, train loss: 780.515\n",
      "\n",
      "Inferring ...\n",
      "Subset: 0, modalities ['rna']: test size: 8569\n",
      "Processing subset 0: ['rna']\n"
     ]
    },
    {
     "name": "stderr",
     "output_type": "stream",
     "text": [
      "/root/anaconda3/lib/python3.7/site-packages/torch/utils/data/dataloader.py:560: UserWarning: This DataLoader will create 64 worker processes in total. Our suggested max number of worker in current system is 32, which is smaller than what this DataLoader is going to create. Please be aware that excessive worker creation might get DataLoader running slow or even freeze, lower the worker number to avoid potential slowness/freeze if necessary.\n",
      "  cpuset_checked))\n"
     ]
    },
    {
     "name": "stdout",
     "output_type": "stream",
     "text": [
      "Epoch: 418/600, train loss: 777.914\n",
      "\n",
      "Inferring ...\n",
      "Subset: 0, modalities ['rna']: test size: 8569\n",
      "Processing subset 0: ['rna']\n"
     ]
    },
    {
     "name": "stderr",
     "output_type": "stream",
     "text": [
      "/root/anaconda3/lib/python3.7/site-packages/torch/utils/data/dataloader.py:560: UserWarning: This DataLoader will create 64 worker processes in total. Our suggested max number of worker in current system is 32, which is smaller than what this DataLoader is going to create. Please be aware that excessive worker creation might get DataLoader running slow or even freeze, lower the worker number to avoid potential slowness/freeze if necessary.\n",
      "  cpuset_checked))\n"
     ]
    },
    {
     "name": "stdout",
     "output_type": "stream",
     "text": [
      "Epoch: 419/600, train loss: 776.552\n",
      "\n",
      "Inferring ...\n",
      "Subset: 0, modalities ['rna']: test size: 8569\n",
      "Processing subset 0: ['rna']\n"
     ]
    },
    {
     "name": "stderr",
     "output_type": "stream",
     "text": [
      "/root/anaconda3/lib/python3.7/site-packages/torch/utils/data/dataloader.py:560: UserWarning: This DataLoader will create 64 worker processes in total. Our suggested max number of worker in current system is 32, which is smaller than what this DataLoader is going to create. Please be aware that excessive worker creation might get DataLoader running slow or even freeze, lower the worker number to avoid potential slowness/freeze if necessary.\n",
      "  cpuset_checked))\n"
     ]
    },
    {
     "name": "stdout",
     "output_type": "stream",
     "text": [
      "Epoch: 420/600, train loss: 778.657\n",
      "\n",
      "Inferring ...\n",
      "Subset: 0, modalities ['rna']: test size: 8569\n",
      "Processing subset 0: ['rna']\n"
     ]
    },
    {
     "name": "stderr",
     "output_type": "stream",
     "text": [
      "/root/anaconda3/lib/python3.7/site-packages/torch/utils/data/dataloader.py:560: UserWarning: This DataLoader will create 64 worker processes in total. Our suggested max number of worker in current system is 32, which is smaller than what this DataLoader is going to create. Please be aware that excessive worker creation might get DataLoader running slow or even freeze, lower the worker number to avoid potential slowness/freeze if necessary.\n",
      "  cpuset_checked))\n"
     ]
    },
    {
     "name": "stdout",
     "output_type": "stream",
     "text": [
      "Epoch: 421/600, train loss: 773.462\n",
      "\n",
      "Inferring ...\n",
      "Subset: 0, modalities ['rna']: test size: 8569\n",
      "Processing subset 0: ['rna']\n"
     ]
    },
    {
     "name": "stderr",
     "output_type": "stream",
     "text": [
      "/root/anaconda3/lib/python3.7/site-packages/torch/utils/data/dataloader.py:560: UserWarning: This DataLoader will create 64 worker processes in total. Our suggested max number of worker in current system is 32, which is smaller than what this DataLoader is going to create. Please be aware that excessive worker creation might get DataLoader running slow or even freeze, lower the worker number to avoid potential slowness/freeze if necessary.\n",
      "  cpuset_checked))\n"
     ]
    },
    {
     "name": "stdout",
     "output_type": "stream",
     "text": [
      "Epoch: 422/600, train loss: 773.946\n",
      "\n",
      "Inferring ...\n",
      "Subset: 0, modalities ['rna']: test size: 8569\n",
      "Processing subset 0: ['rna']\n"
     ]
    },
    {
     "name": "stderr",
     "output_type": "stream",
     "text": [
      "/root/anaconda3/lib/python3.7/site-packages/torch/utils/data/dataloader.py:560: UserWarning: This DataLoader will create 64 worker processes in total. Our suggested max number of worker in current system is 32, which is smaller than what this DataLoader is going to create. Please be aware that excessive worker creation might get DataLoader running slow or even freeze, lower the worker number to avoid potential slowness/freeze if necessary.\n",
      "  cpuset_checked))\n"
     ]
    },
    {
     "name": "stdout",
     "output_type": "stream",
     "text": [
      "Epoch: 423/600, train loss: 769.521\n",
      "\n",
      "Inferring ...\n",
      "Subset: 0, modalities ['rna']: test size: 8569\n",
      "Processing subset 0: ['rna']\n"
     ]
    },
    {
     "name": "stderr",
     "output_type": "stream",
     "text": [
      "/root/anaconda3/lib/python3.7/site-packages/torch/utils/data/dataloader.py:560: UserWarning: This DataLoader will create 64 worker processes in total. Our suggested max number of worker in current system is 32, which is smaller than what this DataLoader is going to create. Please be aware that excessive worker creation might get DataLoader running slow or even freeze, lower the worker number to avoid potential slowness/freeze if necessary.\n",
      "  cpuset_checked))\n"
     ]
    },
    {
     "name": "stdout",
     "output_type": "stream",
     "text": [
      "Epoch: 424/600, train loss: 771.530\n",
      "\n",
      "Inferring ...\n",
      "Subset: 0, modalities ['rna']: test size: 8569\n",
      "Processing subset 0: ['rna']\n"
     ]
    },
    {
     "name": "stderr",
     "output_type": "stream",
     "text": [
      "/root/anaconda3/lib/python3.7/site-packages/torch/utils/data/dataloader.py:560: UserWarning: This DataLoader will create 64 worker processes in total. Our suggested max number of worker in current system is 32, which is smaller than what this DataLoader is going to create. Please be aware that excessive worker creation might get DataLoader running slow or even freeze, lower the worker number to avoid potential slowness/freeze if necessary.\n",
      "  cpuset_checked))\n"
     ]
    },
    {
     "name": "stdout",
     "output_type": "stream",
     "text": [
      "Epoch: 425/600, train loss: 770.821\n",
      "\n",
      "Inferring ...\n",
      "Subset: 0, modalities ['rna']: test size: 8569\n",
      "Processing subset 0: ['rna']\n"
     ]
    },
    {
     "name": "stderr",
     "output_type": "stream",
     "text": [
      "/root/anaconda3/lib/python3.7/site-packages/torch/utils/data/dataloader.py:560: UserWarning: This DataLoader will create 64 worker processes in total. Our suggested max number of worker in current system is 32, which is smaller than what this DataLoader is going to create. Please be aware that excessive worker creation might get DataLoader running slow or even freeze, lower the worker number to avoid potential slowness/freeze if necessary.\n",
      "  cpuset_checked))\n"
     ]
    },
    {
     "name": "stdout",
     "output_type": "stream",
     "text": [
      "Epoch: 426/600, train loss: 766.236\n",
      "\n",
      "Inferring ...\n",
      "Subset: 0, modalities ['rna']: test size: 8569\n",
      "Processing subset 0: ['rna']\n"
     ]
    },
    {
     "name": "stderr",
     "output_type": "stream",
     "text": [
      "/root/anaconda3/lib/python3.7/site-packages/torch/utils/data/dataloader.py:560: UserWarning: This DataLoader will create 64 worker processes in total. Our suggested max number of worker in current system is 32, which is smaller than what this DataLoader is going to create. Please be aware that excessive worker creation might get DataLoader running slow or even freeze, lower the worker number to avoid potential slowness/freeze if necessary.\n",
      "  cpuset_checked))\n"
     ]
    },
    {
     "name": "stdout",
     "output_type": "stream",
     "text": [
      "Epoch: 427/600, train loss: 770.683\n",
      "\n",
      "Inferring ...\n",
      "Subset: 0, modalities ['rna']: test size: 8569\n",
      "Processing subset 0: ['rna']\n"
     ]
    },
    {
     "name": "stderr",
     "output_type": "stream",
     "text": [
      "/root/anaconda3/lib/python3.7/site-packages/torch/utils/data/dataloader.py:560: UserWarning: This DataLoader will create 64 worker processes in total. Our suggested max number of worker in current system is 32, which is smaller than what this DataLoader is going to create. Please be aware that excessive worker creation might get DataLoader running slow or even freeze, lower the worker number to avoid potential slowness/freeze if necessary.\n",
      "  cpuset_checked))\n"
     ]
    },
    {
     "name": "stdout",
     "output_type": "stream",
     "text": [
      "Epoch: 428/600, train loss: 766.285\n",
      "\n",
      "Inferring ...\n",
      "Subset: 0, modalities ['rna']: test size: 8569\n",
      "Processing subset 0: ['rna']\n"
     ]
    },
    {
     "name": "stderr",
     "output_type": "stream",
     "text": [
      "/root/anaconda3/lib/python3.7/site-packages/torch/utils/data/dataloader.py:560: UserWarning: This DataLoader will create 64 worker processes in total. Our suggested max number of worker in current system is 32, which is smaller than what this DataLoader is going to create. Please be aware that excessive worker creation might get DataLoader running slow or even freeze, lower the worker number to avoid potential slowness/freeze if necessary.\n",
      "  cpuset_checked))\n"
     ]
    },
    {
     "name": "stdout",
     "output_type": "stream",
     "text": [
      "Epoch: 429/600, train loss: 768.153\n",
      "\n",
      "Inferring ...\n",
      "Subset: 0, modalities ['rna']: test size: 8569\n",
      "Processing subset 0: ['rna']\n"
     ]
    },
    {
     "name": "stderr",
     "output_type": "stream",
     "text": [
      "/root/anaconda3/lib/python3.7/site-packages/torch/utils/data/dataloader.py:560: UserWarning: This DataLoader will create 64 worker processes in total. Our suggested max number of worker in current system is 32, which is smaller than what this DataLoader is going to create. Please be aware that excessive worker creation might get DataLoader running slow or even freeze, lower the worker number to avoid potential slowness/freeze if necessary.\n",
      "  cpuset_checked))\n"
     ]
    },
    {
     "name": "stdout",
     "output_type": "stream",
     "text": [
      "Epoch: 430/600, train loss: 765.717\n",
      "\n",
      "Inferring ...\n",
      "Subset: 0, modalities ['rna']: test size: 8569\n",
      "Processing subset 0: ['rna']\n"
     ]
    },
    {
     "name": "stderr",
     "output_type": "stream",
     "text": [
      "/root/anaconda3/lib/python3.7/site-packages/torch/utils/data/dataloader.py:560: UserWarning: This DataLoader will create 64 worker processes in total. Our suggested max number of worker in current system is 32, which is smaller than what this DataLoader is going to create. Please be aware that excessive worker creation might get DataLoader running slow or even freeze, lower the worker number to avoid potential slowness/freeze if necessary.\n",
      "  cpuset_checked))\n"
     ]
    },
    {
     "name": "stdout",
     "output_type": "stream",
     "text": [
      "Epoch: 431/600, train loss: 762.498\n",
      "\n",
      "Inferring ...\n",
      "Subset: 0, modalities ['rna']: test size: 8569\n",
      "Processing subset 0: ['rna']\n"
     ]
    },
    {
     "name": "stderr",
     "output_type": "stream",
     "text": [
      "/root/anaconda3/lib/python3.7/site-packages/torch/utils/data/dataloader.py:560: UserWarning: This DataLoader will create 64 worker processes in total. Our suggested max number of worker in current system is 32, which is smaller than what this DataLoader is going to create. Please be aware that excessive worker creation might get DataLoader running slow or even freeze, lower the worker number to avoid potential slowness/freeze if necessary.\n",
      "  cpuset_checked))\n"
     ]
    },
    {
     "name": "stdout",
     "output_type": "stream",
     "text": [
      "Epoch: 432/600, train loss: 764.861\n",
      "\n",
      "Inferring ...\n",
      "Subset: 0, modalities ['rna']: test size: 8569\n",
      "Processing subset 0: ['rna']\n"
     ]
    },
    {
     "name": "stderr",
     "output_type": "stream",
     "text": [
      "/root/anaconda3/lib/python3.7/site-packages/torch/utils/data/dataloader.py:560: UserWarning: This DataLoader will create 64 worker processes in total. Our suggested max number of worker in current system is 32, which is smaller than what this DataLoader is going to create. Please be aware that excessive worker creation might get DataLoader running slow or even freeze, lower the worker number to avoid potential slowness/freeze if necessary.\n",
      "  cpuset_checked))\n"
     ]
    },
    {
     "name": "stdout",
     "output_type": "stream",
     "text": [
      "Epoch: 433/600, train loss: 763.379\n",
      "\n",
      "Inferring ...\n",
      "Subset: 0, modalities ['rna']: test size: 8569\n",
      "Processing subset 0: ['rna']\n"
     ]
    },
    {
     "name": "stderr",
     "output_type": "stream",
     "text": [
      "/root/anaconda3/lib/python3.7/site-packages/torch/utils/data/dataloader.py:560: UserWarning: This DataLoader will create 64 worker processes in total. Our suggested max number of worker in current system is 32, which is smaller than what this DataLoader is going to create. Please be aware that excessive worker creation might get DataLoader running slow or even freeze, lower the worker number to avoid potential slowness/freeze if necessary.\n",
      "  cpuset_checked))\n"
     ]
    },
    {
     "name": "stdout",
     "output_type": "stream",
     "text": [
      "Epoch: 434/600, train loss: 761.618\n",
      "\n",
      "Inferring ...\n",
      "Subset: 0, modalities ['rna']: test size: 8569\n",
      "Processing subset 0: ['rna']\n"
     ]
    },
    {
     "name": "stderr",
     "output_type": "stream",
     "text": [
      "/root/anaconda3/lib/python3.7/site-packages/torch/utils/data/dataloader.py:560: UserWarning: This DataLoader will create 64 worker processes in total. Our suggested max number of worker in current system is 32, which is smaller than what this DataLoader is going to create. Please be aware that excessive worker creation might get DataLoader running slow or even freeze, lower the worker number to avoid potential slowness/freeze if necessary.\n",
      "  cpuset_checked))\n"
     ]
    },
    {
     "name": "stdout",
     "output_type": "stream",
     "text": [
      "Epoch: 435/600, train loss: 762.908\n",
      "\n",
      "Inferring ...\n",
      "Subset: 0, modalities ['rna']: test size: 8569\n",
      "Processing subset 0: ['rna']\n"
     ]
    },
    {
     "name": "stderr",
     "output_type": "stream",
     "text": [
      "/root/anaconda3/lib/python3.7/site-packages/torch/utils/data/dataloader.py:560: UserWarning: This DataLoader will create 64 worker processes in total. Our suggested max number of worker in current system is 32, which is smaller than what this DataLoader is going to create. Please be aware that excessive worker creation might get DataLoader running slow or even freeze, lower the worker number to avoid potential slowness/freeze if necessary.\n",
      "  cpuset_checked))\n"
     ]
    },
    {
     "name": "stdout",
     "output_type": "stream",
     "text": [
      "Epoch: 436/600, train loss: 759.813\n",
      "\n",
      "Inferring ...\n",
      "Subset: 0, modalities ['rna']: test size: 8569\n",
      "Processing subset 0: ['rna']\n"
     ]
    },
    {
     "name": "stderr",
     "output_type": "stream",
     "text": [
      "/root/anaconda3/lib/python3.7/site-packages/torch/utils/data/dataloader.py:560: UserWarning: This DataLoader will create 64 worker processes in total. Our suggested max number of worker in current system is 32, which is smaller than what this DataLoader is going to create. Please be aware that excessive worker creation might get DataLoader running slow or even freeze, lower the worker number to avoid potential slowness/freeze if necessary.\n",
      "  cpuset_checked))\n"
     ]
    },
    {
     "name": "stdout",
     "output_type": "stream",
     "text": [
      "Epoch: 437/600, train loss: 758.651\n",
      "\n",
      "Inferring ...\n",
      "Subset: 0, modalities ['rna']: test size: 8569\n",
      "Processing subset 0: ['rna']\n"
     ]
    },
    {
     "name": "stderr",
     "output_type": "stream",
     "text": [
      "/root/anaconda3/lib/python3.7/site-packages/torch/utils/data/dataloader.py:560: UserWarning: This DataLoader will create 64 worker processes in total. Our suggested max number of worker in current system is 32, which is smaller than what this DataLoader is going to create. Please be aware that excessive worker creation might get DataLoader running slow or even freeze, lower the worker number to avoid potential slowness/freeze if necessary.\n",
      "  cpuset_checked))\n"
     ]
    },
    {
     "name": "stdout",
     "output_type": "stream",
     "text": [
      "Epoch: 438/600, train loss: 758.339\n",
      "\n",
      "Inferring ...\n",
      "Subset: 0, modalities ['rna']: test size: 8569\n",
      "Processing subset 0: ['rna']\n"
     ]
    },
    {
     "name": "stderr",
     "output_type": "stream",
     "text": [
      "/root/anaconda3/lib/python3.7/site-packages/torch/utils/data/dataloader.py:560: UserWarning: This DataLoader will create 64 worker processes in total. Our suggested max number of worker in current system is 32, which is smaller than what this DataLoader is going to create. Please be aware that excessive worker creation might get DataLoader running slow or even freeze, lower the worker number to avoid potential slowness/freeze if necessary.\n",
      "  cpuset_checked))\n"
     ]
    },
    {
     "name": "stdout",
     "output_type": "stream",
     "text": [
      "Epoch: 439/600, train loss: 757.464\n",
      "\n",
      "Inferring ...\n",
      "Subset: 0, modalities ['rna']: test size: 8569\n",
      "Processing subset 0: ['rna']\n"
     ]
    },
    {
     "name": "stderr",
     "output_type": "stream",
     "text": [
      "/root/anaconda3/lib/python3.7/site-packages/torch/utils/data/dataloader.py:560: UserWarning: This DataLoader will create 64 worker processes in total. Our suggested max number of worker in current system is 32, which is smaller than what this DataLoader is going to create. Please be aware that excessive worker creation might get DataLoader running slow or even freeze, lower the worker number to avoid potential slowness/freeze if necessary.\n",
      "  cpuset_checked))\n"
     ]
    },
    {
     "name": "stdout",
     "output_type": "stream",
     "text": [
      "Epoch: 440/600, train loss: 755.625\n",
      "\n",
      "Inferring ...\n",
      "Subset: 0, modalities ['rna']: test size: 8569\n",
      "Processing subset 0: ['rna']\n"
     ]
    },
    {
     "name": "stderr",
     "output_type": "stream",
     "text": [
      "/root/anaconda3/lib/python3.7/site-packages/torch/utils/data/dataloader.py:560: UserWarning: This DataLoader will create 64 worker processes in total. Our suggested max number of worker in current system is 32, which is smaller than what this DataLoader is going to create. Please be aware that excessive worker creation might get DataLoader running slow or even freeze, lower the worker number to avoid potential slowness/freeze if necessary.\n",
      "  cpuset_checked))\n"
     ]
    },
    {
     "name": "stdout",
     "output_type": "stream",
     "text": [
      "Epoch: 441/600, train loss: 753.804\n",
      "\n",
      "Inferring ...\n",
      "Subset: 0, modalities ['rna']: test size: 8569\n",
      "Processing subset 0: ['rna']\n"
     ]
    },
    {
     "name": "stderr",
     "output_type": "stream",
     "text": [
      "/root/anaconda3/lib/python3.7/site-packages/torch/utils/data/dataloader.py:560: UserWarning: This DataLoader will create 64 worker processes in total. Our suggested max number of worker in current system is 32, which is smaller than what this DataLoader is going to create. Please be aware that excessive worker creation might get DataLoader running slow or even freeze, lower the worker number to avoid potential slowness/freeze if necessary.\n",
      "  cpuset_checked))\n"
     ]
    },
    {
     "name": "stdout",
     "output_type": "stream",
     "text": [
      "Epoch: 442/600, train loss: 753.983\n",
      "\n",
      "Inferring ...\n",
      "Subset: 0, modalities ['rna']: test size: 8569\n",
      "Processing subset 0: ['rna']\n"
     ]
    },
    {
     "name": "stderr",
     "output_type": "stream",
     "text": [
      "/root/anaconda3/lib/python3.7/site-packages/torch/utils/data/dataloader.py:560: UserWarning: This DataLoader will create 64 worker processes in total. Our suggested max number of worker in current system is 32, which is smaller than what this DataLoader is going to create. Please be aware that excessive worker creation might get DataLoader running slow or even freeze, lower the worker number to avoid potential slowness/freeze if necessary.\n",
      "  cpuset_checked))\n"
     ]
    },
    {
     "name": "stdout",
     "output_type": "stream",
     "text": [
      "Epoch: 443/600, train loss: 753.243\n",
      "\n",
      "Inferring ...\n",
      "Subset: 0, modalities ['rna']: test size: 8569\n",
      "Processing subset 0: ['rna']\n"
     ]
    },
    {
     "name": "stderr",
     "output_type": "stream",
     "text": [
      "/root/anaconda3/lib/python3.7/site-packages/torch/utils/data/dataloader.py:560: UserWarning: This DataLoader will create 64 worker processes in total. Our suggested max number of worker in current system is 32, which is smaller than what this DataLoader is going to create. Please be aware that excessive worker creation might get DataLoader running slow or even freeze, lower the worker number to avoid potential slowness/freeze if necessary.\n",
      "  cpuset_checked))\n"
     ]
    },
    {
     "name": "stdout",
     "output_type": "stream",
     "text": [
      "Epoch: 444/600, train loss: 753.443\n",
      "\n",
      "Inferring ...\n",
      "Subset: 0, modalities ['rna']: test size: 8569\n",
      "Processing subset 0: ['rna']\n"
     ]
    },
    {
     "name": "stderr",
     "output_type": "stream",
     "text": [
      "/root/anaconda3/lib/python3.7/site-packages/torch/utils/data/dataloader.py:560: UserWarning: This DataLoader will create 64 worker processes in total. Our suggested max number of worker in current system is 32, which is smaller than what this DataLoader is going to create. Please be aware that excessive worker creation might get DataLoader running slow or even freeze, lower the worker number to avoid potential slowness/freeze if necessary.\n",
      "  cpuset_checked))\n"
     ]
    },
    {
     "name": "stdout",
     "output_type": "stream",
     "text": [
      "Epoch: 445/600, train loss: 750.160\n",
      "\n",
      "Inferring ...\n",
      "Subset: 0, modalities ['rna']: test size: 8569\n",
      "Processing subset 0: ['rna']\n"
     ]
    },
    {
     "name": "stderr",
     "output_type": "stream",
     "text": [
      "/root/anaconda3/lib/python3.7/site-packages/torch/utils/data/dataloader.py:560: UserWarning: This DataLoader will create 64 worker processes in total. Our suggested max number of worker in current system is 32, which is smaller than what this DataLoader is going to create. Please be aware that excessive worker creation might get DataLoader running slow or even freeze, lower the worker number to avoid potential slowness/freeze if necessary.\n",
      "  cpuset_checked))\n"
     ]
    },
    {
     "name": "stdout",
     "output_type": "stream",
     "text": [
      "Epoch: 446/600, train loss: 748.060\n",
      "\n",
      "Inferring ...\n",
      "Subset: 0, modalities ['rna']: test size: 8569\n",
      "Processing subset 0: ['rna']\n"
     ]
    },
    {
     "name": "stderr",
     "output_type": "stream",
     "text": [
      "/root/anaconda3/lib/python3.7/site-packages/torch/utils/data/dataloader.py:560: UserWarning: This DataLoader will create 64 worker processes in total. Our suggested max number of worker in current system is 32, which is smaller than what this DataLoader is going to create. Please be aware that excessive worker creation might get DataLoader running slow or even freeze, lower the worker number to avoid potential slowness/freeze if necessary.\n",
      "  cpuset_checked))\n"
     ]
    },
    {
     "name": "stdout",
     "output_type": "stream",
     "text": [
      "Epoch: 447/600, train loss: 747.879\n",
      "\n",
      "Inferring ...\n",
      "Subset: 0, modalities ['rna']: test size: 8569\n",
      "Processing subset 0: ['rna']\n"
     ]
    },
    {
     "name": "stderr",
     "output_type": "stream",
     "text": [
      "/root/anaconda3/lib/python3.7/site-packages/torch/utils/data/dataloader.py:560: UserWarning: This DataLoader will create 64 worker processes in total. Our suggested max number of worker in current system is 32, which is smaller than what this DataLoader is going to create. Please be aware that excessive worker creation might get DataLoader running slow or even freeze, lower the worker number to avoid potential slowness/freeze if necessary.\n",
      "  cpuset_checked))\n"
     ]
    },
    {
     "name": "stdout",
     "output_type": "stream",
     "text": [
      "Epoch: 448/600, train loss: 747.843\n",
      "\n",
      "Inferring ...\n",
      "Subset: 0, modalities ['rna']: test size: 8569\n",
      "Processing subset 0: ['rna']\n"
     ]
    },
    {
     "name": "stderr",
     "output_type": "stream",
     "text": [
      "/root/anaconda3/lib/python3.7/site-packages/torch/utils/data/dataloader.py:560: UserWarning: This DataLoader will create 64 worker processes in total. Our suggested max number of worker in current system is 32, which is smaller than what this DataLoader is going to create. Please be aware that excessive worker creation might get DataLoader running slow or even freeze, lower the worker number to avoid potential slowness/freeze if necessary.\n",
      "  cpuset_checked))\n"
     ]
    },
    {
     "name": "stdout",
     "output_type": "stream",
     "text": [
      "Epoch: 449/600, train loss: 747.106\n",
      "\n",
      "Inferring ...\n",
      "Subset: 0, modalities ['rna']: test size: 8569\n",
      "Processing subset 0: ['rna']\n"
     ]
    },
    {
     "name": "stderr",
     "output_type": "stream",
     "text": [
      "/root/anaconda3/lib/python3.7/site-packages/torch/utils/data/dataloader.py:560: UserWarning: This DataLoader will create 64 worker processes in total. Our suggested max number of worker in current system is 32, which is smaller than what this DataLoader is going to create. Please be aware that excessive worker creation might get DataLoader running slow or even freeze, lower the worker number to avoid potential slowness/freeze if necessary.\n",
      "  cpuset_checked))\n"
     ]
    },
    {
     "name": "stdout",
     "output_type": "stream",
     "text": [
      "Epoch: 450/600, train loss: 746.709\n",
      "\n",
      "Inferring ...\n",
      "Subset: 0, modalities ['rna']: test size: 8569\n",
      "Processing subset 0: ['rna']\n"
     ]
    },
    {
     "name": "stderr",
     "output_type": "stream",
     "text": [
      "/root/anaconda3/lib/python3.7/site-packages/torch/utils/data/dataloader.py:560: UserWarning: This DataLoader will create 64 worker processes in total. Our suggested max number of worker in current system is 32, which is smaller than what this DataLoader is going to create. Please be aware that excessive worker creation might get DataLoader running slow or even freeze, lower the worker number to avoid potential slowness/freeze if necessary.\n",
      "  cpuset_checked))\n"
     ]
    },
    {
     "name": "stdout",
     "output_type": "stream",
     "text": [
      "Epoch: 451/600, train loss: 746.684\n",
      "\n",
      "Inferring ...\n",
      "Subset: 0, modalities ['rna']: test size: 8569\n",
      "Processing subset 0: ['rna']\n"
     ]
    },
    {
     "name": "stderr",
     "output_type": "stream",
     "text": [
      "/root/anaconda3/lib/python3.7/site-packages/torch/utils/data/dataloader.py:560: UserWarning: This DataLoader will create 64 worker processes in total. Our suggested max number of worker in current system is 32, which is smaller than what this DataLoader is going to create. Please be aware that excessive worker creation might get DataLoader running slow or even freeze, lower the worker number to avoid potential slowness/freeze if necessary.\n",
      "  cpuset_checked))\n"
     ]
    },
    {
     "name": "stdout",
     "output_type": "stream",
     "text": [
      "Epoch: 452/600, train loss: 746.276\n",
      "\n",
      "Inferring ...\n",
      "Subset: 0, modalities ['rna']: test size: 8569\n",
      "Processing subset 0: ['rna']\n"
     ]
    },
    {
     "name": "stderr",
     "output_type": "stream",
     "text": [
      "/root/anaconda3/lib/python3.7/site-packages/torch/utils/data/dataloader.py:560: UserWarning: This DataLoader will create 64 worker processes in total. Our suggested max number of worker in current system is 32, which is smaller than what this DataLoader is going to create. Please be aware that excessive worker creation might get DataLoader running slow or even freeze, lower the worker number to avoid potential slowness/freeze if necessary.\n",
      "  cpuset_checked))\n"
     ]
    },
    {
     "name": "stdout",
     "output_type": "stream",
     "text": [
      "Epoch: 453/600, train loss: 741.831\n",
      "\n",
      "Inferring ...\n",
      "Subset: 0, modalities ['rna']: test size: 8569\n",
      "Processing subset 0: ['rna']\n"
     ]
    },
    {
     "name": "stderr",
     "output_type": "stream",
     "text": [
      "/root/anaconda3/lib/python3.7/site-packages/torch/utils/data/dataloader.py:560: UserWarning: This DataLoader will create 64 worker processes in total. Our suggested max number of worker in current system is 32, which is smaller than what this DataLoader is going to create. Please be aware that excessive worker creation might get DataLoader running slow or even freeze, lower the worker number to avoid potential slowness/freeze if necessary.\n",
      "  cpuset_checked))\n"
     ]
    },
    {
     "name": "stdout",
     "output_type": "stream",
     "text": [
      "Epoch: 454/600, train loss: 741.331\n",
      "\n",
      "Inferring ...\n",
      "Subset: 0, modalities ['rna']: test size: 8569\n",
      "Processing subset 0: ['rna']\n"
     ]
    },
    {
     "name": "stderr",
     "output_type": "stream",
     "text": [
      "/root/anaconda3/lib/python3.7/site-packages/torch/utils/data/dataloader.py:560: UserWarning: This DataLoader will create 64 worker processes in total. Our suggested max number of worker in current system is 32, which is smaller than what this DataLoader is going to create. Please be aware that excessive worker creation might get DataLoader running slow or even freeze, lower the worker number to avoid potential slowness/freeze if necessary.\n",
      "  cpuset_checked))\n"
     ]
    },
    {
     "name": "stdout",
     "output_type": "stream",
     "text": [
      "Epoch: 455/600, train loss: 741.220\n",
      "\n",
      "Inferring ...\n",
      "Subset: 0, modalities ['rna']: test size: 8569\n",
      "Processing subset 0: ['rna']\n"
     ]
    },
    {
     "name": "stderr",
     "output_type": "stream",
     "text": [
      "/root/anaconda3/lib/python3.7/site-packages/torch/utils/data/dataloader.py:560: UserWarning: This DataLoader will create 64 worker processes in total. Our suggested max number of worker in current system is 32, which is smaller than what this DataLoader is going to create. Please be aware that excessive worker creation might get DataLoader running slow or even freeze, lower the worker number to avoid potential slowness/freeze if necessary.\n",
      "  cpuset_checked))\n"
     ]
    },
    {
     "name": "stdout",
     "output_type": "stream",
     "text": [
      "Epoch: 456/600, train loss: 743.061\n",
      "\n",
      "Inferring ...\n",
      "Subset: 0, modalities ['rna']: test size: 8569\n",
      "Processing subset 0: ['rna']\n"
     ]
    },
    {
     "name": "stderr",
     "output_type": "stream",
     "text": [
      "/root/anaconda3/lib/python3.7/site-packages/torch/utils/data/dataloader.py:560: UserWarning: This DataLoader will create 64 worker processes in total. Our suggested max number of worker in current system is 32, which is smaller than what this DataLoader is going to create. Please be aware that excessive worker creation might get DataLoader running slow or even freeze, lower the worker number to avoid potential slowness/freeze if necessary.\n",
      "  cpuset_checked))\n"
     ]
    },
    {
     "name": "stdout",
     "output_type": "stream",
     "text": [
      "Epoch: 457/600, train loss: 743.839\n",
      "\n",
      "Inferring ...\n",
      "Subset: 0, modalities ['rna']: test size: 8569\n",
      "Processing subset 0: ['rna']\n"
     ]
    },
    {
     "name": "stderr",
     "output_type": "stream",
     "text": [
      "/root/anaconda3/lib/python3.7/site-packages/torch/utils/data/dataloader.py:560: UserWarning: This DataLoader will create 64 worker processes in total. Our suggested max number of worker in current system is 32, which is smaller than what this DataLoader is going to create. Please be aware that excessive worker creation might get DataLoader running slow or even freeze, lower the worker number to avoid potential slowness/freeze if necessary.\n",
      "  cpuset_checked))\n"
     ]
    },
    {
     "name": "stdout",
     "output_type": "stream",
     "text": [
      "Epoch: 458/600, train loss: 739.679\n",
      "\n",
      "Inferring ...\n",
      "Subset: 0, modalities ['rna']: test size: 8569\n",
      "Processing subset 0: ['rna']\n"
     ]
    },
    {
     "name": "stderr",
     "output_type": "stream",
     "text": [
      "/root/anaconda3/lib/python3.7/site-packages/torch/utils/data/dataloader.py:560: UserWarning: This DataLoader will create 64 worker processes in total. Our suggested max number of worker in current system is 32, which is smaller than what this DataLoader is going to create. Please be aware that excessive worker creation might get DataLoader running slow or even freeze, lower the worker number to avoid potential slowness/freeze if necessary.\n",
      "  cpuset_checked))\n"
     ]
    },
    {
     "name": "stdout",
     "output_type": "stream",
     "text": [
      "Epoch: 459/600, train loss: 736.650\n",
      "\n",
      "Inferring ...\n",
      "Subset: 0, modalities ['rna']: test size: 8569\n",
      "Processing subset 0: ['rna']\n"
     ]
    },
    {
     "name": "stderr",
     "output_type": "stream",
     "text": [
      "/root/anaconda3/lib/python3.7/site-packages/torch/utils/data/dataloader.py:560: UserWarning: This DataLoader will create 64 worker processes in total. Our suggested max number of worker in current system is 32, which is smaller than what this DataLoader is going to create. Please be aware that excessive worker creation might get DataLoader running slow or even freeze, lower the worker number to avoid potential slowness/freeze if necessary.\n",
      "  cpuset_checked))\n"
     ]
    },
    {
     "name": "stdout",
     "output_type": "stream",
     "text": [
      "Epoch: 460/600, train loss: 738.256\n",
      "\n",
      "Inferring ...\n",
      "Subset: 0, modalities ['rna']: test size: 8569\n",
      "Processing subset 0: ['rna']\n"
     ]
    },
    {
     "name": "stderr",
     "output_type": "stream",
     "text": [
      "/root/anaconda3/lib/python3.7/site-packages/torch/utils/data/dataloader.py:560: UserWarning: This DataLoader will create 64 worker processes in total. Our suggested max number of worker in current system is 32, which is smaller than what this DataLoader is going to create. Please be aware that excessive worker creation might get DataLoader running slow or even freeze, lower the worker number to avoid potential slowness/freeze if necessary.\n",
      "  cpuset_checked))\n"
     ]
    },
    {
     "name": "stdout",
     "output_type": "stream",
     "text": [
      "Epoch: 461/600, train loss: 736.204\n",
      "\n",
      "Inferring ...\n",
      "Subset: 0, modalities ['rna']: test size: 8569\n",
      "Processing subset 0: ['rna']\n"
     ]
    },
    {
     "name": "stderr",
     "output_type": "stream",
     "text": [
      "/root/anaconda3/lib/python3.7/site-packages/torch/utils/data/dataloader.py:560: UserWarning: This DataLoader will create 64 worker processes in total. Our suggested max number of worker in current system is 32, which is smaller than what this DataLoader is going to create. Please be aware that excessive worker creation might get DataLoader running slow or even freeze, lower the worker number to avoid potential slowness/freeze if necessary.\n",
      "  cpuset_checked))\n"
     ]
    },
    {
     "name": "stdout",
     "output_type": "stream",
     "text": [
      "Epoch: 462/600, train loss: 734.591\n",
      "\n",
      "Inferring ...\n",
      "Subset: 0, modalities ['rna']: test size: 8569\n",
      "Processing subset 0: ['rna']\n"
     ]
    },
    {
     "name": "stderr",
     "output_type": "stream",
     "text": [
      "/root/anaconda3/lib/python3.7/site-packages/torch/utils/data/dataloader.py:560: UserWarning: This DataLoader will create 64 worker processes in total. Our suggested max number of worker in current system is 32, which is smaller than what this DataLoader is going to create. Please be aware that excessive worker creation might get DataLoader running slow or even freeze, lower the worker number to avoid potential slowness/freeze if necessary.\n",
      "  cpuset_checked))\n"
     ]
    },
    {
     "name": "stdout",
     "output_type": "stream",
     "text": [
      "Epoch: 463/600, train loss: 730.832\n",
      "\n",
      "Inferring ...\n",
      "Subset: 0, modalities ['rna']: test size: 8569\n",
      "Processing subset 0: ['rna']\n"
     ]
    },
    {
     "name": "stderr",
     "output_type": "stream",
     "text": [
      "/root/anaconda3/lib/python3.7/site-packages/torch/utils/data/dataloader.py:560: UserWarning: This DataLoader will create 64 worker processes in total. Our suggested max number of worker in current system is 32, which is smaller than what this DataLoader is going to create. Please be aware that excessive worker creation might get DataLoader running slow or even freeze, lower the worker number to avoid potential slowness/freeze if necessary.\n",
      "  cpuset_checked))\n"
     ]
    },
    {
     "name": "stdout",
     "output_type": "stream",
     "text": [
      "Epoch: 464/600, train loss: 728.784\n",
      "\n",
      "Inferring ...\n",
      "Subset: 0, modalities ['rna']: test size: 8569\n",
      "Processing subset 0: ['rna']\n"
     ]
    },
    {
     "name": "stderr",
     "output_type": "stream",
     "text": [
      "/root/anaconda3/lib/python3.7/site-packages/torch/utils/data/dataloader.py:560: UserWarning: This DataLoader will create 64 worker processes in total. Our suggested max number of worker in current system is 32, which is smaller than what this DataLoader is going to create. Please be aware that excessive worker creation might get DataLoader running slow or even freeze, lower the worker number to avoid potential slowness/freeze if necessary.\n",
      "  cpuset_checked))\n"
     ]
    },
    {
     "name": "stdout",
     "output_type": "stream",
     "text": [
      "Epoch: 465/600, train loss: 729.094\n",
      "\n",
      "Inferring ...\n",
      "Subset: 0, modalities ['rna']: test size: 8569\n",
      "Processing subset 0: ['rna']\n"
     ]
    },
    {
     "name": "stderr",
     "output_type": "stream",
     "text": [
      "/root/anaconda3/lib/python3.7/site-packages/torch/utils/data/dataloader.py:560: UserWarning: This DataLoader will create 64 worker processes in total. Our suggested max number of worker in current system is 32, which is smaller than what this DataLoader is going to create. Please be aware that excessive worker creation might get DataLoader running slow or even freeze, lower the worker number to avoid potential slowness/freeze if necessary.\n",
      "  cpuset_checked))\n"
     ]
    },
    {
     "name": "stdout",
     "output_type": "stream",
     "text": [
      "Epoch: 466/600, train loss: 727.796\n",
      "\n",
      "Inferring ...\n",
      "Subset: 0, modalities ['rna']: test size: 8569\n",
      "Processing subset 0: ['rna']\n"
     ]
    },
    {
     "name": "stderr",
     "output_type": "stream",
     "text": [
      "/root/anaconda3/lib/python3.7/site-packages/torch/utils/data/dataloader.py:560: UserWarning: This DataLoader will create 64 worker processes in total. Our suggested max number of worker in current system is 32, which is smaller than what this DataLoader is going to create. Please be aware that excessive worker creation might get DataLoader running slow or even freeze, lower the worker number to avoid potential slowness/freeze if necessary.\n",
      "  cpuset_checked))\n"
     ]
    },
    {
     "name": "stdout",
     "output_type": "stream",
     "text": [
      "Epoch: 467/600, train loss: 728.703\n",
      "\n",
      "Inferring ...\n",
      "Subset: 0, modalities ['rna']: test size: 8569\n",
      "Processing subset 0: ['rna']\n"
     ]
    },
    {
     "name": "stderr",
     "output_type": "stream",
     "text": [
      "/root/anaconda3/lib/python3.7/site-packages/torch/utils/data/dataloader.py:560: UserWarning: This DataLoader will create 64 worker processes in total. Our suggested max number of worker in current system is 32, which is smaller than what this DataLoader is going to create. Please be aware that excessive worker creation might get DataLoader running slow or even freeze, lower the worker number to avoid potential slowness/freeze if necessary.\n",
      "  cpuset_checked))\n"
     ]
    },
    {
     "name": "stdout",
     "output_type": "stream",
     "text": [
      "Epoch: 468/600, train loss: 727.844\n",
      "\n",
      "Inferring ...\n",
      "Subset: 0, modalities ['rna']: test size: 8569\n",
      "Processing subset 0: ['rna']\n"
     ]
    },
    {
     "name": "stderr",
     "output_type": "stream",
     "text": [
      "/root/anaconda3/lib/python3.7/site-packages/torch/utils/data/dataloader.py:560: UserWarning: This DataLoader will create 64 worker processes in total. Our suggested max number of worker in current system is 32, which is smaller than what this DataLoader is going to create. Please be aware that excessive worker creation might get DataLoader running slow or even freeze, lower the worker number to avoid potential slowness/freeze if necessary.\n",
      "  cpuset_checked))\n"
     ]
    },
    {
     "name": "stdout",
     "output_type": "stream",
     "text": [
      "Epoch: 469/600, train loss: 725.772\n",
      "\n",
      "Inferring ...\n",
      "Subset: 0, modalities ['rna']: test size: 8569\n",
      "Processing subset 0: ['rna']\n"
     ]
    },
    {
     "name": "stderr",
     "output_type": "stream",
     "text": [
      "/root/anaconda3/lib/python3.7/site-packages/torch/utils/data/dataloader.py:560: UserWarning: This DataLoader will create 64 worker processes in total. Our suggested max number of worker in current system is 32, which is smaller than what this DataLoader is going to create. Please be aware that excessive worker creation might get DataLoader running slow or even freeze, lower the worker number to avoid potential slowness/freeze if necessary.\n",
      "  cpuset_checked))\n"
     ]
    },
    {
     "name": "stdout",
     "output_type": "stream",
     "text": [
      "Epoch: 470/600, train loss: 723.241\n",
      "\n",
      "Inferring ...\n",
      "Subset: 0, modalities ['rna']: test size: 8569\n",
      "Processing subset 0: ['rna']\n"
     ]
    },
    {
     "name": "stderr",
     "output_type": "stream",
     "text": [
      "/root/anaconda3/lib/python3.7/site-packages/torch/utils/data/dataloader.py:560: UserWarning: This DataLoader will create 64 worker processes in total. Our suggested max number of worker in current system is 32, which is smaller than what this DataLoader is going to create. Please be aware that excessive worker creation might get DataLoader running slow or even freeze, lower the worker number to avoid potential slowness/freeze if necessary.\n",
      "  cpuset_checked))\n"
     ]
    },
    {
     "name": "stdout",
     "output_type": "stream",
     "text": [
      "Epoch: 471/600, train loss: 724.947\n",
      "\n",
      "Inferring ...\n",
      "Subset: 0, modalities ['rna']: test size: 8569\n",
      "Processing subset 0: ['rna']\n"
     ]
    },
    {
     "name": "stderr",
     "output_type": "stream",
     "text": [
      "/root/anaconda3/lib/python3.7/site-packages/torch/utils/data/dataloader.py:560: UserWarning: This DataLoader will create 64 worker processes in total. Our suggested max number of worker in current system is 32, which is smaller than what this DataLoader is going to create. Please be aware that excessive worker creation might get DataLoader running slow or even freeze, lower the worker number to avoid potential slowness/freeze if necessary.\n",
      "  cpuset_checked))\n"
     ]
    },
    {
     "name": "stdout",
     "output_type": "stream",
     "text": [
      "Epoch: 472/600, train loss: 727.426\n",
      "\n",
      "Inferring ...\n",
      "Subset: 0, modalities ['rna']: test size: 8569\n",
      "Processing subset 0: ['rna']\n"
     ]
    },
    {
     "name": "stderr",
     "output_type": "stream",
     "text": [
      "/root/anaconda3/lib/python3.7/site-packages/torch/utils/data/dataloader.py:560: UserWarning: This DataLoader will create 64 worker processes in total. Our suggested max number of worker in current system is 32, which is smaller than what this DataLoader is going to create. Please be aware that excessive worker creation might get DataLoader running slow or even freeze, lower the worker number to avoid potential slowness/freeze if necessary.\n",
      "  cpuset_checked))\n"
     ]
    },
    {
     "name": "stdout",
     "output_type": "stream",
     "text": [
      "Epoch: 473/600, train loss: 722.809\n",
      "\n",
      "Inferring ...\n",
      "Subset: 0, modalities ['rna']: test size: 8569\n",
      "Processing subset 0: ['rna']\n"
     ]
    },
    {
     "name": "stderr",
     "output_type": "stream",
     "text": [
      "/root/anaconda3/lib/python3.7/site-packages/torch/utils/data/dataloader.py:560: UserWarning: This DataLoader will create 64 worker processes in total. Our suggested max number of worker in current system is 32, which is smaller than what this DataLoader is going to create. Please be aware that excessive worker creation might get DataLoader running slow or even freeze, lower the worker number to avoid potential slowness/freeze if necessary.\n",
      "  cpuset_checked))\n"
     ]
    },
    {
     "name": "stdout",
     "output_type": "stream",
     "text": [
      "Epoch: 474/600, train loss: 723.727\n",
      "\n",
      "Inferring ...\n",
      "Subset: 0, modalities ['rna']: test size: 8569\n",
      "Processing subset 0: ['rna']\n"
     ]
    },
    {
     "name": "stderr",
     "output_type": "stream",
     "text": [
      "/root/anaconda3/lib/python3.7/site-packages/torch/utils/data/dataloader.py:560: UserWarning: This DataLoader will create 64 worker processes in total. Our suggested max number of worker in current system is 32, which is smaller than what this DataLoader is going to create. Please be aware that excessive worker creation might get DataLoader running slow or even freeze, lower the worker number to avoid potential slowness/freeze if necessary.\n",
      "  cpuset_checked))\n"
     ]
    },
    {
     "name": "stdout",
     "output_type": "stream",
     "text": [
      "Epoch: 475/600, train loss: 720.918\n",
      "\n",
      "Inferring ...\n",
      "Subset: 0, modalities ['rna']: test size: 8569\n",
      "Processing subset 0: ['rna']\n"
     ]
    },
    {
     "name": "stderr",
     "output_type": "stream",
     "text": [
      "/root/anaconda3/lib/python3.7/site-packages/torch/utils/data/dataloader.py:560: UserWarning: This DataLoader will create 64 worker processes in total. Our suggested max number of worker in current system is 32, which is smaller than what this DataLoader is going to create. Please be aware that excessive worker creation might get DataLoader running slow or even freeze, lower the worker number to avoid potential slowness/freeze if necessary.\n",
      "  cpuset_checked))\n"
     ]
    },
    {
     "name": "stdout",
     "output_type": "stream",
     "text": [
      "Epoch: 476/600, train loss: 722.721\n",
      "\n",
      "Inferring ...\n",
      "Subset: 0, modalities ['rna']: test size: 8569\n",
      "Processing subset 0: ['rna']\n"
     ]
    },
    {
     "name": "stderr",
     "output_type": "stream",
     "text": [
      "/root/anaconda3/lib/python3.7/site-packages/torch/utils/data/dataloader.py:560: UserWarning: This DataLoader will create 64 worker processes in total. Our suggested max number of worker in current system is 32, which is smaller than what this DataLoader is going to create. Please be aware that excessive worker creation might get DataLoader running slow or even freeze, lower the worker number to avoid potential slowness/freeze if necessary.\n",
      "  cpuset_checked))\n"
     ]
    },
    {
     "name": "stdout",
     "output_type": "stream",
     "text": [
      "Epoch: 477/600, train loss: 717.734\n",
      "\n",
      "Inferring ...\n",
      "Subset: 0, modalities ['rna']: test size: 8569\n",
      "Processing subset 0: ['rna']\n"
     ]
    },
    {
     "name": "stderr",
     "output_type": "stream",
     "text": [
      "/root/anaconda3/lib/python3.7/site-packages/torch/utils/data/dataloader.py:560: UserWarning: This DataLoader will create 64 worker processes in total. Our suggested max number of worker in current system is 32, which is smaller than what this DataLoader is going to create. Please be aware that excessive worker creation might get DataLoader running slow or even freeze, lower the worker number to avoid potential slowness/freeze if necessary.\n",
      "  cpuset_checked))\n"
     ]
    },
    {
     "name": "stdout",
     "output_type": "stream",
     "text": [
      "Epoch: 478/600, train loss: 720.276\n",
      "\n",
      "Inferring ...\n",
      "Subset: 0, modalities ['rna']: test size: 8569\n",
      "Processing subset 0: ['rna']\n"
     ]
    },
    {
     "name": "stderr",
     "output_type": "stream",
     "text": [
      "/root/anaconda3/lib/python3.7/site-packages/torch/utils/data/dataloader.py:560: UserWarning: This DataLoader will create 64 worker processes in total. Our suggested max number of worker in current system is 32, which is smaller than what this DataLoader is going to create. Please be aware that excessive worker creation might get DataLoader running slow or even freeze, lower the worker number to avoid potential slowness/freeze if necessary.\n",
      "  cpuset_checked))\n"
     ]
    },
    {
     "name": "stdout",
     "output_type": "stream",
     "text": [
      "Epoch: 479/600, train loss: 715.734\n",
      "\n",
      "Inferring ...\n",
      "Subset: 0, modalities ['rna']: test size: 8569\n",
      "Processing subset 0: ['rna']\n"
     ]
    },
    {
     "name": "stderr",
     "output_type": "stream",
     "text": [
      "/root/anaconda3/lib/python3.7/site-packages/torch/utils/data/dataloader.py:560: UserWarning: This DataLoader will create 64 worker processes in total. Our suggested max number of worker in current system is 32, which is smaller than what this DataLoader is going to create. Please be aware that excessive worker creation might get DataLoader running slow or even freeze, lower the worker number to avoid potential slowness/freeze if necessary.\n",
      "  cpuset_checked))\n"
     ]
    },
    {
     "name": "stdout",
     "output_type": "stream",
     "text": [
      "Epoch: 480/600, train loss: 716.107\n",
      "\n",
      "Inferring ...\n",
      "Subset: 0, modalities ['rna']: test size: 8569\n",
      "Processing subset 0: ['rna']\n"
     ]
    },
    {
     "name": "stderr",
     "output_type": "stream",
     "text": [
      "/root/anaconda3/lib/python3.7/site-packages/torch/utils/data/dataloader.py:560: UserWarning: This DataLoader will create 64 worker processes in total. Our suggested max number of worker in current system is 32, which is smaller than what this DataLoader is going to create. Please be aware that excessive worker creation might get DataLoader running slow or even freeze, lower the worker number to avoid potential slowness/freeze if necessary.\n",
      "  cpuset_checked))\n"
     ]
    },
    {
     "name": "stdout",
     "output_type": "stream",
     "text": [
      "Epoch: 481/600, train loss: 715.670\n",
      "\n",
      "Inferring ...\n",
      "Subset: 0, modalities ['rna']: test size: 8569\n",
      "Processing subset 0: ['rna']\n"
     ]
    },
    {
     "name": "stderr",
     "output_type": "stream",
     "text": [
      "/root/anaconda3/lib/python3.7/site-packages/torch/utils/data/dataloader.py:560: UserWarning: This DataLoader will create 64 worker processes in total. Our suggested max number of worker in current system is 32, which is smaller than what this DataLoader is going to create. Please be aware that excessive worker creation might get DataLoader running slow or even freeze, lower the worker number to avoid potential slowness/freeze if necessary.\n",
      "  cpuset_checked))\n"
     ]
    },
    {
     "name": "stdout",
     "output_type": "stream",
     "text": [
      "Epoch: 482/600, train loss: 714.358\n",
      "\n",
      "Inferring ...\n",
      "Subset: 0, modalities ['rna']: test size: 8569\n",
      "Processing subset 0: ['rna']\n"
     ]
    },
    {
     "name": "stderr",
     "output_type": "stream",
     "text": [
      "/root/anaconda3/lib/python3.7/site-packages/torch/utils/data/dataloader.py:560: UserWarning: This DataLoader will create 64 worker processes in total. Our suggested max number of worker in current system is 32, which is smaller than what this DataLoader is going to create. Please be aware that excessive worker creation might get DataLoader running slow or even freeze, lower the worker number to avoid potential slowness/freeze if necessary.\n",
      "  cpuset_checked))\n"
     ]
    },
    {
     "name": "stdout",
     "output_type": "stream",
     "text": [
      "Epoch: 483/600, train loss: 714.924\n",
      "\n",
      "Inferring ...\n",
      "Subset: 0, modalities ['rna']: test size: 8569\n",
      "Processing subset 0: ['rna']\n"
     ]
    },
    {
     "name": "stderr",
     "output_type": "stream",
     "text": [
      "/root/anaconda3/lib/python3.7/site-packages/torch/utils/data/dataloader.py:560: UserWarning: This DataLoader will create 64 worker processes in total. Our suggested max number of worker in current system is 32, which is smaller than what this DataLoader is going to create. Please be aware that excessive worker creation might get DataLoader running slow or even freeze, lower the worker number to avoid potential slowness/freeze if necessary.\n",
      "  cpuset_checked))\n"
     ]
    },
    {
     "name": "stdout",
     "output_type": "stream",
     "text": [
      "Epoch: 484/600, train loss: 711.331\n",
      "\n",
      "Inferring ...\n",
      "Subset: 0, modalities ['rna']: test size: 8569\n",
      "Processing subset 0: ['rna']\n"
     ]
    },
    {
     "name": "stderr",
     "output_type": "stream",
     "text": [
      "/root/anaconda3/lib/python3.7/site-packages/torch/utils/data/dataloader.py:560: UserWarning: This DataLoader will create 64 worker processes in total. Our suggested max number of worker in current system is 32, which is smaller than what this DataLoader is going to create. Please be aware that excessive worker creation might get DataLoader running slow or even freeze, lower the worker number to avoid potential slowness/freeze if necessary.\n",
      "  cpuset_checked))\n"
     ]
    },
    {
     "name": "stdout",
     "output_type": "stream",
     "text": [
      "Epoch: 485/600, train loss: 709.293\n",
      "\n",
      "Inferring ...\n",
      "Subset: 0, modalities ['rna']: test size: 8569\n",
      "Processing subset 0: ['rna']\n"
     ]
    },
    {
     "name": "stderr",
     "output_type": "stream",
     "text": [
      "/root/anaconda3/lib/python3.7/site-packages/torch/utils/data/dataloader.py:560: UserWarning: This DataLoader will create 64 worker processes in total. Our suggested max number of worker in current system is 32, which is smaller than what this DataLoader is going to create. Please be aware that excessive worker creation might get DataLoader running slow or even freeze, lower the worker number to avoid potential slowness/freeze if necessary.\n",
      "  cpuset_checked))\n"
     ]
    },
    {
     "name": "stdout",
     "output_type": "stream",
     "text": [
      "Epoch: 486/600, train loss: 711.909\n",
      "\n",
      "Inferring ...\n",
      "Subset: 0, modalities ['rna']: test size: 8569\n",
      "Processing subset 0: ['rna']\n"
     ]
    },
    {
     "name": "stderr",
     "output_type": "stream",
     "text": [
      "/root/anaconda3/lib/python3.7/site-packages/torch/utils/data/dataloader.py:560: UserWarning: This DataLoader will create 64 worker processes in total. Our suggested max number of worker in current system is 32, which is smaller than what this DataLoader is going to create. Please be aware that excessive worker creation might get DataLoader running slow or even freeze, lower the worker number to avoid potential slowness/freeze if necessary.\n",
      "  cpuset_checked))\n"
     ]
    },
    {
     "name": "stdout",
     "output_type": "stream",
     "text": [
      "Epoch: 487/600, train loss: 712.100\n",
      "\n",
      "Inferring ...\n",
      "Subset: 0, modalities ['rna']: test size: 8569\n",
      "Processing subset 0: ['rna']\n"
     ]
    },
    {
     "name": "stderr",
     "output_type": "stream",
     "text": [
      "/root/anaconda3/lib/python3.7/site-packages/torch/utils/data/dataloader.py:560: UserWarning: This DataLoader will create 64 worker processes in total. Our suggested max number of worker in current system is 32, which is smaller than what this DataLoader is going to create. Please be aware that excessive worker creation might get DataLoader running slow or even freeze, lower the worker number to avoid potential slowness/freeze if necessary.\n",
      "  cpuset_checked))\n"
     ]
    },
    {
     "name": "stdout",
     "output_type": "stream",
     "text": [
      "Epoch: 488/600, train loss: 710.216\n",
      "\n",
      "Inferring ...\n",
      "Subset: 0, modalities ['rna']: test size: 8569\n",
      "Processing subset 0: ['rna']\n"
     ]
    },
    {
     "name": "stderr",
     "output_type": "stream",
     "text": [
      "/root/anaconda3/lib/python3.7/site-packages/torch/utils/data/dataloader.py:560: UserWarning: This DataLoader will create 64 worker processes in total. Our suggested max number of worker in current system is 32, which is smaller than what this DataLoader is going to create. Please be aware that excessive worker creation might get DataLoader running slow or even freeze, lower the worker number to avoid potential slowness/freeze if necessary.\n",
      "  cpuset_checked))\n"
     ]
    },
    {
     "name": "stdout",
     "output_type": "stream",
     "text": [
      "Epoch: 489/600, train loss: 711.485\n",
      "\n",
      "Inferring ...\n",
      "Subset: 0, modalities ['rna']: test size: 8569\n",
      "Processing subset 0: ['rna']\n"
     ]
    },
    {
     "name": "stderr",
     "output_type": "stream",
     "text": [
      "/root/anaconda3/lib/python3.7/site-packages/torch/utils/data/dataloader.py:560: UserWarning: This DataLoader will create 64 worker processes in total. Our suggested max number of worker in current system is 32, which is smaller than what this DataLoader is going to create. Please be aware that excessive worker creation might get DataLoader running slow or even freeze, lower the worker number to avoid potential slowness/freeze if necessary.\n",
      "  cpuset_checked))\n"
     ]
    },
    {
     "name": "stdout",
     "output_type": "stream",
     "text": [
      "Epoch: 490/600, train loss: 707.893\n",
      "\n",
      "Inferring ...\n",
      "Subset: 0, modalities ['rna']: test size: 8569\n",
      "Processing subset 0: ['rna']\n"
     ]
    },
    {
     "name": "stderr",
     "output_type": "stream",
     "text": [
      "/root/anaconda3/lib/python3.7/site-packages/torch/utils/data/dataloader.py:560: UserWarning: This DataLoader will create 64 worker processes in total. Our suggested max number of worker in current system is 32, which is smaller than what this DataLoader is going to create. Please be aware that excessive worker creation might get DataLoader running slow or even freeze, lower the worker number to avoid potential slowness/freeze if necessary.\n",
      "  cpuset_checked))\n"
     ]
    },
    {
     "name": "stdout",
     "output_type": "stream",
     "text": [
      "Epoch: 491/600, train loss: 710.480\n",
      "\n",
      "Inferring ...\n",
      "Subset: 0, modalities ['rna']: test size: 8569\n",
      "Processing subset 0: ['rna']\n"
     ]
    },
    {
     "name": "stderr",
     "output_type": "stream",
     "text": [
      "/root/anaconda3/lib/python3.7/site-packages/torch/utils/data/dataloader.py:560: UserWarning: This DataLoader will create 64 worker processes in total. Our suggested max number of worker in current system is 32, which is smaller than what this DataLoader is going to create. Please be aware that excessive worker creation might get DataLoader running slow or even freeze, lower the worker number to avoid potential slowness/freeze if necessary.\n",
      "  cpuset_checked))\n"
     ]
    },
    {
     "name": "stdout",
     "output_type": "stream",
     "text": [
      "Epoch: 492/600, train loss: 706.973\n",
      "\n",
      "Inferring ...\n",
      "Subset: 0, modalities ['rna']: test size: 8569\n",
      "Processing subset 0: ['rna']\n"
     ]
    },
    {
     "name": "stderr",
     "output_type": "stream",
     "text": [
      "/root/anaconda3/lib/python3.7/site-packages/torch/utils/data/dataloader.py:560: UserWarning: This DataLoader will create 64 worker processes in total. Our suggested max number of worker in current system is 32, which is smaller than what this DataLoader is going to create. Please be aware that excessive worker creation might get DataLoader running slow or even freeze, lower the worker number to avoid potential slowness/freeze if necessary.\n",
      "  cpuset_checked))\n"
     ]
    },
    {
     "name": "stdout",
     "output_type": "stream",
     "text": [
      "Epoch: 493/600, train loss: 705.662\n",
      "\n",
      "Inferring ...\n",
      "Subset: 0, modalities ['rna']: test size: 8569\n",
      "Processing subset 0: ['rna']\n"
     ]
    },
    {
     "name": "stderr",
     "output_type": "stream",
     "text": [
      "/root/anaconda3/lib/python3.7/site-packages/torch/utils/data/dataloader.py:560: UserWarning: This DataLoader will create 64 worker processes in total. Our suggested max number of worker in current system is 32, which is smaller than what this DataLoader is going to create. Please be aware that excessive worker creation might get DataLoader running slow or even freeze, lower the worker number to avoid potential slowness/freeze if necessary.\n",
      "  cpuset_checked))\n"
     ]
    },
    {
     "name": "stdout",
     "output_type": "stream",
     "text": [
      "Epoch: 494/600, train loss: 704.194\n",
      "\n",
      "Inferring ...\n",
      "Subset: 0, modalities ['rna']: test size: 8569\n",
      "Processing subset 0: ['rna']\n"
     ]
    },
    {
     "name": "stderr",
     "output_type": "stream",
     "text": [
      "/root/anaconda3/lib/python3.7/site-packages/torch/utils/data/dataloader.py:560: UserWarning: This DataLoader will create 64 worker processes in total. Our suggested max number of worker in current system is 32, which is smaller than what this DataLoader is going to create. Please be aware that excessive worker creation might get DataLoader running slow or even freeze, lower the worker number to avoid potential slowness/freeze if necessary.\n",
      "  cpuset_checked))\n"
     ]
    },
    {
     "name": "stdout",
     "output_type": "stream",
     "text": [
      "Epoch: 495/600, train loss: 702.200\n",
      "\n",
      "Inferring ...\n",
      "Subset: 0, modalities ['rna']: test size: 8569\n",
      "Processing subset 0: ['rna']\n"
     ]
    },
    {
     "name": "stderr",
     "output_type": "stream",
     "text": [
      "/root/anaconda3/lib/python3.7/site-packages/torch/utils/data/dataloader.py:560: UserWarning: This DataLoader will create 64 worker processes in total. Our suggested max number of worker in current system is 32, which is smaller than what this DataLoader is going to create. Please be aware that excessive worker creation might get DataLoader running slow or even freeze, lower the worker number to avoid potential slowness/freeze if necessary.\n",
      "  cpuset_checked))\n"
     ]
    },
    {
     "name": "stdout",
     "output_type": "stream",
     "text": [
      "Epoch: 496/600, train loss: 702.348\n",
      "\n",
      "Inferring ...\n",
      "Subset: 0, modalities ['rna']: test size: 8569\n",
      "Processing subset 0: ['rna']\n"
     ]
    },
    {
     "name": "stderr",
     "output_type": "stream",
     "text": [
      "/root/anaconda3/lib/python3.7/site-packages/torch/utils/data/dataloader.py:560: UserWarning: This DataLoader will create 64 worker processes in total. Our suggested max number of worker in current system is 32, which is smaller than what this DataLoader is going to create. Please be aware that excessive worker creation might get DataLoader running slow or even freeze, lower the worker number to avoid potential slowness/freeze if necessary.\n",
      "  cpuset_checked))\n"
     ]
    },
    {
     "name": "stdout",
     "output_type": "stream",
     "text": [
      "Epoch: 497/600, train loss: 706.013\n",
      "\n",
      "Inferring ...\n",
      "Subset: 0, modalities ['rna']: test size: 8569\n",
      "Processing subset 0: ['rna']\n"
     ]
    },
    {
     "name": "stderr",
     "output_type": "stream",
     "text": [
      "/root/anaconda3/lib/python3.7/site-packages/torch/utils/data/dataloader.py:560: UserWarning: This DataLoader will create 64 worker processes in total. Our suggested max number of worker in current system is 32, which is smaller than what this DataLoader is going to create. Please be aware that excessive worker creation might get DataLoader running slow or even freeze, lower the worker number to avoid potential slowness/freeze if necessary.\n",
      "  cpuset_checked))\n"
     ]
    },
    {
     "name": "stdout",
     "output_type": "stream",
     "text": [
      "Epoch: 498/600, train loss: 705.767\n",
      "\n",
      "Inferring ...\n",
      "Subset: 0, modalities ['rna']: test size: 8569\n",
      "Processing subset 0: ['rna']\n"
     ]
    },
    {
     "name": "stderr",
     "output_type": "stream",
     "text": [
      "/root/anaconda3/lib/python3.7/site-packages/torch/utils/data/dataloader.py:560: UserWarning: This DataLoader will create 64 worker processes in total. Our suggested max number of worker in current system is 32, which is smaller than what this DataLoader is going to create. Please be aware that excessive worker creation might get DataLoader running slow or even freeze, lower the worker number to avoid potential slowness/freeze if necessary.\n",
      "  cpuset_checked))\n"
     ]
    },
    {
     "name": "stdout",
     "output_type": "stream",
     "text": [
      "Epoch: 499/600, train loss: 701.770\n",
      "\n",
      "Inferring ...\n",
      "Subset: 0, modalities ['rna']: test size: 8569\n",
      "Processing subset 0: ['rna']\n"
     ]
    },
    {
     "name": "stderr",
     "output_type": "stream",
     "text": [
      "/root/anaconda3/lib/python3.7/site-packages/torch/utils/data/dataloader.py:560: UserWarning: This DataLoader will create 64 worker processes in total. Our suggested max number of worker in current system is 32, which is smaller than what this DataLoader is going to create. Please be aware that excessive worker creation might get DataLoader running slow or even freeze, lower the worker number to avoid potential slowness/freeze if necessary.\n",
      "  cpuset_checked))\n"
     ]
    },
    {
     "name": "stdout",
     "output_type": "stream",
     "text": [
      "Epoch: 500/600, train loss: 699.727\n",
      "\n",
      "Inferring ...\n",
      "Subset: 0, modalities ['rna']: test size: 8569\n",
      "Processing subset 0: ['rna']\n"
     ]
    },
    {
     "name": "stderr",
     "output_type": "stream",
     "text": [
      "/root/anaconda3/lib/python3.7/site-packages/torch/utils/data/dataloader.py:560: UserWarning: This DataLoader will create 64 worker processes in total. Our suggested max number of worker in current system is 32, which is smaller than what this DataLoader is going to create. Please be aware that excessive worker creation might get DataLoader running slow or even freeze, lower the worker number to avoid potential slowness/freeze if necessary.\n",
      "  cpuset_checked))\n"
     ]
    },
    {
     "name": "stdout",
     "output_type": "stream",
     "text": [
      "Epoch: 501/600, train loss: 699.625\n",
      "\n",
      "Inferring ...\n",
      "Subset: 0, modalities ['rna']: test size: 8569\n",
      "Processing subset 0: ['rna']\n"
     ]
    },
    {
     "name": "stderr",
     "output_type": "stream",
     "text": [
      "/root/anaconda3/lib/python3.7/site-packages/torch/utils/data/dataloader.py:560: UserWarning: This DataLoader will create 64 worker processes in total. Our suggested max number of worker in current system is 32, which is smaller than what this DataLoader is going to create. Please be aware that excessive worker creation might get DataLoader running slow or even freeze, lower the worker number to avoid potential slowness/freeze if necessary.\n",
      "  cpuset_checked))\n"
     ]
    },
    {
     "name": "stdout",
     "output_type": "stream",
     "text": [
      "Epoch: 502/600, train loss: 699.923\n",
      "\n",
      "Inferring ...\n",
      "Subset: 0, modalities ['rna']: test size: 8569\n",
      "Processing subset 0: ['rna']\n"
     ]
    },
    {
     "name": "stderr",
     "output_type": "stream",
     "text": [
      "/root/anaconda3/lib/python3.7/site-packages/torch/utils/data/dataloader.py:560: UserWarning: This DataLoader will create 64 worker processes in total. Our suggested max number of worker in current system is 32, which is smaller than what this DataLoader is going to create. Please be aware that excessive worker creation might get DataLoader running slow or even freeze, lower the worker number to avoid potential slowness/freeze if necessary.\n",
      "  cpuset_checked))\n"
     ]
    },
    {
     "name": "stdout",
     "output_type": "stream",
     "text": [
      "Epoch: 503/600, train loss: 701.183\n",
      "\n",
      "Inferring ...\n",
      "Subset: 0, modalities ['rna']: test size: 8569\n",
      "Processing subset 0: ['rna']\n"
     ]
    },
    {
     "name": "stderr",
     "output_type": "stream",
     "text": [
      "/root/anaconda3/lib/python3.7/site-packages/torch/utils/data/dataloader.py:560: UserWarning: This DataLoader will create 64 worker processes in total. Our suggested max number of worker in current system is 32, which is smaller than what this DataLoader is going to create. Please be aware that excessive worker creation might get DataLoader running slow or even freeze, lower the worker number to avoid potential slowness/freeze if necessary.\n",
      "  cpuset_checked))\n"
     ]
    },
    {
     "name": "stdout",
     "output_type": "stream",
     "text": [
      "Epoch: 504/600, train loss: 698.040\n",
      "\n",
      "Inferring ...\n",
      "Subset: 0, modalities ['rna']: test size: 8569\n",
      "Processing subset 0: ['rna']\n"
     ]
    },
    {
     "name": "stderr",
     "output_type": "stream",
     "text": [
      "/root/anaconda3/lib/python3.7/site-packages/torch/utils/data/dataloader.py:560: UserWarning: This DataLoader will create 64 worker processes in total. Our suggested max number of worker in current system is 32, which is smaller than what this DataLoader is going to create. Please be aware that excessive worker creation might get DataLoader running slow or even freeze, lower the worker number to avoid potential slowness/freeze if necessary.\n",
      "  cpuset_checked))\n"
     ]
    },
    {
     "name": "stdout",
     "output_type": "stream",
     "text": [
      "Epoch: 505/600, train loss: 697.515\n",
      "\n",
      "Inferring ...\n",
      "Subset: 0, modalities ['rna']: test size: 8569\n",
      "Processing subset 0: ['rna']\n"
     ]
    },
    {
     "name": "stderr",
     "output_type": "stream",
     "text": [
      "/root/anaconda3/lib/python3.7/site-packages/torch/utils/data/dataloader.py:560: UserWarning: This DataLoader will create 64 worker processes in total. Our suggested max number of worker in current system is 32, which is smaller than what this DataLoader is going to create. Please be aware that excessive worker creation might get DataLoader running slow or even freeze, lower the worker number to avoid potential slowness/freeze if necessary.\n",
      "  cpuset_checked))\n"
     ]
    },
    {
     "name": "stdout",
     "output_type": "stream",
     "text": [
      "Epoch: 506/600, train loss: 693.924\n",
      "\n",
      "Inferring ...\n",
      "Subset: 0, modalities ['rna']: test size: 8569\n",
      "Processing subset 0: ['rna']\n"
     ]
    },
    {
     "name": "stderr",
     "output_type": "stream",
     "text": [
      "/root/anaconda3/lib/python3.7/site-packages/torch/utils/data/dataloader.py:560: UserWarning: This DataLoader will create 64 worker processes in total. Our suggested max number of worker in current system is 32, which is smaller than what this DataLoader is going to create. Please be aware that excessive worker creation might get DataLoader running slow or even freeze, lower the worker number to avoid potential slowness/freeze if necessary.\n",
      "  cpuset_checked))\n"
     ]
    },
    {
     "name": "stdout",
     "output_type": "stream",
     "text": [
      "Epoch: 507/600, train loss: 697.121\n",
      "\n",
      "Inferring ...\n",
      "Subset: 0, modalities ['rna']: test size: 8569\n",
      "Processing subset 0: ['rna']\n"
     ]
    },
    {
     "name": "stderr",
     "output_type": "stream",
     "text": [
      "/root/anaconda3/lib/python3.7/site-packages/torch/utils/data/dataloader.py:560: UserWarning: This DataLoader will create 64 worker processes in total. Our suggested max number of worker in current system is 32, which is smaller than what this DataLoader is going to create. Please be aware that excessive worker creation might get DataLoader running slow or even freeze, lower the worker number to avoid potential slowness/freeze if necessary.\n",
      "  cpuset_checked))\n"
     ]
    },
    {
     "name": "stdout",
     "output_type": "stream",
     "text": [
      "Epoch: 508/600, train loss: 696.086\n",
      "\n",
      "Inferring ...\n",
      "Subset: 0, modalities ['rna']: test size: 8569\n",
      "Processing subset 0: ['rna']\n"
     ]
    },
    {
     "name": "stderr",
     "output_type": "stream",
     "text": [
      "/root/anaconda3/lib/python3.7/site-packages/torch/utils/data/dataloader.py:560: UserWarning: This DataLoader will create 64 worker processes in total. Our suggested max number of worker in current system is 32, which is smaller than what this DataLoader is going to create. Please be aware that excessive worker creation might get DataLoader running slow or even freeze, lower the worker number to avoid potential slowness/freeze if necessary.\n",
      "  cpuset_checked))\n"
     ]
    },
    {
     "name": "stdout",
     "output_type": "stream",
     "text": [
      "Epoch: 509/600, train loss: 696.329\n",
      "\n",
      "Inferring ...\n",
      "Subset: 0, modalities ['rna']: test size: 8569\n",
      "Processing subset 0: ['rna']\n"
     ]
    },
    {
     "name": "stderr",
     "output_type": "stream",
     "text": [
      "/root/anaconda3/lib/python3.7/site-packages/torch/utils/data/dataloader.py:560: UserWarning: This DataLoader will create 64 worker processes in total. Our suggested max number of worker in current system is 32, which is smaller than what this DataLoader is going to create. Please be aware that excessive worker creation might get DataLoader running slow or even freeze, lower the worker number to avoid potential slowness/freeze if necessary.\n",
      "  cpuset_checked))\n"
     ]
    },
    {
     "name": "stdout",
     "output_type": "stream",
     "text": [
      "Epoch: 510/600, train loss: 692.406\n",
      "\n",
      "Inferring ...\n",
      "Subset: 0, modalities ['rna']: test size: 8569\n",
      "Processing subset 0: ['rna']\n"
     ]
    },
    {
     "name": "stderr",
     "output_type": "stream",
     "text": [
      "/root/anaconda3/lib/python3.7/site-packages/torch/utils/data/dataloader.py:560: UserWarning: This DataLoader will create 64 worker processes in total. Our suggested max number of worker in current system is 32, which is smaller than what this DataLoader is going to create. Please be aware that excessive worker creation might get DataLoader running slow or even freeze, lower the worker number to avoid potential slowness/freeze if necessary.\n",
      "  cpuset_checked))\n"
     ]
    },
    {
     "name": "stdout",
     "output_type": "stream",
     "text": [
      "Epoch: 511/600, train loss: 692.922\n",
      "\n",
      "Inferring ...\n",
      "Subset: 0, modalities ['rna']: test size: 8569\n",
      "Processing subset 0: ['rna']\n"
     ]
    },
    {
     "name": "stderr",
     "output_type": "stream",
     "text": [
      "/root/anaconda3/lib/python3.7/site-packages/torch/utils/data/dataloader.py:560: UserWarning: This DataLoader will create 64 worker processes in total. Our suggested max number of worker in current system is 32, which is smaller than what this DataLoader is going to create. Please be aware that excessive worker creation might get DataLoader running slow or even freeze, lower the worker number to avoid potential slowness/freeze if necessary.\n",
      "  cpuset_checked))\n"
     ]
    },
    {
     "name": "stdout",
     "output_type": "stream",
     "text": [
      "Epoch: 512/600, train loss: 692.483\n",
      "\n",
      "Inferring ...\n",
      "Subset: 0, modalities ['rna']: test size: 8569\n",
      "Processing subset 0: ['rna']\n"
     ]
    },
    {
     "name": "stderr",
     "output_type": "stream",
     "text": [
      "/root/anaconda3/lib/python3.7/site-packages/torch/utils/data/dataloader.py:560: UserWarning: This DataLoader will create 64 worker processes in total. Our suggested max number of worker in current system is 32, which is smaller than what this DataLoader is going to create. Please be aware that excessive worker creation might get DataLoader running slow or even freeze, lower the worker number to avoid potential slowness/freeze if necessary.\n",
      "  cpuset_checked))\n"
     ]
    },
    {
     "name": "stdout",
     "output_type": "stream",
     "text": [
      "Epoch: 513/600, train loss: 692.419\n",
      "\n",
      "Inferring ...\n",
      "Subset: 0, modalities ['rna']: test size: 8569\n",
      "Processing subset 0: ['rna']\n"
     ]
    },
    {
     "name": "stderr",
     "output_type": "stream",
     "text": [
      "/root/anaconda3/lib/python3.7/site-packages/torch/utils/data/dataloader.py:560: UserWarning: This DataLoader will create 64 worker processes in total. Our suggested max number of worker in current system is 32, which is smaller than what this DataLoader is going to create. Please be aware that excessive worker creation might get DataLoader running slow or even freeze, lower the worker number to avoid potential slowness/freeze if necessary.\n",
      "  cpuset_checked))\n"
     ]
    },
    {
     "name": "stdout",
     "output_type": "stream",
     "text": [
      "Epoch: 514/600, train loss: 692.825\n",
      "\n",
      "Inferring ...\n",
      "Subset: 0, modalities ['rna']: test size: 8569\n",
      "Processing subset 0: ['rna']\n"
     ]
    },
    {
     "name": "stderr",
     "output_type": "stream",
     "text": [
      "/root/anaconda3/lib/python3.7/site-packages/torch/utils/data/dataloader.py:560: UserWarning: This DataLoader will create 64 worker processes in total. Our suggested max number of worker in current system is 32, which is smaller than what this DataLoader is going to create. Please be aware that excessive worker creation might get DataLoader running slow or even freeze, lower the worker number to avoid potential slowness/freeze if necessary.\n",
      "  cpuset_checked))\n"
     ]
    },
    {
     "name": "stdout",
     "output_type": "stream",
     "text": [
      "Epoch: 515/600, train loss: 690.229\n",
      "\n",
      "Inferring ...\n",
      "Subset: 0, modalities ['rna']: test size: 8569\n",
      "Processing subset 0: ['rna']\n"
     ]
    },
    {
     "name": "stderr",
     "output_type": "stream",
     "text": [
      "/root/anaconda3/lib/python3.7/site-packages/torch/utils/data/dataloader.py:560: UserWarning: This DataLoader will create 64 worker processes in total. Our suggested max number of worker in current system is 32, which is smaller than what this DataLoader is going to create. Please be aware that excessive worker creation might get DataLoader running slow or even freeze, lower the worker number to avoid potential slowness/freeze if necessary.\n",
      "  cpuset_checked))\n"
     ]
    },
    {
     "name": "stdout",
     "output_type": "stream",
     "text": [
      "Epoch: 516/600, train loss: 692.134\n",
      "\n",
      "Inferring ...\n",
      "Subset: 0, modalities ['rna']: test size: 8569\n",
      "Processing subset 0: ['rna']\n"
     ]
    },
    {
     "name": "stderr",
     "output_type": "stream",
     "text": [
      "/root/anaconda3/lib/python3.7/site-packages/torch/utils/data/dataloader.py:560: UserWarning: This DataLoader will create 64 worker processes in total. Our suggested max number of worker in current system is 32, which is smaller than what this DataLoader is going to create. Please be aware that excessive worker creation might get DataLoader running slow or even freeze, lower the worker number to avoid potential slowness/freeze if necessary.\n",
      "  cpuset_checked))\n"
     ]
    },
    {
     "name": "stdout",
     "output_type": "stream",
     "text": [
      "Epoch: 517/600, train loss: 687.228\n",
      "\n",
      "Inferring ...\n",
      "Subset: 0, modalities ['rna']: test size: 8569\n",
      "Processing subset 0: ['rna']\n"
     ]
    },
    {
     "name": "stderr",
     "output_type": "stream",
     "text": [
      "/root/anaconda3/lib/python3.7/site-packages/torch/utils/data/dataloader.py:560: UserWarning: This DataLoader will create 64 worker processes in total. Our suggested max number of worker in current system is 32, which is smaller than what this DataLoader is going to create. Please be aware that excessive worker creation might get DataLoader running slow or even freeze, lower the worker number to avoid potential slowness/freeze if necessary.\n",
      "  cpuset_checked))\n"
     ]
    },
    {
     "name": "stdout",
     "output_type": "stream",
     "text": [
      "Epoch: 518/600, train loss: 687.579\n",
      "\n",
      "Inferring ...\n",
      "Subset: 0, modalities ['rna']: test size: 8569\n",
      "Processing subset 0: ['rna']\n"
     ]
    },
    {
     "name": "stderr",
     "output_type": "stream",
     "text": [
      "/root/anaconda3/lib/python3.7/site-packages/torch/utils/data/dataloader.py:560: UserWarning: This DataLoader will create 64 worker processes in total. Our suggested max number of worker in current system is 32, which is smaller than what this DataLoader is going to create. Please be aware that excessive worker creation might get DataLoader running slow or even freeze, lower the worker number to avoid potential slowness/freeze if necessary.\n",
      "  cpuset_checked))\n"
     ]
    },
    {
     "name": "stdout",
     "output_type": "stream",
     "text": [
      "Epoch: 519/600, train loss: 690.703\n",
      "\n",
      "Inferring ...\n",
      "Subset: 0, modalities ['rna']: test size: 8569\n",
      "Processing subset 0: ['rna']\n"
     ]
    },
    {
     "name": "stderr",
     "output_type": "stream",
     "text": [
      "/root/anaconda3/lib/python3.7/site-packages/torch/utils/data/dataloader.py:560: UserWarning: This DataLoader will create 64 worker processes in total. Our suggested max number of worker in current system is 32, which is smaller than what this DataLoader is going to create. Please be aware that excessive worker creation might get DataLoader running slow or even freeze, lower the worker number to avoid potential slowness/freeze if necessary.\n",
      "  cpuset_checked))\n"
     ]
    },
    {
     "name": "stdout",
     "output_type": "stream",
     "text": [
      "Epoch: 520/600, train loss: 688.049\n",
      "\n",
      "Inferring ...\n",
      "Subset: 0, modalities ['rna']: test size: 8569\n",
      "Processing subset 0: ['rna']\n"
     ]
    },
    {
     "name": "stderr",
     "output_type": "stream",
     "text": [
      "/root/anaconda3/lib/python3.7/site-packages/torch/utils/data/dataloader.py:560: UserWarning: This DataLoader will create 64 worker processes in total. Our suggested max number of worker in current system is 32, which is smaller than what this DataLoader is going to create. Please be aware that excessive worker creation might get DataLoader running slow or even freeze, lower the worker number to avoid potential slowness/freeze if necessary.\n",
      "  cpuset_checked))\n"
     ]
    },
    {
     "name": "stdout",
     "output_type": "stream",
     "text": [
      "Epoch: 521/600, train loss: 688.154\n",
      "\n",
      "Inferring ...\n",
      "Subset: 0, modalities ['rna']: test size: 8569\n",
      "Processing subset 0: ['rna']\n"
     ]
    },
    {
     "name": "stderr",
     "output_type": "stream",
     "text": [
      "/root/anaconda3/lib/python3.7/site-packages/torch/utils/data/dataloader.py:560: UserWarning: This DataLoader will create 64 worker processes in total. Our suggested max number of worker in current system is 32, which is smaller than what this DataLoader is going to create. Please be aware that excessive worker creation might get DataLoader running slow or even freeze, lower the worker number to avoid potential slowness/freeze if necessary.\n",
      "  cpuset_checked))\n"
     ]
    },
    {
     "name": "stdout",
     "output_type": "stream",
     "text": [
      "Epoch: 522/600, train loss: 687.122\n",
      "\n",
      "Inferring ...\n",
      "Subset: 0, modalities ['rna']: test size: 8569\n",
      "Processing subset 0: ['rna']\n"
     ]
    },
    {
     "name": "stderr",
     "output_type": "stream",
     "text": [
      "/root/anaconda3/lib/python3.7/site-packages/torch/utils/data/dataloader.py:560: UserWarning: This DataLoader will create 64 worker processes in total. Our suggested max number of worker in current system is 32, which is smaller than what this DataLoader is going to create. Please be aware that excessive worker creation might get DataLoader running slow or even freeze, lower the worker number to avoid potential slowness/freeze if necessary.\n",
      "  cpuset_checked))\n"
     ]
    },
    {
     "name": "stdout",
     "output_type": "stream",
     "text": [
      "Epoch: 523/600, train loss: 686.883\n",
      "\n",
      "Inferring ...\n",
      "Subset: 0, modalities ['rna']: test size: 8569\n",
      "Processing subset 0: ['rna']\n"
     ]
    },
    {
     "name": "stderr",
     "output_type": "stream",
     "text": [
      "/root/anaconda3/lib/python3.7/site-packages/torch/utils/data/dataloader.py:560: UserWarning: This DataLoader will create 64 worker processes in total. Our suggested max number of worker in current system is 32, which is smaller than what this DataLoader is going to create. Please be aware that excessive worker creation might get DataLoader running slow or even freeze, lower the worker number to avoid potential slowness/freeze if necessary.\n",
      "  cpuset_checked))\n"
     ]
    },
    {
     "name": "stdout",
     "output_type": "stream",
     "text": [
      "Epoch: 524/600, train loss: 683.397\n",
      "\n",
      "Inferring ...\n",
      "Subset: 0, modalities ['rna']: test size: 8569\n",
      "Processing subset 0: ['rna']\n"
     ]
    },
    {
     "name": "stderr",
     "output_type": "stream",
     "text": [
      "/root/anaconda3/lib/python3.7/site-packages/torch/utils/data/dataloader.py:560: UserWarning: This DataLoader will create 64 worker processes in total. Our suggested max number of worker in current system is 32, which is smaller than what this DataLoader is going to create. Please be aware that excessive worker creation might get DataLoader running slow or even freeze, lower the worker number to avoid potential slowness/freeze if necessary.\n",
      "  cpuset_checked))\n"
     ]
    },
    {
     "name": "stdout",
     "output_type": "stream",
     "text": [
      "Epoch: 525/600, train loss: 683.862\n",
      "\n",
      "Inferring ...\n",
      "Subset: 0, modalities ['rna']: test size: 8569\n",
      "Processing subset 0: ['rna']\n"
     ]
    },
    {
     "name": "stderr",
     "output_type": "stream",
     "text": [
      "/root/anaconda3/lib/python3.7/site-packages/torch/utils/data/dataloader.py:560: UserWarning: This DataLoader will create 64 worker processes in total. Our suggested max number of worker in current system is 32, which is smaller than what this DataLoader is going to create. Please be aware that excessive worker creation might get DataLoader running slow or even freeze, lower the worker number to avoid potential slowness/freeze if necessary.\n",
      "  cpuset_checked))\n"
     ]
    },
    {
     "name": "stdout",
     "output_type": "stream",
     "text": [
      "Epoch: 526/600, train loss: 687.052\n",
      "\n",
      "Inferring ...\n",
      "Subset: 0, modalities ['rna']: test size: 8569\n",
      "Processing subset 0: ['rna']\n"
     ]
    },
    {
     "name": "stderr",
     "output_type": "stream",
     "text": [
      "/root/anaconda3/lib/python3.7/site-packages/torch/utils/data/dataloader.py:560: UserWarning: This DataLoader will create 64 worker processes in total. Our suggested max number of worker in current system is 32, which is smaller than what this DataLoader is going to create. Please be aware that excessive worker creation might get DataLoader running slow or even freeze, lower the worker number to avoid potential slowness/freeze if necessary.\n",
      "  cpuset_checked))\n"
     ]
    },
    {
     "name": "stdout",
     "output_type": "stream",
     "text": [
      "Epoch: 527/600, train loss: 684.911\n",
      "\n",
      "Inferring ...\n",
      "Subset: 0, modalities ['rna']: test size: 8569\n",
      "Processing subset 0: ['rna']\n"
     ]
    },
    {
     "name": "stderr",
     "output_type": "stream",
     "text": [
      "/root/anaconda3/lib/python3.7/site-packages/torch/utils/data/dataloader.py:560: UserWarning: This DataLoader will create 64 worker processes in total. Our suggested max number of worker in current system is 32, which is smaller than what this DataLoader is going to create. Please be aware that excessive worker creation might get DataLoader running slow or even freeze, lower the worker number to avoid potential slowness/freeze if necessary.\n",
      "  cpuset_checked))\n"
     ]
    },
    {
     "name": "stdout",
     "output_type": "stream",
     "text": [
      "Epoch: 528/600, train loss: 682.626\n",
      "\n",
      "Inferring ...\n",
      "Subset: 0, modalities ['rna']: test size: 8569\n",
      "Processing subset 0: ['rna']\n"
     ]
    },
    {
     "name": "stderr",
     "output_type": "stream",
     "text": [
      "/root/anaconda3/lib/python3.7/site-packages/torch/utils/data/dataloader.py:560: UserWarning: This DataLoader will create 64 worker processes in total. Our suggested max number of worker in current system is 32, which is smaller than what this DataLoader is going to create. Please be aware that excessive worker creation might get DataLoader running slow or even freeze, lower the worker number to avoid potential slowness/freeze if necessary.\n",
      "  cpuset_checked))\n"
     ]
    },
    {
     "name": "stdout",
     "output_type": "stream",
     "text": [
      "Epoch: 529/600, train loss: 685.292\n",
      "\n",
      "Inferring ...\n",
      "Subset: 0, modalities ['rna']: test size: 8569\n",
      "Processing subset 0: ['rna']\n"
     ]
    },
    {
     "name": "stderr",
     "output_type": "stream",
     "text": [
      "/root/anaconda3/lib/python3.7/site-packages/torch/utils/data/dataloader.py:560: UserWarning: This DataLoader will create 64 worker processes in total. Our suggested max number of worker in current system is 32, which is smaller than what this DataLoader is going to create. Please be aware that excessive worker creation might get DataLoader running slow or even freeze, lower the worker number to avoid potential slowness/freeze if necessary.\n",
      "  cpuset_checked))\n"
     ]
    },
    {
     "name": "stdout",
     "output_type": "stream",
     "text": [
      "Epoch: 530/600, train loss: 679.824\n",
      "\n",
      "Inferring ...\n",
      "Subset: 0, modalities ['rna']: test size: 8569\n",
      "Processing subset 0: ['rna']\n"
     ]
    },
    {
     "name": "stderr",
     "output_type": "stream",
     "text": [
      "/root/anaconda3/lib/python3.7/site-packages/torch/utils/data/dataloader.py:560: UserWarning: This DataLoader will create 64 worker processes in total. Our suggested max number of worker in current system is 32, which is smaller than what this DataLoader is going to create. Please be aware that excessive worker creation might get DataLoader running slow or even freeze, lower the worker number to avoid potential slowness/freeze if necessary.\n",
      "  cpuset_checked))\n"
     ]
    },
    {
     "name": "stdout",
     "output_type": "stream",
     "text": [
      "Epoch: 531/600, train loss: 679.063\n",
      "\n",
      "Inferring ...\n",
      "Subset: 0, modalities ['rna']: test size: 8569\n",
      "Processing subset 0: ['rna']\n"
     ]
    },
    {
     "name": "stderr",
     "output_type": "stream",
     "text": [
      "/root/anaconda3/lib/python3.7/site-packages/torch/utils/data/dataloader.py:560: UserWarning: This DataLoader will create 64 worker processes in total. Our suggested max number of worker in current system is 32, which is smaller than what this DataLoader is going to create. Please be aware that excessive worker creation might get DataLoader running slow or even freeze, lower the worker number to avoid potential slowness/freeze if necessary.\n",
      "  cpuset_checked))\n"
     ]
    },
    {
     "name": "stdout",
     "output_type": "stream",
     "text": [
      "Epoch: 532/600, train loss: 678.644\n",
      "\n",
      "Inferring ...\n",
      "Subset: 0, modalities ['rna']: test size: 8569\n",
      "Processing subset 0: ['rna']\n"
     ]
    },
    {
     "name": "stderr",
     "output_type": "stream",
     "text": [
      "/root/anaconda3/lib/python3.7/site-packages/torch/utils/data/dataloader.py:560: UserWarning: This DataLoader will create 64 worker processes in total. Our suggested max number of worker in current system is 32, which is smaller than what this DataLoader is going to create. Please be aware that excessive worker creation might get DataLoader running slow or even freeze, lower the worker number to avoid potential slowness/freeze if necessary.\n",
      "  cpuset_checked))\n"
     ]
    },
    {
     "name": "stdout",
     "output_type": "stream",
     "text": [
      "Epoch: 533/600, train loss: 679.347\n",
      "\n",
      "Inferring ...\n",
      "Subset: 0, modalities ['rna']: test size: 8569\n",
      "Processing subset 0: ['rna']\n"
     ]
    },
    {
     "name": "stderr",
     "output_type": "stream",
     "text": [
      "/root/anaconda3/lib/python3.7/site-packages/torch/utils/data/dataloader.py:560: UserWarning: This DataLoader will create 64 worker processes in total. Our suggested max number of worker in current system is 32, which is smaller than what this DataLoader is going to create. Please be aware that excessive worker creation might get DataLoader running slow or even freeze, lower the worker number to avoid potential slowness/freeze if necessary.\n",
      "  cpuset_checked))\n"
     ]
    },
    {
     "name": "stdout",
     "output_type": "stream",
     "text": [
      "Epoch: 534/600, train loss: 679.293\n",
      "\n",
      "Inferring ...\n",
      "Subset: 0, modalities ['rna']: test size: 8569\n",
      "Processing subset 0: ['rna']\n"
     ]
    },
    {
     "name": "stderr",
     "output_type": "stream",
     "text": [
      "/root/anaconda3/lib/python3.7/site-packages/torch/utils/data/dataloader.py:560: UserWarning: This DataLoader will create 64 worker processes in total. Our suggested max number of worker in current system is 32, which is smaller than what this DataLoader is going to create. Please be aware that excessive worker creation might get DataLoader running slow or even freeze, lower the worker number to avoid potential slowness/freeze if necessary.\n",
      "  cpuset_checked))\n"
     ]
    },
    {
     "name": "stdout",
     "output_type": "stream",
     "text": [
      "Epoch: 535/600, train loss: 675.423\n",
      "\n",
      "Inferring ...\n",
      "Subset: 0, modalities ['rna']: test size: 8569\n",
      "Processing subset 0: ['rna']\n"
     ]
    },
    {
     "name": "stderr",
     "output_type": "stream",
     "text": [
      "/root/anaconda3/lib/python3.7/site-packages/torch/utils/data/dataloader.py:560: UserWarning: This DataLoader will create 64 worker processes in total. Our suggested max number of worker in current system is 32, which is smaller than what this DataLoader is going to create. Please be aware that excessive worker creation might get DataLoader running slow or even freeze, lower the worker number to avoid potential slowness/freeze if necessary.\n",
      "  cpuset_checked))\n"
     ]
    },
    {
     "name": "stdout",
     "output_type": "stream",
     "text": [
      "Epoch: 536/600, train loss: 678.848\n",
      "\n",
      "Inferring ...\n",
      "Subset: 0, modalities ['rna']: test size: 8569\n",
      "Processing subset 0: ['rna']\n"
     ]
    },
    {
     "name": "stderr",
     "output_type": "stream",
     "text": [
      "/root/anaconda3/lib/python3.7/site-packages/torch/utils/data/dataloader.py:560: UserWarning: This DataLoader will create 64 worker processes in total. Our suggested max number of worker in current system is 32, which is smaller than what this DataLoader is going to create. Please be aware that excessive worker creation might get DataLoader running slow or even freeze, lower the worker number to avoid potential slowness/freeze if necessary.\n",
      "  cpuset_checked))\n"
     ]
    },
    {
     "name": "stdout",
     "output_type": "stream",
     "text": [
      "Epoch: 537/600, train loss: 679.882\n",
      "\n",
      "Inferring ...\n",
      "Subset: 0, modalities ['rna']: test size: 8569\n",
      "Processing subset 0: ['rna']\n"
     ]
    },
    {
     "name": "stderr",
     "output_type": "stream",
     "text": [
      "/root/anaconda3/lib/python3.7/site-packages/torch/utils/data/dataloader.py:560: UserWarning: This DataLoader will create 64 worker processes in total. Our suggested max number of worker in current system is 32, which is smaller than what this DataLoader is going to create. Please be aware that excessive worker creation might get DataLoader running slow or even freeze, lower the worker number to avoid potential slowness/freeze if necessary.\n",
      "  cpuset_checked))\n"
     ]
    },
    {
     "name": "stdout",
     "output_type": "stream",
     "text": [
      "Epoch: 538/600, train loss: 677.046\n",
      "\n",
      "Inferring ...\n",
      "Subset: 0, modalities ['rna']: test size: 8569\n",
      "Processing subset 0: ['rna']\n"
     ]
    },
    {
     "name": "stderr",
     "output_type": "stream",
     "text": [
      "/root/anaconda3/lib/python3.7/site-packages/torch/utils/data/dataloader.py:560: UserWarning: This DataLoader will create 64 worker processes in total. Our suggested max number of worker in current system is 32, which is smaller than what this DataLoader is going to create. Please be aware that excessive worker creation might get DataLoader running slow or even freeze, lower the worker number to avoid potential slowness/freeze if necessary.\n",
      "  cpuset_checked))\n"
     ]
    },
    {
     "name": "stdout",
     "output_type": "stream",
     "text": [
      "Epoch: 539/600, train loss: 680.645\n",
      "\n",
      "Inferring ...\n",
      "Subset: 0, modalities ['rna']: test size: 8569\n",
      "Processing subset 0: ['rna']\n"
     ]
    },
    {
     "name": "stderr",
     "output_type": "stream",
     "text": [
      "/root/anaconda3/lib/python3.7/site-packages/torch/utils/data/dataloader.py:560: UserWarning: This DataLoader will create 64 worker processes in total. Our suggested max number of worker in current system is 32, which is smaller than what this DataLoader is going to create. Please be aware that excessive worker creation might get DataLoader running slow or even freeze, lower the worker number to avoid potential slowness/freeze if necessary.\n",
      "  cpuset_checked))\n"
     ]
    },
    {
     "name": "stdout",
     "output_type": "stream",
     "text": [
      "Epoch: 540/600, train loss: 676.431\n",
      "\n",
      "Inferring ...\n",
      "Subset: 0, modalities ['rna']: test size: 8569\n",
      "Processing subset 0: ['rna']\n"
     ]
    },
    {
     "name": "stderr",
     "output_type": "stream",
     "text": [
      "/root/anaconda3/lib/python3.7/site-packages/torch/utils/data/dataloader.py:560: UserWarning: This DataLoader will create 64 worker processes in total. Our suggested max number of worker in current system is 32, which is smaller than what this DataLoader is going to create. Please be aware that excessive worker creation might get DataLoader running slow or even freeze, lower the worker number to avoid potential slowness/freeze if necessary.\n",
      "  cpuset_checked))\n"
     ]
    },
    {
     "name": "stdout",
     "output_type": "stream",
     "text": [
      "Epoch: 541/600, train loss: 676.869\n",
      "\n",
      "Inferring ...\n",
      "Subset: 0, modalities ['rna']: test size: 8569\n",
      "Processing subset 0: ['rna']\n"
     ]
    },
    {
     "name": "stderr",
     "output_type": "stream",
     "text": [
      "/root/anaconda3/lib/python3.7/site-packages/torch/utils/data/dataloader.py:560: UserWarning: This DataLoader will create 64 worker processes in total. Our suggested max number of worker in current system is 32, which is smaller than what this DataLoader is going to create. Please be aware that excessive worker creation might get DataLoader running slow or even freeze, lower the worker number to avoid potential slowness/freeze if necessary.\n",
      "  cpuset_checked))\n"
     ]
    },
    {
     "name": "stdout",
     "output_type": "stream",
     "text": [
      "Epoch: 542/600, train loss: 675.119\n",
      "\n",
      "Inferring ...\n",
      "Subset: 0, modalities ['rna']: test size: 8569\n",
      "Processing subset 0: ['rna']\n"
     ]
    },
    {
     "name": "stderr",
     "output_type": "stream",
     "text": [
      "/root/anaconda3/lib/python3.7/site-packages/torch/utils/data/dataloader.py:560: UserWarning: This DataLoader will create 64 worker processes in total. Our suggested max number of worker in current system is 32, which is smaller than what this DataLoader is going to create. Please be aware that excessive worker creation might get DataLoader running slow or even freeze, lower the worker number to avoid potential slowness/freeze if necessary.\n",
      "  cpuset_checked))\n"
     ]
    },
    {
     "name": "stdout",
     "output_type": "stream",
     "text": [
      "Epoch: 543/600, train loss: 674.636\n",
      "\n",
      "Inferring ...\n",
      "Subset: 0, modalities ['rna']: test size: 8569\n",
      "Processing subset 0: ['rna']\n"
     ]
    },
    {
     "name": "stderr",
     "output_type": "stream",
     "text": [
      "/root/anaconda3/lib/python3.7/site-packages/torch/utils/data/dataloader.py:560: UserWarning: This DataLoader will create 64 worker processes in total. Our suggested max number of worker in current system is 32, which is smaller than what this DataLoader is going to create. Please be aware that excessive worker creation might get DataLoader running slow or even freeze, lower the worker number to avoid potential slowness/freeze if necessary.\n",
      "  cpuset_checked))\n"
     ]
    },
    {
     "name": "stdout",
     "output_type": "stream",
     "text": [
      "Epoch: 544/600, train loss: 676.627\n",
      "\n",
      "Inferring ...\n",
      "Subset: 0, modalities ['rna']: test size: 8569\n",
      "Processing subset 0: ['rna']\n"
     ]
    },
    {
     "name": "stderr",
     "output_type": "stream",
     "text": [
      "/root/anaconda3/lib/python3.7/site-packages/torch/utils/data/dataloader.py:560: UserWarning: This DataLoader will create 64 worker processes in total. Our suggested max number of worker in current system is 32, which is smaller than what this DataLoader is going to create. Please be aware that excessive worker creation might get DataLoader running slow or even freeze, lower the worker number to avoid potential slowness/freeze if necessary.\n",
      "  cpuset_checked))\n"
     ]
    },
    {
     "name": "stdout",
     "output_type": "stream",
     "text": [
      "Epoch: 545/600, train loss: 675.930\n",
      "\n",
      "Inferring ...\n",
      "Subset: 0, modalities ['rna']: test size: 8569\n",
      "Processing subset 0: ['rna']\n"
     ]
    },
    {
     "name": "stderr",
     "output_type": "stream",
     "text": [
      "/root/anaconda3/lib/python3.7/site-packages/torch/utils/data/dataloader.py:560: UserWarning: This DataLoader will create 64 worker processes in total. Our suggested max number of worker in current system is 32, which is smaller than what this DataLoader is going to create. Please be aware that excessive worker creation might get DataLoader running slow or even freeze, lower the worker number to avoid potential slowness/freeze if necessary.\n",
      "  cpuset_checked))\n"
     ]
    },
    {
     "name": "stdout",
     "output_type": "stream",
     "text": [
      "Epoch: 546/600, train loss: 674.409\n",
      "\n",
      "Inferring ...\n",
      "Subset: 0, modalities ['rna']: test size: 8569\n",
      "Processing subset 0: ['rna']\n"
     ]
    },
    {
     "name": "stderr",
     "output_type": "stream",
     "text": [
      "/root/anaconda3/lib/python3.7/site-packages/torch/utils/data/dataloader.py:560: UserWarning: This DataLoader will create 64 worker processes in total. Our suggested max number of worker in current system is 32, which is smaller than what this DataLoader is going to create. Please be aware that excessive worker creation might get DataLoader running slow or even freeze, lower the worker number to avoid potential slowness/freeze if necessary.\n",
      "  cpuset_checked))\n"
     ]
    },
    {
     "name": "stdout",
     "output_type": "stream",
     "text": [
      "Epoch: 547/600, train loss: 670.889\n",
      "\n",
      "Inferring ...\n",
      "Subset: 0, modalities ['rna']: test size: 8569\n",
      "Processing subset 0: ['rna']\n"
     ]
    },
    {
     "name": "stderr",
     "output_type": "stream",
     "text": [
      "/root/anaconda3/lib/python3.7/site-packages/torch/utils/data/dataloader.py:560: UserWarning: This DataLoader will create 64 worker processes in total. Our suggested max number of worker in current system is 32, which is smaller than what this DataLoader is going to create. Please be aware that excessive worker creation might get DataLoader running slow or even freeze, lower the worker number to avoid potential slowness/freeze if necessary.\n",
      "  cpuset_checked))\n"
     ]
    },
    {
     "name": "stdout",
     "output_type": "stream",
     "text": [
      "Epoch: 548/600, train loss: 670.966\n",
      "\n",
      "Inferring ...\n",
      "Subset: 0, modalities ['rna']: test size: 8569\n",
      "Processing subset 0: ['rna']\n"
     ]
    },
    {
     "name": "stderr",
     "output_type": "stream",
     "text": [
      "/root/anaconda3/lib/python3.7/site-packages/torch/utils/data/dataloader.py:560: UserWarning: This DataLoader will create 64 worker processes in total. Our suggested max number of worker in current system is 32, which is smaller than what this DataLoader is going to create. Please be aware that excessive worker creation might get DataLoader running slow or even freeze, lower the worker number to avoid potential slowness/freeze if necessary.\n",
      "  cpuset_checked))\n"
     ]
    },
    {
     "name": "stdout",
     "output_type": "stream",
     "text": [
      "Epoch: 549/600, train loss: 673.637\n",
      "\n",
      "Inferring ...\n",
      "Subset: 0, modalities ['rna']: test size: 8569\n",
      "Processing subset 0: ['rna']\n"
     ]
    },
    {
     "name": "stderr",
     "output_type": "stream",
     "text": [
      "/root/anaconda3/lib/python3.7/site-packages/torch/utils/data/dataloader.py:560: UserWarning: This DataLoader will create 64 worker processes in total. Our suggested max number of worker in current system is 32, which is smaller than what this DataLoader is going to create. Please be aware that excessive worker creation might get DataLoader running slow or even freeze, lower the worker number to avoid potential slowness/freeze if necessary.\n",
      "  cpuset_checked))\n"
     ]
    },
    {
     "name": "stdout",
     "output_type": "stream",
     "text": [
      "Epoch: 550/600, train loss: 671.851\n",
      "\n",
      "Inferring ...\n",
      "Subset: 0, modalities ['rna']: test size: 8569\n",
      "Processing subset 0: ['rna']\n"
     ]
    },
    {
     "name": "stderr",
     "output_type": "stream",
     "text": [
      "/root/anaconda3/lib/python3.7/site-packages/torch/utils/data/dataloader.py:560: UserWarning: This DataLoader will create 64 worker processes in total. Our suggested max number of worker in current system is 32, which is smaller than what this DataLoader is going to create. Please be aware that excessive worker creation might get DataLoader running slow or even freeze, lower the worker number to avoid potential slowness/freeze if necessary.\n",
      "  cpuset_checked))\n"
     ]
    },
    {
     "name": "stdout",
     "output_type": "stream",
     "text": [
      "Epoch: 551/600, train loss: 670.766\n",
      "\n",
      "Inferring ...\n",
      "Subset: 0, modalities ['rna']: test size: 8569\n",
      "Processing subset 0: ['rna']\n"
     ]
    },
    {
     "name": "stderr",
     "output_type": "stream",
     "text": [
      "/root/anaconda3/lib/python3.7/site-packages/torch/utils/data/dataloader.py:560: UserWarning: This DataLoader will create 64 worker processes in total. Our suggested max number of worker in current system is 32, which is smaller than what this DataLoader is going to create. Please be aware that excessive worker creation might get DataLoader running slow or even freeze, lower the worker number to avoid potential slowness/freeze if necessary.\n",
      "  cpuset_checked))\n"
     ]
    },
    {
     "name": "stdout",
     "output_type": "stream",
     "text": [
      "Epoch: 552/600, train loss: 671.021\n",
      "\n",
      "Inferring ...\n",
      "Subset: 0, modalities ['rna']: test size: 8569\n",
      "Processing subset 0: ['rna']\n"
     ]
    },
    {
     "name": "stderr",
     "output_type": "stream",
     "text": [
      "/root/anaconda3/lib/python3.7/site-packages/torch/utils/data/dataloader.py:560: UserWarning: This DataLoader will create 64 worker processes in total. Our suggested max number of worker in current system is 32, which is smaller than what this DataLoader is going to create. Please be aware that excessive worker creation might get DataLoader running slow or even freeze, lower the worker number to avoid potential slowness/freeze if necessary.\n",
      "  cpuset_checked))\n"
     ]
    },
    {
     "name": "stdout",
     "output_type": "stream",
     "text": [
      "Epoch: 553/600, train loss: 668.924\n",
      "\n",
      "Inferring ...\n",
      "Subset: 0, modalities ['rna']: test size: 8569\n",
      "Processing subset 0: ['rna']\n"
     ]
    },
    {
     "name": "stderr",
     "output_type": "stream",
     "text": [
      "/root/anaconda3/lib/python3.7/site-packages/torch/utils/data/dataloader.py:560: UserWarning: This DataLoader will create 64 worker processes in total. Our suggested max number of worker in current system is 32, which is smaller than what this DataLoader is going to create. Please be aware that excessive worker creation might get DataLoader running slow or even freeze, lower the worker number to avoid potential slowness/freeze if necessary.\n",
      "  cpuset_checked))\n"
     ]
    },
    {
     "name": "stdout",
     "output_type": "stream",
     "text": [
      "Epoch: 554/600, train loss: 671.136\n",
      "\n",
      "Inferring ...\n",
      "Subset: 0, modalities ['rna']: test size: 8569\n",
      "Processing subset 0: ['rna']\n"
     ]
    },
    {
     "name": "stderr",
     "output_type": "stream",
     "text": [
      "/root/anaconda3/lib/python3.7/site-packages/torch/utils/data/dataloader.py:560: UserWarning: This DataLoader will create 64 worker processes in total. Our suggested max number of worker in current system is 32, which is smaller than what this DataLoader is going to create. Please be aware that excessive worker creation might get DataLoader running slow or even freeze, lower the worker number to avoid potential slowness/freeze if necessary.\n",
      "  cpuset_checked))\n"
     ]
    },
    {
     "name": "stdout",
     "output_type": "stream",
     "text": [
      "Epoch: 555/600, train loss: 670.490\n",
      "\n",
      "Inferring ...\n",
      "Subset: 0, modalities ['rna']: test size: 8569\n",
      "Processing subset 0: ['rna']\n"
     ]
    },
    {
     "name": "stderr",
     "output_type": "stream",
     "text": [
      "/root/anaconda3/lib/python3.7/site-packages/torch/utils/data/dataloader.py:560: UserWarning: This DataLoader will create 64 worker processes in total. Our suggested max number of worker in current system is 32, which is smaller than what this DataLoader is going to create. Please be aware that excessive worker creation might get DataLoader running slow or even freeze, lower the worker number to avoid potential slowness/freeze if necessary.\n",
      "  cpuset_checked))\n"
     ]
    },
    {
     "name": "stdout",
     "output_type": "stream",
     "text": [
      "Epoch: 556/600, train loss: 669.840\n",
      "\n",
      "Inferring ...\n",
      "Subset: 0, modalities ['rna']: test size: 8569\n",
      "Processing subset 0: ['rna']\n"
     ]
    },
    {
     "name": "stderr",
     "output_type": "stream",
     "text": [
      "/root/anaconda3/lib/python3.7/site-packages/torch/utils/data/dataloader.py:560: UserWarning: This DataLoader will create 64 worker processes in total. Our suggested max number of worker in current system is 32, which is smaller than what this DataLoader is going to create. Please be aware that excessive worker creation might get DataLoader running slow or even freeze, lower the worker number to avoid potential slowness/freeze if necessary.\n",
      "  cpuset_checked))\n"
     ]
    },
    {
     "name": "stdout",
     "output_type": "stream",
     "text": [
      "Epoch: 557/600, train loss: 668.208\n",
      "\n",
      "Inferring ...\n",
      "Subset: 0, modalities ['rna']: test size: 8569\n",
      "Processing subset 0: ['rna']\n"
     ]
    },
    {
     "name": "stderr",
     "output_type": "stream",
     "text": [
      "/root/anaconda3/lib/python3.7/site-packages/torch/utils/data/dataloader.py:560: UserWarning: This DataLoader will create 64 worker processes in total. Our suggested max number of worker in current system is 32, which is smaller than what this DataLoader is going to create. Please be aware that excessive worker creation might get DataLoader running slow or even freeze, lower the worker number to avoid potential slowness/freeze if necessary.\n",
      "  cpuset_checked))\n"
     ]
    },
    {
     "name": "stdout",
     "output_type": "stream",
     "text": [
      "Epoch: 558/600, train loss: 668.807\n",
      "\n",
      "Inferring ...\n",
      "Subset: 0, modalities ['rna']: test size: 8569\n",
      "Processing subset 0: ['rna']\n"
     ]
    },
    {
     "name": "stderr",
     "output_type": "stream",
     "text": [
      "/root/anaconda3/lib/python3.7/site-packages/torch/utils/data/dataloader.py:560: UserWarning: This DataLoader will create 64 worker processes in total. Our suggested max number of worker in current system is 32, which is smaller than what this DataLoader is going to create. Please be aware that excessive worker creation might get DataLoader running slow or even freeze, lower the worker number to avoid potential slowness/freeze if necessary.\n",
      "  cpuset_checked))\n"
     ]
    },
    {
     "name": "stdout",
     "output_type": "stream",
     "text": [
      "Epoch: 559/600, train loss: 666.470\n",
      "\n",
      "Inferring ...\n",
      "Subset: 0, modalities ['rna']: test size: 8569\n",
      "Processing subset 0: ['rna']\n"
     ]
    },
    {
     "name": "stderr",
     "output_type": "stream",
     "text": [
      "/root/anaconda3/lib/python3.7/site-packages/torch/utils/data/dataloader.py:560: UserWarning: This DataLoader will create 64 worker processes in total. Our suggested max number of worker in current system is 32, which is smaller than what this DataLoader is going to create. Please be aware that excessive worker creation might get DataLoader running slow or even freeze, lower the worker number to avoid potential slowness/freeze if necessary.\n",
      "  cpuset_checked))\n"
     ]
    },
    {
     "name": "stdout",
     "output_type": "stream",
     "text": [
      "Epoch: 560/600, train loss: 667.694\n",
      "\n",
      "Inferring ...\n",
      "Subset: 0, modalities ['rna']: test size: 8569\n",
      "Processing subset 0: ['rna']\n"
     ]
    },
    {
     "name": "stderr",
     "output_type": "stream",
     "text": [
      "/root/anaconda3/lib/python3.7/site-packages/torch/utils/data/dataloader.py:560: UserWarning: This DataLoader will create 64 worker processes in total. Our suggested max number of worker in current system is 32, which is smaller than what this DataLoader is going to create. Please be aware that excessive worker creation might get DataLoader running slow or even freeze, lower the worker number to avoid potential slowness/freeze if necessary.\n",
      "  cpuset_checked))\n"
     ]
    },
    {
     "name": "stdout",
     "output_type": "stream",
     "text": [
      "Epoch: 561/600, train loss: 666.026\n",
      "\n",
      "Inferring ...\n",
      "Subset: 0, modalities ['rna']: test size: 8569\n",
      "Processing subset 0: ['rna']\n"
     ]
    },
    {
     "name": "stderr",
     "output_type": "stream",
     "text": [
      "/root/anaconda3/lib/python3.7/site-packages/torch/utils/data/dataloader.py:560: UserWarning: This DataLoader will create 64 worker processes in total. Our suggested max number of worker in current system is 32, which is smaller than what this DataLoader is going to create. Please be aware that excessive worker creation might get DataLoader running slow or even freeze, lower the worker number to avoid potential slowness/freeze if necessary.\n",
      "  cpuset_checked))\n"
     ]
    },
    {
     "name": "stdout",
     "output_type": "stream",
     "text": [
      "Epoch: 562/600, train loss: 667.135\n",
      "\n",
      "Inferring ...\n",
      "Subset: 0, modalities ['rna']: test size: 8569\n",
      "Processing subset 0: ['rna']\n"
     ]
    },
    {
     "name": "stderr",
     "output_type": "stream",
     "text": [
      "/root/anaconda3/lib/python3.7/site-packages/torch/utils/data/dataloader.py:560: UserWarning: This DataLoader will create 64 worker processes in total. Our suggested max number of worker in current system is 32, which is smaller than what this DataLoader is going to create. Please be aware that excessive worker creation might get DataLoader running slow or even freeze, lower the worker number to avoid potential slowness/freeze if necessary.\n",
      "  cpuset_checked))\n"
     ]
    },
    {
     "name": "stdout",
     "output_type": "stream",
     "text": [
      "Epoch: 563/600, train loss: 667.169\n",
      "\n",
      "Inferring ...\n",
      "Subset: 0, modalities ['rna']: test size: 8569\n",
      "Processing subset 0: ['rna']\n"
     ]
    },
    {
     "name": "stderr",
     "output_type": "stream",
     "text": [
      "/root/anaconda3/lib/python3.7/site-packages/torch/utils/data/dataloader.py:560: UserWarning: This DataLoader will create 64 worker processes in total. Our suggested max number of worker in current system is 32, which is smaller than what this DataLoader is going to create. Please be aware that excessive worker creation might get DataLoader running slow or even freeze, lower the worker number to avoid potential slowness/freeze if necessary.\n",
      "  cpuset_checked))\n"
     ]
    },
    {
     "name": "stdout",
     "output_type": "stream",
     "text": [
      "Epoch: 564/600, train loss: 666.847\n",
      "\n",
      "Inferring ...\n",
      "Subset: 0, modalities ['rna']: test size: 8569\n",
      "Processing subset 0: ['rna']\n"
     ]
    },
    {
     "name": "stderr",
     "output_type": "stream",
     "text": [
      "/root/anaconda3/lib/python3.7/site-packages/torch/utils/data/dataloader.py:560: UserWarning: This DataLoader will create 64 worker processes in total. Our suggested max number of worker in current system is 32, which is smaller than what this DataLoader is going to create. Please be aware that excessive worker creation might get DataLoader running slow or even freeze, lower the worker number to avoid potential slowness/freeze if necessary.\n",
      "  cpuset_checked))\n"
     ]
    },
    {
     "name": "stdout",
     "output_type": "stream",
     "text": [
      "Epoch: 565/600, train loss: 664.132\n",
      "\n",
      "Inferring ...\n",
      "Subset: 0, modalities ['rna']: test size: 8569\n",
      "Processing subset 0: ['rna']\n"
     ]
    },
    {
     "name": "stderr",
     "output_type": "stream",
     "text": [
      "/root/anaconda3/lib/python3.7/site-packages/torch/utils/data/dataloader.py:560: UserWarning: This DataLoader will create 64 worker processes in total. Our suggested max number of worker in current system is 32, which is smaller than what this DataLoader is going to create. Please be aware that excessive worker creation might get DataLoader running slow or even freeze, lower the worker number to avoid potential slowness/freeze if necessary.\n",
      "  cpuset_checked))\n"
     ]
    },
    {
     "name": "stdout",
     "output_type": "stream",
     "text": [
      "Epoch: 566/600, train loss: 666.366\n",
      "\n",
      "Inferring ...\n",
      "Subset: 0, modalities ['rna']: test size: 8569\n",
      "Processing subset 0: ['rna']\n"
     ]
    },
    {
     "name": "stderr",
     "output_type": "stream",
     "text": [
      "/root/anaconda3/lib/python3.7/site-packages/torch/utils/data/dataloader.py:560: UserWarning: This DataLoader will create 64 worker processes in total. Our suggested max number of worker in current system is 32, which is smaller than what this DataLoader is going to create. Please be aware that excessive worker creation might get DataLoader running slow or even freeze, lower the worker number to avoid potential slowness/freeze if necessary.\n",
      "  cpuset_checked))\n"
     ]
    },
    {
     "name": "stdout",
     "output_type": "stream",
     "text": [
      "Epoch: 567/600, train loss: 661.229\n",
      "\n",
      "Inferring ...\n",
      "Subset: 0, modalities ['rna']: test size: 8569\n",
      "Processing subset 0: ['rna']\n"
     ]
    },
    {
     "name": "stderr",
     "output_type": "stream",
     "text": [
      "/root/anaconda3/lib/python3.7/site-packages/torch/utils/data/dataloader.py:560: UserWarning: This DataLoader will create 64 worker processes in total. Our suggested max number of worker in current system is 32, which is smaller than what this DataLoader is going to create. Please be aware that excessive worker creation might get DataLoader running slow or even freeze, lower the worker number to avoid potential slowness/freeze if necessary.\n",
      "  cpuset_checked))\n"
     ]
    },
    {
     "name": "stdout",
     "output_type": "stream",
     "text": [
      "Epoch: 568/600, train loss: 663.790\n",
      "\n",
      "Inferring ...\n",
      "Subset: 0, modalities ['rna']: test size: 8569\n",
      "Processing subset 0: ['rna']\n"
     ]
    },
    {
     "name": "stderr",
     "output_type": "stream",
     "text": [
      "/root/anaconda3/lib/python3.7/site-packages/torch/utils/data/dataloader.py:560: UserWarning: This DataLoader will create 64 worker processes in total. Our suggested max number of worker in current system is 32, which is smaller than what this DataLoader is going to create. Please be aware that excessive worker creation might get DataLoader running slow or even freeze, lower the worker number to avoid potential slowness/freeze if necessary.\n",
      "  cpuset_checked))\n"
     ]
    },
    {
     "name": "stdout",
     "output_type": "stream",
     "text": [
      "Epoch: 569/600, train loss: 664.442\n",
      "\n",
      "Inferring ...\n",
      "Subset: 0, modalities ['rna']: test size: 8569\n",
      "Processing subset 0: ['rna']\n"
     ]
    },
    {
     "name": "stderr",
     "output_type": "stream",
     "text": [
      "/root/anaconda3/lib/python3.7/site-packages/torch/utils/data/dataloader.py:560: UserWarning: This DataLoader will create 64 worker processes in total. Our suggested max number of worker in current system is 32, which is smaller than what this DataLoader is going to create. Please be aware that excessive worker creation might get DataLoader running slow or even freeze, lower the worker number to avoid potential slowness/freeze if necessary.\n",
      "  cpuset_checked))\n"
     ]
    },
    {
     "name": "stdout",
     "output_type": "stream",
     "text": [
      "Epoch: 570/600, train loss: 666.104\n",
      "\n",
      "Inferring ...\n",
      "Subset: 0, modalities ['rna']: test size: 8569\n",
      "Processing subset 0: ['rna']\n"
     ]
    },
    {
     "name": "stderr",
     "output_type": "stream",
     "text": [
      "/root/anaconda3/lib/python3.7/site-packages/torch/utils/data/dataloader.py:560: UserWarning: This DataLoader will create 64 worker processes in total. Our suggested max number of worker in current system is 32, which is smaller than what this DataLoader is going to create. Please be aware that excessive worker creation might get DataLoader running slow or even freeze, lower the worker number to avoid potential slowness/freeze if necessary.\n",
      "  cpuset_checked))\n"
     ]
    },
    {
     "name": "stdout",
     "output_type": "stream",
     "text": [
      "Epoch: 571/600, train loss: 663.347\n",
      "\n",
      "Inferring ...\n",
      "Subset: 0, modalities ['rna']: test size: 8569\n",
      "Processing subset 0: ['rna']\n"
     ]
    },
    {
     "name": "stderr",
     "output_type": "stream",
     "text": [
      "/root/anaconda3/lib/python3.7/site-packages/torch/utils/data/dataloader.py:560: UserWarning: This DataLoader will create 64 worker processes in total. Our suggested max number of worker in current system is 32, which is smaller than what this DataLoader is going to create. Please be aware that excessive worker creation might get DataLoader running slow or even freeze, lower the worker number to avoid potential slowness/freeze if necessary.\n",
      "  cpuset_checked))\n"
     ]
    },
    {
     "name": "stdout",
     "output_type": "stream",
     "text": [
      "Epoch: 572/600, train loss: 663.820\n",
      "\n",
      "Inferring ...\n",
      "Subset: 0, modalities ['rna']: test size: 8569\n",
      "Processing subset 0: ['rna']\n"
     ]
    },
    {
     "name": "stderr",
     "output_type": "stream",
     "text": [
      "/root/anaconda3/lib/python3.7/site-packages/torch/utils/data/dataloader.py:560: UserWarning: This DataLoader will create 64 worker processes in total. Our suggested max number of worker in current system is 32, which is smaller than what this DataLoader is going to create. Please be aware that excessive worker creation might get DataLoader running slow or even freeze, lower the worker number to avoid potential slowness/freeze if necessary.\n",
      "  cpuset_checked))\n"
     ]
    },
    {
     "name": "stdout",
     "output_type": "stream",
     "text": [
      "Epoch: 573/600, train loss: 663.902\n",
      "\n",
      "Inferring ...\n",
      "Subset: 0, modalities ['rna']: test size: 8569\n",
      "Processing subset 0: ['rna']\n"
     ]
    },
    {
     "name": "stderr",
     "output_type": "stream",
     "text": [
      "/root/anaconda3/lib/python3.7/site-packages/torch/utils/data/dataloader.py:560: UserWarning: This DataLoader will create 64 worker processes in total. Our suggested max number of worker in current system is 32, which is smaller than what this DataLoader is going to create. Please be aware that excessive worker creation might get DataLoader running slow or even freeze, lower the worker number to avoid potential slowness/freeze if necessary.\n",
      "  cpuset_checked))\n"
     ]
    },
    {
     "name": "stdout",
     "output_type": "stream",
     "text": [
      "Epoch: 574/600, train loss: 663.954\n",
      "\n",
      "Inferring ...\n",
      "Subset: 0, modalities ['rna']: test size: 8569\n",
      "Processing subset 0: ['rna']\n"
     ]
    },
    {
     "name": "stderr",
     "output_type": "stream",
     "text": [
      "/root/anaconda3/lib/python3.7/site-packages/torch/utils/data/dataloader.py:560: UserWarning: This DataLoader will create 64 worker processes in total. Our suggested max number of worker in current system is 32, which is smaller than what this DataLoader is going to create. Please be aware that excessive worker creation might get DataLoader running slow or even freeze, lower the worker number to avoid potential slowness/freeze if necessary.\n",
      "  cpuset_checked))\n"
     ]
    },
    {
     "name": "stdout",
     "output_type": "stream",
     "text": [
      "Epoch: 575/600, train loss: 658.823\n",
      "\n",
      "Inferring ...\n",
      "Subset: 0, modalities ['rna']: test size: 8569\n",
      "Processing subset 0: ['rna']\n"
     ]
    },
    {
     "name": "stderr",
     "output_type": "stream",
     "text": [
      "/root/anaconda3/lib/python3.7/site-packages/torch/utils/data/dataloader.py:560: UserWarning: This DataLoader will create 64 worker processes in total. Our suggested max number of worker in current system is 32, which is smaller than what this DataLoader is going to create. Please be aware that excessive worker creation might get DataLoader running slow or even freeze, lower the worker number to avoid potential slowness/freeze if necessary.\n",
      "  cpuset_checked))\n"
     ]
    },
    {
     "name": "stdout",
     "output_type": "stream",
     "text": [
      "Epoch: 576/600, train loss: 662.720\n",
      "\n",
      "Inferring ...\n",
      "Subset: 0, modalities ['rna']: test size: 8569\n",
      "Processing subset 0: ['rna']\n"
     ]
    },
    {
     "name": "stderr",
     "output_type": "stream",
     "text": [
      "/root/anaconda3/lib/python3.7/site-packages/torch/utils/data/dataloader.py:560: UserWarning: This DataLoader will create 64 worker processes in total. Our suggested max number of worker in current system is 32, which is smaller than what this DataLoader is going to create. Please be aware that excessive worker creation might get DataLoader running slow or even freeze, lower the worker number to avoid potential slowness/freeze if necessary.\n",
      "  cpuset_checked))\n"
     ]
    },
    {
     "name": "stdout",
     "output_type": "stream",
     "text": [
      "Epoch: 577/600, train loss: 661.011\n",
      "\n",
      "Inferring ...\n",
      "Subset: 0, modalities ['rna']: test size: 8569\n",
      "Processing subset 0: ['rna']\n"
     ]
    },
    {
     "name": "stderr",
     "output_type": "stream",
     "text": [
      "/root/anaconda3/lib/python3.7/site-packages/torch/utils/data/dataloader.py:560: UserWarning: This DataLoader will create 64 worker processes in total. Our suggested max number of worker in current system is 32, which is smaller than what this DataLoader is going to create. Please be aware that excessive worker creation might get DataLoader running slow or even freeze, lower the worker number to avoid potential slowness/freeze if necessary.\n",
      "  cpuset_checked))\n"
     ]
    },
    {
     "name": "stdout",
     "output_type": "stream",
     "text": [
      "Epoch: 578/600, train loss: 662.103\n",
      "\n",
      "Inferring ...\n",
      "Subset: 0, modalities ['rna']: test size: 8569\n",
      "Processing subset 0: ['rna']\n"
     ]
    },
    {
     "name": "stderr",
     "output_type": "stream",
     "text": [
      "/root/anaconda3/lib/python3.7/site-packages/torch/utils/data/dataloader.py:560: UserWarning: This DataLoader will create 64 worker processes in total. Our suggested max number of worker in current system is 32, which is smaller than what this DataLoader is going to create. Please be aware that excessive worker creation might get DataLoader running slow or even freeze, lower the worker number to avoid potential slowness/freeze if necessary.\n",
      "  cpuset_checked))\n"
     ]
    },
    {
     "name": "stdout",
     "output_type": "stream",
     "text": [
      "Epoch: 579/600, train loss: 662.174\n",
      "\n",
      "Inferring ...\n",
      "Subset: 0, modalities ['rna']: test size: 8569\n",
      "Processing subset 0: ['rna']\n"
     ]
    },
    {
     "name": "stderr",
     "output_type": "stream",
     "text": [
      "/root/anaconda3/lib/python3.7/site-packages/torch/utils/data/dataloader.py:560: UserWarning: This DataLoader will create 64 worker processes in total. Our suggested max number of worker in current system is 32, which is smaller than what this DataLoader is going to create. Please be aware that excessive worker creation might get DataLoader running slow or even freeze, lower the worker number to avoid potential slowness/freeze if necessary.\n",
      "  cpuset_checked))\n"
     ]
    },
    {
     "name": "stdout",
     "output_type": "stream",
     "text": [
      "Epoch: 580/600, train loss: 660.513\n",
      "\n",
      "Inferring ...\n",
      "Subset: 0, modalities ['rna']: test size: 8569\n",
      "Processing subset 0: ['rna']\n"
     ]
    },
    {
     "name": "stderr",
     "output_type": "stream",
     "text": [
      "/root/anaconda3/lib/python3.7/site-packages/torch/utils/data/dataloader.py:560: UserWarning: This DataLoader will create 64 worker processes in total. Our suggested max number of worker in current system is 32, which is smaller than what this DataLoader is going to create. Please be aware that excessive worker creation might get DataLoader running slow or even freeze, lower the worker number to avoid potential slowness/freeze if necessary.\n",
      "  cpuset_checked))\n"
     ]
    },
    {
     "name": "stdout",
     "output_type": "stream",
     "text": [
      "Epoch: 581/600, train loss: 658.594\n",
      "\n",
      "Inferring ...\n",
      "Subset: 0, modalities ['rna']: test size: 8569\n",
      "Processing subset 0: ['rna']\n"
     ]
    },
    {
     "name": "stderr",
     "output_type": "stream",
     "text": [
      "/root/anaconda3/lib/python3.7/site-packages/torch/utils/data/dataloader.py:560: UserWarning: This DataLoader will create 64 worker processes in total. Our suggested max number of worker in current system is 32, which is smaller than what this DataLoader is going to create. Please be aware that excessive worker creation might get DataLoader running slow or even freeze, lower the worker number to avoid potential slowness/freeze if necessary.\n",
      "  cpuset_checked))\n"
     ]
    },
    {
     "name": "stdout",
     "output_type": "stream",
     "text": [
      "Epoch: 582/600, train loss: 659.034\n",
      "\n",
      "Inferring ...\n",
      "Subset: 0, modalities ['rna']: test size: 8569\n",
      "Processing subset 0: ['rna']\n"
     ]
    },
    {
     "name": "stderr",
     "output_type": "stream",
     "text": [
      "/root/anaconda3/lib/python3.7/site-packages/torch/utils/data/dataloader.py:560: UserWarning: This DataLoader will create 64 worker processes in total. Our suggested max number of worker in current system is 32, which is smaller than what this DataLoader is going to create. Please be aware that excessive worker creation might get DataLoader running slow or even freeze, lower the worker number to avoid potential slowness/freeze if necessary.\n",
      "  cpuset_checked))\n"
     ]
    },
    {
     "name": "stdout",
     "output_type": "stream",
     "text": [
      "Epoch: 583/600, train loss: 658.610\n",
      "\n",
      "Inferring ...\n",
      "Subset: 0, modalities ['rna']: test size: 8569\n",
      "Processing subset 0: ['rna']\n"
     ]
    },
    {
     "name": "stderr",
     "output_type": "stream",
     "text": [
      "/root/anaconda3/lib/python3.7/site-packages/torch/utils/data/dataloader.py:560: UserWarning: This DataLoader will create 64 worker processes in total. Our suggested max number of worker in current system is 32, which is smaller than what this DataLoader is going to create. Please be aware that excessive worker creation might get DataLoader running slow or even freeze, lower the worker number to avoid potential slowness/freeze if necessary.\n",
      "  cpuset_checked))\n"
     ]
    },
    {
     "name": "stdout",
     "output_type": "stream",
     "text": [
      "Epoch: 584/600, train loss: 661.757\n",
      "\n",
      "Inferring ...\n",
      "Subset: 0, modalities ['rna']: test size: 8569\n",
      "Processing subset 0: ['rna']\n"
     ]
    },
    {
     "name": "stderr",
     "output_type": "stream",
     "text": [
      "/root/anaconda3/lib/python3.7/site-packages/torch/utils/data/dataloader.py:560: UserWarning: This DataLoader will create 64 worker processes in total. Our suggested max number of worker in current system is 32, which is smaller than what this DataLoader is going to create. Please be aware that excessive worker creation might get DataLoader running slow or even freeze, lower the worker number to avoid potential slowness/freeze if necessary.\n",
      "  cpuset_checked))\n"
     ]
    },
    {
     "name": "stdout",
     "output_type": "stream",
     "text": [
      "Epoch: 585/600, train loss: 660.506\n",
      "\n",
      "Inferring ...\n",
      "Subset: 0, modalities ['rna']: test size: 8569\n",
      "Processing subset 0: ['rna']\n"
     ]
    },
    {
     "name": "stderr",
     "output_type": "stream",
     "text": [
      "/root/anaconda3/lib/python3.7/site-packages/torch/utils/data/dataloader.py:560: UserWarning: This DataLoader will create 64 worker processes in total. Our suggested max number of worker in current system is 32, which is smaller than what this DataLoader is going to create. Please be aware that excessive worker creation might get DataLoader running slow or even freeze, lower the worker number to avoid potential slowness/freeze if necessary.\n",
      "  cpuset_checked))\n"
     ]
    },
    {
     "name": "stdout",
     "output_type": "stream",
     "text": [
      "Epoch: 586/600, train loss: 658.156\n",
      "\n",
      "Inferring ...\n",
      "Subset: 0, modalities ['rna']: test size: 8569\n",
      "Processing subset 0: ['rna']\n"
     ]
    },
    {
     "name": "stderr",
     "output_type": "stream",
     "text": [
      "/root/anaconda3/lib/python3.7/site-packages/torch/utils/data/dataloader.py:560: UserWarning: This DataLoader will create 64 worker processes in total. Our suggested max number of worker in current system is 32, which is smaller than what this DataLoader is going to create. Please be aware that excessive worker creation might get DataLoader running slow or even freeze, lower the worker number to avoid potential slowness/freeze if necessary.\n",
      "  cpuset_checked))\n"
     ]
    },
    {
     "name": "stdout",
     "output_type": "stream",
     "text": [
      "Epoch: 587/600, train loss: 656.009\n",
      "\n",
      "Inferring ...\n",
      "Subset: 0, modalities ['rna']: test size: 8569\n",
      "Processing subset 0: ['rna']\n"
     ]
    },
    {
     "name": "stderr",
     "output_type": "stream",
     "text": [
      "/root/anaconda3/lib/python3.7/site-packages/torch/utils/data/dataloader.py:560: UserWarning: This DataLoader will create 64 worker processes in total. Our suggested max number of worker in current system is 32, which is smaller than what this DataLoader is going to create. Please be aware that excessive worker creation might get DataLoader running slow or even freeze, lower the worker number to avoid potential slowness/freeze if necessary.\n",
      "  cpuset_checked))\n"
     ]
    },
    {
     "name": "stdout",
     "output_type": "stream",
     "text": [
      "Epoch: 588/600, train loss: 660.448\n",
      "\n",
      "Inferring ...\n",
      "Subset: 0, modalities ['rna']: test size: 8569\n",
      "Processing subset 0: ['rna']\n"
     ]
    },
    {
     "name": "stderr",
     "output_type": "stream",
     "text": [
      "/root/anaconda3/lib/python3.7/site-packages/torch/utils/data/dataloader.py:560: UserWarning: This DataLoader will create 64 worker processes in total. Our suggested max number of worker in current system is 32, which is smaller than what this DataLoader is going to create. Please be aware that excessive worker creation might get DataLoader running slow or even freeze, lower the worker number to avoid potential slowness/freeze if necessary.\n",
      "  cpuset_checked))\n"
     ]
    },
    {
     "name": "stdout",
     "output_type": "stream",
     "text": [
      "Epoch: 589/600, train loss: 659.363\n",
      "\n",
      "Inferring ...\n",
      "Subset: 0, modalities ['rna']: test size: 8569\n",
      "Processing subset 0: ['rna']\n"
     ]
    },
    {
     "name": "stderr",
     "output_type": "stream",
     "text": [
      "/root/anaconda3/lib/python3.7/site-packages/torch/utils/data/dataloader.py:560: UserWarning: This DataLoader will create 64 worker processes in total. Our suggested max number of worker in current system is 32, which is smaller than what this DataLoader is going to create. Please be aware that excessive worker creation might get DataLoader running slow or even freeze, lower the worker number to avoid potential slowness/freeze if necessary.\n",
      "  cpuset_checked))\n"
     ]
    },
    {
     "name": "stdout",
     "output_type": "stream",
     "text": [
      "Epoch: 590/600, train loss: 654.521\n",
      "\n",
      "Inferring ...\n",
      "Subset: 0, modalities ['rna']: test size: 8569\n",
      "Processing subset 0: ['rna']\n"
     ]
    },
    {
     "name": "stderr",
     "output_type": "stream",
     "text": [
      "/root/anaconda3/lib/python3.7/site-packages/torch/utils/data/dataloader.py:560: UserWarning: This DataLoader will create 64 worker processes in total. Our suggested max number of worker in current system is 32, which is smaller than what this DataLoader is going to create. Please be aware that excessive worker creation might get DataLoader running slow or even freeze, lower the worker number to avoid potential slowness/freeze if necessary.\n",
      "  cpuset_checked))\n"
     ]
    },
    {
     "name": "stdout",
     "output_type": "stream",
     "text": [
      "Epoch: 591/600, train loss: 658.418\n",
      "\n",
      "Inferring ...\n",
      "Subset: 0, modalities ['rna']: test size: 8569\n",
      "Processing subset 0: ['rna']\n"
     ]
    },
    {
     "name": "stderr",
     "output_type": "stream",
     "text": [
      "/root/anaconda3/lib/python3.7/site-packages/torch/utils/data/dataloader.py:560: UserWarning: This DataLoader will create 64 worker processes in total. Our suggested max number of worker in current system is 32, which is smaller than what this DataLoader is going to create. Please be aware that excessive worker creation might get DataLoader running slow or even freeze, lower the worker number to avoid potential slowness/freeze if necessary.\n",
      "  cpuset_checked))\n"
     ]
    },
    {
     "name": "stdout",
     "output_type": "stream",
     "text": [
      "Epoch: 592/600, train loss: 653.508\n",
      "\n",
      "Inferring ...\n",
      "Subset: 0, modalities ['rna']: test size: 8569\n",
      "Processing subset 0: ['rna']\n"
     ]
    },
    {
     "name": "stderr",
     "output_type": "stream",
     "text": [
      "/root/anaconda3/lib/python3.7/site-packages/torch/utils/data/dataloader.py:560: UserWarning: This DataLoader will create 64 worker processes in total. Our suggested max number of worker in current system is 32, which is smaller than what this DataLoader is going to create. Please be aware that excessive worker creation might get DataLoader running slow or even freeze, lower the worker number to avoid potential slowness/freeze if necessary.\n",
      "  cpuset_checked))\n"
     ]
    },
    {
     "name": "stdout",
     "output_type": "stream",
     "text": [
      "Epoch: 593/600, train loss: 659.073\n",
      "\n",
      "Inferring ...\n",
      "Subset: 0, modalities ['rna']: test size: 8569\n",
      "Processing subset 0: ['rna']\n"
     ]
    },
    {
     "name": "stderr",
     "output_type": "stream",
     "text": [
      "/root/anaconda3/lib/python3.7/site-packages/torch/utils/data/dataloader.py:560: UserWarning: This DataLoader will create 64 worker processes in total. Our suggested max number of worker in current system is 32, which is smaller than what this DataLoader is going to create. Please be aware that excessive worker creation might get DataLoader running slow or even freeze, lower the worker number to avoid potential slowness/freeze if necessary.\n",
      "  cpuset_checked))\n"
     ]
    },
    {
     "name": "stdout",
     "output_type": "stream",
     "text": [
      "Epoch: 594/600, train loss: 655.843\n",
      "\n",
      "Inferring ...\n",
      "Subset: 0, modalities ['rna']: test size: 8569\n",
      "Processing subset 0: ['rna']\n"
     ]
    },
    {
     "name": "stderr",
     "output_type": "stream",
     "text": [
      "/root/anaconda3/lib/python3.7/site-packages/torch/utils/data/dataloader.py:560: UserWarning: This DataLoader will create 64 worker processes in total. Our suggested max number of worker in current system is 32, which is smaller than what this DataLoader is going to create. Please be aware that excessive worker creation might get DataLoader running slow or even freeze, lower the worker number to avoid potential slowness/freeze if necessary.\n",
      "  cpuset_checked))\n"
     ]
    },
    {
     "name": "stdout",
     "output_type": "stream",
     "text": [
      "Epoch: 595/600, train loss: 655.906\n",
      "\n",
      "Inferring ...\n",
      "Subset: 0, modalities ['rna']: test size: 8569\n",
      "Processing subset 0: ['rna']\n"
     ]
    },
    {
     "name": "stderr",
     "output_type": "stream",
     "text": [
      "/root/anaconda3/lib/python3.7/site-packages/torch/utils/data/dataloader.py:560: UserWarning: This DataLoader will create 64 worker processes in total. Our suggested max number of worker in current system is 32, which is smaller than what this DataLoader is going to create. Please be aware that excessive worker creation might get DataLoader running slow or even freeze, lower the worker number to avoid potential slowness/freeze if necessary.\n",
      "  cpuset_checked))\n"
     ]
    },
    {
     "name": "stdout",
     "output_type": "stream",
     "text": [
      "Epoch: 596/600, train loss: 653.545\n",
      "\n",
      "Inferring ...\n",
      "Subset: 0, modalities ['rna']: test size: 8569\n",
      "Processing subset 0: ['rna']\n"
     ]
    },
    {
     "name": "stderr",
     "output_type": "stream",
     "text": [
      "/root/anaconda3/lib/python3.7/site-packages/torch/utils/data/dataloader.py:560: UserWarning: This DataLoader will create 64 worker processes in total. Our suggested max number of worker in current system is 32, which is smaller than what this DataLoader is going to create. Please be aware that excessive worker creation might get DataLoader running slow or even freeze, lower the worker number to avoid potential slowness/freeze if necessary.\n",
      "  cpuset_checked))\n"
     ]
    },
    {
     "name": "stdout",
     "output_type": "stream",
     "text": [
      "Epoch: 597/600, train loss: 651.863\n",
      "\n",
      "Inferring ...\n",
      "Subset: 0, modalities ['rna']: test size: 8569\n",
      "Processing subset 0: ['rna']\n"
     ]
    },
    {
     "name": "stderr",
     "output_type": "stream",
     "text": [
      "/root/anaconda3/lib/python3.7/site-packages/torch/utils/data/dataloader.py:560: UserWarning: This DataLoader will create 64 worker processes in total. Our suggested max number of worker in current system is 32, which is smaller than what this DataLoader is going to create. Please be aware that excessive worker creation might get DataLoader running slow or even freeze, lower the worker number to avoid potential slowness/freeze if necessary.\n",
      "  cpuset_checked))\n"
     ]
    },
    {
     "name": "stdout",
     "output_type": "stream",
     "text": [
      "Epoch: 598/600, train loss: 652.663\n",
      "\n",
      "Inferring ...\n",
      "Subset: 0, modalities ['rna']: test size: 8569\n",
      "Processing subset 0: ['rna']\n"
     ]
    },
    {
     "name": "stderr",
     "output_type": "stream",
     "text": [
      "/root/anaconda3/lib/python3.7/site-packages/torch/utils/data/dataloader.py:560: UserWarning: This DataLoader will create 64 worker processes in total. Our suggested max number of worker in current system is 32, which is smaller than what this DataLoader is going to create. Please be aware that excessive worker creation might get DataLoader running slow or even freeze, lower the worker number to avoid potential slowness/freeze if necessary.\n",
      "  cpuset_checked))\n"
     ]
    },
    {
     "name": "stdout",
     "output_type": "stream",
     "text": [
      "Epoch: 599/600, train loss: 653.426\n",
      "\n",
      "Inferring ...\n",
      "Subset: 0, modalities ['rna']: test size: 8569\n",
      "Processing subset 0: ['rna']\n"
     ]
    },
    {
     "name": "stderr",
     "output_type": "stream",
     "text": [
      "/root/anaconda3/lib/python3.7/site-packages/torch/utils/data/dataloader.py:560: UserWarning: This DataLoader will create 64 worker processes in total. Our suggested max number of worker in current system is 32, which is smaller than what this DataLoader is going to create. Please be aware that excessive worker creation might get DataLoader running slow or even freeze, lower the worker number to avoid potential slowness/freeze if necessary.\n",
      "  cpuset_checked))\n"
     ]
    },
    {
     "name": "stdout",
     "output_type": "stream",
     "text": [
      "Epoch: 600/600, train loss: 650.863\n",
      "\n",
      "Inferring ...\n",
      "Subset: 0, modalities ['rna']: test size: 8569\n",
      "Processing subset 0: ['rna']\n"
     ]
    },
    {
     "name": "stderr",
     "output_type": "stream",
     "text": [
      "/root/anaconda3/lib/python3.7/site-packages/torch/utils/data/dataloader.py:560: UserWarning: This DataLoader will create 64 worker processes in total. Our suggested max number of worker in current system is 32, which is smaller than what this DataLoader is going to create. Please be aware that excessive worker creation might get DataLoader running slow or even freeze, lower the worker number to avoid potential slowness/freeze if necessary.\n",
      "  cpuset_checked))\n"
     ]
    },
    {
     "name": "stdout",
     "output_type": "stream",
     "text": [
      "Inferring ...\n",
      "Subset: 0, modalities ['rna']: test size: 8569\n",
      "Processing subset 0: ['rna']\n",
      "Removing directory \"result/baron_single/e0/default/represent/subset_0/z/joint\"\n",
      "Removing directory \"result/baron_single/e0/default/represent/subset_0/z/rna\"\n",
      "Removing directory \"result/baron_single/e0/default/represent/subset_0/x_r_pre/rna\"\n",
      "Removing directory \"result/baron_single/e0/default/represent/subset_0/x/rna\"\n"
     ]
    },
    {
     "name": "stderr",
     "output_type": "stream",
     "text": [
      "100%|██████████| 17/17 [00:30<00:00,  1.81s/it]\n"
     ]
    },
    {
     "name": "stdout",
     "output_type": "stream",
     "text": [
      "ari: 0.8368296343972286\n",
      "nmi: 0.8619383481887019\n",
      "sc: 0.6105973869562149\n"
     ]
    }
   ],
   "source": [
    "\n",
    "initialize()\n",
    "# if o.action == \"print_model\":\n",
    "print_model() ##\n",
    "# elif o.action == \"train\":\n",
    "train() #\n",
    "# elif o.action == \"test\":\n",
    "# test() ###\n",
    "# elif o.action == \"infer_latent\":\n",
    "\n"
   ]
  },
  {
   "cell_type": "code",
   "execution_count": 15,
   "metadata": {},
   "outputs": [
    {
     "name": "stdout",
     "output_type": "stream",
     "text": [
      "Inferring ...\n",
      "Subset: 0, modalities ['rna']: test size: 8569\n",
      "Processing subset 0: ['rna']\n",
      "Removing directory \"result/baron_single/e0/default/represent/subset_0/z/joint\"\n",
      "Removing directory \"result/baron_single/e0/default/represent/subset_0/z/rna\"\n",
      "Removing directory \"result/baron_single/e0/default/represent/subset_0/x_r_pre/rna\"\n",
      "Removing directory \"result/baron_single/e0/default/represent/subset_0/x/rna\"\n"
     ]
    },
    {
     "name": "stderr",
     "output_type": "stream",
     "text": [
      "/root/anaconda3/lib/python3.7/site-packages/torch/utils/data/dataloader.py:560: UserWarning: This DataLoader will create 64 worker processes in total. Our suggested max number of worker in current system is 32, which is smaller than what this DataLoader is going to create. Please be aware that excessive worker creation might get DataLoader running slow or even freeze, lower the worker number to avoid potential slowness/freeze if necessary.\n",
      "  cpuset_checked))\n",
      "100%|██████████| 17/17 [00:26<00:00,  1.57s/it]\n"
     ]
    },
    {
     "name": "stdout",
     "output_type": "stream",
     "text": [
      "ari: 0.8347467621487021\n",
      "nmi: 0.8546145395317308\n",
      "sc: 0.608156755566597\n"
     ]
    }
   ],
   "source": [
    "infer_latent(only_joint=False, impute=False, save_input=True)###"
   ]
  }
 ],
 "metadata": {
  "kernelspec": {
   "display_name": "base",
   "language": "python",
   "name": "python3"
  },
  "language_info": {
   "codemirror_mode": {
    "name": "ipython",
    "version": 3
   },
   "file_extension": ".py",
   "mimetype": "text/x-python",
   "name": "python",
   "nbconvert_exporter": "python",
   "pygments_lexer": "ipython3",
   "version": "3.7.11"
  },
  "orig_nbformat": 4
 },
 "nbformat": 4,
 "nbformat_minor": 2
}
