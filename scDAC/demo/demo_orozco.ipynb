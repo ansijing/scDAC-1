{
 "cells": [
  {
   "cell_type": "code",
   "execution_count": 1,
   "metadata": {},
   "outputs": [],
   "source": [
    "from os import path\n",
    "from os.path import join as pj \n",
    "import time\n",
    "import argparse \n",
    "\n",
    "from tqdm import tqdm \n",
    "import math\n",
    "import numpy as np\n",
    "import torch as th\n",
    "import pandas as pd\n",
    "import os\n",
    "from torch import nn, autograd\n",
    "import matplotlib.pyplot as plt\n",
    "import umap\n",
    "\n",
    "from modules import models, utils\n",
    "from modules.datasets import MultimodalDataset\n",
    "from modules.datasets import MultiDatasetSampler\n",
    "from sklearn.metrics.cluster import adjusted_rand_score\n",
    "from sklearn.metrics.cluster import normalized_mutual_info_score\n",
    "from sklearn import metrics\n",
    "from sklearn.mixture import BayesianGaussianMixture\n",
    "from sklearn.metrics import silhouette_score"
   ]
  },
  {
   "cell_type": "code",
   "execution_count": 2,
   "metadata": {},
   "outputs": [],
   "source": [
    "parser = argparse.ArgumentParser()\n",
    "## Task\n",
    "parser.add_argument('--task', type=str, default='Orozco',\n",
    "    help=\"Choose a task\")\n",
    "parser.add_argument('--reference', type=str, default='',\n",
    "    help=\"Choose a reference task\")\n",
    "parser.add_argument('--exp', type=str, default='e0',\n",
    "    help=\"Choose an experiment\")\n",
    "parser.add_argument('--model', type=str, default='default',\n",
    "    help=\"Choose a model configuration\")\n",
    "# parser.add_argument('--data', type=str, default='sup',\n",
    "#     help=\"Choose a data configuration\")\n",
    "parser.add_argument('--action', type=str, default='train',\n",
    "    help=\"Choose an action to run\")\n",
    "parser.add_argument('--method', type=str, default='scDAC',\n",
    "    help=\"Choose an method to benchmark\")\n",
    "parser.add_argument('--init-model', type=str, default='',\n",
    "    help=\"Load a saved model\")\n",
    "parser.add_argument('--mods-conditioned', type=str, nargs='+', default=[],\n",
    "    help=\"Modalities conditioned for sampling\")\n",
    "parser.add_argument('--data-conditioned', type=str, default='prior.csv',\n",
    "    help=\"Data conditioned for sampling\")\n",
    "parser.add_argument('--sample-num', type=int, default=0,\n",
    "    help='Number of samples to be generated')\n",
    "parser.add_argument('--input-mods', type=str, nargs='+', default=[],\n",
    "    help=\"Input modalities for transformation\")\n",
    "## Training\n",
    "parser.add_argument('--epoch-num', type=int, default=600,\n",
    "    help='Number of epochs to train')\n",
    "parser.add_argument('--lr', type=float, default=1e-4,\n",
    "    help='Learning rate')\n",
    "#parser.add_argument('--dim_logitx', type=int, default=64,\n",
    "#    help='dim_logitx')\n",
    "parser.add_argument('--grad-clip', type=float, default=-1,\n",
    "    help='Gradient clipping value')\n",
    "parser.add_argument('--s-drop-rate', type=float, default=0.1,\n",
    "    help=\"Probility of dropping out subject ID during training\")\n",
    "parser.add_argument('--seed', type=int, default=-1,\n",
    "    help=\"Set the random seed to reproduce the results\")\n",
    "parser.add_argument('--use-shm', type=int, default=1,\n",
    "    help=\"Use shared memory to accelerate training\")\n",
    "## Debugging\n",
    "parser.add_argument('--print-iters', type=int, default=-1,\n",
    "    help=\"Iterations to print training messages\")\n",
    "parser.add_argument('--log-epochs', type=int, default=100,\n",
    "    help='Epochs to log the training states')\n",
    "parser.add_argument('--save-epochs', type=int, default=1,\n",
    "    help='Epochs to save the latest training states (overwrite previous ones)')\n",
    "parser.add_argument('--time', type=int, default=0, choices=[0, 1],\n",
    "    help='Time the forward and backward passes')\n",
    "parser.add_argument('--debug', type=int, default=1, choices=[0, 1],\n",
    "    help='Print intermediate variables')\n",
    "# o, _ = parser.parse_known_args()  # for python interactive\n",
    "o = parser.parse_known_args()[0]"
   ]
  },
  {
   "cell_type": "code",
   "execution_count": 3,
   "metadata": {},
   "outputs": [],
   "source": [
    "data_config = None\n",
    "net = None\n",
    "#discriminator = None \n",
    "optimizer_net = None\n",
    "#optimizer_disc = None\n",
    "benchmark = {\n",
    "    \"train_loss\": [],\n",
    "    \"test_loss\": [],\n",
    "    \"foscttm\": [],\n",
    "    \"epoch_id_start\": 0\n",
    "}"
   ]
  },
  {
   "cell_type": "code",
   "execution_count": 4,
   "metadata": {},
   "outputs": [],
   "source": [
    "def main():\n",
    "    initialize()\n",
    "    if o.action == \"print_model\":\n",
    "        print_model() ##\n",
    "    elif o.action == \"train\":\n",
    "        train() #\n",
    "    elif o.action == \"test\":\n",
    "        test() ###\n",
    "    elif o.action == \"infer_latent\":\n",
    "        infer_latent(only_joint=False, impute=False, save_input=True)###\n",
    "\n",
    "    else:\n",
    "        assert False, \"Invalid action!\""
   ]
  },
  {
   "cell_type": "code",
   "execution_count": 5,
   "metadata": {},
   "outputs": [],
   "source": [
    "def initialize():\n",
    "    init_seed() ##\n",
    "    init_dirs() ##\n",
    "    load_data_config() ##\n",
    "    load_model_config() ##\n",
    "    get_gpu_config() ##\n",
    "    init_model() ##\n",
    "\n",
    "\n",
    "def init_seed():\n",
    "    if o.seed >= 0:\n",
    "        np.random.seed(o.seed) \n",
    "        th.manual_seed(o.seed) \n",
    "        th.cuda.manual_seed_all(o.seed)\n",
    "\n",
    "\n",
    "def init_dirs():\n",
    "    if o.use_shm == 1:\n",
    "        o.data_dir = pj(\"/root/data/asj/2023/0118/sc-transformer-gmvaextoytoz/data\", \"processed\",  o.task)\n",
    "    else:\n",
    "        o.data_dir = pj(\"/root/data/asj/2023/0118/sc-transformer-gmvaextoytoz/data\", \"processed\", o.task)\n",
    "    o.result_dir = pj(\"result\", o.task, o.exp, o.model)\n",
    "    if o.reference == '': \n",
    "        o.train_dir = pj(\"result\", o.task, o.exp, o.model, \"train\")\n",
    "    else:\n",
    "        o.train_dir = pj(\"result\", o.reference, o.exp, o.model, \"train\")\n",
    "    o.debug_dir = pj(o.result_dir, \"debug\")\n",
    "    utils.mkdirs([o.train_dir, o.debug_dir])\n",
    "    print(\"Task: %s\\nExperiment: %s\\nModel: %s\\n\" % (o.task, o.exp, o.model))\n",
    "\n",
    "\n",
    "def load_data_config():\n",
    "    get_dims_x()\n",
    "    o.mods = list(o.dims_x.keys())\n",
    "    o.mod_num = len(o.dims_x)\n",
    "    global data_config\n",
    "    data_config = utils.load_toml(\"configs/data.toml\")[o.task]\n",
    "    for k, v in data_config.items():\n",
    "        vars(o)[k] = v\n",
    "\n",
    "    o.s_joint, o.combs, o.s, o.dims_s = utils.gen_all_batch_ids(o.s_joint, o.combs)\n",
    "    \n",
    "\n",
    "    \n",
    "    if o.reference != '':\n",
    "        data_config_ref = utils.load_toml(\"configs/data.toml\")[o.reference]\n",
    "        _, _, _, o.dims_s = utils.gen_all_batch_ids(data_config_ref[\"s_joint\"], \n",
    "                                                    data_config_ref[\"combs\"])\n",
    "\n",
    "\n",
    "\n",
    "def load_model_config():\n",
    "    model_config = utils.load_toml(\"configs/model.toml\")[\"default\"]\n",
    "    if o.model != \"default\":\n",
    "        model_config.update(utils.load_toml(\"configs/model.toml\")[o.model])\n",
    "    for k, v in model_config.items():\n",
    "        vars(o)[k] = v\n",
    "    o.dim_z = o.dim_c\n",
    "    o.dims_dec_x = o.dims_enc_x[::-1]\n",
    "    if \"dims_enc_chr\" in vars(o).keys():\n",
    "        o.dims_dec_chr = o.dims_enc_chr[::-1]\n",
    "    o.dims_h = {}\n",
    "    for m, dim in o.dims_x.items():\n",
    "        o.dims_h[m] = dim if m != \"atac\" else o.dims_enc_chr[-1] * 22\n",
    "    print(\"dims_h:\", o.dims_h)\n",
    "\n",
    "def get_gpu_config():\n",
    "    o.G = 1  # th.cuda.device_count()  # get GPU number\n",
    "    o.N = 512\n",
    "    assert o.N % o.G == 0, \"Please ensure the mini-batch size can be divided \" \\\n",
    "        \"by the GPU number\"\n",
    "    o.n = o.N // o.G\n",
    "    print(\"Total mini-batch size: %d, GPU number: %d, GPU mini-batch size: %d\" % (o.N, o.G, o.n))\n",
    "\n",
    "\n",
    "def init_model():\n",
    "    \"\"\"\n",
    "    Initialize the model, optimizer, and benchmark\n",
    "    \"\"\"\n",
    "    global net, optimizer_net\n",
    "    net = models.Net_DP(o).cuda()\n",
    "    optimizer_net = th.optim.AdamW(net.parameters(), lr=o.lr)\n",
    "    if o.init_model != '':\n",
    "        fpath = pj(o.train_dir, o.init_model)\n",
    "        savepoint = th.load(fpath+\".pt\")\n",
    "        net.load_state_dict(savepoint['net_states'])\n",
    "        optimizer_net.load_state_dict(savepoint['optim_net_states'])\n",
    "        benchmark.update(utils.load_toml(fpath+\".toml\")['benchmark'])\n",
    "        print('Model is initialized from ' + fpath + \".pt\")\n",
    "    net_param_num = sum([param.data.numel() for param in net.parameters()])\n",
    "    print('Parameter number: %.3f M' % (net_param_num / 1e6))\n",
    "\n",
    "\n",
    "def print_model():\n",
    "    #global net, discriminator\n",
    "    global net\n",
    "    with open(pj(o.result_dir, \"model_architecture.txt\"), 'w') as f:\n",
    "        print(net, file=f)\n",
    "\n",
    "\n",
    "def get_dims_x():\n",
    "    dims_x = utils.load_csv(pj(o.data_dir, \"feat\", \"feat_dims.csv\"))\n",
    "    dims_x = utils.transpose_list(dims_x)\n",
    "    o.dims_x = {}\n",
    "    for i in range(1, len(dims_x)):\n",
    "        m = dims_x[i][0]\n",
    "        if m == \"atac\":\n",
    "            o.dims_chr = list(map(int, dims_x[i][1:]))\n",
    "            o.dims_x[m] = sum(o.dims_chr)\n",
    "        else:\n",
    "            o.dims_x[m] = int(dims_x[i][1])\n",
    "\n",
    "\n",
    "    print(\"Input feature numbers: \", o.dims_x)\n",
    "\n",
    "\n",
    "def train():\n",
    "    train_data_loader_cat = get_dataloader_cat(\"train\")\n",
    "    epoch_id_list = []\n",
    "    ari_list = []\n",
    "    nmi_list = []\n",
    "    sc_list = []\n",
    "\n",
    "    for epoch_id in range(benchmark['epoch_id_start'], o.epoch_num):\n",
    "        run_epoch(train_data_loader_cat, \"train\", epoch_id)\n",
    "        if epoch_id >300:\n",
    "\n",
    "            z = infer_latent_dp(save_input=False)\n",
    "            net.loss_calculator_dp.mean_dp, net.loss_calculator_dp.weight_concentration_dp,net.loss_calculator_dp.mean_precision_dp,net.loss_calculator_dp.precisions_cholesky_dp, net.loss_calculator_dp.degrees_of_freedom_dp, net.scdp.predict_label = dp(z)\n",
    "            epoch_id_list.append(epoch_id)\n",
    "        else:\n",
    "            pass            \n",
    "        check_to_save(epoch_id)"
   ]
  },
  {
   "cell_type": "code",
   "execution_count": 6,
   "metadata": {},
   "outputs": [],
   "source": [
    "if o.task == 'chen_10':\n",
    "    path_label = './data/label_chen_10.csv'\n",
    "elif o.task == 'baron_single':\n",
    "    path_label = '/root/data/asj/2023/0118/sc-transformer-gmvaextoytoz/data/b1/label_seurat/l1.csv'    \n",
    "elif o.task == 'Kozareva_total':\n",
    "    path_label = '/root/data/asj/2023/0118/sc-transformer-gmvaextoytoz/data/k_t/label_seurat/label1.csv'    \n",
    "elif o.task == 'Orozco':\n",
    "    path_label = '/root/data/asj/2023/0118/sc-transformer-gmvaextoytoz/data/o1/label_seurat/label.csv' \n",
    "elif o.task == 'Slyper':\n",
    "    path_label = '/root/data/asj/2023/0118/sc-transformer-gmvaextoytoz/data/s1/label_seurat/label_new.csv' \n",
    "elif o.task == 'Zilionis':\n",
    "    path_label = '/root/data/asj/2023/0118/sc-transformer-gmvaextoytoz/data/z1/label_seurat/label.csv' \n",
    "else:\n",
    "    path_label = './data/label_chen_8.csv'"
   ]
  },
  {
   "cell_type": "code",
   "execution_count": 23,
   "metadata": {},
   "outputs": [],
   "source": [
    "def dp(z):\n",
    "    # z_np = (z).cpu().detach().numpy()   \n",
    "    z_np = z.cpu().detach().numpy()   \n",
    "    bgm = BayesianGaussianMixture(\n",
    "        n_components=50, weight_concentration_prior=1e-10,mean_precision_prior = 80,covariance_type='diag',init_params ='kmeans', max_iter=1000, warm_start = True\n",
    "        ).fit(z_np)\n",
    "    predict_label_array = bgm.predict(z_np)\n",
    "    predict_label_array = bgm.predict(z_np)\n",
    "    predict_label = th.Tensor(np.array(predict_label_array)).unsqueeze(1).cuda()\n",
    "    mean_dp = th.Tensor(np.array(bgm.means_))\n",
    "    weight_concentration_dp = th.Tensor(np.array(bgm.weight_concentration_))\n",
    "    precisions_cholesky_dp = th.Tensor(np.array(bgm.precisions_cholesky_))\n",
    "    degrees_of_freedom_dp = th.Tensor(np.array(bgm.degrees_of_freedom_))\n",
    "    mean_precision_dp = th.Tensor(np.array(bgm.mean_precision_))   \n",
    "    return mean_dp, weight_concentration_dp, mean_precision_dp, precisions_cholesky_dp, degrees_of_freedom_dp, predict_label\n",
    "\n",
    "def dp_infer(z):\n",
    "    # z_np = (z).cpu().detach().numpy()   \n",
    "    z_np = z.cpu().detach().numpy()   \n",
    "    bgm = BayesianGaussianMixture(\n",
    "        n_components=30, weight_concentration_prior=1e-10,mean_precision_prior = 80, covariance_type='diag', init_params ='kmeans', max_iter=1000\n",
    "        ).fit(z_np)\n",
    "    predict_label_array = bgm.predict(z_np)\n",
    "    predict_label = th.Tensor(np.array(predict_label_array)).unsqueeze(1).cuda()\n",
    "    mean_dp = th.Tensor(np.array(bgm.means_))\n",
    "    weight_concentration_dp = th.Tensor(np.array(bgm.weight_concentration_))\n",
    "    precisions_cholesky_dp = th.Tensor(np.array(bgm.precisions_cholesky_))\n",
    "    degrees_of_freedom_dp = th.Tensor(np.array(bgm.degrees_of_freedom_))\n",
    "    mean_precision_dp = th.Tensor(np.array(bgm.mean_precision_))   \n",
    "    return mean_dp, weight_concentration_dp, mean_precision_dp, precisions_cholesky_dp, degrees_of_freedom_dp, predict_label"
   ]
  },
  {
   "cell_type": "code",
   "execution_count": 8,
   "metadata": {},
   "outputs": [],
   "source": [
    "def get_dataloaders(split, train_ratio=None):\n",
    "    data_loaders = {}\n",
    "    for subset in range(len(o.s)):\n",
    "        data_loaders[subset] = get_dataloader(subset, split, train_ratio=train_ratio)\n",
    "    return data_loaders\n",
    "\n",
    "\n",
    "def get_dataloader(subset, split, train_ratio=None):\n",
    "    dataset = MultimodalDataset(o.task, o.data_dir, subset, split, train_ratio=train_ratio)\n",
    "    shuffle = True if split == \"train\" else False\n",
    "    # shuffle = False\n",
    "    data_loader = th.utils.data.DataLoader(dataset, batch_size=o.N, shuffle=shuffle,\n",
    "                                           num_workers=64, pin_memory=True)\n",
    "    print(\"Subset: %d, modalities %s: %s size: %d\" %\n",
    "          (subset, str(o.combs[subset]), split, dataset.size))\n",
    "    return data_loader\n",
    "\n",
    "\n",
    "def get_dataloader_cat(split, train_ratio=None):\n",
    "    datasets = []\n",
    "    for subset in range(len(o.s)):\n",
    "        datasets.append(MultimodalDataset(o.task, o.data_dir, subset, split, train_ratio=train_ratio))\n",
    "        print(\"Subset: %d, modalities %s: %s size: %d\" %  (subset, str(o.combs[subset]), split,\n",
    "            datasets[subset].size))\n",
    "    dataset_cat = th.utils.data.dataset.ConcatDataset(datasets)\n",
    "    shuffle = True if split == \"train\" else False\n",
    "    # shuffle = False\n",
    "    sampler = MultiDatasetSampler(dataset_cat, batch_size=o.N, shuffle=shuffle)\n",
    "    data_loader = th.utils.data.DataLoader(dataset_cat, batch_size=o.N, sampler=sampler, \n",
    "        num_workers=64, pin_memory=True)\n",
    "    return data_loader"
   ]
  },
  {
   "cell_type": "code",
   "execution_count": 9,
   "metadata": {},
   "outputs": [],
   "source": [
    "def get_eval_dataloader(train_ratio=False):\n",
    "    data_config_new = utils.copy_dict(data_config)\n",
    "    data_config_new.update({\"combs\": [o.mods], \"comb_ratios\": [1]})\n",
    "    if train_ratio:\n",
    "        data_config_new.update({\"train_ratio\": train_ratio})\n",
    "    dataset = MultimodalDataset(data_config_new, o.mods, \"test\")\n",
    "    data_loader = th.utils.data.DataLoader(dataset, batch_size=o.N,\n",
    "        shuffle=False, num_workers=64, pin_memory=True)\n",
    "    print(\"Eval Dataset %s: test: %d\\n\" % (str(o.mods), dataset.size))\n",
    "    return data_loader\n",
    "\n",
    "\n",
    "def test():\n",
    "    data_loaders = get_dataloaders()\n",
    "    run_epoch(data_loaders, \"test\")"
   ]
  },
  {
   "cell_type": "code",
   "execution_count": 10,
   "metadata": {},
   "outputs": [],
   "source": [
    "def run_epoch(data_loader, split, epoch_id=0):\n",
    "    if split == \"train\":\n",
    "        net.train()\n",
    "    elif split == \"test\":\n",
    "        net.eval()\n",
    "    else:\n",
    "        assert False, \"Invalid split: %s\" % split\n",
    "    net.o.epoch_id = epoch_id\n",
    "    loss_total = 0\n",
    "    for i, data in enumerate(data_loader):\n",
    "        loss = run_iter(split, data)\n",
    "        loss_total += loss\n",
    "        if o.print_iters > 0 and (i+1) % o.print_iters == 0:\n",
    "            print('Epoch: %d/%d, Batch: %d/%d, %s loss: %.3f' % (epoch_id+1,\n",
    "            o.epoch_num, i+1, len(data_loader), split, loss))\n",
    "    loss_avg = loss_total / len(data_loader)\n",
    "    print('Epoch: %d/%d, %s loss: %.3f\\n' % (epoch_id+1, o.epoch_num, split, loss_avg))\n",
    "    benchmark[split+'_loss'].append((float(epoch_id), float(loss_avg)))\n",
    "    return loss_avg\n",
    "\n",
    "\n",
    "\n",
    "def run_iter(split, inputs):\n",
    "    inputs = utils.convert_tensors_to_cuda(inputs)\n",
    "    if split == \"train\":\n",
    "        with autograd.set_detect_anomaly(o.debug == 1):\n",
    "            loss_net = forward_net(inputs)\n",
    "            loss = loss_net\n",
    "            update_net(loss) \n",
    "            \n",
    "            \n",
    "            \n",
    "    else:\n",
    "        with th.no_grad():\n",
    "            loss_net = forward_net(inputs)\n",
    "            loss = loss_net\n",
    "    \n",
    "    return loss.item()\n",
    "\n",
    "\n",
    "def forward_net(inputs):\n",
    "    return net(inputs)\n",
    "\n",
    "\n",
    "def update_net(loss):\n",
    "    update(loss, net, optimizer_net)\n",
    "\n",
    "    \n",
    "\n",
    "def update(loss, model, optimizer):\n",
    "    optimizer.zero_grad()\n",
    "    loss.backward()\n",
    "\n",
    "    if o.grad_clip > 0:\n",
    "        nn.utils.clip_grad_norm_(model.parameters(), o.grad_clip)\n",
    "    optimizer.step()\n",
    "\n",
    "\n",
    "def check_to_save(epoch_id):\n",
    "    if (epoch_id+1) % o.log_epochs == 0 or epoch_id+1 == o.epoch_num:\n",
    "        save_training_states(epoch_id, \"sp_%08d\" % epoch_id)\n",
    "    if (epoch_id+1) % o.save_epochs == 0 or epoch_id+1 == o.epoch_num:\n",
    "        save_training_states(epoch_id, \"sp_latest\")\n",
    "\n",
    "\n",
    "def save_training_states(epoch_id, filename):\n",
    "    benchmark['epoch_id_start'] = epoch_id\n",
    "    utils.save_toml({\"o\": vars(o), \"benchmark\": benchmark}, pj(o.train_dir, filename+\".toml\"))\n",
    "    th.save({\"net_states\": net.state_dict(),\n",
    "             \"optim_net_states\": optimizer_net.state_dict(),\n",
    "            }, pj(o.train_dir, filename+\".pt\"))\n",
    "\n",
    "\n",
    "\n",
    "\n",
    "def infer_latent_dp(save_input=False):\n",
    "    print(\"Inferring ...\")\n",
    "    dirs = {}\n",
    "    base_dir = pj(o.result_dir, \"represent\", o.init_model)\n",
    "    data_loaders = get_dataloaders(\"test\", train_ratio=0)\n",
    "    net.eval()\n",
    "    with th.no_grad():\n",
    "        for subset_id, data_loader in data_loaders.items():\n",
    "            print(\"Processing subset %d: %s\" % (subset_id, str(o.combs[subset_id])))\n",
    "            dirs[subset_id] = {\"z\": {}, \"x_r_pre\": {}, \"x\": {}}\n",
    "            dirs[subset_id][\"z\"][\"rna\"] = pj(base_dir, \"subset_\"+str(subset_id), \"z\", \"rna\")\n",
    "            utils.mkdirs(dirs[subset_id][\"z\"][\"rna\"], remove_old=False)          \n",
    "            z_list = []\n",
    "            if save_input:\n",
    "                for m in o.combs[subset_id]:\n",
    "                    dirs[subset_id][\"x\"][m] = pj(base_dir, \"subset_\"+str(subset_id), \"x\", m)\n",
    "                    utils.mkdirs(dirs[subset_id][\"x\"][m], remove_old=True)\n",
    "            fname_fmt = utils.get_name_fmt(len(data_loader))+\".csv\"    \n",
    "            for i, data in enumerate(data_loader):\n",
    "                data = utils.convert_tensors_to_cuda(data)\n",
    "                _, z= net.scdp(data)      \n",
    "                z_list.append(z)\n",
    "                z_all = th.cat(z_list, dim = 0)\n",
    "    return(z_all)"
   ]
  },
  {
   "cell_type": "code",
   "execution_count": 32,
   "metadata": {},
   "outputs": [],
   "source": [
    "def infer_latent(only_joint=True, impute=False, save_input=False):\n",
    "    print(\"Inferring ...\")\n",
    "    dirs = {}\n",
    "    base_dir = pj(o.result_dir, \"represent\", o.init_model)\n",
    "    data_loaders = get_dataloaders(\"test\", train_ratio=0)\n",
    "    net.eval()\n",
    "    with th.no_grad():\n",
    "        # z_all_large = []\n",
    "        for subset_id, data_loader in data_loaders.items():\n",
    "            print(\"Processing subset %d: %s\" % (subset_id, str(o.combs[subset_id])))\n",
    "            \n",
    "            #dirs[subset_id] = {\"z\": {}, \"x_r\": {}, \"x\": {}, \"w_lis1\": {}}\n",
    "            # dirs[subset_id] = {\"z\": {}, \"x_r_pre\": {}, \"x\": {}, \"y_cat_list\": {}, \"c_ymu\": {}, \"n_covariance2\": {}, \"n_mu\": {}, \"d2\": {}, \"w_covariance3\": {}}\n",
    "            # dirs[subset_id] = {\"z\": {}, \"x_r_pre\": {}, \"x\": {}, \"predict_label\":{}}\n",
    "            dirs[subset_id] = {\"z\": {}, \"x_r_pre\": {}, \"x\": {}}\n",
    "            dirs[subset_id][\"z\"][\"joint\"] = pj(base_dir, \"subset_\"+str(subset_id), \"z\", \"joint\")\n",
    "            utils.mkdirs(dirs[subset_id][\"z\"][\"joint\"], remove_old=True)\n",
    "            if not only_joint:\n",
    "                for m in o.combs[subset_id]:\n",
    "                    dirs[subset_id][\"z\"][m] = pj(base_dir, \"subset_\"+str(subset_id), \"z\", m)\n",
    "                    utils.mkdirs(dirs[subset_id][\"z\"][m], remove_old=True)\n",
    "                    # dirs[subset_id][\"predict_label\"][m] = pj(base_dir, \"subset_\"+str(subset_id), \"predict_label\", m)\n",
    "                    # utils.mkdirs(dirs[subset_id][\"predict_label\"][m], remove_old=True)\n",
    "                    dirs[subset_id][\"x_r_pre\"][m] = pj(base_dir, \"subset_\"+str(subset_id), \"x_r_pre\", m)\n",
    "                    utils.mkdirs(dirs[subset_id][\"x_r_pre\"][m], remove_old=True)       \n",
    "            if impute:\n",
    "                for m in o.mods:\n",
    "                    dirs[subset_id][\"x_r\"][m] = pj(base_dir, \"subset_\"+str(subset_id), \"x_r\", m)\n",
    "                    utils.mkdirs(dirs[subset_id][\"x_r\"][m], remove_old=True)\n",
    "            if save_input:\n",
    "                for m in o.combs[subset_id]:\n",
    "                    dirs[subset_id][\"x\"][m] = pj(base_dir, \"subset_\"+str(subset_id), \"x\", m)\n",
    "                    utils.mkdirs(dirs[subset_id][\"x\"][m], remove_old=True)\n",
    "            fname_fmt = utils.get_name_fmt(len(data_loader))+\".csv\"\n",
    "            \n",
    "            for i, data in enumerate(tqdm(data_loader)):\n",
    "                data = utils.convert_tensors_to_cuda(data)\n",
    "                # conditioned on all observed modalities\n",
    "                #x_r_pre, _, _, _, z, _, _, *_ = net.dpmm(data)  # N * K\n",
    "                x_r_pre, z= net.scdp(data) \n",
    "                utils.save_tensor_to_csv(z, pj(dirs[subset_id][\"z\"][\"joint\"], fname_fmt) % i)\n",
    "                # utils.save_tensor_to_csv(x_r_pre[m], pj(dirs[subset_id][\"x_r_pre\"][m], fname_fmt) % i)\n",
    "                # utils.save_tensor_to_csv(predict_label, pj(dirs[subset_id][\"predict_label\"], fname_fmt) % i)\n",
    "                if impute:\n",
    "                    x_r = models.gen_real_data(x_r_pre, sampling=True)\n",
    "                    for m in o.mods:\n",
    "                        utils.save_tensor_to_csv(x_r[m], pj(dirs[subset_id][\"x_r\"][m], fname_fmt) % i)\n",
    "                if save_input:\n",
    "                    for m in o.combs[subset_id]:\n",
    "                        utils.save_tensor_to_csv(data[\"x\"][m], pj(dirs[subset_id][\"x\"][m], fname_fmt) % i)\n",
    "\n",
    "                # conditioned on each individual modalities\n",
    "                if not only_joint:\n",
    "                    for m in data[\"x\"].keys():\n",
    "                        input_data = {\n",
    "                            \"x\": {m: data[\"x\"][m]},\n",
    "                            \"s\": data[\"s\"],  \n",
    "                            \"e\": {}\n",
    "                        }\n",
    "                        if m in data[\"e\"].keys():\n",
    "                            input_data[\"e\"][m] = data[\"e\"][m]\n",
    "                        #_, _, _, _, z, c, b, *_ = net.sct(input_data)  # N * K\n",
    "                        # _, c_ymu, _, _, _, z, y_cat_list, _, _, _, n_covariance2, n_mu, d2, w_covariance3, _ = net.dpmm(input_data)  # N * K\n",
    "                        _, z= net.scdp(input_data)  # N * K\n",
    "                    \n",
    "                        # print(input_data['x']['rna'].shape, z.shape)\n",
    "                        utils.save_tensor_to_csv(z, pj(dirs[subset_id][\"z\"][m], fname_fmt) % i)    \n",
    "                        # utils.save_tensor_to_csv(predict_label, pj(dirs[subset_id][\"predict_label\"][m], fname_fmt) % i)  \n",
    "                    if i >0:\n",
    "                        z_all = th.cat((z_all, z), dim = 0)\n",
    "                    else:\n",
    "                        z_all = z\n",
    "            # z_all_large.append(z_all)\n",
    "        _, _, _, _, _, predict_label = dp_infer(z_all)\n",
    "        if o.task == 'chen_10':\n",
    "            utils.save_tensor_to_csv(z_all, './result/chen_10/e0/default/represent/z.csv')\n",
    "            utils.save_tensor_to_csv(predict_label, './result/chen_10/e0/default/represent/y.csv')   \n",
    "        elif o.task == 'baron_single':\n",
    "            utils.save_tensor_to_csv(z_all, './result/baron_single/e0/default/represent/z.csv')\n",
    "            utils.save_tensor_to_csv(predict_label, './result/baron_single/e0/default/represent/y.csv')    \n",
    "        elif o.task == 'Kozareva_total':\n",
    "            utils.save_tensor_to_csv(z_all, './result/Kozareva_total/e0/default/represent/z.csv')\n",
    "            utils.save_tensor_to_csv(predict_label, './result/Kozareva_total/e0/default/represent/y.csv')   \n",
    "        elif o.task == 'Orozco':\n",
    "            utils.save_tensor_to_csv(z_all, './result/Orozco/e0/default/represent/z.csv')\n",
    "            utils.save_tensor_to_csv(predict_label, './result/Orozco/e0/default/represent/y.csv')   \n",
    "        elif o.task == 'Slyper':\n",
    "            utils.save_tensor_to_csv(z_all, './result/Slyper/e0/default/represent/z.csv')\n",
    "            utils.save_tensor_to_csv(predict_label, './result/Slyper/e0/default/represent/y.csv')   \n",
    "        elif o.task == 'Zilionis':\n",
    "            utils.save_tensor_to_csv(z_all, './result/Zilionis/e0/default/represent/z.csv')\n",
    "            utils.save_tensor_to_csv(predict_label, './result/Zilionis/e0/default/represent/y.csv')   \n",
    "        else:\n",
    "            utils.save_tensor_to_csv(z_all, './result/chen_10/e0/default/represent/z.csv')\n",
    "            utils.save_tensor_to_csv(predict_label, './result/chen_10/e0/default/represent/y.csv')   \n",
    "\n",
    "        z_all_cpu = z_all.cpu()        \n",
    "        predict_label_cpu = predict_label.cpu()\n",
    "        label_true = utils.load_csv(path_label)\n",
    "        label_tlist = utils.transpose_list(label_true)[1][1:]\n",
    "        label_plist = utils.transpose_list(predict_label_cpu)[0]\n",
    "        ari = adjusted_rand_score(label_tlist, label_plist) #l1 kpca20\n",
    "        nmi = normalized_mutual_info_score(label_tlist, label_plist)\n",
    "        sc = silhouette_score(z_all_cpu, label_plist)\n",
    "        print(\"ari:\", ari)\n",
    "        print(\"nmi:\", nmi)\n",
    "        print(\"sc:\", (1+sc)/2)"
   ]
  },
  {
   "cell_type": "code",
   "execution_count": 12,
   "metadata": {},
   "outputs": [
    {
     "name": "stdout",
     "output_type": "stream",
     "text": [
      "Task: Orozco\n",
      "Experiment: e0\n",
      "Model: default\n",
      "\n",
      "Input feature numbers:  {'rna': 4000}\n",
      "dims_h: {'rna': 4000}\n",
      "Total mini-batch size: 512, GPU number: 1, GPU mini-batch size: 512\n",
      "Parameter number: 2.128 M\n",
      "Subset: 0, modalities ['rna']: train size: 100055\n"
     ]
    },
    {
     "name": "stderr",
     "output_type": "stream",
     "text": [
      "/root/anaconda3/lib/python3.7/site-packages/torch/utils/data/dataloader.py:560: UserWarning: This DataLoader will create 64 worker processes in total. Our suggested max number of worker in current system is 32, which is smaller than what this DataLoader is going to create. Please be aware that excessive worker creation might get DataLoader running slow or even freeze, lower the worker number to avoid potential slowness/freeze if necessary.\n",
      "  cpuset_checked))\n"
     ]
    },
    {
     "name": "stdout",
     "output_type": "stream",
     "text": [
      "Epoch: 1/600, train loss: 8294.581\n",
      "\n",
      "Epoch: 2/600, train loss: 6522.842\n",
      "\n",
      "Epoch: 3/600, train loss: 6272.249\n",
      "\n",
      "Epoch: 4/600, train loss: 6134.021\n",
      "\n",
      "Epoch: 5/600, train loss: 6043.496\n",
      "\n",
      "Epoch: 6/600, train loss: 5981.542\n",
      "\n",
      "Epoch: 7/600, train loss: 5932.925\n",
      "\n",
      "Epoch: 8/600, train loss: 5893.833\n",
      "\n",
      "Epoch: 9/600, train loss: 5863.585\n",
      "\n",
      "Epoch: 10/600, train loss: 5837.426\n",
      "\n",
      "Epoch: 11/600, train loss: 5815.117\n",
      "\n",
      "Epoch: 12/600, train loss: 5796.883\n",
      "\n",
      "Epoch: 13/600, train loss: 5781.386\n",
      "\n",
      "Epoch: 14/600, train loss: 5768.796\n",
      "\n",
      "Epoch: 15/600, train loss: 5757.761\n",
      "\n",
      "Epoch: 16/600, train loss: 5748.033\n",
      "\n",
      "Epoch: 17/600, train loss: 5740.051\n",
      "\n",
      "Epoch: 18/600, train loss: 5731.870\n",
      "\n",
      "Epoch: 19/600, train loss: 5725.122\n",
      "\n",
      "Epoch: 20/600, train loss: 5718.661\n",
      "\n",
      "Epoch: 21/600, train loss: 5713.243\n",
      "\n",
      "Epoch: 22/600, train loss: 5707.604\n",
      "\n",
      "Epoch: 23/600, train loss: 5702.678\n",
      "\n",
      "Epoch: 24/600, train loss: 5697.878\n",
      "\n",
      "Epoch: 25/600, train loss: 5693.331\n",
      "\n",
      "Epoch: 26/600, train loss: 5689.763\n",
      "\n",
      "Epoch: 27/600, train loss: 5685.531\n",
      "\n",
      "Epoch: 28/600, train loss: 5682.238\n",
      "\n",
      "Epoch: 29/600, train loss: 5678.867\n",
      "\n",
      "Epoch: 30/600, train loss: 5676.027\n",
      "\n",
      "Epoch: 31/600, train loss: 5673.023\n",
      "\n",
      "Epoch: 32/600, train loss: 5670.319\n",
      "\n",
      "Epoch: 33/600, train loss: 5667.540\n",
      "\n",
      "Epoch: 34/600, train loss: 5664.951\n",
      "\n",
      "Epoch: 35/600, train loss: 5662.553\n",
      "\n",
      "Epoch: 36/600, train loss: 5660.313\n",
      "\n",
      "Epoch: 37/600, train loss: 5658.017\n",
      "\n",
      "Epoch: 38/600, train loss: 5655.830\n",
      "\n",
      "Epoch: 39/600, train loss: 5653.752\n",
      "\n",
      "Epoch: 40/600, train loss: 5651.948\n",
      "\n",
      "Epoch: 41/600, train loss: 5649.829\n",
      "\n",
      "Epoch: 42/600, train loss: 5648.222\n",
      "\n",
      "Epoch: 43/600, train loss: 5646.767\n",
      "\n",
      "Epoch: 44/600, train loss: 5645.049\n",
      "\n",
      "Epoch: 45/600, train loss: 5643.338\n",
      "\n",
      "Epoch: 46/600, train loss: 5641.533\n",
      "\n",
      "Epoch: 47/600, train loss: 5640.425\n",
      "\n",
      "Epoch: 48/600, train loss: 5639.116\n",
      "\n",
      "Epoch: 49/600, train loss: 5637.532\n",
      "\n",
      "Epoch: 50/600, train loss: 5636.250\n",
      "\n",
      "Epoch: 51/600, train loss: 5634.858\n",
      "\n",
      "Epoch: 52/600, train loss: 5633.203\n",
      "\n",
      "Epoch: 53/600, train loss: 5632.178\n",
      "\n",
      "Epoch: 54/600, train loss: 5630.656\n",
      "\n",
      "Epoch: 55/600, train loss: 5629.615\n",
      "\n",
      "Epoch: 56/600, train loss: 5628.549\n",
      "\n",
      "Epoch: 57/600, train loss: 5627.988\n",
      "\n",
      "Epoch: 58/600, train loss: 5626.650\n",
      "\n",
      "Epoch: 59/600, train loss: 5625.527\n",
      "\n",
      "Epoch: 60/600, train loss: 5624.408\n",
      "\n",
      "Epoch: 61/600, train loss: 5623.482\n",
      "\n",
      "Epoch: 62/600, train loss: 5622.491\n",
      "\n",
      "Epoch: 63/600, train loss: 5621.552\n",
      "\n",
      "Epoch: 64/600, train loss: 5620.989\n",
      "\n",
      "Epoch: 65/600, train loss: 5619.742\n",
      "\n",
      "Epoch: 66/600, train loss: 5618.973\n",
      "\n",
      "Epoch: 67/600, train loss: 5618.129\n",
      "\n",
      "Epoch: 68/600, train loss: 5617.256\n",
      "\n",
      "Epoch: 69/600, train loss: 5616.387\n",
      "\n",
      "Epoch: 70/600, train loss: 5615.519\n",
      "\n",
      "Epoch: 71/600, train loss: 5614.872\n",
      "\n",
      "Epoch: 72/600, train loss: 5613.844\n",
      "\n",
      "Epoch: 73/600, train loss: 5612.801\n",
      "\n",
      "Epoch: 74/600, train loss: 5611.767\n",
      "\n",
      "Epoch: 75/600, train loss: 5611.362\n",
      "\n",
      "Epoch: 76/600, train loss: 5610.678\n",
      "\n",
      "Epoch: 77/600, train loss: 5610.015\n",
      "\n",
      "Epoch: 78/600, train loss: 5609.469\n",
      "\n",
      "Epoch: 79/600, train loss: 5608.441\n",
      "\n",
      "Epoch: 80/600, train loss: 5607.574\n",
      "\n",
      "Epoch: 81/600, train loss: 5606.844\n",
      "\n",
      "Epoch: 82/600, train loss: 5606.625\n",
      "\n",
      "Epoch: 83/600, train loss: 5605.795\n",
      "\n",
      "Epoch: 84/600, train loss: 5605.215\n",
      "\n",
      "Epoch: 85/600, train loss: 5604.318\n",
      "\n",
      "Epoch: 86/600, train loss: 5603.869\n",
      "\n",
      "Epoch: 87/600, train loss: 5603.259\n",
      "\n",
      "Epoch: 88/600, train loss: 5602.246\n",
      "\n",
      "Epoch: 89/600, train loss: 5601.743\n",
      "\n",
      "Epoch: 90/600, train loss: 5601.113\n",
      "\n",
      "Epoch: 91/600, train loss: 5600.674\n",
      "\n",
      "Epoch: 92/600, train loss: 5600.104\n",
      "\n",
      "Epoch: 93/600, train loss: 5599.219\n",
      "\n",
      "Epoch: 94/600, train loss: 5598.885\n",
      "\n",
      "Epoch: 95/600, train loss: 5598.452\n",
      "\n",
      "Epoch: 96/600, train loss: 5597.956\n",
      "\n",
      "Epoch: 97/600, train loss: 5597.633\n",
      "\n",
      "Epoch: 98/600, train loss: 5596.980\n",
      "\n",
      "Epoch: 99/600, train loss: 5596.032\n",
      "\n",
      "Epoch: 100/600, train loss: 5595.443\n",
      "\n",
      "Epoch: 101/600, train loss: 5595.215\n",
      "\n",
      "Epoch: 102/600, train loss: 5594.728\n",
      "\n",
      "Epoch: 103/600, train loss: 5594.284\n",
      "\n",
      "Epoch: 104/600, train loss: 5593.731\n",
      "\n",
      "Epoch: 105/600, train loss: 5593.370\n",
      "\n",
      "Epoch: 106/600, train loss: 5592.761\n",
      "\n",
      "Epoch: 107/600, train loss: 5592.356\n",
      "\n",
      "Epoch: 108/600, train loss: 5591.799\n",
      "\n",
      "Epoch: 109/600, train loss: 5591.330\n",
      "\n",
      "Epoch: 110/600, train loss: 5590.567\n",
      "\n",
      "Epoch: 111/600, train loss: 5590.420\n",
      "\n",
      "Epoch: 112/600, train loss: 5589.859\n",
      "\n",
      "Epoch: 113/600, train loss: 5589.219\n",
      "\n",
      "Epoch: 114/600, train loss: 5588.915\n",
      "\n",
      "Epoch: 115/600, train loss: 5588.366\n",
      "\n",
      "Epoch: 116/600, train loss: 5588.266\n",
      "\n",
      "Epoch: 117/600, train loss: 5587.619\n",
      "\n",
      "Epoch: 118/600, train loss: 5586.988\n",
      "\n",
      "Epoch: 119/600, train loss: 5586.847\n",
      "\n",
      "Epoch: 120/600, train loss: 5586.163\n",
      "\n",
      "Epoch: 121/600, train loss: 5585.826\n",
      "\n",
      "Epoch: 122/600, train loss: 5585.328\n",
      "\n",
      "Epoch: 123/600, train loss: 5585.216\n",
      "\n",
      "Epoch: 124/600, train loss: 5584.289\n",
      "\n",
      "Epoch: 125/600, train loss: 5584.085\n",
      "\n",
      "Epoch: 126/600, train loss: 5583.732\n",
      "\n",
      "Epoch: 127/600, train loss: 5583.611\n",
      "\n",
      "Epoch: 128/600, train loss: 5583.100\n",
      "\n",
      "Epoch: 129/600, train loss: 5582.804\n",
      "\n",
      "Epoch: 130/600, train loss: 5582.183\n",
      "\n",
      "Epoch: 131/600, train loss: 5581.868\n",
      "\n",
      "Epoch: 132/600, train loss: 5581.676\n",
      "\n",
      "Epoch: 133/600, train loss: 5581.476\n",
      "\n",
      "Epoch: 134/600, train loss: 5581.110\n",
      "\n",
      "Epoch: 135/600, train loss: 5580.421\n",
      "\n",
      "Epoch: 136/600, train loss: 5580.196\n",
      "\n",
      "Epoch: 137/600, train loss: 5579.598\n",
      "\n",
      "Epoch: 138/600, train loss: 5579.324\n",
      "\n",
      "Epoch: 139/600, train loss: 5578.960\n",
      "\n",
      "Epoch: 140/600, train loss: 5578.970\n",
      "\n",
      "Epoch: 141/600, train loss: 5578.243\n",
      "\n",
      "Epoch: 142/600, train loss: 5577.980\n",
      "\n",
      "Epoch: 143/600, train loss: 5577.391\n",
      "\n",
      "Epoch: 144/600, train loss: 5577.468\n",
      "\n",
      "Epoch: 145/600, train loss: 5576.663\n",
      "\n",
      "Epoch: 146/600, train loss: 5576.921\n",
      "\n",
      "Epoch: 147/600, train loss: 5576.587\n",
      "\n",
      "Epoch: 148/600, train loss: 5576.086\n",
      "\n",
      "Epoch: 149/600, train loss: 5575.887\n",
      "\n",
      "Epoch: 150/600, train loss: 5575.483\n",
      "\n",
      "Epoch: 151/600, train loss: 5575.126\n",
      "\n",
      "Epoch: 152/600, train loss: 5574.995\n",
      "\n",
      "Epoch: 153/600, train loss: 5574.538\n",
      "\n",
      "Epoch: 154/600, train loss: 5574.354\n",
      "\n",
      "Epoch: 155/600, train loss: 5574.213\n",
      "\n",
      "Epoch: 156/600, train loss: 5573.768\n",
      "\n",
      "Epoch: 157/600, train loss: 5573.293\n",
      "\n",
      "Epoch: 158/600, train loss: 5573.003\n",
      "\n",
      "Epoch: 159/600, train loss: 5573.105\n",
      "\n",
      "Epoch: 160/600, train loss: 5572.876\n",
      "\n",
      "Epoch: 161/600, train loss: 5572.531\n",
      "\n",
      "Epoch: 162/600, train loss: 5571.981\n",
      "\n",
      "Epoch: 163/600, train loss: 5571.939\n",
      "\n",
      "Epoch: 164/600, train loss: 5571.465\n",
      "\n",
      "Epoch: 165/600, train loss: 5570.905\n",
      "\n",
      "Epoch: 166/600, train loss: 5570.898\n",
      "\n",
      "Epoch: 167/600, train loss: 5570.970\n",
      "\n",
      "Epoch: 168/600, train loss: 5570.480\n",
      "\n",
      "Epoch: 169/600, train loss: 5570.234\n",
      "\n",
      "Epoch: 170/600, train loss: 5569.670\n",
      "\n",
      "Epoch: 171/600, train loss: 5569.778\n",
      "\n",
      "Epoch: 172/600, train loss: 5569.578\n",
      "\n",
      "Epoch: 173/600, train loss: 5569.440\n",
      "\n",
      "Epoch: 174/600, train loss: 5569.014\n",
      "\n",
      "Epoch: 175/600, train loss: 5568.685\n",
      "\n",
      "Epoch: 176/600, train loss: 5568.840\n",
      "\n",
      "Epoch: 177/600, train loss: 5568.507\n",
      "\n",
      "Epoch: 178/600, train loss: 5568.285\n",
      "\n",
      "Epoch: 179/600, train loss: 5567.837\n",
      "\n",
      "Epoch: 180/600, train loss: 5567.619\n",
      "\n",
      "Epoch: 181/600, train loss: 5567.228\n",
      "\n",
      "Epoch: 182/600, train loss: 5567.146\n",
      "\n",
      "Epoch: 183/600, train loss: 5566.907\n",
      "\n",
      "Epoch: 184/600, train loss: 5566.713\n",
      "\n",
      "Epoch: 185/600, train loss: 5566.670\n",
      "\n",
      "Epoch: 186/600, train loss: 5566.196\n",
      "\n",
      "Epoch: 187/600, train loss: 5566.008\n",
      "\n",
      "Epoch: 188/600, train loss: 5565.852\n",
      "\n",
      "Epoch: 189/600, train loss: 5565.796\n",
      "\n",
      "Epoch: 190/600, train loss: 5565.679\n",
      "\n",
      "Epoch: 191/600, train loss: 5565.199\n",
      "\n",
      "Epoch: 192/600, train loss: 5565.211\n",
      "\n",
      "Epoch: 193/600, train loss: 5565.056\n",
      "\n",
      "Epoch: 194/600, train loss: 5564.995\n",
      "\n",
      "Epoch: 195/600, train loss: 5564.658\n",
      "\n",
      "Epoch: 196/600, train loss: 5564.309\n",
      "\n",
      "Epoch: 197/600, train loss: 5564.302\n",
      "\n",
      "Epoch: 198/600, train loss: 5564.172\n",
      "\n",
      "Epoch: 199/600, train loss: 5563.742\n",
      "\n",
      "Epoch: 200/600, train loss: 5563.796\n",
      "\n",
      "Epoch: 201/600, train loss: 5563.615\n",
      "\n",
      "Epoch: 202/600, train loss: 5563.063\n",
      "\n",
      "Epoch: 203/600, train loss: 5562.930\n",
      "\n",
      "Epoch: 204/600, train loss: 5562.793\n",
      "\n",
      "Epoch: 205/600, train loss: 5562.723\n",
      "\n",
      "Epoch: 206/600, train loss: 5562.301\n",
      "\n",
      "Epoch: 207/600, train loss: 5562.173\n",
      "\n",
      "Epoch: 208/600, train loss: 5562.204\n",
      "\n",
      "Epoch: 209/600, train loss: 5562.222\n",
      "\n",
      "Epoch: 210/600, train loss: 5561.945\n",
      "\n",
      "Epoch: 211/600, train loss: 5561.675\n",
      "\n",
      "Epoch: 212/600, train loss: 5561.376\n",
      "\n",
      "Epoch: 213/600, train loss: 5561.285\n",
      "\n",
      "Epoch: 214/600, train loss: 5561.483\n",
      "\n",
      "Epoch: 215/600, train loss: 5560.816\n",
      "\n",
      "Epoch: 216/600, train loss: 5560.826\n",
      "\n",
      "Epoch: 217/600, train loss: 5560.398\n",
      "\n",
      "Epoch: 218/600, train loss: 5559.990\n",
      "\n",
      "Epoch: 219/600, train loss: 5560.052\n",
      "\n",
      "Epoch: 220/600, train loss: 5559.901\n",
      "\n",
      "Epoch: 221/600, train loss: 5559.809\n",
      "\n",
      "Epoch: 222/600, train loss: 5559.630\n",
      "\n",
      "Epoch: 223/600, train loss: 5559.625\n",
      "\n",
      "Epoch: 224/600, train loss: 5559.439\n",
      "\n",
      "Epoch: 225/600, train loss: 5559.417\n",
      "\n",
      "Epoch: 226/600, train loss: 5558.705\n",
      "\n",
      "Epoch: 227/600, train loss: 5558.828\n",
      "\n",
      "Epoch: 228/600, train loss: 5558.699\n",
      "\n",
      "Epoch: 229/600, train loss: 5558.335\n",
      "\n",
      "Epoch: 230/600, train loss: 5558.419\n",
      "\n",
      "Epoch: 231/600, train loss: 5558.124\n",
      "\n",
      "Epoch: 232/600, train loss: 5557.617\n",
      "\n",
      "Epoch: 233/600, train loss: 5557.842\n",
      "\n",
      "Epoch: 234/600, train loss: 5557.477\n",
      "\n",
      "Epoch: 235/600, train loss: 5557.787\n",
      "\n",
      "Epoch: 236/600, train loss: 5557.454\n",
      "\n",
      "Epoch: 237/600, train loss: 5557.497\n",
      "\n",
      "Epoch: 238/600, train loss: 5556.789\n",
      "\n",
      "Epoch: 239/600, train loss: 5556.667\n",
      "\n",
      "Epoch: 240/600, train loss: 5556.605\n",
      "\n",
      "Epoch: 241/600, train loss: 5556.357\n",
      "\n",
      "Epoch: 242/600, train loss: 5556.436\n",
      "\n",
      "Epoch: 243/600, train loss: 5556.162\n",
      "\n",
      "Epoch: 244/600, train loss: 5555.662\n",
      "\n",
      "Epoch: 245/600, train loss: 5556.102\n",
      "\n",
      "Epoch: 246/600, train loss: 5555.716\n",
      "\n",
      "Epoch: 247/600, train loss: 5555.813\n",
      "\n",
      "Epoch: 248/600, train loss: 5555.212\n",
      "\n",
      "Epoch: 249/600, train loss: 5555.200\n",
      "\n",
      "Epoch: 250/600, train loss: 5555.049\n",
      "\n",
      "Epoch: 251/600, train loss: 5555.098\n",
      "\n",
      "Epoch: 252/600, train loss: 5554.830\n",
      "\n",
      "Epoch: 253/600, train loss: 5554.556\n",
      "\n",
      "Epoch: 254/600, train loss: 5554.723\n",
      "\n",
      "Epoch: 255/600, train loss: 5554.184\n",
      "\n",
      "Epoch: 256/600, train loss: 5554.062\n",
      "\n",
      "Epoch: 257/600, train loss: 5554.154\n",
      "\n",
      "Epoch: 258/600, train loss: 5553.879\n",
      "\n",
      "Epoch: 259/600, train loss: 5553.888\n",
      "\n",
      "Epoch: 260/600, train loss: 5553.598\n",
      "\n",
      "Epoch: 261/600, train loss: 5553.481\n",
      "\n",
      "Epoch: 262/600, train loss: 5552.965\n",
      "\n",
      "Epoch: 263/600, train loss: 5552.952\n",
      "\n",
      "Epoch: 264/600, train loss: 5553.298\n",
      "\n",
      "Epoch: 265/600, train loss: 5552.830\n",
      "\n",
      "Epoch: 266/600, train loss: 5552.253\n",
      "\n",
      "Epoch: 267/600, train loss: 5552.626\n",
      "\n",
      "Epoch: 268/600, train loss: 5552.541\n",
      "\n",
      "Epoch: 269/600, train loss: 5552.066\n",
      "\n",
      "Epoch: 270/600, train loss: 5552.158\n",
      "\n",
      "Epoch: 271/600, train loss: 5552.214\n",
      "\n",
      "Epoch: 272/600, train loss: 5552.168\n",
      "\n",
      "Epoch: 273/600, train loss: 5551.937\n",
      "\n",
      "Epoch: 274/600, train loss: 5551.463\n",
      "\n",
      "Epoch: 275/600, train loss: 5551.555\n",
      "\n",
      "Epoch: 276/600, train loss: 5551.117\n",
      "\n",
      "Epoch: 277/600, train loss: 5551.187\n",
      "\n",
      "Epoch: 278/600, train loss: 5550.900\n",
      "\n",
      "Epoch: 279/600, train loss: 5550.780\n",
      "\n",
      "Epoch: 280/600, train loss: 5551.033\n",
      "\n",
      "Epoch: 281/600, train loss: 5550.459\n",
      "\n",
      "Epoch: 282/600, train loss: 5550.630\n",
      "\n",
      "Epoch: 283/600, train loss: 5550.298\n",
      "\n",
      "Epoch: 284/600, train loss: 5550.463\n",
      "\n",
      "Epoch: 285/600, train loss: 5550.119\n",
      "\n",
      "Epoch: 286/600, train loss: 5549.942\n",
      "\n",
      "Epoch: 287/600, train loss: 5549.757\n",
      "\n",
      "Epoch: 288/600, train loss: 5549.494\n",
      "\n",
      "Epoch: 289/600, train loss: 5549.566\n",
      "\n",
      "Epoch: 290/600, train loss: 5549.470\n",
      "\n",
      "Epoch: 291/600, train loss: 5549.232\n",
      "\n",
      "Epoch: 292/600, train loss: 5549.318\n",
      "\n",
      "Epoch: 293/600, train loss: 5549.059\n",
      "\n",
      "Epoch: 294/600, train loss: 5548.965\n",
      "\n",
      "Epoch: 295/600, train loss: 5548.856\n",
      "\n",
      "Epoch: 296/600, train loss: 5548.875\n",
      "\n",
      "Epoch: 297/600, train loss: 5548.641\n",
      "\n",
      "Epoch: 298/600, train loss: 5548.143\n",
      "\n",
      "Epoch: 299/600, train loss: 5548.584\n",
      "\n",
      "Epoch: 300/600, train loss: 5548.107\n",
      "\n",
      "Epoch: 301/600, train loss: 5548.297\n",
      "\n",
      "Epoch: 302/600, train loss: 5547.763\n",
      "\n",
      "Inferring ...\n",
      "Subset: 0, modalities ['rna']: test size: 100055\n",
      "Processing subset 0: ['rna']\n"
     ]
    },
    {
     "name": "stderr",
     "output_type": "stream",
     "text": [
      "/root/anaconda3/lib/python3.7/site-packages/torch/utils/data/dataloader.py:560: UserWarning: This DataLoader will create 64 worker processes in total. Our suggested max number of worker in current system is 32, which is smaller than what this DataLoader is going to create. Please be aware that excessive worker creation might get DataLoader running slow or even freeze, lower the worker number to avoid potential slowness/freeze if necessary.\n",
      "  cpuset_checked))\n"
     ]
    },
    {
     "name": "stdout",
     "output_type": "stream",
     "text": [
      "Epoch: 303/600, train loss: 5503.345\n",
      "\n",
      "Inferring ...\n",
      "Subset: 0, modalities ['rna']: test size: 100055\n",
      "Processing subset 0: ['rna']\n"
     ]
    },
    {
     "name": "stderr",
     "output_type": "stream",
     "text": [
      "/root/anaconda3/lib/python3.7/site-packages/torch/utils/data/dataloader.py:560: UserWarning: This DataLoader will create 64 worker processes in total. Our suggested max number of worker in current system is 32, which is smaller than what this DataLoader is going to create. Please be aware that excessive worker creation might get DataLoader running slow or even freeze, lower the worker number to avoid potential slowness/freeze if necessary.\n",
      "  cpuset_checked))\n"
     ]
    },
    {
     "name": "stdout",
     "output_type": "stream",
     "text": [
      "Epoch: 304/600, train loss: 5490.585\n",
      "\n",
      "Inferring ...\n",
      "Subset: 0, modalities ['rna']: test size: 100055\n",
      "Processing subset 0: ['rna']\n"
     ]
    },
    {
     "name": "stderr",
     "output_type": "stream",
     "text": [
      "/root/anaconda3/lib/python3.7/site-packages/torch/utils/data/dataloader.py:560: UserWarning: This DataLoader will create 64 worker processes in total. Our suggested max number of worker in current system is 32, which is smaller than what this DataLoader is going to create. Please be aware that excessive worker creation might get DataLoader running slow or even freeze, lower the worker number to avoid potential slowness/freeze if necessary.\n",
      "  cpuset_checked))\n"
     ]
    },
    {
     "name": "stdout",
     "output_type": "stream",
     "text": [
      "Epoch: 305/600, train loss: 5481.926\n",
      "\n",
      "Inferring ...\n",
      "Subset: 0, modalities ['rna']: test size: 100055\n",
      "Processing subset 0: ['rna']\n"
     ]
    },
    {
     "name": "stderr",
     "output_type": "stream",
     "text": [
      "/root/anaconda3/lib/python3.7/site-packages/torch/utils/data/dataloader.py:560: UserWarning: This DataLoader will create 64 worker processes in total. Our suggested max number of worker in current system is 32, which is smaller than what this DataLoader is going to create. Please be aware that excessive worker creation might get DataLoader running slow or even freeze, lower the worker number to avoid potential slowness/freeze if necessary.\n",
      "  cpuset_checked))\n"
     ]
    },
    {
     "name": "stdout",
     "output_type": "stream",
     "text": [
      "Epoch: 306/600, train loss: 5473.324\n",
      "\n",
      "Inferring ...\n",
      "Subset: 0, modalities ['rna']: test size: 100055\n",
      "Processing subset 0: ['rna']\n"
     ]
    },
    {
     "name": "stderr",
     "output_type": "stream",
     "text": [
      "/root/anaconda3/lib/python3.7/site-packages/torch/utils/data/dataloader.py:560: UserWarning: This DataLoader will create 64 worker processes in total. Our suggested max number of worker in current system is 32, which is smaller than what this DataLoader is going to create. Please be aware that excessive worker creation might get DataLoader running slow or even freeze, lower the worker number to avoid potential slowness/freeze if necessary.\n",
      "  cpuset_checked))\n"
     ]
    },
    {
     "name": "stdout",
     "output_type": "stream",
     "text": [
      "Epoch: 307/600, train loss: 5465.727\n",
      "\n",
      "Inferring ...\n",
      "Subset: 0, modalities ['rna']: test size: 100055\n",
      "Processing subset 0: ['rna']\n"
     ]
    },
    {
     "name": "stderr",
     "output_type": "stream",
     "text": [
      "/root/anaconda3/lib/python3.7/site-packages/torch/utils/data/dataloader.py:560: UserWarning: This DataLoader will create 64 worker processes in total. Our suggested max number of worker in current system is 32, which is smaller than what this DataLoader is going to create. Please be aware that excessive worker creation might get DataLoader running slow or even freeze, lower the worker number to avoid potential slowness/freeze if necessary.\n",
      "  cpuset_checked))\n"
     ]
    },
    {
     "name": "stdout",
     "output_type": "stream",
     "text": [
      "Epoch: 308/600, train loss: 5458.171\n",
      "\n",
      "Inferring ...\n",
      "Subset: 0, modalities ['rna']: test size: 100055\n",
      "Processing subset 0: ['rna']\n"
     ]
    },
    {
     "name": "stderr",
     "output_type": "stream",
     "text": [
      "/root/anaconda3/lib/python3.7/site-packages/torch/utils/data/dataloader.py:560: UserWarning: This DataLoader will create 64 worker processes in total. Our suggested max number of worker in current system is 32, which is smaller than what this DataLoader is going to create. Please be aware that excessive worker creation might get DataLoader running slow or even freeze, lower the worker number to avoid potential slowness/freeze if necessary.\n",
      "  cpuset_checked))\n"
     ]
    },
    {
     "name": "stdout",
     "output_type": "stream",
     "text": [
      "Epoch: 309/600, train loss: 5450.504\n",
      "\n",
      "Inferring ...\n",
      "Subset: 0, modalities ['rna']: test size: 100055\n",
      "Processing subset 0: ['rna']\n"
     ]
    },
    {
     "name": "stderr",
     "output_type": "stream",
     "text": [
      "/root/anaconda3/lib/python3.7/site-packages/torch/utils/data/dataloader.py:560: UserWarning: This DataLoader will create 64 worker processes in total. Our suggested max number of worker in current system is 32, which is smaller than what this DataLoader is going to create. Please be aware that excessive worker creation might get DataLoader running slow or even freeze, lower the worker number to avoid potential slowness/freeze if necessary.\n",
      "  cpuset_checked))\n"
     ]
    },
    {
     "name": "stdout",
     "output_type": "stream",
     "text": [
      "Epoch: 310/600, train loss: 5442.873\n",
      "\n",
      "Inferring ...\n",
      "Subset: 0, modalities ['rna']: test size: 100055\n",
      "Processing subset 0: ['rna']\n"
     ]
    },
    {
     "name": "stderr",
     "output_type": "stream",
     "text": [
      "/root/anaconda3/lib/python3.7/site-packages/torch/utils/data/dataloader.py:560: UserWarning: This DataLoader will create 64 worker processes in total. Our suggested max number of worker in current system is 32, which is smaller than what this DataLoader is going to create. Please be aware that excessive worker creation might get DataLoader running slow or even freeze, lower the worker number to avoid potential slowness/freeze if necessary.\n",
      "  cpuset_checked))\n"
     ]
    },
    {
     "name": "stdout",
     "output_type": "stream",
     "text": [
      "Epoch: 311/600, train loss: 5435.665\n",
      "\n",
      "Inferring ...\n",
      "Subset: 0, modalities ['rna']: test size: 100055\n",
      "Processing subset 0: ['rna']\n"
     ]
    },
    {
     "name": "stderr",
     "output_type": "stream",
     "text": [
      "/root/anaconda3/lib/python3.7/site-packages/torch/utils/data/dataloader.py:560: UserWarning: This DataLoader will create 64 worker processes in total. Our suggested max number of worker in current system is 32, which is smaller than what this DataLoader is going to create. Please be aware that excessive worker creation might get DataLoader running slow or even freeze, lower the worker number to avoid potential slowness/freeze if necessary.\n",
      "  cpuset_checked))\n"
     ]
    },
    {
     "name": "stdout",
     "output_type": "stream",
     "text": [
      "Epoch: 312/600, train loss: 5427.891\n",
      "\n",
      "Inferring ...\n",
      "Subset: 0, modalities ['rna']: test size: 100055\n",
      "Processing subset 0: ['rna']\n"
     ]
    },
    {
     "name": "stderr",
     "output_type": "stream",
     "text": [
      "/root/anaconda3/lib/python3.7/site-packages/torch/utils/data/dataloader.py:560: UserWarning: This DataLoader will create 64 worker processes in total. Our suggested max number of worker in current system is 32, which is smaller than what this DataLoader is going to create. Please be aware that excessive worker creation might get DataLoader running slow or even freeze, lower the worker number to avoid potential slowness/freeze if necessary.\n",
      "  cpuset_checked))\n"
     ]
    },
    {
     "name": "stdout",
     "output_type": "stream",
     "text": [
      "Epoch: 313/600, train loss: 5420.649\n",
      "\n",
      "Inferring ...\n",
      "Subset: 0, modalities ['rna']: test size: 100055\n",
      "Processing subset 0: ['rna']\n"
     ]
    },
    {
     "name": "stderr",
     "output_type": "stream",
     "text": [
      "/root/anaconda3/lib/python3.7/site-packages/torch/utils/data/dataloader.py:560: UserWarning: This DataLoader will create 64 worker processes in total. Our suggested max number of worker in current system is 32, which is smaller than what this DataLoader is going to create. Please be aware that excessive worker creation might get DataLoader running slow or even freeze, lower the worker number to avoid potential slowness/freeze if necessary.\n",
      "  cpuset_checked))\n"
     ]
    },
    {
     "name": "stdout",
     "output_type": "stream",
     "text": [
      "Epoch: 314/600, train loss: 5414.150\n",
      "\n",
      "Inferring ...\n",
      "Subset: 0, modalities ['rna']: test size: 100055\n",
      "Processing subset 0: ['rna']\n"
     ]
    },
    {
     "name": "stderr",
     "output_type": "stream",
     "text": [
      "/root/anaconda3/lib/python3.7/site-packages/torch/utils/data/dataloader.py:560: UserWarning: This DataLoader will create 64 worker processes in total. Our suggested max number of worker in current system is 32, which is smaller than what this DataLoader is going to create. Please be aware that excessive worker creation might get DataLoader running slow or even freeze, lower the worker number to avoid potential slowness/freeze if necessary.\n",
      "  cpuset_checked))\n"
     ]
    },
    {
     "name": "stdout",
     "output_type": "stream",
     "text": [
      "Epoch: 315/600, train loss: 5408.319\n",
      "\n",
      "Inferring ...\n",
      "Subset: 0, modalities ['rna']: test size: 100055\n",
      "Processing subset 0: ['rna']\n"
     ]
    },
    {
     "name": "stderr",
     "output_type": "stream",
     "text": [
      "/root/anaconda3/lib/python3.7/site-packages/torch/utils/data/dataloader.py:560: UserWarning: This DataLoader will create 64 worker processes in total. Our suggested max number of worker in current system is 32, which is smaller than what this DataLoader is going to create. Please be aware that excessive worker creation might get DataLoader running slow or even freeze, lower the worker number to avoid potential slowness/freeze if necessary.\n",
      "  cpuset_checked))\n"
     ]
    },
    {
     "name": "stdout",
     "output_type": "stream",
     "text": [
      "Epoch: 316/600, train loss: 5403.721\n",
      "\n",
      "Inferring ...\n",
      "Subset: 0, modalities ['rna']: test size: 100055\n",
      "Processing subset 0: ['rna']\n"
     ]
    },
    {
     "name": "stderr",
     "output_type": "stream",
     "text": [
      "/root/anaconda3/lib/python3.7/site-packages/torch/utils/data/dataloader.py:560: UserWarning: This DataLoader will create 64 worker processes in total. Our suggested max number of worker in current system is 32, which is smaller than what this DataLoader is going to create. Please be aware that excessive worker creation might get DataLoader running slow or even freeze, lower the worker number to avoid potential slowness/freeze if necessary.\n",
      "  cpuset_checked))\n"
     ]
    },
    {
     "name": "stdout",
     "output_type": "stream",
     "text": [
      "Epoch: 317/600, train loss: 5399.246\n",
      "\n",
      "Inferring ...\n",
      "Subset: 0, modalities ['rna']: test size: 100055\n",
      "Processing subset 0: ['rna']\n"
     ]
    },
    {
     "name": "stderr",
     "output_type": "stream",
     "text": [
      "/root/anaconda3/lib/python3.7/site-packages/torch/utils/data/dataloader.py:560: UserWarning: This DataLoader will create 64 worker processes in total. Our suggested max number of worker in current system is 32, which is smaller than what this DataLoader is going to create. Please be aware that excessive worker creation might get DataLoader running slow or even freeze, lower the worker number to avoid potential slowness/freeze if necessary.\n",
      "  cpuset_checked))\n"
     ]
    },
    {
     "name": "stdout",
     "output_type": "stream",
     "text": [
      "Epoch: 318/600, train loss: 5396.062\n",
      "\n",
      "Inferring ...\n",
      "Subset: 0, modalities ['rna']: test size: 100055\n",
      "Processing subset 0: ['rna']\n"
     ]
    },
    {
     "name": "stderr",
     "output_type": "stream",
     "text": [
      "/root/anaconda3/lib/python3.7/site-packages/torch/utils/data/dataloader.py:560: UserWarning: This DataLoader will create 64 worker processes in total. Our suggested max number of worker in current system is 32, which is smaller than what this DataLoader is going to create. Please be aware that excessive worker creation might get DataLoader running slow or even freeze, lower the worker number to avoid potential slowness/freeze if necessary.\n",
      "  cpuset_checked))\n"
     ]
    },
    {
     "name": "stdout",
     "output_type": "stream",
     "text": [
      "Epoch: 319/600, train loss: 5394.101\n",
      "\n",
      "Inferring ...\n",
      "Subset: 0, modalities ['rna']: test size: 100055\n",
      "Processing subset 0: ['rna']\n"
     ]
    },
    {
     "name": "stderr",
     "output_type": "stream",
     "text": [
      "/root/anaconda3/lib/python3.7/site-packages/torch/utils/data/dataloader.py:560: UserWarning: This DataLoader will create 64 worker processes in total. Our suggested max number of worker in current system is 32, which is smaller than what this DataLoader is going to create. Please be aware that excessive worker creation might get DataLoader running slow or even freeze, lower the worker number to avoid potential slowness/freeze if necessary.\n",
      "  cpuset_checked))\n"
     ]
    },
    {
     "name": "stdout",
     "output_type": "stream",
     "text": [
      "Epoch: 320/600, train loss: 5392.364\n",
      "\n",
      "Inferring ...\n",
      "Subset: 0, modalities ['rna']: test size: 100055\n",
      "Processing subset 0: ['rna']\n"
     ]
    },
    {
     "name": "stderr",
     "output_type": "stream",
     "text": [
      "/root/anaconda3/lib/python3.7/site-packages/torch/utils/data/dataloader.py:560: UserWarning: This DataLoader will create 64 worker processes in total. Our suggested max number of worker in current system is 32, which is smaller than what this DataLoader is going to create. Please be aware that excessive worker creation might get DataLoader running slow or even freeze, lower the worker number to avoid potential slowness/freeze if necessary.\n",
      "  cpuset_checked))\n"
     ]
    },
    {
     "name": "stdout",
     "output_type": "stream",
     "text": [
      "Epoch: 321/600, train loss: 5390.297\n",
      "\n",
      "Inferring ...\n",
      "Subset: 0, modalities ['rna']: test size: 100055\n",
      "Processing subset 0: ['rna']\n"
     ]
    },
    {
     "name": "stderr",
     "output_type": "stream",
     "text": [
      "/root/anaconda3/lib/python3.7/site-packages/torch/utils/data/dataloader.py:560: UserWarning: This DataLoader will create 64 worker processes in total. Our suggested max number of worker in current system is 32, which is smaller than what this DataLoader is going to create. Please be aware that excessive worker creation might get DataLoader running slow or even freeze, lower the worker number to avoid potential slowness/freeze if necessary.\n",
      "  cpuset_checked))\n"
     ]
    },
    {
     "name": "stdout",
     "output_type": "stream",
     "text": [
      "Epoch: 322/600, train loss: 5389.258\n",
      "\n",
      "Inferring ...\n",
      "Subset: 0, modalities ['rna']: test size: 100055\n",
      "Processing subset 0: ['rna']\n"
     ]
    },
    {
     "name": "stderr",
     "output_type": "stream",
     "text": [
      "/root/anaconda3/lib/python3.7/site-packages/torch/utils/data/dataloader.py:560: UserWarning: This DataLoader will create 64 worker processes in total. Our suggested max number of worker in current system is 32, which is smaller than what this DataLoader is going to create. Please be aware that excessive worker creation might get DataLoader running slow or even freeze, lower the worker number to avoid potential slowness/freeze if necessary.\n",
      "  cpuset_checked))\n"
     ]
    },
    {
     "name": "stdout",
     "output_type": "stream",
     "text": [
      "Epoch: 323/600, train loss: 5388.576\n",
      "\n",
      "Inferring ...\n",
      "Subset: 0, modalities ['rna']: test size: 100055\n",
      "Processing subset 0: ['rna']\n"
     ]
    },
    {
     "name": "stderr",
     "output_type": "stream",
     "text": [
      "/root/anaconda3/lib/python3.7/site-packages/torch/utils/data/dataloader.py:560: UserWarning: This DataLoader will create 64 worker processes in total. Our suggested max number of worker in current system is 32, which is smaller than what this DataLoader is going to create. Please be aware that excessive worker creation might get DataLoader running slow or even freeze, lower the worker number to avoid potential slowness/freeze if necessary.\n",
      "  cpuset_checked))\n"
     ]
    },
    {
     "name": "stdout",
     "output_type": "stream",
     "text": [
      "Epoch: 324/600, train loss: 5386.463\n",
      "\n",
      "Inferring ...\n",
      "Subset: 0, modalities ['rna']: test size: 100055\n",
      "Processing subset 0: ['rna']\n"
     ]
    },
    {
     "name": "stderr",
     "output_type": "stream",
     "text": [
      "/root/anaconda3/lib/python3.7/site-packages/torch/utils/data/dataloader.py:560: UserWarning: This DataLoader will create 64 worker processes in total. Our suggested max number of worker in current system is 32, which is smaller than what this DataLoader is going to create. Please be aware that excessive worker creation might get DataLoader running slow or even freeze, lower the worker number to avoid potential slowness/freeze if necessary.\n",
      "  cpuset_checked))\n"
     ]
    },
    {
     "name": "stdout",
     "output_type": "stream",
     "text": [
      "Epoch: 325/600, train loss: 5385.697\n",
      "\n",
      "Inferring ...\n",
      "Subset: 0, modalities ['rna']: test size: 100055\n",
      "Processing subset 0: ['rna']\n"
     ]
    },
    {
     "name": "stderr",
     "output_type": "stream",
     "text": [
      "/root/anaconda3/lib/python3.7/site-packages/torch/utils/data/dataloader.py:560: UserWarning: This DataLoader will create 64 worker processes in total. Our suggested max number of worker in current system is 32, which is smaller than what this DataLoader is going to create. Please be aware that excessive worker creation might get DataLoader running slow or even freeze, lower the worker number to avoid potential slowness/freeze if necessary.\n",
      "  cpuset_checked))\n"
     ]
    },
    {
     "name": "stdout",
     "output_type": "stream",
     "text": [
      "Epoch: 326/600, train loss: 5385.247\n",
      "\n",
      "Inferring ...\n",
      "Subset: 0, modalities ['rna']: test size: 100055\n",
      "Processing subset 0: ['rna']\n"
     ]
    },
    {
     "name": "stderr",
     "output_type": "stream",
     "text": [
      "/root/anaconda3/lib/python3.7/site-packages/torch/utils/data/dataloader.py:560: UserWarning: This DataLoader will create 64 worker processes in total. Our suggested max number of worker in current system is 32, which is smaller than what this DataLoader is going to create. Please be aware that excessive worker creation might get DataLoader running slow or even freeze, lower the worker number to avoid potential slowness/freeze if necessary.\n",
      "  cpuset_checked))\n"
     ]
    },
    {
     "name": "stdout",
     "output_type": "stream",
     "text": [
      "Epoch: 327/600, train loss: 5384.473\n",
      "\n",
      "Inferring ...\n",
      "Subset: 0, modalities ['rna']: test size: 100055\n",
      "Processing subset 0: ['rna']\n"
     ]
    },
    {
     "name": "stderr",
     "output_type": "stream",
     "text": [
      "/root/anaconda3/lib/python3.7/site-packages/torch/utils/data/dataloader.py:560: UserWarning: This DataLoader will create 64 worker processes in total. Our suggested max number of worker in current system is 32, which is smaller than what this DataLoader is going to create. Please be aware that excessive worker creation might get DataLoader running slow or even freeze, lower the worker number to avoid potential slowness/freeze if necessary.\n",
      "  cpuset_checked))\n"
     ]
    },
    {
     "name": "stdout",
     "output_type": "stream",
     "text": [
      "Epoch: 328/600, train loss: 5383.673\n",
      "\n",
      "Inferring ...\n",
      "Subset: 0, modalities ['rna']: test size: 100055\n",
      "Processing subset 0: ['rna']\n"
     ]
    },
    {
     "name": "stderr",
     "output_type": "stream",
     "text": [
      "/root/anaconda3/lib/python3.7/site-packages/torch/utils/data/dataloader.py:560: UserWarning: This DataLoader will create 64 worker processes in total. Our suggested max number of worker in current system is 32, which is smaller than what this DataLoader is going to create. Please be aware that excessive worker creation might get DataLoader running slow or even freeze, lower the worker number to avoid potential slowness/freeze if necessary.\n",
      "  cpuset_checked))\n"
     ]
    },
    {
     "name": "stdout",
     "output_type": "stream",
     "text": [
      "Epoch: 329/600, train loss: 5382.589\n",
      "\n",
      "Inferring ...\n",
      "Subset: 0, modalities ['rna']: test size: 100055\n",
      "Processing subset 0: ['rna']\n"
     ]
    },
    {
     "name": "stderr",
     "output_type": "stream",
     "text": [
      "/root/anaconda3/lib/python3.7/site-packages/torch/utils/data/dataloader.py:560: UserWarning: This DataLoader will create 64 worker processes in total. Our suggested max number of worker in current system is 32, which is smaller than what this DataLoader is going to create. Please be aware that excessive worker creation might get DataLoader running slow or even freeze, lower the worker number to avoid potential slowness/freeze if necessary.\n",
      "  cpuset_checked))\n"
     ]
    },
    {
     "name": "stdout",
     "output_type": "stream",
     "text": [
      "Epoch: 330/600, train loss: 5382.101\n",
      "\n",
      "Inferring ...\n",
      "Subset: 0, modalities ['rna']: test size: 100055\n",
      "Processing subset 0: ['rna']\n"
     ]
    },
    {
     "name": "stderr",
     "output_type": "stream",
     "text": [
      "/root/anaconda3/lib/python3.7/site-packages/torch/utils/data/dataloader.py:560: UserWarning: This DataLoader will create 64 worker processes in total. Our suggested max number of worker in current system is 32, which is smaller than what this DataLoader is going to create. Please be aware that excessive worker creation might get DataLoader running slow or even freeze, lower the worker number to avoid potential slowness/freeze if necessary.\n",
      "  cpuset_checked))\n"
     ]
    },
    {
     "name": "stdout",
     "output_type": "stream",
     "text": [
      "Epoch: 331/600, train loss: 5382.401\n",
      "\n",
      "Inferring ...\n",
      "Subset: 0, modalities ['rna']: test size: 100055\n",
      "Processing subset 0: ['rna']\n"
     ]
    },
    {
     "name": "stderr",
     "output_type": "stream",
     "text": [
      "/root/anaconda3/lib/python3.7/site-packages/torch/utils/data/dataloader.py:560: UserWarning: This DataLoader will create 64 worker processes in total. Our suggested max number of worker in current system is 32, which is smaller than what this DataLoader is going to create. Please be aware that excessive worker creation might get DataLoader running slow or even freeze, lower the worker number to avoid potential slowness/freeze if necessary.\n",
      "  cpuset_checked))\n"
     ]
    },
    {
     "name": "stdout",
     "output_type": "stream",
     "text": [
      "Epoch: 332/600, train loss: 5380.954\n",
      "\n",
      "Inferring ...\n",
      "Subset: 0, modalities ['rna']: test size: 100055\n",
      "Processing subset 0: ['rna']\n"
     ]
    },
    {
     "name": "stderr",
     "output_type": "stream",
     "text": [
      "/root/anaconda3/lib/python3.7/site-packages/torch/utils/data/dataloader.py:560: UserWarning: This DataLoader will create 64 worker processes in total. Our suggested max number of worker in current system is 32, which is smaller than what this DataLoader is going to create. Please be aware that excessive worker creation might get DataLoader running slow or even freeze, lower the worker number to avoid potential slowness/freeze if necessary.\n",
      "  cpuset_checked))\n"
     ]
    },
    {
     "name": "stdout",
     "output_type": "stream",
     "text": [
      "Epoch: 333/600, train loss: 5381.053\n",
      "\n",
      "Inferring ...\n",
      "Subset: 0, modalities ['rna']: test size: 100055\n",
      "Processing subset 0: ['rna']\n"
     ]
    },
    {
     "name": "stderr",
     "output_type": "stream",
     "text": [
      "/root/anaconda3/lib/python3.7/site-packages/torch/utils/data/dataloader.py:560: UserWarning: This DataLoader will create 64 worker processes in total. Our suggested max number of worker in current system is 32, which is smaller than what this DataLoader is going to create. Please be aware that excessive worker creation might get DataLoader running slow or even freeze, lower the worker number to avoid potential slowness/freeze if necessary.\n",
      "  cpuset_checked))\n"
     ]
    },
    {
     "name": "stdout",
     "output_type": "stream",
     "text": [
      "Epoch: 334/600, train loss: 5380.584\n",
      "\n",
      "Inferring ...\n",
      "Subset: 0, modalities ['rna']: test size: 100055\n",
      "Processing subset 0: ['rna']\n"
     ]
    },
    {
     "name": "stderr",
     "output_type": "stream",
     "text": [
      "/root/anaconda3/lib/python3.7/site-packages/torch/utils/data/dataloader.py:560: UserWarning: This DataLoader will create 64 worker processes in total. Our suggested max number of worker in current system is 32, which is smaller than what this DataLoader is going to create. Please be aware that excessive worker creation might get DataLoader running slow or even freeze, lower the worker number to avoid potential slowness/freeze if necessary.\n",
      "  cpuset_checked))\n"
     ]
    },
    {
     "name": "stdout",
     "output_type": "stream",
     "text": [
      "Epoch: 335/600, train loss: 5379.967\n",
      "\n",
      "Inferring ...\n",
      "Subset: 0, modalities ['rna']: test size: 100055\n",
      "Processing subset 0: ['rna']\n"
     ]
    },
    {
     "name": "stderr",
     "output_type": "stream",
     "text": [
      "/root/anaconda3/lib/python3.7/site-packages/torch/utils/data/dataloader.py:560: UserWarning: This DataLoader will create 64 worker processes in total. Our suggested max number of worker in current system is 32, which is smaller than what this DataLoader is going to create. Please be aware that excessive worker creation might get DataLoader running slow or even freeze, lower the worker number to avoid potential slowness/freeze if necessary.\n",
      "  cpuset_checked))\n"
     ]
    },
    {
     "name": "stdout",
     "output_type": "stream",
     "text": [
      "Epoch: 336/600, train loss: 5379.905\n",
      "\n",
      "Inferring ...\n",
      "Subset: 0, modalities ['rna']: test size: 100055\n",
      "Processing subset 0: ['rna']\n"
     ]
    },
    {
     "name": "stderr",
     "output_type": "stream",
     "text": [
      "/root/anaconda3/lib/python3.7/site-packages/torch/utils/data/dataloader.py:560: UserWarning: This DataLoader will create 64 worker processes in total. Our suggested max number of worker in current system is 32, which is smaller than what this DataLoader is going to create. Please be aware that excessive worker creation might get DataLoader running slow or even freeze, lower the worker number to avoid potential slowness/freeze if necessary.\n",
      "  cpuset_checked))\n"
     ]
    },
    {
     "name": "stdout",
     "output_type": "stream",
     "text": [
      "Epoch: 337/600, train loss: 5378.887\n",
      "\n",
      "Inferring ...\n",
      "Subset: 0, modalities ['rna']: test size: 100055\n",
      "Processing subset 0: ['rna']\n"
     ]
    },
    {
     "name": "stderr",
     "output_type": "stream",
     "text": [
      "/root/anaconda3/lib/python3.7/site-packages/torch/utils/data/dataloader.py:560: UserWarning: This DataLoader will create 64 worker processes in total. Our suggested max number of worker in current system is 32, which is smaller than what this DataLoader is going to create. Please be aware that excessive worker creation might get DataLoader running slow or even freeze, lower the worker number to avoid potential slowness/freeze if necessary.\n",
      "  cpuset_checked))\n"
     ]
    },
    {
     "name": "stdout",
     "output_type": "stream",
     "text": [
      "Epoch: 338/600, train loss: 5379.090\n",
      "\n",
      "Inferring ...\n",
      "Subset: 0, modalities ['rna']: test size: 100055\n",
      "Processing subset 0: ['rna']\n"
     ]
    },
    {
     "name": "stderr",
     "output_type": "stream",
     "text": [
      "/root/anaconda3/lib/python3.7/site-packages/torch/utils/data/dataloader.py:560: UserWarning: This DataLoader will create 64 worker processes in total. Our suggested max number of worker in current system is 32, which is smaller than what this DataLoader is going to create. Please be aware that excessive worker creation might get DataLoader running slow or even freeze, lower the worker number to avoid potential slowness/freeze if necessary.\n",
      "  cpuset_checked))\n"
     ]
    },
    {
     "name": "stdout",
     "output_type": "stream",
     "text": [
      "Epoch: 339/600, train loss: 5378.834\n",
      "\n",
      "Inferring ...\n",
      "Subset: 0, modalities ['rna']: test size: 100055\n",
      "Processing subset 0: ['rna']\n"
     ]
    },
    {
     "name": "stderr",
     "output_type": "stream",
     "text": [
      "/root/anaconda3/lib/python3.7/site-packages/torch/utils/data/dataloader.py:560: UserWarning: This DataLoader will create 64 worker processes in total. Our suggested max number of worker in current system is 32, which is smaller than what this DataLoader is going to create. Please be aware that excessive worker creation might get DataLoader running slow or even freeze, lower the worker number to avoid potential slowness/freeze if necessary.\n",
      "  cpuset_checked))\n"
     ]
    },
    {
     "name": "stdout",
     "output_type": "stream",
     "text": [
      "Epoch: 340/600, train loss: 5377.942\n",
      "\n",
      "Inferring ...\n",
      "Subset: 0, modalities ['rna']: test size: 100055\n",
      "Processing subset 0: ['rna']\n"
     ]
    },
    {
     "name": "stderr",
     "output_type": "stream",
     "text": [
      "/root/anaconda3/lib/python3.7/site-packages/torch/utils/data/dataloader.py:560: UserWarning: This DataLoader will create 64 worker processes in total. Our suggested max number of worker in current system is 32, which is smaller than what this DataLoader is going to create. Please be aware that excessive worker creation might get DataLoader running slow or even freeze, lower the worker number to avoid potential slowness/freeze if necessary.\n",
      "  cpuset_checked))\n"
     ]
    },
    {
     "name": "stdout",
     "output_type": "stream",
     "text": [
      "Epoch: 341/600, train loss: 5377.932\n",
      "\n",
      "Inferring ...\n",
      "Subset: 0, modalities ['rna']: test size: 100055\n",
      "Processing subset 0: ['rna']\n"
     ]
    },
    {
     "name": "stderr",
     "output_type": "stream",
     "text": [
      "/root/anaconda3/lib/python3.7/site-packages/torch/utils/data/dataloader.py:560: UserWarning: This DataLoader will create 64 worker processes in total. Our suggested max number of worker in current system is 32, which is smaller than what this DataLoader is going to create. Please be aware that excessive worker creation might get DataLoader running slow or even freeze, lower the worker number to avoid potential slowness/freeze if necessary.\n",
      "  cpuset_checked))\n"
     ]
    },
    {
     "name": "stdout",
     "output_type": "stream",
     "text": [
      "Epoch: 342/600, train loss: 5377.739\n",
      "\n",
      "Inferring ...\n",
      "Subset: 0, modalities ['rna']: test size: 100055\n",
      "Processing subset 0: ['rna']\n"
     ]
    },
    {
     "name": "stderr",
     "output_type": "stream",
     "text": [
      "/root/anaconda3/lib/python3.7/site-packages/torch/utils/data/dataloader.py:560: UserWarning: This DataLoader will create 64 worker processes in total. Our suggested max number of worker in current system is 32, which is smaller than what this DataLoader is going to create. Please be aware that excessive worker creation might get DataLoader running slow or even freeze, lower the worker number to avoid potential slowness/freeze if necessary.\n",
      "  cpuset_checked))\n"
     ]
    },
    {
     "name": "stdout",
     "output_type": "stream",
     "text": [
      "Epoch: 343/600, train loss: 5377.291\n",
      "\n",
      "Inferring ...\n",
      "Subset: 0, modalities ['rna']: test size: 100055\n",
      "Processing subset 0: ['rna']\n"
     ]
    },
    {
     "name": "stderr",
     "output_type": "stream",
     "text": [
      "/root/anaconda3/lib/python3.7/site-packages/torch/utils/data/dataloader.py:560: UserWarning: This DataLoader will create 64 worker processes in total. Our suggested max number of worker in current system is 32, which is smaller than what this DataLoader is going to create. Please be aware that excessive worker creation might get DataLoader running slow or even freeze, lower the worker number to avoid potential slowness/freeze if necessary.\n",
      "  cpuset_checked))\n"
     ]
    },
    {
     "name": "stdout",
     "output_type": "stream",
     "text": [
      "Epoch: 344/600, train loss: 5377.003\n",
      "\n",
      "Inferring ...\n",
      "Subset: 0, modalities ['rna']: test size: 100055\n",
      "Processing subset 0: ['rna']\n"
     ]
    },
    {
     "name": "stderr",
     "output_type": "stream",
     "text": [
      "/root/anaconda3/lib/python3.7/site-packages/torch/utils/data/dataloader.py:560: UserWarning: This DataLoader will create 64 worker processes in total. Our suggested max number of worker in current system is 32, which is smaller than what this DataLoader is going to create. Please be aware that excessive worker creation might get DataLoader running slow or even freeze, lower the worker number to avoid potential slowness/freeze if necessary.\n",
      "  cpuset_checked))\n"
     ]
    },
    {
     "name": "stdout",
     "output_type": "stream",
     "text": [
      "Epoch: 345/600, train loss: 5377.024\n",
      "\n",
      "Inferring ...\n",
      "Subset: 0, modalities ['rna']: test size: 100055\n",
      "Processing subset 0: ['rna']\n"
     ]
    },
    {
     "name": "stderr",
     "output_type": "stream",
     "text": [
      "/root/anaconda3/lib/python3.7/site-packages/torch/utils/data/dataloader.py:560: UserWarning: This DataLoader will create 64 worker processes in total. Our suggested max number of worker in current system is 32, which is smaller than what this DataLoader is going to create. Please be aware that excessive worker creation might get DataLoader running slow or even freeze, lower the worker number to avoid potential slowness/freeze if necessary.\n",
      "  cpuset_checked))\n"
     ]
    },
    {
     "name": "stdout",
     "output_type": "stream",
     "text": [
      "Epoch: 346/600, train loss: 5376.071\n",
      "\n",
      "Inferring ...\n",
      "Subset: 0, modalities ['rna']: test size: 100055\n",
      "Processing subset 0: ['rna']\n"
     ]
    },
    {
     "name": "stderr",
     "output_type": "stream",
     "text": [
      "/root/anaconda3/lib/python3.7/site-packages/torch/utils/data/dataloader.py:560: UserWarning: This DataLoader will create 64 worker processes in total. Our suggested max number of worker in current system is 32, which is smaller than what this DataLoader is going to create. Please be aware that excessive worker creation might get DataLoader running slow or even freeze, lower the worker number to avoid potential slowness/freeze if necessary.\n",
      "  cpuset_checked))\n"
     ]
    },
    {
     "name": "stdout",
     "output_type": "stream",
     "text": [
      "Epoch: 347/600, train loss: 5376.486\n",
      "\n",
      "Inferring ...\n",
      "Subset: 0, modalities ['rna']: test size: 100055\n",
      "Processing subset 0: ['rna']\n"
     ]
    },
    {
     "name": "stderr",
     "output_type": "stream",
     "text": [
      "/root/anaconda3/lib/python3.7/site-packages/torch/utils/data/dataloader.py:560: UserWarning: This DataLoader will create 64 worker processes in total. Our suggested max number of worker in current system is 32, which is smaller than what this DataLoader is going to create. Please be aware that excessive worker creation might get DataLoader running slow or even freeze, lower the worker number to avoid potential slowness/freeze if necessary.\n",
      "  cpuset_checked))\n"
     ]
    },
    {
     "name": "stdout",
     "output_type": "stream",
     "text": [
      "Epoch: 348/600, train loss: 5375.917\n",
      "\n",
      "Inferring ...\n",
      "Subset: 0, modalities ['rna']: test size: 100055\n",
      "Processing subset 0: ['rna']\n"
     ]
    },
    {
     "name": "stderr",
     "output_type": "stream",
     "text": [
      "/root/anaconda3/lib/python3.7/site-packages/torch/utils/data/dataloader.py:560: UserWarning: This DataLoader will create 64 worker processes in total. Our suggested max number of worker in current system is 32, which is smaller than what this DataLoader is going to create. Please be aware that excessive worker creation might get DataLoader running slow or even freeze, lower the worker number to avoid potential slowness/freeze if necessary.\n",
      "  cpuset_checked))\n"
     ]
    },
    {
     "name": "stdout",
     "output_type": "stream",
     "text": [
      "Epoch: 349/600, train loss: 5375.397\n",
      "\n",
      "Inferring ...\n",
      "Subset: 0, modalities ['rna']: test size: 100055\n",
      "Processing subset 0: ['rna']\n"
     ]
    },
    {
     "name": "stderr",
     "output_type": "stream",
     "text": [
      "/root/anaconda3/lib/python3.7/site-packages/torch/utils/data/dataloader.py:560: UserWarning: This DataLoader will create 64 worker processes in total. Our suggested max number of worker in current system is 32, which is smaller than what this DataLoader is going to create. Please be aware that excessive worker creation might get DataLoader running slow or even freeze, lower the worker number to avoid potential slowness/freeze if necessary.\n",
      "  cpuset_checked))\n"
     ]
    },
    {
     "name": "stdout",
     "output_type": "stream",
     "text": [
      "Epoch: 350/600, train loss: 5375.430\n",
      "\n",
      "Inferring ...\n",
      "Subset: 0, modalities ['rna']: test size: 100055\n",
      "Processing subset 0: ['rna']\n"
     ]
    },
    {
     "name": "stderr",
     "output_type": "stream",
     "text": [
      "/root/anaconda3/lib/python3.7/site-packages/torch/utils/data/dataloader.py:560: UserWarning: This DataLoader will create 64 worker processes in total. Our suggested max number of worker in current system is 32, which is smaller than what this DataLoader is going to create. Please be aware that excessive worker creation might get DataLoader running slow or even freeze, lower the worker number to avoid potential slowness/freeze if necessary.\n",
      "  cpuset_checked))\n"
     ]
    },
    {
     "name": "stdout",
     "output_type": "stream",
     "text": [
      "Epoch: 351/600, train loss: 5375.610\n",
      "\n",
      "Inferring ...\n",
      "Subset: 0, modalities ['rna']: test size: 100055\n",
      "Processing subset 0: ['rna']\n"
     ]
    },
    {
     "name": "stderr",
     "output_type": "stream",
     "text": [
      "/root/anaconda3/lib/python3.7/site-packages/torch/utils/data/dataloader.py:560: UserWarning: This DataLoader will create 64 worker processes in total. Our suggested max number of worker in current system is 32, which is smaller than what this DataLoader is going to create. Please be aware that excessive worker creation might get DataLoader running slow or even freeze, lower the worker number to avoid potential slowness/freeze if necessary.\n",
      "  cpuset_checked))\n"
     ]
    },
    {
     "name": "stdout",
     "output_type": "stream",
     "text": [
      "Epoch: 352/600, train loss: 5374.792\n",
      "\n",
      "Inferring ...\n",
      "Subset: 0, modalities ['rna']: test size: 100055\n",
      "Processing subset 0: ['rna']\n"
     ]
    },
    {
     "name": "stderr",
     "output_type": "stream",
     "text": [
      "/root/anaconda3/lib/python3.7/site-packages/torch/utils/data/dataloader.py:560: UserWarning: This DataLoader will create 64 worker processes in total. Our suggested max number of worker in current system is 32, which is smaller than what this DataLoader is going to create. Please be aware that excessive worker creation might get DataLoader running slow or even freeze, lower the worker number to avoid potential slowness/freeze if necessary.\n",
      "  cpuset_checked))\n"
     ]
    },
    {
     "name": "stdout",
     "output_type": "stream",
     "text": [
      "Epoch: 353/600, train loss: 5374.218\n",
      "\n",
      "Inferring ...\n",
      "Subset: 0, modalities ['rna']: test size: 100055\n",
      "Processing subset 0: ['rna']\n"
     ]
    },
    {
     "name": "stderr",
     "output_type": "stream",
     "text": [
      "/root/anaconda3/lib/python3.7/site-packages/torch/utils/data/dataloader.py:560: UserWarning: This DataLoader will create 64 worker processes in total. Our suggested max number of worker in current system is 32, which is smaller than what this DataLoader is going to create. Please be aware that excessive worker creation might get DataLoader running slow or even freeze, lower the worker number to avoid potential slowness/freeze if necessary.\n",
      "  cpuset_checked))\n"
     ]
    },
    {
     "name": "stdout",
     "output_type": "stream",
     "text": [
      "Epoch: 354/600, train loss: 5374.884\n",
      "\n",
      "Inferring ...\n",
      "Subset: 0, modalities ['rna']: test size: 100055\n",
      "Processing subset 0: ['rna']\n"
     ]
    },
    {
     "name": "stderr",
     "output_type": "stream",
     "text": [
      "/root/anaconda3/lib/python3.7/site-packages/torch/utils/data/dataloader.py:560: UserWarning: This DataLoader will create 64 worker processes in total. Our suggested max number of worker in current system is 32, which is smaller than what this DataLoader is going to create. Please be aware that excessive worker creation might get DataLoader running slow or even freeze, lower the worker number to avoid potential slowness/freeze if necessary.\n",
      "  cpuset_checked))\n"
     ]
    },
    {
     "name": "stdout",
     "output_type": "stream",
     "text": [
      "Epoch: 355/600, train loss: 5374.667\n",
      "\n",
      "Inferring ...\n",
      "Subset: 0, modalities ['rna']: test size: 100055\n",
      "Processing subset 0: ['rna']\n"
     ]
    },
    {
     "name": "stderr",
     "output_type": "stream",
     "text": [
      "/root/anaconda3/lib/python3.7/site-packages/torch/utils/data/dataloader.py:560: UserWarning: This DataLoader will create 64 worker processes in total. Our suggested max number of worker in current system is 32, which is smaller than what this DataLoader is going to create. Please be aware that excessive worker creation might get DataLoader running slow or even freeze, lower the worker number to avoid potential slowness/freeze if necessary.\n",
      "  cpuset_checked))\n"
     ]
    },
    {
     "name": "stdout",
     "output_type": "stream",
     "text": [
      "Epoch: 356/600, train loss: 5374.396\n",
      "\n",
      "Inferring ...\n",
      "Subset: 0, modalities ['rna']: test size: 100055\n",
      "Processing subset 0: ['rna']\n"
     ]
    },
    {
     "name": "stderr",
     "output_type": "stream",
     "text": [
      "/root/anaconda3/lib/python3.7/site-packages/torch/utils/data/dataloader.py:560: UserWarning: This DataLoader will create 64 worker processes in total. Our suggested max number of worker in current system is 32, which is smaller than what this DataLoader is going to create. Please be aware that excessive worker creation might get DataLoader running slow or even freeze, lower the worker number to avoid potential slowness/freeze if necessary.\n",
      "  cpuset_checked))\n"
     ]
    },
    {
     "name": "stdout",
     "output_type": "stream",
     "text": [
      "Epoch: 357/600, train loss: 5374.377\n",
      "\n",
      "Inferring ...\n",
      "Subset: 0, modalities ['rna']: test size: 100055\n",
      "Processing subset 0: ['rna']\n"
     ]
    },
    {
     "name": "stderr",
     "output_type": "stream",
     "text": [
      "/root/anaconda3/lib/python3.7/site-packages/torch/utils/data/dataloader.py:560: UserWarning: This DataLoader will create 64 worker processes in total. Our suggested max number of worker in current system is 32, which is smaller than what this DataLoader is going to create. Please be aware that excessive worker creation might get DataLoader running slow or even freeze, lower the worker number to avoid potential slowness/freeze if necessary.\n",
      "  cpuset_checked))\n"
     ]
    },
    {
     "name": "stdout",
     "output_type": "stream",
     "text": [
      "Epoch: 358/600, train loss: 5373.070\n",
      "\n",
      "Inferring ...\n",
      "Subset: 0, modalities ['rna']: test size: 100055\n",
      "Processing subset 0: ['rna']\n"
     ]
    },
    {
     "name": "stderr",
     "output_type": "stream",
     "text": [
      "/root/anaconda3/lib/python3.7/site-packages/torch/utils/data/dataloader.py:560: UserWarning: This DataLoader will create 64 worker processes in total. Our suggested max number of worker in current system is 32, which is smaller than what this DataLoader is going to create. Please be aware that excessive worker creation might get DataLoader running slow or even freeze, lower the worker number to avoid potential slowness/freeze if necessary.\n",
      "  cpuset_checked))\n"
     ]
    },
    {
     "name": "stdout",
     "output_type": "stream",
     "text": [
      "Epoch: 359/600, train loss: 5373.502\n",
      "\n",
      "Inferring ...\n",
      "Subset: 0, modalities ['rna']: test size: 100055\n",
      "Processing subset 0: ['rna']\n"
     ]
    },
    {
     "name": "stderr",
     "output_type": "stream",
     "text": [
      "/root/anaconda3/lib/python3.7/site-packages/torch/utils/data/dataloader.py:560: UserWarning: This DataLoader will create 64 worker processes in total. Our suggested max number of worker in current system is 32, which is smaller than what this DataLoader is going to create. Please be aware that excessive worker creation might get DataLoader running slow or even freeze, lower the worker number to avoid potential slowness/freeze if necessary.\n",
      "  cpuset_checked))\n"
     ]
    },
    {
     "name": "stdout",
     "output_type": "stream",
     "text": [
      "Epoch: 360/600, train loss: 5372.698\n",
      "\n",
      "Inferring ...\n",
      "Subset: 0, modalities ['rna']: test size: 100055\n",
      "Processing subset 0: ['rna']\n"
     ]
    },
    {
     "name": "stderr",
     "output_type": "stream",
     "text": [
      "/root/anaconda3/lib/python3.7/site-packages/torch/utils/data/dataloader.py:560: UserWarning: This DataLoader will create 64 worker processes in total. Our suggested max number of worker in current system is 32, which is smaller than what this DataLoader is going to create. Please be aware that excessive worker creation might get DataLoader running slow or even freeze, lower the worker number to avoid potential slowness/freeze if necessary.\n",
      "  cpuset_checked))\n"
     ]
    },
    {
     "name": "stdout",
     "output_type": "stream",
     "text": [
      "Epoch: 361/600, train loss: 5372.958\n",
      "\n",
      "Inferring ...\n",
      "Subset: 0, modalities ['rna']: test size: 100055\n",
      "Processing subset 0: ['rna']\n"
     ]
    },
    {
     "name": "stderr",
     "output_type": "stream",
     "text": [
      "/root/anaconda3/lib/python3.7/site-packages/torch/utils/data/dataloader.py:560: UserWarning: This DataLoader will create 64 worker processes in total. Our suggested max number of worker in current system is 32, which is smaller than what this DataLoader is going to create. Please be aware that excessive worker creation might get DataLoader running slow or even freeze, lower the worker number to avoid potential slowness/freeze if necessary.\n",
      "  cpuset_checked))\n"
     ]
    },
    {
     "name": "stdout",
     "output_type": "stream",
     "text": [
      "Epoch: 362/600, train loss: 5373.428\n",
      "\n",
      "Inferring ...\n",
      "Subset: 0, modalities ['rna']: test size: 100055\n",
      "Processing subset 0: ['rna']\n"
     ]
    },
    {
     "name": "stderr",
     "output_type": "stream",
     "text": [
      "/root/anaconda3/lib/python3.7/site-packages/torch/utils/data/dataloader.py:560: UserWarning: This DataLoader will create 64 worker processes in total. Our suggested max number of worker in current system is 32, which is smaller than what this DataLoader is going to create. Please be aware that excessive worker creation might get DataLoader running slow or even freeze, lower the worker number to avoid potential slowness/freeze if necessary.\n",
      "  cpuset_checked))\n"
     ]
    },
    {
     "name": "stdout",
     "output_type": "stream",
     "text": [
      "Epoch: 363/600, train loss: 5372.257\n",
      "\n",
      "Inferring ...\n",
      "Subset: 0, modalities ['rna']: test size: 100055\n",
      "Processing subset 0: ['rna']\n"
     ]
    },
    {
     "name": "stderr",
     "output_type": "stream",
     "text": [
      "/root/anaconda3/lib/python3.7/site-packages/torch/utils/data/dataloader.py:560: UserWarning: This DataLoader will create 64 worker processes in total. Our suggested max number of worker in current system is 32, which is smaller than what this DataLoader is going to create. Please be aware that excessive worker creation might get DataLoader running slow or even freeze, lower the worker number to avoid potential slowness/freeze if necessary.\n",
      "  cpuset_checked))\n"
     ]
    },
    {
     "name": "stdout",
     "output_type": "stream",
     "text": [
      "Epoch: 364/600, train loss: 5372.457\n",
      "\n",
      "Inferring ...\n",
      "Subset: 0, modalities ['rna']: test size: 100055\n",
      "Processing subset 0: ['rna']\n"
     ]
    },
    {
     "name": "stderr",
     "output_type": "stream",
     "text": [
      "/root/anaconda3/lib/python3.7/site-packages/torch/utils/data/dataloader.py:560: UserWarning: This DataLoader will create 64 worker processes in total. Our suggested max number of worker in current system is 32, which is smaller than what this DataLoader is going to create. Please be aware that excessive worker creation might get DataLoader running slow or even freeze, lower the worker number to avoid potential slowness/freeze if necessary.\n",
      "  cpuset_checked))\n"
     ]
    },
    {
     "name": "stdout",
     "output_type": "stream",
     "text": [
      "Epoch: 365/600, train loss: 5372.537\n",
      "\n",
      "Inferring ...\n",
      "Subset: 0, modalities ['rna']: test size: 100055\n",
      "Processing subset 0: ['rna']\n"
     ]
    },
    {
     "name": "stderr",
     "output_type": "stream",
     "text": [
      "/root/anaconda3/lib/python3.7/site-packages/torch/utils/data/dataloader.py:560: UserWarning: This DataLoader will create 64 worker processes in total. Our suggested max number of worker in current system is 32, which is smaller than what this DataLoader is going to create. Please be aware that excessive worker creation might get DataLoader running slow or even freeze, lower the worker number to avoid potential slowness/freeze if necessary.\n",
      "  cpuset_checked))\n"
     ]
    },
    {
     "name": "stdout",
     "output_type": "stream",
     "text": [
      "Epoch: 366/600, train loss: 5371.934\n",
      "\n",
      "Inferring ...\n",
      "Subset: 0, modalities ['rna']: test size: 100055\n",
      "Processing subset 0: ['rna']\n"
     ]
    },
    {
     "name": "stderr",
     "output_type": "stream",
     "text": [
      "/root/anaconda3/lib/python3.7/site-packages/torch/utils/data/dataloader.py:560: UserWarning: This DataLoader will create 64 worker processes in total. Our suggested max number of worker in current system is 32, which is smaller than what this DataLoader is going to create. Please be aware that excessive worker creation might get DataLoader running slow or even freeze, lower the worker number to avoid potential slowness/freeze if necessary.\n",
      "  cpuset_checked))\n"
     ]
    },
    {
     "name": "stdout",
     "output_type": "stream",
     "text": [
      "Epoch: 367/600, train loss: 5371.447\n",
      "\n",
      "Inferring ...\n",
      "Subset: 0, modalities ['rna']: test size: 100055\n",
      "Processing subset 0: ['rna']\n"
     ]
    },
    {
     "name": "stderr",
     "output_type": "stream",
     "text": [
      "/root/anaconda3/lib/python3.7/site-packages/torch/utils/data/dataloader.py:560: UserWarning: This DataLoader will create 64 worker processes in total. Our suggested max number of worker in current system is 32, which is smaller than what this DataLoader is going to create. Please be aware that excessive worker creation might get DataLoader running slow or even freeze, lower the worker number to avoid potential slowness/freeze if necessary.\n",
      "  cpuset_checked))\n"
     ]
    },
    {
     "name": "stdout",
     "output_type": "stream",
     "text": [
      "Epoch: 368/600, train loss: 5371.839\n",
      "\n",
      "Inferring ...\n",
      "Subset: 0, modalities ['rna']: test size: 100055\n",
      "Processing subset 0: ['rna']\n"
     ]
    },
    {
     "name": "stderr",
     "output_type": "stream",
     "text": [
      "/root/anaconda3/lib/python3.7/site-packages/torch/utils/data/dataloader.py:560: UserWarning: This DataLoader will create 64 worker processes in total. Our suggested max number of worker in current system is 32, which is smaller than what this DataLoader is going to create. Please be aware that excessive worker creation might get DataLoader running slow or even freeze, lower the worker number to avoid potential slowness/freeze if necessary.\n",
      "  cpuset_checked))\n"
     ]
    },
    {
     "name": "stdout",
     "output_type": "stream",
     "text": [
      "Epoch: 369/600, train loss: 5371.270\n",
      "\n",
      "Inferring ...\n",
      "Subset: 0, modalities ['rna']: test size: 100055\n",
      "Processing subset 0: ['rna']\n"
     ]
    },
    {
     "name": "stderr",
     "output_type": "stream",
     "text": [
      "/root/anaconda3/lib/python3.7/site-packages/torch/utils/data/dataloader.py:560: UserWarning: This DataLoader will create 64 worker processes in total. Our suggested max number of worker in current system is 32, which is smaller than what this DataLoader is going to create. Please be aware that excessive worker creation might get DataLoader running slow or even freeze, lower the worker number to avoid potential slowness/freeze if necessary.\n",
      "  cpuset_checked))\n"
     ]
    },
    {
     "name": "stdout",
     "output_type": "stream",
     "text": [
      "Epoch: 370/600, train loss: 5371.429\n",
      "\n",
      "Inferring ...\n",
      "Subset: 0, modalities ['rna']: test size: 100055\n",
      "Processing subset 0: ['rna']\n"
     ]
    },
    {
     "name": "stderr",
     "output_type": "stream",
     "text": [
      "/root/anaconda3/lib/python3.7/site-packages/torch/utils/data/dataloader.py:560: UserWarning: This DataLoader will create 64 worker processes in total. Our suggested max number of worker in current system is 32, which is smaller than what this DataLoader is going to create. Please be aware that excessive worker creation might get DataLoader running slow or even freeze, lower the worker number to avoid potential slowness/freeze if necessary.\n",
      "  cpuset_checked))\n"
     ]
    },
    {
     "name": "stdout",
     "output_type": "stream",
     "text": [
      "Epoch: 371/600, train loss: 5371.509\n",
      "\n",
      "Inferring ...\n",
      "Subset: 0, modalities ['rna']: test size: 100055\n",
      "Processing subset 0: ['rna']\n"
     ]
    },
    {
     "name": "stderr",
     "output_type": "stream",
     "text": [
      "/root/anaconda3/lib/python3.7/site-packages/torch/utils/data/dataloader.py:560: UserWarning: This DataLoader will create 64 worker processes in total. Our suggested max number of worker in current system is 32, which is smaller than what this DataLoader is going to create. Please be aware that excessive worker creation might get DataLoader running slow or even freeze, lower the worker number to avoid potential slowness/freeze if necessary.\n",
      "  cpuset_checked))\n"
     ]
    },
    {
     "name": "stdout",
     "output_type": "stream",
     "text": [
      "Epoch: 372/600, train loss: 5370.907\n",
      "\n",
      "Inferring ...\n",
      "Subset: 0, modalities ['rna']: test size: 100055\n",
      "Processing subset 0: ['rna']\n"
     ]
    },
    {
     "name": "stderr",
     "output_type": "stream",
     "text": [
      "/root/anaconda3/lib/python3.7/site-packages/sklearn/mixture/_base.py:282: ConvergenceWarning: Initialization 1 did not converge. Try different init parameters, or increase max_iter, tol or check for degenerate data.\n",
      "  ConvergenceWarning,\n",
      "/root/anaconda3/lib/python3.7/site-packages/torch/utils/data/dataloader.py:560: UserWarning: This DataLoader will create 64 worker processes in total. Our suggested max number of worker in current system is 32, which is smaller than what this DataLoader is going to create. Please be aware that excessive worker creation might get DataLoader running slow or even freeze, lower the worker number to avoid potential slowness/freeze if necessary.\n",
      "  cpuset_checked))\n"
     ]
    },
    {
     "name": "stdout",
     "output_type": "stream",
     "text": [
      "Epoch: 373/600, train loss: 5371.425\n",
      "\n",
      "Inferring ...\n",
      "Subset: 0, modalities ['rna']: test size: 100055\n",
      "Processing subset 0: ['rna']\n"
     ]
    },
    {
     "name": "stderr",
     "output_type": "stream",
     "text": [
      "/root/anaconda3/lib/python3.7/site-packages/torch/utils/data/dataloader.py:560: UserWarning: This DataLoader will create 64 worker processes in total. Our suggested max number of worker in current system is 32, which is smaller than what this DataLoader is going to create. Please be aware that excessive worker creation might get DataLoader running slow or even freeze, lower the worker number to avoid potential slowness/freeze if necessary.\n",
      "  cpuset_checked))\n"
     ]
    },
    {
     "name": "stdout",
     "output_type": "stream",
     "text": [
      "Epoch: 374/600, train loss: 5370.571\n",
      "\n",
      "Inferring ...\n",
      "Subset: 0, modalities ['rna']: test size: 100055\n",
      "Processing subset 0: ['rna']\n"
     ]
    },
    {
     "name": "stderr",
     "output_type": "stream",
     "text": [
      "/root/anaconda3/lib/python3.7/site-packages/torch/utils/data/dataloader.py:560: UserWarning: This DataLoader will create 64 worker processes in total. Our suggested max number of worker in current system is 32, which is smaller than what this DataLoader is going to create. Please be aware that excessive worker creation might get DataLoader running slow or even freeze, lower the worker number to avoid potential slowness/freeze if necessary.\n",
      "  cpuset_checked))\n"
     ]
    },
    {
     "name": "stdout",
     "output_type": "stream",
     "text": [
      "Epoch: 375/600, train loss: 5370.818\n",
      "\n",
      "Inferring ...\n",
      "Subset: 0, modalities ['rna']: test size: 100055\n",
      "Processing subset 0: ['rna']\n"
     ]
    },
    {
     "name": "stderr",
     "output_type": "stream",
     "text": [
      "/root/anaconda3/lib/python3.7/site-packages/torch/utils/data/dataloader.py:560: UserWarning: This DataLoader will create 64 worker processes in total. Our suggested max number of worker in current system is 32, which is smaller than what this DataLoader is going to create. Please be aware that excessive worker creation might get DataLoader running slow or even freeze, lower the worker number to avoid potential slowness/freeze if necessary.\n",
      "  cpuset_checked))\n"
     ]
    },
    {
     "name": "stdout",
     "output_type": "stream",
     "text": [
      "Epoch: 376/600, train loss: 5370.552\n",
      "\n",
      "Inferring ...\n",
      "Subset: 0, modalities ['rna']: test size: 100055\n",
      "Processing subset 0: ['rna']\n"
     ]
    },
    {
     "name": "stderr",
     "output_type": "stream",
     "text": [
      "/root/anaconda3/lib/python3.7/site-packages/torch/utils/data/dataloader.py:560: UserWarning: This DataLoader will create 64 worker processes in total. Our suggested max number of worker in current system is 32, which is smaller than what this DataLoader is going to create. Please be aware that excessive worker creation might get DataLoader running slow or even freeze, lower the worker number to avoid potential slowness/freeze if necessary.\n",
      "  cpuset_checked))\n"
     ]
    },
    {
     "name": "stdout",
     "output_type": "stream",
     "text": [
      "Epoch: 377/600, train loss: 5370.308\n",
      "\n",
      "Inferring ...\n",
      "Subset: 0, modalities ['rna']: test size: 100055\n",
      "Processing subset 0: ['rna']\n"
     ]
    },
    {
     "name": "stderr",
     "output_type": "stream",
     "text": [
      "/root/anaconda3/lib/python3.7/site-packages/torch/utils/data/dataloader.py:560: UserWarning: This DataLoader will create 64 worker processes in total. Our suggested max number of worker in current system is 32, which is smaller than what this DataLoader is going to create. Please be aware that excessive worker creation might get DataLoader running slow or even freeze, lower the worker number to avoid potential slowness/freeze if necessary.\n",
      "  cpuset_checked))\n"
     ]
    },
    {
     "name": "stdout",
     "output_type": "stream",
     "text": [
      "Epoch: 378/600, train loss: 5370.775\n",
      "\n",
      "Inferring ...\n",
      "Subset: 0, modalities ['rna']: test size: 100055\n",
      "Processing subset 0: ['rna']\n"
     ]
    },
    {
     "name": "stderr",
     "output_type": "stream",
     "text": [
      "/root/anaconda3/lib/python3.7/site-packages/torch/utils/data/dataloader.py:560: UserWarning: This DataLoader will create 64 worker processes in total. Our suggested max number of worker in current system is 32, which is smaller than what this DataLoader is going to create. Please be aware that excessive worker creation might get DataLoader running slow or even freeze, lower the worker number to avoid potential slowness/freeze if necessary.\n",
      "  cpuset_checked))\n"
     ]
    },
    {
     "name": "stdout",
     "output_type": "stream",
     "text": [
      "Epoch: 379/600, train loss: 5369.780\n",
      "\n",
      "Inferring ...\n",
      "Subset: 0, modalities ['rna']: test size: 100055\n",
      "Processing subset 0: ['rna']\n"
     ]
    },
    {
     "name": "stderr",
     "output_type": "stream",
     "text": [
      "/root/anaconda3/lib/python3.7/site-packages/torch/utils/data/dataloader.py:560: UserWarning: This DataLoader will create 64 worker processes in total. Our suggested max number of worker in current system is 32, which is smaller than what this DataLoader is going to create. Please be aware that excessive worker creation might get DataLoader running slow or even freeze, lower the worker number to avoid potential slowness/freeze if necessary.\n",
      "  cpuset_checked))\n"
     ]
    },
    {
     "name": "stdout",
     "output_type": "stream",
     "text": [
      "Epoch: 380/600, train loss: 5370.386\n",
      "\n",
      "Inferring ...\n",
      "Subset: 0, modalities ['rna']: test size: 100055\n",
      "Processing subset 0: ['rna']\n"
     ]
    },
    {
     "name": "stderr",
     "output_type": "stream",
     "text": [
      "/root/anaconda3/lib/python3.7/site-packages/torch/utils/data/dataloader.py:560: UserWarning: This DataLoader will create 64 worker processes in total. Our suggested max number of worker in current system is 32, which is smaller than what this DataLoader is going to create. Please be aware that excessive worker creation might get DataLoader running slow or even freeze, lower the worker number to avoid potential slowness/freeze if necessary.\n",
      "  cpuset_checked))\n"
     ]
    },
    {
     "name": "stdout",
     "output_type": "stream",
     "text": [
      "Epoch: 381/600, train loss: 5370.142\n",
      "\n",
      "Inferring ...\n",
      "Subset: 0, modalities ['rna']: test size: 100055\n",
      "Processing subset 0: ['rna']\n"
     ]
    },
    {
     "name": "stderr",
     "output_type": "stream",
     "text": [
      "/root/anaconda3/lib/python3.7/site-packages/sklearn/mixture/_base.py:282: ConvergenceWarning: Initialization 1 did not converge. Try different init parameters, or increase max_iter, tol or check for degenerate data.\n",
      "  ConvergenceWarning,\n",
      "/root/anaconda3/lib/python3.7/site-packages/torch/utils/data/dataloader.py:560: UserWarning: This DataLoader will create 64 worker processes in total. Our suggested max number of worker in current system is 32, which is smaller than what this DataLoader is going to create. Please be aware that excessive worker creation might get DataLoader running slow or even freeze, lower the worker number to avoid potential slowness/freeze if necessary.\n",
      "  cpuset_checked))\n"
     ]
    },
    {
     "name": "stdout",
     "output_type": "stream",
     "text": [
      "Epoch: 382/600, train loss: 5369.985\n",
      "\n",
      "Inferring ...\n",
      "Subset: 0, modalities ['rna']: test size: 100055\n",
      "Processing subset 0: ['rna']\n"
     ]
    },
    {
     "name": "stderr",
     "output_type": "stream",
     "text": [
      "/root/anaconda3/lib/python3.7/site-packages/sklearn/mixture/_base.py:282: ConvergenceWarning: Initialization 1 did not converge. Try different init parameters, or increase max_iter, tol or check for degenerate data.\n",
      "  ConvergenceWarning,\n",
      "/root/anaconda3/lib/python3.7/site-packages/torch/utils/data/dataloader.py:560: UserWarning: This DataLoader will create 64 worker processes in total. Our suggested max number of worker in current system is 32, which is smaller than what this DataLoader is going to create. Please be aware that excessive worker creation might get DataLoader running slow or even freeze, lower the worker number to avoid potential slowness/freeze if necessary.\n",
      "  cpuset_checked))\n"
     ]
    },
    {
     "name": "stdout",
     "output_type": "stream",
     "text": [
      "Epoch: 383/600, train loss: 5368.878\n",
      "\n",
      "Inferring ...\n",
      "Subset: 0, modalities ['rna']: test size: 100055\n",
      "Processing subset 0: ['rna']\n"
     ]
    },
    {
     "name": "stderr",
     "output_type": "stream",
     "text": [
      "/root/anaconda3/lib/python3.7/site-packages/torch/utils/data/dataloader.py:560: UserWarning: This DataLoader will create 64 worker processes in total. Our suggested max number of worker in current system is 32, which is smaller than what this DataLoader is going to create. Please be aware that excessive worker creation might get DataLoader running slow or even freeze, lower the worker number to avoid potential slowness/freeze if necessary.\n",
      "  cpuset_checked))\n"
     ]
    },
    {
     "name": "stdout",
     "output_type": "stream",
     "text": [
      "Epoch: 384/600, train loss: 5368.875\n",
      "\n",
      "Inferring ...\n",
      "Subset: 0, modalities ['rna']: test size: 100055\n",
      "Processing subset 0: ['rna']\n"
     ]
    },
    {
     "name": "stderr",
     "output_type": "stream",
     "text": [
      "/root/anaconda3/lib/python3.7/site-packages/sklearn/mixture/_base.py:282: ConvergenceWarning: Initialization 1 did not converge. Try different init parameters, or increase max_iter, tol or check for degenerate data.\n",
      "  ConvergenceWarning,\n",
      "/root/anaconda3/lib/python3.7/site-packages/torch/utils/data/dataloader.py:560: UserWarning: This DataLoader will create 64 worker processes in total. Our suggested max number of worker in current system is 32, which is smaller than what this DataLoader is going to create. Please be aware that excessive worker creation might get DataLoader running slow or even freeze, lower the worker number to avoid potential slowness/freeze if necessary.\n",
      "  cpuset_checked))\n"
     ]
    },
    {
     "name": "stdout",
     "output_type": "stream",
     "text": [
      "Epoch: 385/600, train loss: 5369.351\n",
      "\n",
      "Inferring ...\n",
      "Subset: 0, modalities ['rna']: test size: 100055\n",
      "Processing subset 0: ['rna']\n"
     ]
    },
    {
     "name": "stderr",
     "output_type": "stream",
     "text": [
      "/root/anaconda3/lib/python3.7/site-packages/torch/utils/data/dataloader.py:560: UserWarning: This DataLoader will create 64 worker processes in total. Our suggested max number of worker in current system is 32, which is smaller than what this DataLoader is going to create. Please be aware that excessive worker creation might get DataLoader running slow or even freeze, lower the worker number to avoid potential slowness/freeze if necessary.\n",
      "  cpuset_checked))\n"
     ]
    },
    {
     "name": "stdout",
     "output_type": "stream",
     "text": [
      "Epoch: 386/600, train loss: 5369.079\n",
      "\n",
      "Inferring ...\n",
      "Subset: 0, modalities ['rna']: test size: 100055\n",
      "Processing subset 0: ['rna']\n"
     ]
    },
    {
     "name": "stderr",
     "output_type": "stream",
     "text": [
      "/root/anaconda3/lib/python3.7/site-packages/torch/utils/data/dataloader.py:560: UserWarning: This DataLoader will create 64 worker processes in total. Our suggested max number of worker in current system is 32, which is smaller than what this DataLoader is going to create. Please be aware that excessive worker creation might get DataLoader running slow or even freeze, lower the worker number to avoid potential slowness/freeze if necessary.\n",
      "  cpuset_checked))\n"
     ]
    },
    {
     "name": "stdout",
     "output_type": "stream",
     "text": [
      "Epoch: 387/600, train loss: 5369.057\n",
      "\n",
      "Inferring ...\n",
      "Subset: 0, modalities ['rna']: test size: 100055\n",
      "Processing subset 0: ['rna']\n"
     ]
    },
    {
     "name": "stderr",
     "output_type": "stream",
     "text": [
      "/root/anaconda3/lib/python3.7/site-packages/sklearn/mixture/_base.py:282: ConvergenceWarning: Initialization 1 did not converge. Try different init parameters, or increase max_iter, tol or check for degenerate data.\n",
      "  ConvergenceWarning,\n",
      "/root/anaconda3/lib/python3.7/site-packages/torch/utils/data/dataloader.py:560: UserWarning: This DataLoader will create 64 worker processes in total. Our suggested max number of worker in current system is 32, which is smaller than what this DataLoader is going to create. Please be aware that excessive worker creation might get DataLoader running slow or even freeze, lower the worker number to avoid potential slowness/freeze if necessary.\n",
      "  cpuset_checked))\n"
     ]
    },
    {
     "name": "stdout",
     "output_type": "stream",
     "text": [
      "Epoch: 388/600, train loss: 5368.728\n",
      "\n",
      "Inferring ...\n",
      "Subset: 0, modalities ['rna']: test size: 100055\n",
      "Processing subset 0: ['rna']\n"
     ]
    },
    {
     "name": "stderr",
     "output_type": "stream",
     "text": [
      "/root/anaconda3/lib/python3.7/site-packages/sklearn/mixture/_base.py:282: ConvergenceWarning: Initialization 1 did not converge. Try different init parameters, or increase max_iter, tol or check for degenerate data.\n",
      "  ConvergenceWarning,\n",
      "/root/anaconda3/lib/python3.7/site-packages/torch/utils/data/dataloader.py:560: UserWarning: This DataLoader will create 64 worker processes in total. Our suggested max number of worker in current system is 32, which is smaller than what this DataLoader is going to create. Please be aware that excessive worker creation might get DataLoader running slow or even freeze, lower the worker number to avoid potential slowness/freeze if necessary.\n",
      "  cpuset_checked))\n"
     ]
    },
    {
     "name": "stdout",
     "output_type": "stream",
     "text": [
      "Epoch: 389/600, train loss: 5368.142\n",
      "\n",
      "Inferring ...\n",
      "Subset: 0, modalities ['rna']: test size: 100055\n",
      "Processing subset 0: ['rna']\n"
     ]
    },
    {
     "name": "stderr",
     "output_type": "stream",
     "text": [
      "/root/anaconda3/lib/python3.7/site-packages/sklearn/mixture/_base.py:282: ConvergenceWarning: Initialization 1 did not converge. Try different init parameters, or increase max_iter, tol or check for degenerate data.\n",
      "  ConvergenceWarning,\n",
      "/root/anaconda3/lib/python3.7/site-packages/torch/utils/data/dataloader.py:560: UserWarning: This DataLoader will create 64 worker processes in total. Our suggested max number of worker in current system is 32, which is smaller than what this DataLoader is going to create. Please be aware that excessive worker creation might get DataLoader running slow or even freeze, lower the worker number to avoid potential slowness/freeze if necessary.\n",
      "  cpuset_checked))\n"
     ]
    },
    {
     "name": "stdout",
     "output_type": "stream",
     "text": [
      "Epoch: 390/600, train loss: 5368.511\n",
      "\n",
      "Inferring ...\n",
      "Subset: 0, modalities ['rna']: test size: 100055\n",
      "Processing subset 0: ['rna']\n"
     ]
    },
    {
     "name": "stderr",
     "output_type": "stream",
     "text": [
      "/root/anaconda3/lib/python3.7/site-packages/sklearn/mixture/_base.py:282: ConvergenceWarning: Initialization 1 did not converge. Try different init parameters, or increase max_iter, tol or check for degenerate data.\n",
      "  ConvergenceWarning,\n",
      "/root/anaconda3/lib/python3.7/site-packages/torch/utils/data/dataloader.py:560: UserWarning: This DataLoader will create 64 worker processes in total. Our suggested max number of worker in current system is 32, which is smaller than what this DataLoader is going to create. Please be aware that excessive worker creation might get DataLoader running slow or even freeze, lower the worker number to avoid potential slowness/freeze if necessary.\n",
      "  cpuset_checked))\n"
     ]
    },
    {
     "name": "stdout",
     "output_type": "stream",
     "text": [
      "Epoch: 391/600, train loss: 5368.416\n",
      "\n",
      "Inferring ...\n",
      "Subset: 0, modalities ['rna']: test size: 100055\n",
      "Processing subset 0: ['rna']\n"
     ]
    },
    {
     "name": "stderr",
     "output_type": "stream",
     "text": [
      "/root/anaconda3/lib/python3.7/site-packages/sklearn/mixture/_base.py:282: ConvergenceWarning: Initialization 1 did not converge. Try different init parameters, or increase max_iter, tol or check for degenerate data.\n",
      "  ConvergenceWarning,\n",
      "/root/anaconda3/lib/python3.7/site-packages/torch/utils/data/dataloader.py:560: UserWarning: This DataLoader will create 64 worker processes in total. Our suggested max number of worker in current system is 32, which is smaller than what this DataLoader is going to create. Please be aware that excessive worker creation might get DataLoader running slow or even freeze, lower the worker number to avoid potential slowness/freeze if necessary.\n",
      "  cpuset_checked))\n"
     ]
    },
    {
     "name": "stdout",
     "output_type": "stream",
     "text": [
      "Epoch: 392/600, train loss: 5368.361\n",
      "\n",
      "Inferring ...\n",
      "Subset: 0, modalities ['rna']: test size: 100055\n",
      "Processing subset 0: ['rna']\n"
     ]
    },
    {
     "name": "stderr",
     "output_type": "stream",
     "text": [
      "/root/anaconda3/lib/python3.7/site-packages/torch/utils/data/dataloader.py:560: UserWarning: This DataLoader will create 64 worker processes in total. Our suggested max number of worker in current system is 32, which is smaller than what this DataLoader is going to create. Please be aware that excessive worker creation might get DataLoader running slow or even freeze, lower the worker number to avoid potential slowness/freeze if necessary.\n",
      "  cpuset_checked))\n"
     ]
    },
    {
     "name": "stdout",
     "output_type": "stream",
     "text": [
      "Epoch: 393/600, train loss: 5368.364\n",
      "\n",
      "Inferring ...\n",
      "Subset: 0, modalities ['rna']: test size: 100055\n",
      "Processing subset 0: ['rna']\n"
     ]
    },
    {
     "name": "stderr",
     "output_type": "stream",
     "text": [
      "/root/anaconda3/lib/python3.7/site-packages/sklearn/mixture/_base.py:282: ConvergenceWarning: Initialization 1 did not converge. Try different init parameters, or increase max_iter, tol or check for degenerate data.\n",
      "  ConvergenceWarning,\n",
      "/root/anaconda3/lib/python3.7/site-packages/torch/utils/data/dataloader.py:560: UserWarning: This DataLoader will create 64 worker processes in total. Our suggested max number of worker in current system is 32, which is smaller than what this DataLoader is going to create. Please be aware that excessive worker creation might get DataLoader running slow or even freeze, lower the worker number to avoid potential slowness/freeze if necessary.\n",
      "  cpuset_checked))\n"
     ]
    },
    {
     "name": "stdout",
     "output_type": "stream",
     "text": [
      "Epoch: 394/600, train loss: 5368.110\n",
      "\n",
      "Inferring ...\n",
      "Subset: 0, modalities ['rna']: test size: 100055\n",
      "Processing subset 0: ['rna']\n"
     ]
    },
    {
     "name": "stderr",
     "output_type": "stream",
     "text": [
      "/root/anaconda3/lib/python3.7/site-packages/sklearn/mixture/_base.py:282: ConvergenceWarning: Initialization 1 did not converge. Try different init parameters, or increase max_iter, tol or check for degenerate data.\n",
      "  ConvergenceWarning,\n",
      "/root/anaconda3/lib/python3.7/site-packages/torch/utils/data/dataloader.py:560: UserWarning: This DataLoader will create 64 worker processes in total. Our suggested max number of worker in current system is 32, which is smaller than what this DataLoader is going to create. Please be aware that excessive worker creation might get DataLoader running slow or even freeze, lower the worker number to avoid potential slowness/freeze if necessary.\n",
      "  cpuset_checked))\n"
     ]
    },
    {
     "name": "stdout",
     "output_type": "stream",
     "text": [
      "Epoch: 395/600, train loss: 5367.779\n",
      "\n",
      "Inferring ...\n",
      "Subset: 0, modalities ['rna']: test size: 100055\n",
      "Processing subset 0: ['rna']\n"
     ]
    },
    {
     "name": "stderr",
     "output_type": "stream",
     "text": [
      "/root/anaconda3/lib/python3.7/site-packages/torch/utils/data/dataloader.py:560: UserWarning: This DataLoader will create 64 worker processes in total. Our suggested max number of worker in current system is 32, which is smaller than what this DataLoader is going to create. Please be aware that excessive worker creation might get DataLoader running slow or even freeze, lower the worker number to avoid potential slowness/freeze if necessary.\n",
      "  cpuset_checked))\n"
     ]
    },
    {
     "name": "stdout",
     "output_type": "stream",
     "text": [
      "Epoch: 396/600, train loss: 5367.996\n",
      "\n",
      "Inferring ...\n",
      "Subset: 0, modalities ['rna']: test size: 100055\n",
      "Processing subset 0: ['rna']\n"
     ]
    },
    {
     "name": "stderr",
     "output_type": "stream",
     "text": [
      "/root/anaconda3/lib/python3.7/site-packages/sklearn/mixture/_base.py:282: ConvergenceWarning: Initialization 1 did not converge. Try different init parameters, or increase max_iter, tol or check for degenerate data.\n",
      "  ConvergenceWarning,\n",
      "/root/anaconda3/lib/python3.7/site-packages/torch/utils/data/dataloader.py:560: UserWarning: This DataLoader will create 64 worker processes in total. Our suggested max number of worker in current system is 32, which is smaller than what this DataLoader is going to create. Please be aware that excessive worker creation might get DataLoader running slow or even freeze, lower the worker number to avoid potential slowness/freeze if necessary.\n",
      "  cpuset_checked))\n"
     ]
    },
    {
     "name": "stdout",
     "output_type": "stream",
     "text": [
      "Epoch: 397/600, train loss: 5367.416\n",
      "\n",
      "Inferring ...\n",
      "Subset: 0, modalities ['rna']: test size: 100055\n",
      "Processing subset 0: ['rna']\n"
     ]
    },
    {
     "name": "stderr",
     "output_type": "stream",
     "text": [
      "/root/anaconda3/lib/python3.7/site-packages/torch/utils/data/dataloader.py:560: UserWarning: This DataLoader will create 64 worker processes in total. Our suggested max number of worker in current system is 32, which is smaller than what this DataLoader is going to create. Please be aware that excessive worker creation might get DataLoader running slow or even freeze, lower the worker number to avoid potential slowness/freeze if necessary.\n",
      "  cpuset_checked))\n"
     ]
    },
    {
     "name": "stdout",
     "output_type": "stream",
     "text": [
      "Epoch: 398/600, train loss: 5368.317\n",
      "\n",
      "Inferring ...\n",
      "Subset: 0, modalities ['rna']: test size: 100055\n",
      "Processing subset 0: ['rna']\n"
     ]
    },
    {
     "name": "stderr",
     "output_type": "stream",
     "text": [
      "/root/anaconda3/lib/python3.7/site-packages/sklearn/mixture/_base.py:282: ConvergenceWarning: Initialization 1 did not converge. Try different init parameters, or increase max_iter, tol or check for degenerate data.\n",
      "  ConvergenceWarning,\n",
      "/root/anaconda3/lib/python3.7/site-packages/torch/utils/data/dataloader.py:560: UserWarning: This DataLoader will create 64 worker processes in total. Our suggested max number of worker in current system is 32, which is smaller than what this DataLoader is going to create. Please be aware that excessive worker creation might get DataLoader running slow or even freeze, lower the worker number to avoid potential slowness/freeze if necessary.\n",
      "  cpuset_checked))\n"
     ]
    },
    {
     "name": "stdout",
     "output_type": "stream",
     "text": [
      "Epoch: 399/600, train loss: 5367.269\n",
      "\n",
      "Inferring ...\n",
      "Subset: 0, modalities ['rna']: test size: 100055\n",
      "Processing subset 0: ['rna']\n"
     ]
    },
    {
     "name": "stderr",
     "output_type": "stream",
     "text": [
      "/root/anaconda3/lib/python3.7/site-packages/sklearn/mixture/_base.py:282: ConvergenceWarning: Initialization 1 did not converge. Try different init parameters, or increase max_iter, tol or check for degenerate data.\n",
      "  ConvergenceWarning,\n",
      "/root/anaconda3/lib/python3.7/site-packages/torch/utils/data/dataloader.py:560: UserWarning: This DataLoader will create 64 worker processes in total. Our suggested max number of worker in current system is 32, which is smaller than what this DataLoader is going to create. Please be aware that excessive worker creation might get DataLoader running slow or even freeze, lower the worker number to avoid potential slowness/freeze if necessary.\n",
      "  cpuset_checked))\n"
     ]
    },
    {
     "name": "stdout",
     "output_type": "stream",
     "text": [
      "Epoch: 400/600, train loss: 5367.210\n",
      "\n",
      "Inferring ...\n",
      "Subset: 0, modalities ['rna']: test size: 100055\n",
      "Processing subset 0: ['rna']\n"
     ]
    },
    {
     "name": "stderr",
     "output_type": "stream",
     "text": [
      "/root/anaconda3/lib/python3.7/site-packages/sklearn/mixture/_base.py:282: ConvergenceWarning: Initialization 1 did not converge. Try different init parameters, or increase max_iter, tol or check for degenerate data.\n",
      "  ConvergenceWarning,\n",
      "/root/anaconda3/lib/python3.7/site-packages/torch/utils/data/dataloader.py:560: UserWarning: This DataLoader will create 64 worker processes in total. Our suggested max number of worker in current system is 32, which is smaller than what this DataLoader is going to create. Please be aware that excessive worker creation might get DataLoader running slow or even freeze, lower the worker number to avoid potential slowness/freeze if necessary.\n",
      "  cpuset_checked))\n"
     ]
    },
    {
     "name": "stdout",
     "output_type": "stream",
     "text": [
      "Epoch: 401/600, train loss: 5367.048\n",
      "\n",
      "Inferring ...\n",
      "Subset: 0, modalities ['rna']: test size: 100055\n",
      "Processing subset 0: ['rna']\n"
     ]
    },
    {
     "name": "stderr",
     "output_type": "stream",
     "text": [
      "/root/anaconda3/lib/python3.7/site-packages/sklearn/mixture/_base.py:282: ConvergenceWarning: Initialization 1 did not converge. Try different init parameters, or increase max_iter, tol or check for degenerate data.\n",
      "  ConvergenceWarning,\n",
      "/root/anaconda3/lib/python3.7/site-packages/torch/utils/data/dataloader.py:560: UserWarning: This DataLoader will create 64 worker processes in total. Our suggested max number of worker in current system is 32, which is smaller than what this DataLoader is going to create. Please be aware that excessive worker creation might get DataLoader running slow or even freeze, lower the worker number to avoid potential slowness/freeze if necessary.\n",
      "  cpuset_checked))\n"
     ]
    },
    {
     "name": "stdout",
     "output_type": "stream",
     "text": [
      "Epoch: 402/600, train loss: 5366.655\n",
      "\n",
      "Inferring ...\n",
      "Subset: 0, modalities ['rna']: test size: 100055\n",
      "Processing subset 0: ['rna']\n"
     ]
    },
    {
     "name": "stderr",
     "output_type": "stream",
     "text": [
      "/root/anaconda3/lib/python3.7/site-packages/sklearn/mixture/_base.py:282: ConvergenceWarning: Initialization 1 did not converge. Try different init parameters, or increase max_iter, tol or check for degenerate data.\n",
      "  ConvergenceWarning,\n",
      "/root/anaconda3/lib/python3.7/site-packages/torch/utils/data/dataloader.py:560: UserWarning: This DataLoader will create 64 worker processes in total. Our suggested max number of worker in current system is 32, which is smaller than what this DataLoader is going to create. Please be aware that excessive worker creation might get DataLoader running slow or even freeze, lower the worker number to avoid potential slowness/freeze if necessary.\n",
      "  cpuset_checked))\n"
     ]
    },
    {
     "name": "stdout",
     "output_type": "stream",
     "text": [
      "Epoch: 403/600, train loss: 5367.206\n",
      "\n",
      "Inferring ...\n",
      "Subset: 0, modalities ['rna']: test size: 100055\n",
      "Processing subset 0: ['rna']\n"
     ]
    },
    {
     "name": "stderr",
     "output_type": "stream",
     "text": [
      "/root/anaconda3/lib/python3.7/site-packages/sklearn/mixture/_base.py:282: ConvergenceWarning: Initialization 1 did not converge. Try different init parameters, or increase max_iter, tol or check for degenerate data.\n",
      "  ConvergenceWarning,\n",
      "/root/anaconda3/lib/python3.7/site-packages/torch/utils/data/dataloader.py:560: UserWarning: This DataLoader will create 64 worker processes in total. Our suggested max number of worker in current system is 32, which is smaller than what this DataLoader is going to create. Please be aware that excessive worker creation might get DataLoader running slow or even freeze, lower the worker number to avoid potential slowness/freeze if necessary.\n",
      "  cpuset_checked))\n"
     ]
    },
    {
     "name": "stdout",
     "output_type": "stream",
     "text": [
      "Epoch: 404/600, train loss: 5367.186\n",
      "\n",
      "Inferring ...\n",
      "Subset: 0, modalities ['rna']: test size: 100055\n",
      "Processing subset 0: ['rna']\n"
     ]
    },
    {
     "name": "stderr",
     "output_type": "stream",
     "text": [
      "/root/anaconda3/lib/python3.7/site-packages/sklearn/mixture/_base.py:282: ConvergenceWarning: Initialization 1 did not converge. Try different init parameters, or increase max_iter, tol or check for degenerate data.\n",
      "  ConvergenceWarning,\n",
      "/root/anaconda3/lib/python3.7/site-packages/torch/utils/data/dataloader.py:560: UserWarning: This DataLoader will create 64 worker processes in total. Our suggested max number of worker in current system is 32, which is smaller than what this DataLoader is going to create. Please be aware that excessive worker creation might get DataLoader running slow or even freeze, lower the worker number to avoid potential slowness/freeze if necessary.\n",
      "  cpuset_checked))\n"
     ]
    },
    {
     "name": "stdout",
     "output_type": "stream",
     "text": [
      "Epoch: 405/600, train loss: 5367.093\n",
      "\n",
      "Inferring ...\n",
      "Subset: 0, modalities ['rna']: test size: 100055\n",
      "Processing subset 0: ['rna']\n"
     ]
    },
    {
     "name": "stderr",
     "output_type": "stream",
     "text": [
      "/root/anaconda3/lib/python3.7/site-packages/sklearn/mixture/_base.py:282: ConvergenceWarning: Initialization 1 did not converge. Try different init parameters, or increase max_iter, tol or check for degenerate data.\n",
      "  ConvergenceWarning,\n",
      "/root/anaconda3/lib/python3.7/site-packages/torch/utils/data/dataloader.py:560: UserWarning: This DataLoader will create 64 worker processes in total. Our suggested max number of worker in current system is 32, which is smaller than what this DataLoader is going to create. Please be aware that excessive worker creation might get DataLoader running slow or even freeze, lower the worker number to avoid potential slowness/freeze if necessary.\n",
      "  cpuset_checked))\n"
     ]
    },
    {
     "name": "stdout",
     "output_type": "stream",
     "text": [
      "Epoch: 406/600, train loss: 5366.277\n",
      "\n",
      "Inferring ...\n",
      "Subset: 0, modalities ['rna']: test size: 100055\n",
      "Processing subset 0: ['rna']\n"
     ]
    },
    {
     "name": "stderr",
     "output_type": "stream",
     "text": [
      "/root/anaconda3/lib/python3.7/site-packages/sklearn/mixture/_base.py:282: ConvergenceWarning: Initialization 1 did not converge. Try different init parameters, or increase max_iter, tol or check for degenerate data.\n",
      "  ConvergenceWarning,\n",
      "/root/anaconda3/lib/python3.7/site-packages/torch/utils/data/dataloader.py:560: UserWarning: This DataLoader will create 64 worker processes in total. Our suggested max number of worker in current system is 32, which is smaller than what this DataLoader is going to create. Please be aware that excessive worker creation might get DataLoader running slow or even freeze, lower the worker number to avoid potential slowness/freeze if necessary.\n",
      "  cpuset_checked))\n"
     ]
    },
    {
     "name": "stdout",
     "output_type": "stream",
     "text": [
      "Epoch: 407/600, train loss: 5366.084\n",
      "\n",
      "Inferring ...\n",
      "Subset: 0, modalities ['rna']: test size: 100055\n",
      "Processing subset 0: ['rna']\n"
     ]
    },
    {
     "name": "stderr",
     "output_type": "stream",
     "text": [
      "/root/anaconda3/lib/python3.7/site-packages/sklearn/mixture/_base.py:282: ConvergenceWarning: Initialization 1 did not converge. Try different init parameters, or increase max_iter, tol or check for degenerate data.\n",
      "  ConvergenceWarning,\n",
      "/root/anaconda3/lib/python3.7/site-packages/torch/utils/data/dataloader.py:560: UserWarning: This DataLoader will create 64 worker processes in total. Our suggested max number of worker in current system is 32, which is smaller than what this DataLoader is going to create. Please be aware that excessive worker creation might get DataLoader running slow or even freeze, lower the worker number to avoid potential slowness/freeze if necessary.\n",
      "  cpuset_checked))\n"
     ]
    },
    {
     "name": "stdout",
     "output_type": "stream",
     "text": [
      "Epoch: 408/600, train loss: 5367.128\n",
      "\n",
      "Inferring ...\n",
      "Subset: 0, modalities ['rna']: test size: 100055\n",
      "Processing subset 0: ['rna']\n"
     ]
    },
    {
     "name": "stderr",
     "output_type": "stream",
     "text": [
      "/root/anaconda3/lib/python3.7/site-packages/sklearn/mixture/_base.py:282: ConvergenceWarning: Initialization 1 did not converge. Try different init parameters, or increase max_iter, tol or check for degenerate data.\n",
      "  ConvergenceWarning,\n",
      "/root/anaconda3/lib/python3.7/site-packages/torch/utils/data/dataloader.py:560: UserWarning: This DataLoader will create 64 worker processes in total. Our suggested max number of worker in current system is 32, which is smaller than what this DataLoader is going to create. Please be aware that excessive worker creation might get DataLoader running slow or even freeze, lower the worker number to avoid potential slowness/freeze if necessary.\n",
      "  cpuset_checked))\n"
     ]
    },
    {
     "name": "stdout",
     "output_type": "stream",
     "text": [
      "Epoch: 409/600, train loss: 5365.650\n",
      "\n",
      "Inferring ...\n",
      "Subset: 0, modalities ['rna']: test size: 100055\n",
      "Processing subset 0: ['rna']\n"
     ]
    },
    {
     "name": "stderr",
     "output_type": "stream",
     "text": [
      "/root/anaconda3/lib/python3.7/site-packages/sklearn/mixture/_base.py:282: ConvergenceWarning: Initialization 1 did not converge. Try different init parameters, or increase max_iter, tol or check for degenerate data.\n",
      "  ConvergenceWarning,\n",
      "/root/anaconda3/lib/python3.7/site-packages/torch/utils/data/dataloader.py:560: UserWarning: This DataLoader will create 64 worker processes in total. Our suggested max number of worker in current system is 32, which is smaller than what this DataLoader is going to create. Please be aware that excessive worker creation might get DataLoader running slow or even freeze, lower the worker number to avoid potential slowness/freeze if necessary.\n",
      "  cpuset_checked))\n"
     ]
    },
    {
     "name": "stdout",
     "output_type": "stream",
     "text": [
      "Epoch: 410/600, train loss: 5366.416\n",
      "\n",
      "Inferring ...\n",
      "Subset: 0, modalities ['rna']: test size: 100055\n",
      "Processing subset 0: ['rna']\n"
     ]
    },
    {
     "name": "stderr",
     "output_type": "stream",
     "text": [
      "/root/anaconda3/lib/python3.7/site-packages/sklearn/mixture/_base.py:282: ConvergenceWarning: Initialization 1 did not converge. Try different init parameters, or increase max_iter, tol or check for degenerate data.\n",
      "  ConvergenceWarning,\n",
      "/root/anaconda3/lib/python3.7/site-packages/torch/utils/data/dataloader.py:560: UserWarning: This DataLoader will create 64 worker processes in total. Our suggested max number of worker in current system is 32, which is smaller than what this DataLoader is going to create. Please be aware that excessive worker creation might get DataLoader running slow or even freeze, lower the worker number to avoid potential slowness/freeze if necessary.\n",
      "  cpuset_checked))\n"
     ]
    },
    {
     "name": "stdout",
     "output_type": "stream",
     "text": [
      "Epoch: 411/600, train loss: 5365.682\n",
      "\n",
      "Inferring ...\n",
      "Subset: 0, modalities ['rna']: test size: 100055\n",
      "Processing subset 0: ['rna']\n"
     ]
    },
    {
     "name": "stderr",
     "output_type": "stream",
     "text": [
      "/root/anaconda3/lib/python3.7/site-packages/sklearn/mixture/_base.py:282: ConvergenceWarning: Initialization 1 did not converge. Try different init parameters, or increase max_iter, tol or check for degenerate data.\n",
      "  ConvergenceWarning,\n",
      "/root/anaconda3/lib/python3.7/site-packages/torch/utils/data/dataloader.py:560: UserWarning: This DataLoader will create 64 worker processes in total. Our suggested max number of worker in current system is 32, which is smaller than what this DataLoader is going to create. Please be aware that excessive worker creation might get DataLoader running slow or even freeze, lower the worker number to avoid potential slowness/freeze if necessary.\n",
      "  cpuset_checked))\n"
     ]
    },
    {
     "name": "stdout",
     "output_type": "stream",
     "text": [
      "Epoch: 412/600, train loss: 5366.296\n",
      "\n",
      "Inferring ...\n",
      "Subset: 0, modalities ['rna']: test size: 100055\n",
      "Processing subset 0: ['rna']\n"
     ]
    },
    {
     "name": "stderr",
     "output_type": "stream",
     "text": [
      "/root/anaconda3/lib/python3.7/site-packages/sklearn/mixture/_base.py:282: ConvergenceWarning: Initialization 1 did not converge. Try different init parameters, or increase max_iter, tol or check for degenerate data.\n",
      "  ConvergenceWarning,\n",
      "/root/anaconda3/lib/python3.7/site-packages/torch/utils/data/dataloader.py:560: UserWarning: This DataLoader will create 64 worker processes in total. Our suggested max number of worker in current system is 32, which is smaller than what this DataLoader is going to create. Please be aware that excessive worker creation might get DataLoader running slow or even freeze, lower the worker number to avoid potential slowness/freeze if necessary.\n",
      "  cpuset_checked))\n"
     ]
    },
    {
     "name": "stdout",
     "output_type": "stream",
     "text": [
      "Epoch: 413/600, train loss: 5365.981\n",
      "\n",
      "Inferring ...\n",
      "Subset: 0, modalities ['rna']: test size: 100055\n",
      "Processing subset 0: ['rna']\n"
     ]
    },
    {
     "name": "stderr",
     "output_type": "stream",
     "text": [
      "/root/anaconda3/lib/python3.7/site-packages/sklearn/mixture/_base.py:282: ConvergenceWarning: Initialization 1 did not converge. Try different init parameters, or increase max_iter, tol or check for degenerate data.\n",
      "  ConvergenceWarning,\n",
      "/root/anaconda3/lib/python3.7/site-packages/torch/utils/data/dataloader.py:560: UserWarning: This DataLoader will create 64 worker processes in total. Our suggested max number of worker in current system is 32, which is smaller than what this DataLoader is going to create. Please be aware that excessive worker creation might get DataLoader running slow or even freeze, lower the worker number to avoid potential slowness/freeze if necessary.\n",
      "  cpuset_checked))\n"
     ]
    },
    {
     "name": "stdout",
     "output_type": "stream",
     "text": [
      "Epoch: 414/600, train loss: 5365.786\n",
      "\n",
      "Inferring ...\n",
      "Subset: 0, modalities ['rna']: test size: 100055\n",
      "Processing subset 0: ['rna']\n"
     ]
    },
    {
     "name": "stderr",
     "output_type": "stream",
     "text": [
      "/root/anaconda3/lib/python3.7/site-packages/sklearn/mixture/_base.py:282: ConvergenceWarning: Initialization 1 did not converge. Try different init parameters, or increase max_iter, tol or check for degenerate data.\n",
      "  ConvergenceWarning,\n",
      "/root/anaconda3/lib/python3.7/site-packages/torch/utils/data/dataloader.py:560: UserWarning: This DataLoader will create 64 worker processes in total. Our suggested max number of worker in current system is 32, which is smaller than what this DataLoader is going to create. Please be aware that excessive worker creation might get DataLoader running slow or even freeze, lower the worker number to avoid potential slowness/freeze if necessary.\n",
      "  cpuset_checked))\n"
     ]
    },
    {
     "name": "stdout",
     "output_type": "stream",
     "text": [
      "Epoch: 415/600, train loss: 5365.477\n",
      "\n",
      "Inferring ...\n",
      "Subset: 0, modalities ['rna']: test size: 100055\n",
      "Processing subset 0: ['rna']\n"
     ]
    },
    {
     "name": "stderr",
     "output_type": "stream",
     "text": [
      "/root/anaconda3/lib/python3.7/site-packages/sklearn/mixture/_base.py:282: ConvergenceWarning: Initialization 1 did not converge. Try different init parameters, or increase max_iter, tol or check for degenerate data.\n",
      "  ConvergenceWarning,\n",
      "/root/anaconda3/lib/python3.7/site-packages/torch/utils/data/dataloader.py:560: UserWarning: This DataLoader will create 64 worker processes in total. Our suggested max number of worker in current system is 32, which is smaller than what this DataLoader is going to create. Please be aware that excessive worker creation might get DataLoader running slow or even freeze, lower the worker number to avoid potential slowness/freeze if necessary.\n",
      "  cpuset_checked))\n"
     ]
    },
    {
     "name": "stdout",
     "output_type": "stream",
     "text": [
      "Epoch: 416/600, train loss: 5365.261\n",
      "\n",
      "Inferring ...\n",
      "Subset: 0, modalities ['rna']: test size: 100055\n",
      "Processing subset 0: ['rna']\n"
     ]
    },
    {
     "name": "stderr",
     "output_type": "stream",
     "text": [
      "/root/anaconda3/lib/python3.7/site-packages/torch/utils/data/dataloader.py:560: UserWarning: This DataLoader will create 64 worker processes in total. Our suggested max number of worker in current system is 32, which is smaller than what this DataLoader is going to create. Please be aware that excessive worker creation might get DataLoader running slow or even freeze, lower the worker number to avoid potential slowness/freeze if necessary.\n",
      "  cpuset_checked))\n"
     ]
    },
    {
     "name": "stdout",
     "output_type": "stream",
     "text": [
      "Epoch: 417/600, train loss: 5365.665\n",
      "\n",
      "Inferring ...\n",
      "Subset: 0, modalities ['rna']: test size: 100055\n",
      "Processing subset 0: ['rna']\n"
     ]
    },
    {
     "name": "stderr",
     "output_type": "stream",
     "text": [
      "/root/anaconda3/lib/python3.7/site-packages/sklearn/mixture/_base.py:282: ConvergenceWarning: Initialization 1 did not converge. Try different init parameters, or increase max_iter, tol or check for degenerate data.\n",
      "  ConvergenceWarning,\n",
      "/root/anaconda3/lib/python3.7/site-packages/torch/utils/data/dataloader.py:560: UserWarning: This DataLoader will create 64 worker processes in total. Our suggested max number of worker in current system is 32, which is smaller than what this DataLoader is going to create. Please be aware that excessive worker creation might get DataLoader running slow or even freeze, lower the worker number to avoid potential slowness/freeze if necessary.\n",
      "  cpuset_checked))\n"
     ]
    },
    {
     "name": "stdout",
     "output_type": "stream",
     "text": [
      "Epoch: 418/600, train loss: 5365.178\n",
      "\n",
      "Inferring ...\n",
      "Subset: 0, modalities ['rna']: test size: 100055\n",
      "Processing subset 0: ['rna']\n"
     ]
    },
    {
     "name": "stderr",
     "output_type": "stream",
     "text": [
      "/root/anaconda3/lib/python3.7/site-packages/torch/utils/data/dataloader.py:560: UserWarning: This DataLoader will create 64 worker processes in total. Our suggested max number of worker in current system is 32, which is smaller than what this DataLoader is going to create. Please be aware that excessive worker creation might get DataLoader running slow or even freeze, lower the worker number to avoid potential slowness/freeze if necessary.\n",
      "  cpuset_checked))\n"
     ]
    },
    {
     "name": "stdout",
     "output_type": "stream",
     "text": [
      "Epoch: 419/600, train loss: 5365.644\n",
      "\n",
      "Inferring ...\n",
      "Subset: 0, modalities ['rna']: test size: 100055\n",
      "Processing subset 0: ['rna']\n"
     ]
    },
    {
     "name": "stderr",
     "output_type": "stream",
     "text": [
      "/root/anaconda3/lib/python3.7/site-packages/torch/utils/data/dataloader.py:560: UserWarning: This DataLoader will create 64 worker processes in total. Our suggested max number of worker in current system is 32, which is smaller than what this DataLoader is going to create. Please be aware that excessive worker creation might get DataLoader running slow or even freeze, lower the worker number to avoid potential slowness/freeze if necessary.\n",
      "  cpuset_checked))\n"
     ]
    },
    {
     "name": "stdout",
     "output_type": "stream",
     "text": [
      "Epoch: 420/600, train loss: 5364.822\n",
      "\n",
      "Inferring ...\n",
      "Subset: 0, modalities ['rna']: test size: 100055\n",
      "Processing subset 0: ['rna']\n"
     ]
    },
    {
     "name": "stderr",
     "output_type": "stream",
     "text": [
      "/root/anaconda3/lib/python3.7/site-packages/sklearn/mixture/_base.py:282: ConvergenceWarning: Initialization 1 did not converge. Try different init parameters, or increase max_iter, tol or check for degenerate data.\n",
      "  ConvergenceWarning,\n",
      "/root/anaconda3/lib/python3.7/site-packages/torch/utils/data/dataloader.py:560: UserWarning: This DataLoader will create 64 worker processes in total. Our suggested max number of worker in current system is 32, which is smaller than what this DataLoader is going to create. Please be aware that excessive worker creation might get DataLoader running slow or even freeze, lower the worker number to avoid potential slowness/freeze if necessary.\n",
      "  cpuset_checked))\n"
     ]
    },
    {
     "name": "stdout",
     "output_type": "stream",
     "text": [
      "Epoch: 421/600, train loss: 5365.534\n",
      "\n",
      "Inferring ...\n",
      "Subset: 0, modalities ['rna']: test size: 100055\n",
      "Processing subset 0: ['rna']\n"
     ]
    },
    {
     "name": "stderr",
     "output_type": "stream",
     "text": [
      "/root/anaconda3/lib/python3.7/site-packages/sklearn/mixture/_base.py:282: ConvergenceWarning: Initialization 1 did not converge. Try different init parameters, or increase max_iter, tol or check for degenerate data.\n",
      "  ConvergenceWarning,\n",
      "/root/anaconda3/lib/python3.7/site-packages/torch/utils/data/dataloader.py:560: UserWarning: This DataLoader will create 64 worker processes in total. Our suggested max number of worker in current system is 32, which is smaller than what this DataLoader is going to create. Please be aware that excessive worker creation might get DataLoader running slow or even freeze, lower the worker number to avoid potential slowness/freeze if necessary.\n",
      "  cpuset_checked))\n"
     ]
    },
    {
     "name": "stdout",
     "output_type": "stream",
     "text": [
      "Epoch: 422/600, train loss: 5365.161\n",
      "\n",
      "Inferring ...\n",
      "Subset: 0, modalities ['rna']: test size: 100055\n",
      "Processing subset 0: ['rna']\n"
     ]
    },
    {
     "name": "stderr",
     "output_type": "stream",
     "text": [
      "/root/anaconda3/lib/python3.7/site-packages/sklearn/mixture/_base.py:282: ConvergenceWarning: Initialization 1 did not converge. Try different init parameters, or increase max_iter, tol or check for degenerate data.\n",
      "  ConvergenceWarning,\n",
      "/root/anaconda3/lib/python3.7/site-packages/torch/utils/data/dataloader.py:560: UserWarning: This DataLoader will create 64 worker processes in total. Our suggested max number of worker in current system is 32, which is smaller than what this DataLoader is going to create. Please be aware that excessive worker creation might get DataLoader running slow or even freeze, lower the worker number to avoid potential slowness/freeze if necessary.\n",
      "  cpuset_checked))\n"
     ]
    },
    {
     "name": "stdout",
     "output_type": "stream",
     "text": [
      "Epoch: 423/600, train loss: 5365.335\n",
      "\n",
      "Inferring ...\n",
      "Subset: 0, modalities ['rna']: test size: 100055\n",
      "Processing subset 0: ['rna']\n"
     ]
    },
    {
     "name": "stderr",
     "output_type": "stream",
     "text": [
      "/root/anaconda3/lib/python3.7/site-packages/torch/utils/data/dataloader.py:560: UserWarning: This DataLoader will create 64 worker processes in total. Our suggested max number of worker in current system is 32, which is smaller than what this DataLoader is going to create. Please be aware that excessive worker creation might get DataLoader running slow or even freeze, lower the worker number to avoid potential slowness/freeze if necessary.\n",
      "  cpuset_checked))\n"
     ]
    },
    {
     "name": "stdout",
     "output_type": "stream",
     "text": [
      "Epoch: 424/600, train loss: 5365.096\n",
      "\n",
      "Inferring ...\n",
      "Subset: 0, modalities ['rna']: test size: 100055\n",
      "Processing subset 0: ['rna']\n"
     ]
    },
    {
     "name": "stderr",
     "output_type": "stream",
     "text": [
      "/root/anaconda3/lib/python3.7/site-packages/sklearn/mixture/_base.py:282: ConvergenceWarning: Initialization 1 did not converge. Try different init parameters, or increase max_iter, tol or check for degenerate data.\n",
      "  ConvergenceWarning,\n",
      "/root/anaconda3/lib/python3.7/site-packages/torch/utils/data/dataloader.py:560: UserWarning: This DataLoader will create 64 worker processes in total. Our suggested max number of worker in current system is 32, which is smaller than what this DataLoader is going to create. Please be aware that excessive worker creation might get DataLoader running slow or even freeze, lower the worker number to avoid potential slowness/freeze if necessary.\n",
      "  cpuset_checked))\n"
     ]
    },
    {
     "name": "stdout",
     "output_type": "stream",
     "text": [
      "Epoch: 425/600, train loss: 5365.160\n",
      "\n",
      "Inferring ...\n",
      "Subset: 0, modalities ['rna']: test size: 100055\n",
      "Processing subset 0: ['rna']\n"
     ]
    },
    {
     "name": "stderr",
     "output_type": "stream",
     "text": [
      "/root/anaconda3/lib/python3.7/site-packages/sklearn/mixture/_base.py:282: ConvergenceWarning: Initialization 1 did not converge. Try different init parameters, or increase max_iter, tol or check for degenerate data.\n",
      "  ConvergenceWarning,\n",
      "/root/anaconda3/lib/python3.7/site-packages/torch/utils/data/dataloader.py:560: UserWarning: This DataLoader will create 64 worker processes in total. Our suggested max number of worker in current system is 32, which is smaller than what this DataLoader is going to create. Please be aware that excessive worker creation might get DataLoader running slow or even freeze, lower the worker number to avoid potential slowness/freeze if necessary.\n",
      "  cpuset_checked))\n"
     ]
    },
    {
     "name": "stdout",
     "output_type": "stream",
     "text": [
      "Epoch: 426/600, train loss: 5364.532\n",
      "\n",
      "Inferring ...\n",
      "Subset: 0, modalities ['rna']: test size: 100055\n",
      "Processing subset 0: ['rna']\n"
     ]
    },
    {
     "name": "stderr",
     "output_type": "stream",
     "text": [
      "/root/anaconda3/lib/python3.7/site-packages/sklearn/mixture/_base.py:282: ConvergenceWarning: Initialization 1 did not converge. Try different init parameters, or increase max_iter, tol or check for degenerate data.\n",
      "  ConvergenceWarning,\n",
      "/root/anaconda3/lib/python3.7/site-packages/torch/utils/data/dataloader.py:560: UserWarning: This DataLoader will create 64 worker processes in total. Our suggested max number of worker in current system is 32, which is smaller than what this DataLoader is going to create. Please be aware that excessive worker creation might get DataLoader running slow or even freeze, lower the worker number to avoid potential slowness/freeze if necessary.\n",
      "  cpuset_checked))\n"
     ]
    },
    {
     "name": "stdout",
     "output_type": "stream",
     "text": [
      "Epoch: 427/600, train loss: 5365.176\n",
      "\n",
      "Inferring ...\n",
      "Subset: 0, modalities ['rna']: test size: 100055\n",
      "Processing subset 0: ['rna']\n"
     ]
    },
    {
     "name": "stderr",
     "output_type": "stream",
     "text": [
      "/root/anaconda3/lib/python3.7/site-packages/sklearn/mixture/_base.py:282: ConvergenceWarning: Initialization 1 did not converge. Try different init parameters, or increase max_iter, tol or check for degenerate data.\n",
      "  ConvergenceWarning,\n",
      "/root/anaconda3/lib/python3.7/site-packages/torch/utils/data/dataloader.py:560: UserWarning: This DataLoader will create 64 worker processes in total. Our suggested max number of worker in current system is 32, which is smaller than what this DataLoader is going to create. Please be aware that excessive worker creation might get DataLoader running slow or even freeze, lower the worker number to avoid potential slowness/freeze if necessary.\n",
      "  cpuset_checked))\n"
     ]
    },
    {
     "name": "stdout",
     "output_type": "stream",
     "text": [
      "Epoch: 428/600, train loss: 5364.315\n",
      "\n",
      "Inferring ...\n",
      "Subset: 0, modalities ['rna']: test size: 100055\n",
      "Processing subset 0: ['rna']\n"
     ]
    },
    {
     "name": "stderr",
     "output_type": "stream",
     "text": [
      "/root/anaconda3/lib/python3.7/site-packages/torch/utils/data/dataloader.py:560: UserWarning: This DataLoader will create 64 worker processes in total. Our suggested max number of worker in current system is 32, which is smaller than what this DataLoader is going to create. Please be aware that excessive worker creation might get DataLoader running slow or even freeze, lower the worker number to avoid potential slowness/freeze if necessary.\n",
      "  cpuset_checked))\n"
     ]
    },
    {
     "name": "stdout",
     "output_type": "stream",
     "text": [
      "Epoch: 429/600, train loss: 5365.188\n",
      "\n",
      "Inferring ...\n",
      "Subset: 0, modalities ['rna']: test size: 100055\n",
      "Processing subset 0: ['rna']\n"
     ]
    },
    {
     "name": "stderr",
     "output_type": "stream",
     "text": [
      "/root/anaconda3/lib/python3.7/site-packages/torch/utils/data/dataloader.py:560: UserWarning: This DataLoader will create 64 worker processes in total. Our suggested max number of worker in current system is 32, which is smaller than what this DataLoader is going to create. Please be aware that excessive worker creation might get DataLoader running slow or even freeze, lower the worker number to avoid potential slowness/freeze if necessary.\n",
      "  cpuset_checked))\n"
     ]
    },
    {
     "name": "stdout",
     "output_type": "stream",
     "text": [
      "Epoch: 430/600, train loss: 5364.579\n",
      "\n",
      "Inferring ...\n",
      "Subset: 0, modalities ['rna']: test size: 100055\n",
      "Processing subset 0: ['rna']\n"
     ]
    },
    {
     "name": "stderr",
     "output_type": "stream",
     "text": [
      "/root/anaconda3/lib/python3.7/site-packages/torch/utils/data/dataloader.py:560: UserWarning: This DataLoader will create 64 worker processes in total. Our suggested max number of worker in current system is 32, which is smaller than what this DataLoader is going to create. Please be aware that excessive worker creation might get DataLoader running slow or even freeze, lower the worker number to avoid potential slowness/freeze if necessary.\n",
      "  cpuset_checked))\n"
     ]
    },
    {
     "name": "stdout",
     "output_type": "stream",
     "text": [
      "Epoch: 431/600, train loss: 5364.030\n",
      "\n",
      "Inferring ...\n",
      "Subset: 0, modalities ['rna']: test size: 100055\n",
      "Processing subset 0: ['rna']\n"
     ]
    },
    {
     "name": "stderr",
     "output_type": "stream",
     "text": [
      "/root/anaconda3/lib/python3.7/site-packages/sklearn/mixture/_base.py:282: ConvergenceWarning: Initialization 1 did not converge. Try different init parameters, or increase max_iter, tol or check for degenerate data.\n",
      "  ConvergenceWarning,\n",
      "/root/anaconda3/lib/python3.7/site-packages/torch/utils/data/dataloader.py:560: UserWarning: This DataLoader will create 64 worker processes in total. Our suggested max number of worker in current system is 32, which is smaller than what this DataLoader is going to create. Please be aware that excessive worker creation might get DataLoader running slow or even freeze, lower the worker number to avoid potential slowness/freeze if necessary.\n",
      "  cpuset_checked))\n"
     ]
    },
    {
     "name": "stdout",
     "output_type": "stream",
     "text": [
      "Epoch: 432/600, train loss: 5363.781\n",
      "\n",
      "Inferring ...\n",
      "Subset: 0, modalities ['rna']: test size: 100055\n",
      "Processing subset 0: ['rna']\n"
     ]
    },
    {
     "name": "stderr",
     "output_type": "stream",
     "text": [
      "/root/anaconda3/lib/python3.7/site-packages/torch/utils/data/dataloader.py:560: UserWarning: This DataLoader will create 64 worker processes in total. Our suggested max number of worker in current system is 32, which is smaller than what this DataLoader is going to create. Please be aware that excessive worker creation might get DataLoader running slow or even freeze, lower the worker number to avoid potential slowness/freeze if necessary.\n",
      "  cpuset_checked))\n"
     ]
    },
    {
     "name": "stdout",
     "output_type": "stream",
     "text": [
      "Epoch: 433/600, train loss: 5364.128\n",
      "\n",
      "Inferring ...\n",
      "Subset: 0, modalities ['rna']: test size: 100055\n",
      "Processing subset 0: ['rna']\n"
     ]
    },
    {
     "name": "stderr",
     "output_type": "stream",
     "text": [
      "/root/anaconda3/lib/python3.7/site-packages/torch/utils/data/dataloader.py:560: UserWarning: This DataLoader will create 64 worker processes in total. Our suggested max number of worker in current system is 32, which is smaller than what this DataLoader is going to create. Please be aware that excessive worker creation might get DataLoader running slow or even freeze, lower the worker number to avoid potential slowness/freeze if necessary.\n",
      "  cpuset_checked))\n"
     ]
    },
    {
     "name": "stdout",
     "output_type": "stream",
     "text": [
      "Epoch: 434/600, train loss: 5364.101\n",
      "\n",
      "Inferring ...\n",
      "Subset: 0, modalities ['rna']: test size: 100055\n",
      "Processing subset 0: ['rna']\n"
     ]
    },
    {
     "name": "stderr",
     "output_type": "stream",
     "text": [
      "/root/anaconda3/lib/python3.7/site-packages/torch/utils/data/dataloader.py:560: UserWarning: This DataLoader will create 64 worker processes in total. Our suggested max number of worker in current system is 32, which is smaller than what this DataLoader is going to create. Please be aware that excessive worker creation might get DataLoader running slow or even freeze, lower the worker number to avoid potential slowness/freeze if necessary.\n",
      "  cpuset_checked))\n"
     ]
    },
    {
     "name": "stdout",
     "output_type": "stream",
     "text": [
      "Epoch: 435/600, train loss: 5364.129\n",
      "\n",
      "Inferring ...\n",
      "Subset: 0, modalities ['rna']: test size: 100055\n",
      "Processing subset 0: ['rna']\n"
     ]
    },
    {
     "name": "stderr",
     "output_type": "stream",
     "text": [
      "/root/anaconda3/lib/python3.7/site-packages/torch/utils/data/dataloader.py:560: UserWarning: This DataLoader will create 64 worker processes in total. Our suggested max number of worker in current system is 32, which is smaller than what this DataLoader is going to create. Please be aware that excessive worker creation might get DataLoader running slow or even freeze, lower the worker number to avoid potential slowness/freeze if necessary.\n",
      "  cpuset_checked))\n"
     ]
    },
    {
     "name": "stdout",
     "output_type": "stream",
     "text": [
      "Epoch: 436/600, train loss: 5364.471\n",
      "\n",
      "Inferring ...\n",
      "Subset: 0, modalities ['rna']: test size: 100055\n",
      "Processing subset 0: ['rna']\n"
     ]
    },
    {
     "name": "stderr",
     "output_type": "stream",
     "text": [
      "/root/anaconda3/lib/python3.7/site-packages/torch/utils/data/dataloader.py:560: UserWarning: This DataLoader will create 64 worker processes in total. Our suggested max number of worker in current system is 32, which is smaller than what this DataLoader is going to create. Please be aware that excessive worker creation might get DataLoader running slow or even freeze, lower the worker number to avoid potential slowness/freeze if necessary.\n",
      "  cpuset_checked))\n"
     ]
    },
    {
     "name": "stdout",
     "output_type": "stream",
     "text": [
      "Epoch: 437/600, train loss: 5364.122\n",
      "\n",
      "Inferring ...\n",
      "Subset: 0, modalities ['rna']: test size: 100055\n",
      "Processing subset 0: ['rna']\n"
     ]
    },
    {
     "name": "stderr",
     "output_type": "stream",
     "text": [
      "/root/anaconda3/lib/python3.7/site-packages/torch/utils/data/dataloader.py:560: UserWarning: This DataLoader will create 64 worker processes in total. Our suggested max number of worker in current system is 32, which is smaller than what this DataLoader is going to create. Please be aware that excessive worker creation might get DataLoader running slow or even freeze, lower the worker number to avoid potential slowness/freeze if necessary.\n",
      "  cpuset_checked))\n"
     ]
    },
    {
     "name": "stdout",
     "output_type": "stream",
     "text": [
      "Epoch: 438/600, train loss: 5363.671\n",
      "\n",
      "Inferring ...\n",
      "Subset: 0, modalities ['rna']: test size: 100055\n",
      "Processing subset 0: ['rna']\n"
     ]
    },
    {
     "name": "stderr",
     "output_type": "stream",
     "text": [
      "/root/anaconda3/lib/python3.7/site-packages/torch/utils/data/dataloader.py:560: UserWarning: This DataLoader will create 64 worker processes in total. Our suggested max number of worker in current system is 32, which is smaller than what this DataLoader is going to create. Please be aware that excessive worker creation might get DataLoader running slow or even freeze, lower the worker number to avoid potential slowness/freeze if necessary.\n",
      "  cpuset_checked))\n"
     ]
    },
    {
     "name": "stdout",
     "output_type": "stream",
     "text": [
      "Epoch: 439/600, train loss: 5363.391\n",
      "\n",
      "Inferring ...\n",
      "Subset: 0, modalities ['rna']: test size: 100055\n",
      "Processing subset 0: ['rna']\n"
     ]
    },
    {
     "name": "stderr",
     "output_type": "stream",
     "text": [
      "/root/anaconda3/lib/python3.7/site-packages/torch/utils/data/dataloader.py:560: UserWarning: This DataLoader will create 64 worker processes in total. Our suggested max number of worker in current system is 32, which is smaller than what this DataLoader is going to create. Please be aware that excessive worker creation might get DataLoader running slow or even freeze, lower the worker number to avoid potential slowness/freeze if necessary.\n",
      "  cpuset_checked))\n"
     ]
    },
    {
     "name": "stdout",
     "output_type": "stream",
     "text": [
      "Epoch: 440/600, train loss: 5363.916\n",
      "\n",
      "Inferring ...\n",
      "Subset: 0, modalities ['rna']: test size: 100055\n",
      "Processing subset 0: ['rna']\n"
     ]
    },
    {
     "name": "stderr",
     "output_type": "stream",
     "text": [
      "/root/anaconda3/lib/python3.7/site-packages/torch/utils/data/dataloader.py:560: UserWarning: This DataLoader will create 64 worker processes in total. Our suggested max number of worker in current system is 32, which is smaller than what this DataLoader is going to create. Please be aware that excessive worker creation might get DataLoader running slow or even freeze, lower the worker number to avoid potential slowness/freeze if necessary.\n",
      "  cpuset_checked))\n"
     ]
    },
    {
     "name": "stdout",
     "output_type": "stream",
     "text": [
      "Epoch: 441/600, train loss: 5363.342\n",
      "\n",
      "Inferring ...\n",
      "Subset: 0, modalities ['rna']: test size: 100055\n",
      "Processing subset 0: ['rna']\n"
     ]
    },
    {
     "name": "stderr",
     "output_type": "stream",
     "text": [
      "/root/anaconda3/lib/python3.7/site-packages/torch/utils/data/dataloader.py:560: UserWarning: This DataLoader will create 64 worker processes in total. Our suggested max number of worker in current system is 32, which is smaller than what this DataLoader is going to create. Please be aware that excessive worker creation might get DataLoader running slow or even freeze, lower the worker number to avoid potential slowness/freeze if necessary.\n",
      "  cpuset_checked))\n"
     ]
    },
    {
     "name": "stdout",
     "output_type": "stream",
     "text": [
      "Epoch: 442/600, train loss: 5363.658\n",
      "\n",
      "Inferring ...\n",
      "Subset: 0, modalities ['rna']: test size: 100055\n",
      "Processing subset 0: ['rna']\n"
     ]
    },
    {
     "name": "stderr",
     "output_type": "stream",
     "text": [
      "/root/anaconda3/lib/python3.7/site-packages/torch/utils/data/dataloader.py:560: UserWarning: This DataLoader will create 64 worker processes in total. Our suggested max number of worker in current system is 32, which is smaller than what this DataLoader is going to create. Please be aware that excessive worker creation might get DataLoader running slow or even freeze, lower the worker number to avoid potential slowness/freeze if necessary.\n",
      "  cpuset_checked))\n"
     ]
    },
    {
     "name": "stdout",
     "output_type": "stream",
     "text": [
      "Epoch: 443/600, train loss: 5363.009\n",
      "\n",
      "Inferring ...\n",
      "Subset: 0, modalities ['rna']: test size: 100055\n",
      "Processing subset 0: ['rna']\n"
     ]
    },
    {
     "name": "stderr",
     "output_type": "stream",
     "text": [
      "/root/anaconda3/lib/python3.7/site-packages/torch/utils/data/dataloader.py:560: UserWarning: This DataLoader will create 64 worker processes in total. Our suggested max number of worker in current system is 32, which is smaller than what this DataLoader is going to create. Please be aware that excessive worker creation might get DataLoader running slow or even freeze, lower the worker number to avoid potential slowness/freeze if necessary.\n",
      "  cpuset_checked))\n"
     ]
    },
    {
     "name": "stdout",
     "output_type": "stream",
     "text": [
      "Epoch: 444/600, train loss: 5363.266\n",
      "\n",
      "Inferring ...\n",
      "Subset: 0, modalities ['rna']: test size: 100055\n",
      "Processing subset 0: ['rna']\n"
     ]
    },
    {
     "name": "stderr",
     "output_type": "stream",
     "text": [
      "/root/anaconda3/lib/python3.7/site-packages/torch/utils/data/dataloader.py:560: UserWarning: This DataLoader will create 64 worker processes in total. Our suggested max number of worker in current system is 32, which is smaller than what this DataLoader is going to create. Please be aware that excessive worker creation might get DataLoader running slow or even freeze, lower the worker number to avoid potential slowness/freeze if necessary.\n",
      "  cpuset_checked))\n"
     ]
    },
    {
     "name": "stdout",
     "output_type": "stream",
     "text": [
      "Epoch: 445/600, train loss: 5363.357\n",
      "\n",
      "Inferring ...\n",
      "Subset: 0, modalities ['rna']: test size: 100055\n",
      "Processing subset 0: ['rna']\n"
     ]
    },
    {
     "name": "stderr",
     "output_type": "stream",
     "text": [
      "/root/anaconda3/lib/python3.7/site-packages/torch/utils/data/dataloader.py:560: UserWarning: This DataLoader will create 64 worker processes in total. Our suggested max number of worker in current system is 32, which is smaller than what this DataLoader is going to create. Please be aware that excessive worker creation might get DataLoader running slow or even freeze, lower the worker number to avoid potential slowness/freeze if necessary.\n",
      "  cpuset_checked))\n"
     ]
    },
    {
     "name": "stdout",
     "output_type": "stream",
     "text": [
      "Epoch: 446/600, train loss: 5363.442\n",
      "\n",
      "Inferring ...\n",
      "Subset: 0, modalities ['rna']: test size: 100055\n",
      "Processing subset 0: ['rna']\n"
     ]
    },
    {
     "name": "stderr",
     "output_type": "stream",
     "text": [
      "/root/anaconda3/lib/python3.7/site-packages/torch/utils/data/dataloader.py:560: UserWarning: This DataLoader will create 64 worker processes in total. Our suggested max number of worker in current system is 32, which is smaller than what this DataLoader is going to create. Please be aware that excessive worker creation might get DataLoader running slow or even freeze, lower the worker number to avoid potential slowness/freeze if necessary.\n",
      "  cpuset_checked))\n"
     ]
    },
    {
     "name": "stdout",
     "output_type": "stream",
     "text": [
      "Epoch: 447/600, train loss: 5363.782\n",
      "\n",
      "Inferring ...\n",
      "Subset: 0, modalities ['rna']: test size: 100055\n",
      "Processing subset 0: ['rna']\n"
     ]
    },
    {
     "name": "stderr",
     "output_type": "stream",
     "text": [
      "/root/anaconda3/lib/python3.7/site-packages/torch/utils/data/dataloader.py:560: UserWarning: This DataLoader will create 64 worker processes in total. Our suggested max number of worker in current system is 32, which is smaller than what this DataLoader is going to create. Please be aware that excessive worker creation might get DataLoader running slow or even freeze, lower the worker number to avoid potential slowness/freeze if necessary.\n",
      "  cpuset_checked))\n"
     ]
    },
    {
     "name": "stdout",
     "output_type": "stream",
     "text": [
      "Epoch: 448/600, train loss: 5363.086\n",
      "\n",
      "Inferring ...\n",
      "Subset: 0, modalities ['rna']: test size: 100055\n",
      "Processing subset 0: ['rna']\n"
     ]
    },
    {
     "name": "stderr",
     "output_type": "stream",
     "text": [
      "/root/anaconda3/lib/python3.7/site-packages/torch/utils/data/dataloader.py:560: UserWarning: This DataLoader will create 64 worker processes in total. Our suggested max number of worker in current system is 32, which is smaller than what this DataLoader is going to create. Please be aware that excessive worker creation might get DataLoader running slow or even freeze, lower the worker number to avoid potential slowness/freeze if necessary.\n",
      "  cpuset_checked))\n"
     ]
    },
    {
     "name": "stdout",
     "output_type": "stream",
     "text": [
      "Epoch: 449/600, train loss: 5362.632\n",
      "\n",
      "Inferring ...\n",
      "Subset: 0, modalities ['rna']: test size: 100055\n",
      "Processing subset 0: ['rna']\n"
     ]
    },
    {
     "name": "stderr",
     "output_type": "stream",
     "text": [
      "/root/anaconda3/lib/python3.7/site-packages/torch/utils/data/dataloader.py:560: UserWarning: This DataLoader will create 64 worker processes in total. Our suggested max number of worker in current system is 32, which is smaller than what this DataLoader is going to create. Please be aware that excessive worker creation might get DataLoader running slow or even freeze, lower the worker number to avoid potential slowness/freeze if necessary.\n",
      "  cpuset_checked))\n"
     ]
    },
    {
     "name": "stdout",
     "output_type": "stream",
     "text": [
      "Epoch: 450/600, train loss: 5363.402\n",
      "\n",
      "Inferring ...\n",
      "Subset: 0, modalities ['rna']: test size: 100055\n",
      "Processing subset 0: ['rna']\n"
     ]
    },
    {
     "name": "stderr",
     "output_type": "stream",
     "text": [
      "/root/anaconda3/lib/python3.7/site-packages/torch/utils/data/dataloader.py:560: UserWarning: This DataLoader will create 64 worker processes in total. Our suggested max number of worker in current system is 32, which is smaller than what this DataLoader is going to create. Please be aware that excessive worker creation might get DataLoader running slow or even freeze, lower the worker number to avoid potential slowness/freeze if necessary.\n",
      "  cpuset_checked))\n"
     ]
    },
    {
     "name": "stdout",
     "output_type": "stream",
     "text": [
      "Epoch: 451/600, train loss: 5362.569\n",
      "\n",
      "Inferring ...\n",
      "Subset: 0, modalities ['rna']: test size: 100055\n",
      "Processing subset 0: ['rna']\n"
     ]
    },
    {
     "name": "stderr",
     "output_type": "stream",
     "text": [
      "/root/anaconda3/lib/python3.7/site-packages/torch/utils/data/dataloader.py:560: UserWarning: This DataLoader will create 64 worker processes in total. Our suggested max number of worker in current system is 32, which is smaller than what this DataLoader is going to create. Please be aware that excessive worker creation might get DataLoader running slow or even freeze, lower the worker number to avoid potential slowness/freeze if necessary.\n",
      "  cpuset_checked))\n"
     ]
    },
    {
     "name": "stdout",
     "output_type": "stream",
     "text": [
      "Epoch: 452/600, train loss: 5363.182\n",
      "\n",
      "Inferring ...\n",
      "Subset: 0, modalities ['rna']: test size: 100055\n",
      "Processing subset 0: ['rna']\n"
     ]
    },
    {
     "name": "stderr",
     "output_type": "stream",
     "text": [
      "/root/anaconda3/lib/python3.7/site-packages/torch/utils/data/dataloader.py:560: UserWarning: This DataLoader will create 64 worker processes in total. Our suggested max number of worker in current system is 32, which is smaller than what this DataLoader is going to create. Please be aware that excessive worker creation might get DataLoader running slow or even freeze, lower the worker number to avoid potential slowness/freeze if necessary.\n",
      "  cpuset_checked))\n"
     ]
    },
    {
     "name": "stdout",
     "output_type": "stream",
     "text": [
      "Epoch: 453/600, train loss: 5362.715\n",
      "\n",
      "Inferring ...\n",
      "Subset: 0, modalities ['rna']: test size: 100055\n",
      "Processing subset 0: ['rna']\n"
     ]
    },
    {
     "name": "stderr",
     "output_type": "stream",
     "text": [
      "/root/anaconda3/lib/python3.7/site-packages/torch/utils/data/dataloader.py:560: UserWarning: This DataLoader will create 64 worker processes in total. Our suggested max number of worker in current system is 32, which is smaller than what this DataLoader is going to create. Please be aware that excessive worker creation might get DataLoader running slow or even freeze, lower the worker number to avoid potential slowness/freeze if necessary.\n",
      "  cpuset_checked))\n"
     ]
    },
    {
     "name": "stdout",
     "output_type": "stream",
     "text": [
      "Epoch: 454/600, train loss: 5363.081\n",
      "\n",
      "Inferring ...\n",
      "Subset: 0, modalities ['rna']: test size: 100055\n",
      "Processing subset 0: ['rna']\n"
     ]
    },
    {
     "name": "stderr",
     "output_type": "stream",
     "text": [
      "/root/anaconda3/lib/python3.7/site-packages/torch/utils/data/dataloader.py:560: UserWarning: This DataLoader will create 64 worker processes in total. Our suggested max number of worker in current system is 32, which is smaller than what this DataLoader is going to create. Please be aware that excessive worker creation might get DataLoader running slow or even freeze, lower the worker number to avoid potential slowness/freeze if necessary.\n",
      "  cpuset_checked))\n"
     ]
    },
    {
     "name": "stdout",
     "output_type": "stream",
     "text": [
      "Epoch: 455/600, train loss: 5362.106\n",
      "\n",
      "Inferring ...\n",
      "Subset: 0, modalities ['rna']: test size: 100055\n",
      "Processing subset 0: ['rna']\n"
     ]
    },
    {
     "name": "stderr",
     "output_type": "stream",
     "text": [
      "/root/anaconda3/lib/python3.7/site-packages/torch/utils/data/dataloader.py:560: UserWarning: This DataLoader will create 64 worker processes in total. Our suggested max number of worker in current system is 32, which is smaller than what this DataLoader is going to create. Please be aware that excessive worker creation might get DataLoader running slow or even freeze, lower the worker number to avoid potential slowness/freeze if necessary.\n",
      "  cpuset_checked))\n"
     ]
    },
    {
     "name": "stdout",
     "output_type": "stream",
     "text": [
      "Epoch: 456/600, train loss: 5362.527\n",
      "\n",
      "Inferring ...\n",
      "Subset: 0, modalities ['rna']: test size: 100055\n",
      "Processing subset 0: ['rna']\n"
     ]
    },
    {
     "name": "stderr",
     "output_type": "stream",
     "text": [
      "/root/anaconda3/lib/python3.7/site-packages/torch/utils/data/dataloader.py:560: UserWarning: This DataLoader will create 64 worker processes in total. Our suggested max number of worker in current system is 32, which is smaller than what this DataLoader is going to create. Please be aware that excessive worker creation might get DataLoader running slow or even freeze, lower the worker number to avoid potential slowness/freeze if necessary.\n",
      "  cpuset_checked))\n"
     ]
    },
    {
     "name": "stdout",
     "output_type": "stream",
     "text": [
      "Epoch: 457/600, train loss: 5362.686\n",
      "\n",
      "Inferring ...\n",
      "Subset: 0, modalities ['rna']: test size: 100055\n",
      "Processing subset 0: ['rna']\n"
     ]
    },
    {
     "name": "stderr",
     "output_type": "stream",
     "text": [
      "/root/anaconda3/lib/python3.7/site-packages/torch/utils/data/dataloader.py:560: UserWarning: This DataLoader will create 64 worker processes in total. Our suggested max number of worker in current system is 32, which is smaller than what this DataLoader is going to create. Please be aware that excessive worker creation might get DataLoader running slow or even freeze, lower the worker number to avoid potential slowness/freeze if necessary.\n",
      "  cpuset_checked))\n"
     ]
    },
    {
     "name": "stdout",
     "output_type": "stream",
     "text": [
      "Epoch: 458/600, train loss: 5362.284\n",
      "\n",
      "Inferring ...\n",
      "Subset: 0, modalities ['rna']: test size: 100055\n",
      "Processing subset 0: ['rna']\n"
     ]
    },
    {
     "name": "stderr",
     "output_type": "stream",
     "text": [
      "/root/anaconda3/lib/python3.7/site-packages/torch/utils/data/dataloader.py:560: UserWarning: This DataLoader will create 64 worker processes in total. Our suggested max number of worker in current system is 32, which is smaller than what this DataLoader is going to create. Please be aware that excessive worker creation might get DataLoader running slow or even freeze, lower the worker number to avoid potential slowness/freeze if necessary.\n",
      "  cpuset_checked))\n"
     ]
    },
    {
     "name": "stdout",
     "output_type": "stream",
     "text": [
      "Epoch: 459/600, train loss: 5362.200\n",
      "\n",
      "Inferring ...\n",
      "Subset: 0, modalities ['rna']: test size: 100055\n",
      "Processing subset 0: ['rna']\n"
     ]
    },
    {
     "name": "stderr",
     "output_type": "stream",
     "text": [
      "/root/anaconda3/lib/python3.7/site-packages/torch/utils/data/dataloader.py:560: UserWarning: This DataLoader will create 64 worker processes in total. Our suggested max number of worker in current system is 32, which is smaller than what this DataLoader is going to create. Please be aware that excessive worker creation might get DataLoader running slow or even freeze, lower the worker number to avoid potential slowness/freeze if necessary.\n",
      "  cpuset_checked))\n"
     ]
    },
    {
     "name": "stdout",
     "output_type": "stream",
     "text": [
      "Epoch: 460/600, train loss: 5362.101\n",
      "\n",
      "Inferring ...\n",
      "Subset: 0, modalities ['rna']: test size: 100055\n",
      "Processing subset 0: ['rna']\n"
     ]
    },
    {
     "name": "stderr",
     "output_type": "stream",
     "text": [
      "/root/anaconda3/lib/python3.7/site-packages/torch/utils/data/dataloader.py:560: UserWarning: This DataLoader will create 64 worker processes in total. Our suggested max number of worker in current system is 32, which is smaller than what this DataLoader is going to create. Please be aware that excessive worker creation might get DataLoader running slow or even freeze, lower the worker number to avoid potential slowness/freeze if necessary.\n",
      "  cpuset_checked))\n"
     ]
    },
    {
     "name": "stdout",
     "output_type": "stream",
     "text": [
      "Epoch: 461/600, train loss: 5362.506\n",
      "\n",
      "Inferring ...\n",
      "Subset: 0, modalities ['rna']: test size: 100055\n",
      "Processing subset 0: ['rna']\n"
     ]
    },
    {
     "name": "stderr",
     "output_type": "stream",
     "text": [
      "/root/anaconda3/lib/python3.7/site-packages/torch/utils/data/dataloader.py:560: UserWarning: This DataLoader will create 64 worker processes in total. Our suggested max number of worker in current system is 32, which is smaller than what this DataLoader is going to create. Please be aware that excessive worker creation might get DataLoader running slow or even freeze, lower the worker number to avoid potential slowness/freeze if necessary.\n",
      "  cpuset_checked))\n"
     ]
    },
    {
     "name": "stdout",
     "output_type": "stream",
     "text": [
      "Epoch: 462/600, train loss: 5362.211\n",
      "\n",
      "Inferring ...\n",
      "Subset: 0, modalities ['rna']: test size: 100055\n",
      "Processing subset 0: ['rna']\n"
     ]
    },
    {
     "name": "stderr",
     "output_type": "stream",
     "text": [
      "/root/anaconda3/lib/python3.7/site-packages/torch/utils/data/dataloader.py:560: UserWarning: This DataLoader will create 64 worker processes in total. Our suggested max number of worker in current system is 32, which is smaller than what this DataLoader is going to create. Please be aware that excessive worker creation might get DataLoader running slow or even freeze, lower the worker number to avoid potential slowness/freeze if necessary.\n",
      "  cpuset_checked))\n"
     ]
    },
    {
     "name": "stdout",
     "output_type": "stream",
     "text": [
      "Epoch: 463/600, train loss: 5362.450\n",
      "\n",
      "Inferring ...\n",
      "Subset: 0, modalities ['rna']: test size: 100055\n",
      "Processing subset 0: ['rna']\n"
     ]
    },
    {
     "name": "stderr",
     "output_type": "stream",
     "text": [
      "/root/anaconda3/lib/python3.7/site-packages/torch/utils/data/dataloader.py:560: UserWarning: This DataLoader will create 64 worker processes in total. Our suggested max number of worker in current system is 32, which is smaller than what this DataLoader is going to create. Please be aware that excessive worker creation might get DataLoader running slow or even freeze, lower the worker number to avoid potential slowness/freeze if necessary.\n",
      "  cpuset_checked))\n"
     ]
    },
    {
     "name": "stdout",
     "output_type": "stream",
     "text": [
      "Epoch: 464/600, train loss: 5361.552\n",
      "\n",
      "Inferring ...\n",
      "Subset: 0, modalities ['rna']: test size: 100055\n",
      "Processing subset 0: ['rna']\n"
     ]
    },
    {
     "name": "stderr",
     "output_type": "stream",
     "text": [
      "/root/anaconda3/lib/python3.7/site-packages/torch/utils/data/dataloader.py:560: UserWarning: This DataLoader will create 64 worker processes in total. Our suggested max number of worker in current system is 32, which is smaller than what this DataLoader is going to create. Please be aware that excessive worker creation might get DataLoader running slow or even freeze, lower the worker number to avoid potential slowness/freeze if necessary.\n",
      "  cpuset_checked))\n"
     ]
    },
    {
     "name": "stdout",
     "output_type": "stream",
     "text": [
      "Epoch: 465/600, train loss: 5361.842\n",
      "\n",
      "Inferring ...\n",
      "Subset: 0, modalities ['rna']: test size: 100055\n",
      "Processing subset 0: ['rna']\n"
     ]
    },
    {
     "name": "stderr",
     "output_type": "stream",
     "text": [
      "/root/anaconda3/lib/python3.7/site-packages/torch/utils/data/dataloader.py:560: UserWarning: This DataLoader will create 64 worker processes in total. Our suggested max number of worker in current system is 32, which is smaller than what this DataLoader is going to create. Please be aware that excessive worker creation might get DataLoader running slow or even freeze, lower the worker number to avoid potential slowness/freeze if necessary.\n",
      "  cpuset_checked))\n"
     ]
    },
    {
     "name": "stdout",
     "output_type": "stream",
     "text": [
      "Epoch: 466/600, train loss: 5361.951\n",
      "\n",
      "Inferring ...\n",
      "Subset: 0, modalities ['rna']: test size: 100055\n",
      "Processing subset 0: ['rna']\n"
     ]
    },
    {
     "name": "stderr",
     "output_type": "stream",
     "text": [
      "/root/anaconda3/lib/python3.7/site-packages/torch/utils/data/dataloader.py:560: UserWarning: This DataLoader will create 64 worker processes in total. Our suggested max number of worker in current system is 32, which is smaller than what this DataLoader is going to create. Please be aware that excessive worker creation might get DataLoader running slow or even freeze, lower the worker number to avoid potential slowness/freeze if necessary.\n",
      "  cpuset_checked))\n"
     ]
    },
    {
     "name": "stdout",
     "output_type": "stream",
     "text": [
      "Epoch: 467/600, train loss: 5361.469\n",
      "\n",
      "Inferring ...\n",
      "Subset: 0, modalities ['rna']: test size: 100055\n",
      "Processing subset 0: ['rna']\n"
     ]
    },
    {
     "name": "stderr",
     "output_type": "stream",
     "text": [
      "/root/anaconda3/lib/python3.7/site-packages/torch/utils/data/dataloader.py:560: UserWarning: This DataLoader will create 64 worker processes in total. Our suggested max number of worker in current system is 32, which is smaller than what this DataLoader is going to create. Please be aware that excessive worker creation might get DataLoader running slow or even freeze, lower the worker number to avoid potential slowness/freeze if necessary.\n",
      "  cpuset_checked))\n"
     ]
    },
    {
     "name": "stdout",
     "output_type": "stream",
     "text": [
      "Epoch: 468/600, train loss: 5361.541\n",
      "\n",
      "Inferring ...\n",
      "Subset: 0, modalities ['rna']: test size: 100055\n",
      "Processing subset 0: ['rna']\n"
     ]
    },
    {
     "name": "stderr",
     "output_type": "stream",
     "text": [
      "/root/anaconda3/lib/python3.7/site-packages/torch/utils/data/dataloader.py:560: UserWarning: This DataLoader will create 64 worker processes in total. Our suggested max number of worker in current system is 32, which is smaller than what this DataLoader is going to create. Please be aware that excessive worker creation might get DataLoader running slow or even freeze, lower the worker number to avoid potential slowness/freeze if necessary.\n",
      "  cpuset_checked))\n"
     ]
    },
    {
     "name": "stdout",
     "output_type": "stream",
     "text": [
      "Epoch: 469/600, train loss: 5361.358\n",
      "\n",
      "Inferring ...\n",
      "Subset: 0, modalities ['rna']: test size: 100055\n",
      "Processing subset 0: ['rna']\n"
     ]
    },
    {
     "name": "stderr",
     "output_type": "stream",
     "text": [
      "/root/anaconda3/lib/python3.7/site-packages/torch/utils/data/dataloader.py:560: UserWarning: This DataLoader will create 64 worker processes in total. Our suggested max number of worker in current system is 32, which is smaller than what this DataLoader is going to create. Please be aware that excessive worker creation might get DataLoader running slow or even freeze, lower the worker number to avoid potential slowness/freeze if necessary.\n",
      "  cpuset_checked))\n"
     ]
    },
    {
     "name": "stdout",
     "output_type": "stream",
     "text": [
      "Epoch: 470/600, train loss: 5361.100\n",
      "\n",
      "Inferring ...\n",
      "Subset: 0, modalities ['rna']: test size: 100055\n",
      "Processing subset 0: ['rna']\n"
     ]
    },
    {
     "name": "stderr",
     "output_type": "stream",
     "text": [
      "/root/anaconda3/lib/python3.7/site-packages/torch/utils/data/dataloader.py:560: UserWarning: This DataLoader will create 64 worker processes in total. Our suggested max number of worker in current system is 32, which is smaller than what this DataLoader is going to create. Please be aware that excessive worker creation might get DataLoader running slow or even freeze, lower the worker number to avoid potential slowness/freeze if necessary.\n",
      "  cpuset_checked))\n"
     ]
    },
    {
     "name": "stdout",
     "output_type": "stream",
     "text": [
      "Epoch: 471/600, train loss: 5361.663\n",
      "\n",
      "Inferring ...\n",
      "Subset: 0, modalities ['rna']: test size: 100055\n",
      "Processing subset 0: ['rna']\n"
     ]
    },
    {
     "name": "stderr",
     "output_type": "stream",
     "text": [
      "/root/anaconda3/lib/python3.7/site-packages/torch/utils/data/dataloader.py:560: UserWarning: This DataLoader will create 64 worker processes in total. Our suggested max number of worker in current system is 32, which is smaller than what this DataLoader is going to create. Please be aware that excessive worker creation might get DataLoader running slow or even freeze, lower the worker number to avoid potential slowness/freeze if necessary.\n",
      "  cpuset_checked))\n"
     ]
    },
    {
     "name": "stdout",
     "output_type": "stream",
     "text": [
      "Epoch: 472/600, train loss: 5361.585\n",
      "\n",
      "Inferring ...\n",
      "Subset: 0, modalities ['rna']: test size: 100055\n",
      "Processing subset 0: ['rna']\n"
     ]
    },
    {
     "name": "stderr",
     "output_type": "stream",
     "text": [
      "/root/anaconda3/lib/python3.7/site-packages/torch/utils/data/dataloader.py:560: UserWarning: This DataLoader will create 64 worker processes in total. Our suggested max number of worker in current system is 32, which is smaller than what this DataLoader is going to create. Please be aware that excessive worker creation might get DataLoader running slow or even freeze, lower the worker number to avoid potential slowness/freeze if necessary.\n",
      "  cpuset_checked))\n"
     ]
    },
    {
     "name": "stdout",
     "output_type": "stream",
     "text": [
      "Epoch: 473/600, train loss: 5360.730\n",
      "\n",
      "Inferring ...\n",
      "Subset: 0, modalities ['rna']: test size: 100055\n",
      "Processing subset 0: ['rna']\n"
     ]
    },
    {
     "name": "stderr",
     "output_type": "stream",
     "text": [
      "/root/anaconda3/lib/python3.7/site-packages/torch/utils/data/dataloader.py:560: UserWarning: This DataLoader will create 64 worker processes in total. Our suggested max number of worker in current system is 32, which is smaller than what this DataLoader is going to create. Please be aware that excessive worker creation might get DataLoader running slow or even freeze, lower the worker number to avoid potential slowness/freeze if necessary.\n",
      "  cpuset_checked))\n"
     ]
    },
    {
     "name": "stdout",
     "output_type": "stream",
     "text": [
      "Epoch: 474/600, train loss: 5361.121\n",
      "\n",
      "Inferring ...\n",
      "Subset: 0, modalities ['rna']: test size: 100055\n",
      "Processing subset 0: ['rna']\n"
     ]
    },
    {
     "name": "stderr",
     "output_type": "stream",
     "text": [
      "/root/anaconda3/lib/python3.7/site-packages/torch/utils/data/dataloader.py:560: UserWarning: This DataLoader will create 64 worker processes in total. Our suggested max number of worker in current system is 32, which is smaller than what this DataLoader is going to create. Please be aware that excessive worker creation might get DataLoader running slow or even freeze, lower the worker number to avoid potential slowness/freeze if necessary.\n",
      "  cpuset_checked))\n"
     ]
    },
    {
     "name": "stdout",
     "output_type": "stream",
     "text": [
      "Epoch: 475/600, train loss: 5361.589\n",
      "\n",
      "Inferring ...\n",
      "Subset: 0, modalities ['rna']: test size: 100055\n",
      "Processing subset 0: ['rna']\n"
     ]
    },
    {
     "name": "stderr",
     "output_type": "stream",
     "text": [
      "/root/anaconda3/lib/python3.7/site-packages/torch/utils/data/dataloader.py:560: UserWarning: This DataLoader will create 64 worker processes in total. Our suggested max number of worker in current system is 32, which is smaller than what this DataLoader is going to create. Please be aware that excessive worker creation might get DataLoader running slow or even freeze, lower the worker number to avoid potential slowness/freeze if necessary.\n",
      "  cpuset_checked))\n"
     ]
    },
    {
     "name": "stdout",
     "output_type": "stream",
     "text": [
      "Epoch: 476/600, train loss: 5361.057\n",
      "\n",
      "Inferring ...\n",
      "Subset: 0, modalities ['rna']: test size: 100055\n",
      "Processing subset 0: ['rna']\n"
     ]
    },
    {
     "name": "stderr",
     "output_type": "stream",
     "text": [
      "/root/anaconda3/lib/python3.7/site-packages/torch/utils/data/dataloader.py:560: UserWarning: This DataLoader will create 64 worker processes in total. Our suggested max number of worker in current system is 32, which is smaller than what this DataLoader is going to create. Please be aware that excessive worker creation might get DataLoader running slow or even freeze, lower the worker number to avoid potential slowness/freeze if necessary.\n",
      "  cpuset_checked))\n"
     ]
    },
    {
     "name": "stdout",
     "output_type": "stream",
     "text": [
      "Epoch: 477/600, train loss: 5360.677\n",
      "\n",
      "Inferring ...\n",
      "Subset: 0, modalities ['rna']: test size: 100055\n",
      "Processing subset 0: ['rna']\n"
     ]
    },
    {
     "name": "stderr",
     "output_type": "stream",
     "text": [
      "/root/anaconda3/lib/python3.7/site-packages/torch/utils/data/dataloader.py:560: UserWarning: This DataLoader will create 64 worker processes in total. Our suggested max number of worker in current system is 32, which is smaller than what this DataLoader is going to create. Please be aware that excessive worker creation might get DataLoader running slow or even freeze, lower the worker number to avoid potential slowness/freeze if necessary.\n",
      "  cpuset_checked))\n"
     ]
    },
    {
     "name": "stdout",
     "output_type": "stream",
     "text": [
      "Epoch: 478/600, train loss: 5360.986\n",
      "\n",
      "Inferring ...\n",
      "Subset: 0, modalities ['rna']: test size: 100055\n",
      "Processing subset 0: ['rna']\n"
     ]
    },
    {
     "name": "stderr",
     "output_type": "stream",
     "text": [
      "/root/anaconda3/lib/python3.7/site-packages/torch/utils/data/dataloader.py:560: UserWarning: This DataLoader will create 64 worker processes in total. Our suggested max number of worker in current system is 32, which is smaller than what this DataLoader is going to create. Please be aware that excessive worker creation might get DataLoader running slow or even freeze, lower the worker number to avoid potential slowness/freeze if necessary.\n",
      "  cpuset_checked))\n"
     ]
    },
    {
     "name": "stdout",
     "output_type": "stream",
     "text": [
      "Epoch: 479/600, train loss: 5360.996\n",
      "\n",
      "Inferring ...\n",
      "Subset: 0, modalities ['rna']: test size: 100055\n",
      "Processing subset 0: ['rna']\n"
     ]
    },
    {
     "name": "stderr",
     "output_type": "stream",
     "text": [
      "/root/anaconda3/lib/python3.7/site-packages/torch/utils/data/dataloader.py:560: UserWarning: This DataLoader will create 64 worker processes in total. Our suggested max number of worker in current system is 32, which is smaller than what this DataLoader is going to create. Please be aware that excessive worker creation might get DataLoader running slow or even freeze, lower the worker number to avoid potential slowness/freeze if necessary.\n",
      "  cpuset_checked))\n"
     ]
    },
    {
     "name": "stdout",
     "output_type": "stream",
     "text": [
      "Epoch: 480/600, train loss: 5360.794\n",
      "\n",
      "Inferring ...\n",
      "Subset: 0, modalities ['rna']: test size: 100055\n",
      "Processing subset 0: ['rna']\n"
     ]
    },
    {
     "name": "stderr",
     "output_type": "stream",
     "text": [
      "/root/anaconda3/lib/python3.7/site-packages/torch/utils/data/dataloader.py:560: UserWarning: This DataLoader will create 64 worker processes in total. Our suggested max number of worker in current system is 32, which is smaller than what this DataLoader is going to create. Please be aware that excessive worker creation might get DataLoader running slow or even freeze, lower the worker number to avoid potential slowness/freeze if necessary.\n",
      "  cpuset_checked))\n"
     ]
    },
    {
     "name": "stdout",
     "output_type": "stream",
     "text": [
      "Epoch: 481/600, train loss: 5361.067\n",
      "\n",
      "Inferring ...\n",
      "Subset: 0, modalities ['rna']: test size: 100055\n",
      "Processing subset 0: ['rna']\n"
     ]
    },
    {
     "name": "stderr",
     "output_type": "stream",
     "text": [
      "/root/anaconda3/lib/python3.7/site-packages/torch/utils/data/dataloader.py:560: UserWarning: This DataLoader will create 64 worker processes in total. Our suggested max number of worker in current system is 32, which is smaller than what this DataLoader is going to create. Please be aware that excessive worker creation might get DataLoader running slow or even freeze, lower the worker number to avoid potential slowness/freeze if necessary.\n",
      "  cpuset_checked))\n"
     ]
    },
    {
     "name": "stdout",
     "output_type": "stream",
     "text": [
      "Epoch: 482/600, train loss: 5360.663\n",
      "\n",
      "Inferring ...\n",
      "Subset: 0, modalities ['rna']: test size: 100055\n",
      "Processing subset 0: ['rna']\n"
     ]
    },
    {
     "name": "stderr",
     "output_type": "stream",
     "text": [
      "/root/anaconda3/lib/python3.7/site-packages/torch/utils/data/dataloader.py:560: UserWarning: This DataLoader will create 64 worker processes in total. Our suggested max number of worker in current system is 32, which is smaller than what this DataLoader is going to create. Please be aware that excessive worker creation might get DataLoader running slow or even freeze, lower the worker number to avoid potential slowness/freeze if necessary.\n",
      "  cpuset_checked))\n"
     ]
    },
    {
     "name": "stdout",
     "output_type": "stream",
     "text": [
      "Epoch: 483/600, train loss: 5360.520\n",
      "\n",
      "Inferring ...\n",
      "Subset: 0, modalities ['rna']: test size: 100055\n",
      "Processing subset 0: ['rna']\n"
     ]
    },
    {
     "name": "stderr",
     "output_type": "stream",
     "text": [
      "/root/anaconda3/lib/python3.7/site-packages/torch/utils/data/dataloader.py:560: UserWarning: This DataLoader will create 64 worker processes in total. Our suggested max number of worker in current system is 32, which is smaller than what this DataLoader is going to create. Please be aware that excessive worker creation might get DataLoader running slow or even freeze, lower the worker number to avoid potential slowness/freeze if necessary.\n",
      "  cpuset_checked))\n"
     ]
    },
    {
     "name": "stdout",
     "output_type": "stream",
     "text": [
      "Epoch: 484/600, train loss: 5360.583\n",
      "\n",
      "Inferring ...\n",
      "Subset: 0, modalities ['rna']: test size: 100055\n",
      "Processing subset 0: ['rna']\n"
     ]
    },
    {
     "name": "stderr",
     "output_type": "stream",
     "text": [
      "/root/anaconda3/lib/python3.7/site-packages/torch/utils/data/dataloader.py:560: UserWarning: This DataLoader will create 64 worker processes in total. Our suggested max number of worker in current system is 32, which is smaller than what this DataLoader is going to create. Please be aware that excessive worker creation might get DataLoader running slow or even freeze, lower the worker number to avoid potential slowness/freeze if necessary.\n",
      "  cpuset_checked))\n"
     ]
    },
    {
     "name": "stdout",
     "output_type": "stream",
     "text": [
      "Epoch: 485/600, train loss: 5360.459\n",
      "\n",
      "Inferring ...\n",
      "Subset: 0, modalities ['rna']: test size: 100055\n",
      "Processing subset 0: ['rna']\n"
     ]
    },
    {
     "name": "stderr",
     "output_type": "stream",
     "text": [
      "/root/anaconda3/lib/python3.7/site-packages/torch/utils/data/dataloader.py:560: UserWarning: This DataLoader will create 64 worker processes in total. Our suggested max number of worker in current system is 32, which is smaller than what this DataLoader is going to create. Please be aware that excessive worker creation might get DataLoader running slow or even freeze, lower the worker number to avoid potential slowness/freeze if necessary.\n",
      "  cpuset_checked))\n"
     ]
    },
    {
     "name": "stdout",
     "output_type": "stream",
     "text": [
      "Epoch: 486/600, train loss: 5360.180\n",
      "\n",
      "Inferring ...\n",
      "Subset: 0, modalities ['rna']: test size: 100055\n",
      "Processing subset 0: ['rna']\n"
     ]
    },
    {
     "name": "stderr",
     "output_type": "stream",
     "text": [
      "/root/anaconda3/lib/python3.7/site-packages/torch/utils/data/dataloader.py:560: UserWarning: This DataLoader will create 64 worker processes in total. Our suggested max number of worker in current system is 32, which is smaller than what this DataLoader is going to create. Please be aware that excessive worker creation might get DataLoader running slow or even freeze, lower the worker number to avoid potential slowness/freeze if necessary.\n",
      "  cpuset_checked))\n"
     ]
    },
    {
     "name": "stdout",
     "output_type": "stream",
     "text": [
      "Epoch: 487/600, train loss: 5360.277\n",
      "\n",
      "Inferring ...\n",
      "Subset: 0, modalities ['rna']: test size: 100055\n",
      "Processing subset 0: ['rna']\n"
     ]
    },
    {
     "name": "stderr",
     "output_type": "stream",
     "text": [
      "/root/anaconda3/lib/python3.7/site-packages/torch/utils/data/dataloader.py:560: UserWarning: This DataLoader will create 64 worker processes in total. Our suggested max number of worker in current system is 32, which is smaller than what this DataLoader is going to create. Please be aware that excessive worker creation might get DataLoader running slow or even freeze, lower the worker number to avoid potential slowness/freeze if necessary.\n",
      "  cpuset_checked))\n"
     ]
    },
    {
     "name": "stdout",
     "output_type": "stream",
     "text": [
      "Epoch: 488/600, train loss: 5360.249\n",
      "\n",
      "Inferring ...\n",
      "Subset: 0, modalities ['rna']: test size: 100055\n",
      "Processing subset 0: ['rna']\n"
     ]
    },
    {
     "name": "stderr",
     "output_type": "stream",
     "text": [
      "/root/anaconda3/lib/python3.7/site-packages/torch/utils/data/dataloader.py:560: UserWarning: This DataLoader will create 64 worker processes in total. Our suggested max number of worker in current system is 32, which is smaller than what this DataLoader is going to create. Please be aware that excessive worker creation might get DataLoader running slow or even freeze, lower the worker number to avoid potential slowness/freeze if necessary.\n",
      "  cpuset_checked))\n"
     ]
    },
    {
     "name": "stdout",
     "output_type": "stream",
     "text": [
      "Epoch: 489/600, train loss: 5360.528\n",
      "\n",
      "Inferring ...\n",
      "Subset: 0, modalities ['rna']: test size: 100055\n",
      "Processing subset 0: ['rna']\n"
     ]
    },
    {
     "name": "stderr",
     "output_type": "stream",
     "text": [
      "/root/anaconda3/lib/python3.7/site-packages/torch/utils/data/dataloader.py:560: UserWarning: This DataLoader will create 64 worker processes in total. Our suggested max number of worker in current system is 32, which is smaller than what this DataLoader is going to create. Please be aware that excessive worker creation might get DataLoader running slow or even freeze, lower the worker number to avoid potential slowness/freeze if necessary.\n",
      "  cpuset_checked))\n"
     ]
    },
    {
     "name": "stdout",
     "output_type": "stream",
     "text": [
      "Epoch: 490/600, train loss: 5360.208\n",
      "\n",
      "Inferring ...\n",
      "Subset: 0, modalities ['rna']: test size: 100055\n",
      "Processing subset 0: ['rna']\n"
     ]
    },
    {
     "name": "stderr",
     "output_type": "stream",
     "text": [
      "/root/anaconda3/lib/python3.7/site-packages/torch/utils/data/dataloader.py:560: UserWarning: This DataLoader will create 64 worker processes in total. Our suggested max number of worker in current system is 32, which is smaller than what this DataLoader is going to create. Please be aware that excessive worker creation might get DataLoader running slow or even freeze, lower the worker number to avoid potential slowness/freeze if necessary.\n",
      "  cpuset_checked))\n"
     ]
    },
    {
     "name": "stdout",
     "output_type": "stream",
     "text": [
      "Epoch: 491/600, train loss: 5360.378\n",
      "\n",
      "Inferring ...\n",
      "Subset: 0, modalities ['rna']: test size: 100055\n",
      "Processing subset 0: ['rna']\n"
     ]
    },
    {
     "name": "stderr",
     "output_type": "stream",
     "text": [
      "/root/anaconda3/lib/python3.7/site-packages/torch/utils/data/dataloader.py:560: UserWarning: This DataLoader will create 64 worker processes in total. Our suggested max number of worker in current system is 32, which is smaller than what this DataLoader is going to create. Please be aware that excessive worker creation might get DataLoader running slow or even freeze, lower the worker number to avoid potential slowness/freeze if necessary.\n",
      "  cpuset_checked))\n"
     ]
    },
    {
     "name": "stdout",
     "output_type": "stream",
     "text": [
      "Epoch: 492/600, train loss: 5359.963\n",
      "\n",
      "Inferring ...\n",
      "Subset: 0, modalities ['rna']: test size: 100055\n",
      "Processing subset 0: ['rna']\n"
     ]
    },
    {
     "name": "stderr",
     "output_type": "stream",
     "text": [
      "/root/anaconda3/lib/python3.7/site-packages/torch/utils/data/dataloader.py:560: UserWarning: This DataLoader will create 64 worker processes in total. Our suggested max number of worker in current system is 32, which is smaller than what this DataLoader is going to create. Please be aware that excessive worker creation might get DataLoader running slow or even freeze, lower the worker number to avoid potential slowness/freeze if necessary.\n",
      "  cpuset_checked))\n"
     ]
    },
    {
     "name": "stdout",
     "output_type": "stream",
     "text": [
      "Epoch: 493/600, train loss: 5359.950\n",
      "\n",
      "Inferring ...\n",
      "Subset: 0, modalities ['rna']: test size: 100055\n",
      "Processing subset 0: ['rna']\n"
     ]
    },
    {
     "name": "stderr",
     "output_type": "stream",
     "text": [
      "/root/anaconda3/lib/python3.7/site-packages/torch/utils/data/dataloader.py:560: UserWarning: This DataLoader will create 64 worker processes in total. Our suggested max number of worker in current system is 32, which is smaller than what this DataLoader is going to create. Please be aware that excessive worker creation might get DataLoader running slow or even freeze, lower the worker number to avoid potential slowness/freeze if necessary.\n",
      "  cpuset_checked))\n"
     ]
    },
    {
     "name": "stdout",
     "output_type": "stream",
     "text": [
      "Epoch: 494/600, train loss: 5360.393\n",
      "\n",
      "Inferring ...\n",
      "Subset: 0, modalities ['rna']: test size: 100055\n",
      "Processing subset 0: ['rna']\n"
     ]
    },
    {
     "name": "stderr",
     "output_type": "stream",
     "text": [
      "/root/anaconda3/lib/python3.7/site-packages/torch/utils/data/dataloader.py:560: UserWarning: This DataLoader will create 64 worker processes in total. Our suggested max number of worker in current system is 32, which is smaller than what this DataLoader is going to create. Please be aware that excessive worker creation might get DataLoader running slow or even freeze, lower the worker number to avoid potential slowness/freeze if necessary.\n",
      "  cpuset_checked))\n"
     ]
    },
    {
     "name": "stdout",
     "output_type": "stream",
     "text": [
      "Epoch: 495/600, train loss: 5359.500\n",
      "\n",
      "Inferring ...\n",
      "Subset: 0, modalities ['rna']: test size: 100055\n",
      "Processing subset 0: ['rna']\n"
     ]
    },
    {
     "name": "stderr",
     "output_type": "stream",
     "text": [
      "/root/anaconda3/lib/python3.7/site-packages/torch/utils/data/dataloader.py:560: UserWarning: This DataLoader will create 64 worker processes in total. Our suggested max number of worker in current system is 32, which is smaller than what this DataLoader is going to create. Please be aware that excessive worker creation might get DataLoader running slow or even freeze, lower the worker number to avoid potential slowness/freeze if necessary.\n",
      "  cpuset_checked))\n"
     ]
    },
    {
     "name": "stdout",
     "output_type": "stream",
     "text": [
      "Epoch: 496/600, train loss: 5360.303\n",
      "\n",
      "Inferring ...\n",
      "Subset: 0, modalities ['rna']: test size: 100055\n",
      "Processing subset 0: ['rna']\n"
     ]
    },
    {
     "name": "stderr",
     "output_type": "stream",
     "text": [
      "/root/anaconda3/lib/python3.7/site-packages/torch/utils/data/dataloader.py:560: UserWarning: This DataLoader will create 64 worker processes in total. Our suggested max number of worker in current system is 32, which is smaller than what this DataLoader is going to create. Please be aware that excessive worker creation might get DataLoader running slow or even freeze, lower the worker number to avoid potential slowness/freeze if necessary.\n",
      "  cpuset_checked))\n"
     ]
    },
    {
     "name": "stdout",
     "output_type": "stream",
     "text": [
      "Epoch: 497/600, train loss: 5359.719\n",
      "\n",
      "Inferring ...\n",
      "Subset: 0, modalities ['rna']: test size: 100055\n",
      "Processing subset 0: ['rna']\n"
     ]
    },
    {
     "name": "stderr",
     "output_type": "stream",
     "text": [
      "/root/anaconda3/lib/python3.7/site-packages/torch/utils/data/dataloader.py:560: UserWarning: This DataLoader will create 64 worker processes in total. Our suggested max number of worker in current system is 32, which is smaller than what this DataLoader is going to create. Please be aware that excessive worker creation might get DataLoader running slow or even freeze, lower the worker number to avoid potential slowness/freeze if necessary.\n",
      "  cpuset_checked))\n"
     ]
    },
    {
     "name": "stdout",
     "output_type": "stream",
     "text": [
      "Epoch: 498/600, train loss: 5360.295\n",
      "\n",
      "Inferring ...\n",
      "Subset: 0, modalities ['rna']: test size: 100055\n",
      "Processing subset 0: ['rna']\n"
     ]
    },
    {
     "name": "stderr",
     "output_type": "stream",
     "text": [
      "/root/anaconda3/lib/python3.7/site-packages/torch/utils/data/dataloader.py:560: UserWarning: This DataLoader will create 64 worker processes in total. Our suggested max number of worker in current system is 32, which is smaller than what this DataLoader is going to create. Please be aware that excessive worker creation might get DataLoader running slow or even freeze, lower the worker number to avoid potential slowness/freeze if necessary.\n",
      "  cpuset_checked))\n"
     ]
    },
    {
     "name": "stdout",
     "output_type": "stream",
     "text": [
      "Epoch: 499/600, train loss: 5360.161\n",
      "\n",
      "Inferring ...\n",
      "Subset: 0, modalities ['rna']: test size: 100055\n",
      "Processing subset 0: ['rna']\n"
     ]
    },
    {
     "name": "stderr",
     "output_type": "stream",
     "text": [
      "/root/anaconda3/lib/python3.7/site-packages/torch/utils/data/dataloader.py:560: UserWarning: This DataLoader will create 64 worker processes in total. Our suggested max number of worker in current system is 32, which is smaller than what this DataLoader is going to create. Please be aware that excessive worker creation might get DataLoader running slow or even freeze, lower the worker number to avoid potential slowness/freeze if necessary.\n",
      "  cpuset_checked))\n"
     ]
    },
    {
     "name": "stdout",
     "output_type": "stream",
     "text": [
      "Epoch: 500/600, train loss: 5360.070\n",
      "\n",
      "Inferring ...\n",
      "Subset: 0, modalities ['rna']: test size: 100055\n",
      "Processing subset 0: ['rna']\n"
     ]
    },
    {
     "name": "stderr",
     "output_type": "stream",
     "text": [
      "/root/anaconda3/lib/python3.7/site-packages/torch/utils/data/dataloader.py:560: UserWarning: This DataLoader will create 64 worker processes in total. Our suggested max number of worker in current system is 32, which is smaller than what this DataLoader is going to create. Please be aware that excessive worker creation might get DataLoader running slow or even freeze, lower the worker number to avoid potential slowness/freeze if necessary.\n",
      "  cpuset_checked))\n"
     ]
    },
    {
     "name": "stdout",
     "output_type": "stream",
     "text": [
      "Epoch: 501/600, train loss: 5360.033\n",
      "\n",
      "Inferring ...\n",
      "Subset: 0, modalities ['rna']: test size: 100055\n",
      "Processing subset 0: ['rna']\n"
     ]
    },
    {
     "name": "stderr",
     "output_type": "stream",
     "text": [
      "/root/anaconda3/lib/python3.7/site-packages/torch/utils/data/dataloader.py:560: UserWarning: This DataLoader will create 64 worker processes in total. Our suggested max number of worker in current system is 32, which is smaller than what this DataLoader is going to create. Please be aware that excessive worker creation might get DataLoader running slow or even freeze, lower the worker number to avoid potential slowness/freeze if necessary.\n",
      "  cpuset_checked))\n"
     ]
    },
    {
     "name": "stdout",
     "output_type": "stream",
     "text": [
      "Epoch: 502/600, train loss: 5359.396\n",
      "\n",
      "Inferring ...\n",
      "Subset: 0, modalities ['rna']: test size: 100055\n",
      "Processing subset 0: ['rna']\n"
     ]
    },
    {
     "name": "stderr",
     "output_type": "stream",
     "text": [
      "/root/anaconda3/lib/python3.7/site-packages/torch/utils/data/dataloader.py:560: UserWarning: This DataLoader will create 64 worker processes in total. Our suggested max number of worker in current system is 32, which is smaller than what this DataLoader is going to create. Please be aware that excessive worker creation might get DataLoader running slow or even freeze, lower the worker number to avoid potential slowness/freeze if necessary.\n",
      "  cpuset_checked))\n"
     ]
    },
    {
     "name": "stdout",
     "output_type": "stream",
     "text": [
      "Epoch: 503/600, train loss: 5359.434\n",
      "\n",
      "Inferring ...\n",
      "Subset: 0, modalities ['rna']: test size: 100055\n",
      "Processing subset 0: ['rna']\n"
     ]
    },
    {
     "name": "stderr",
     "output_type": "stream",
     "text": [
      "/root/anaconda3/lib/python3.7/site-packages/torch/utils/data/dataloader.py:560: UserWarning: This DataLoader will create 64 worker processes in total. Our suggested max number of worker in current system is 32, which is smaller than what this DataLoader is going to create. Please be aware that excessive worker creation might get DataLoader running slow or even freeze, lower the worker number to avoid potential slowness/freeze if necessary.\n",
      "  cpuset_checked))\n"
     ]
    },
    {
     "name": "stdout",
     "output_type": "stream",
     "text": [
      "Epoch: 504/600, train loss: 5359.443\n",
      "\n",
      "Inferring ...\n",
      "Subset: 0, modalities ['rna']: test size: 100055\n",
      "Processing subset 0: ['rna']\n"
     ]
    },
    {
     "name": "stderr",
     "output_type": "stream",
     "text": [
      "/root/anaconda3/lib/python3.7/site-packages/torch/utils/data/dataloader.py:560: UserWarning: This DataLoader will create 64 worker processes in total. Our suggested max number of worker in current system is 32, which is smaller than what this DataLoader is going to create. Please be aware that excessive worker creation might get DataLoader running slow or even freeze, lower the worker number to avoid potential slowness/freeze if necessary.\n",
      "  cpuset_checked))\n"
     ]
    },
    {
     "name": "stdout",
     "output_type": "stream",
     "text": [
      "Epoch: 505/600, train loss: 5359.341\n",
      "\n",
      "Inferring ...\n",
      "Subset: 0, modalities ['rna']: test size: 100055\n",
      "Processing subset 0: ['rna']\n"
     ]
    },
    {
     "name": "stderr",
     "output_type": "stream",
     "text": [
      "/root/anaconda3/lib/python3.7/site-packages/torch/utils/data/dataloader.py:560: UserWarning: This DataLoader will create 64 worker processes in total. Our suggested max number of worker in current system is 32, which is smaller than what this DataLoader is going to create. Please be aware that excessive worker creation might get DataLoader running slow or even freeze, lower the worker number to avoid potential slowness/freeze if necessary.\n",
      "  cpuset_checked))\n"
     ]
    },
    {
     "name": "stdout",
     "output_type": "stream",
     "text": [
      "Epoch: 506/600, train loss: 5359.317\n",
      "\n",
      "Inferring ...\n",
      "Subset: 0, modalities ['rna']: test size: 100055\n",
      "Processing subset 0: ['rna']\n"
     ]
    },
    {
     "name": "stderr",
     "output_type": "stream",
     "text": [
      "/root/anaconda3/lib/python3.7/site-packages/torch/utils/data/dataloader.py:560: UserWarning: This DataLoader will create 64 worker processes in total. Our suggested max number of worker in current system is 32, which is smaller than what this DataLoader is going to create. Please be aware that excessive worker creation might get DataLoader running slow or even freeze, lower the worker number to avoid potential slowness/freeze if necessary.\n",
      "  cpuset_checked))\n"
     ]
    },
    {
     "name": "stdout",
     "output_type": "stream",
     "text": [
      "Epoch: 507/600, train loss: 5359.732\n",
      "\n",
      "Inferring ...\n",
      "Subset: 0, modalities ['rna']: test size: 100055\n",
      "Processing subset 0: ['rna']\n"
     ]
    },
    {
     "name": "stderr",
     "output_type": "stream",
     "text": [
      "/root/anaconda3/lib/python3.7/site-packages/torch/utils/data/dataloader.py:560: UserWarning: This DataLoader will create 64 worker processes in total. Our suggested max number of worker in current system is 32, which is smaller than what this DataLoader is going to create. Please be aware that excessive worker creation might get DataLoader running slow or even freeze, lower the worker number to avoid potential slowness/freeze if necessary.\n",
      "  cpuset_checked))\n"
     ]
    },
    {
     "name": "stdout",
     "output_type": "stream",
     "text": [
      "Epoch: 508/600, train loss: 5358.802\n",
      "\n",
      "Inferring ...\n",
      "Subset: 0, modalities ['rna']: test size: 100055\n",
      "Processing subset 0: ['rna']\n"
     ]
    },
    {
     "name": "stderr",
     "output_type": "stream",
     "text": [
      "/root/anaconda3/lib/python3.7/site-packages/torch/utils/data/dataloader.py:560: UserWarning: This DataLoader will create 64 worker processes in total. Our suggested max number of worker in current system is 32, which is smaller than what this DataLoader is going to create. Please be aware that excessive worker creation might get DataLoader running slow or even freeze, lower the worker number to avoid potential slowness/freeze if necessary.\n",
      "  cpuset_checked))\n"
     ]
    },
    {
     "name": "stdout",
     "output_type": "stream",
     "text": [
      "Epoch: 509/600, train loss: 5359.392\n",
      "\n",
      "Inferring ...\n",
      "Subset: 0, modalities ['rna']: test size: 100055\n",
      "Processing subset 0: ['rna']\n"
     ]
    },
    {
     "name": "stderr",
     "output_type": "stream",
     "text": [
      "/root/anaconda3/lib/python3.7/site-packages/torch/utils/data/dataloader.py:560: UserWarning: This DataLoader will create 64 worker processes in total. Our suggested max number of worker in current system is 32, which is smaller than what this DataLoader is going to create. Please be aware that excessive worker creation might get DataLoader running slow or even freeze, lower the worker number to avoid potential slowness/freeze if necessary.\n",
      "  cpuset_checked))\n"
     ]
    },
    {
     "name": "stdout",
     "output_type": "stream",
     "text": [
      "Epoch: 510/600, train loss: 5359.004\n",
      "\n",
      "Inferring ...\n",
      "Subset: 0, modalities ['rna']: test size: 100055\n",
      "Processing subset 0: ['rna']\n"
     ]
    },
    {
     "name": "stderr",
     "output_type": "stream",
     "text": [
      "/root/anaconda3/lib/python3.7/site-packages/torch/utils/data/dataloader.py:560: UserWarning: This DataLoader will create 64 worker processes in total. Our suggested max number of worker in current system is 32, which is smaller than what this DataLoader is going to create. Please be aware that excessive worker creation might get DataLoader running slow or even freeze, lower the worker number to avoid potential slowness/freeze if necessary.\n",
      "  cpuset_checked))\n"
     ]
    },
    {
     "name": "stdout",
     "output_type": "stream",
     "text": [
      "Epoch: 511/600, train loss: 5359.194\n",
      "\n",
      "Inferring ...\n",
      "Subset: 0, modalities ['rna']: test size: 100055\n",
      "Processing subset 0: ['rna']\n"
     ]
    },
    {
     "name": "stderr",
     "output_type": "stream",
     "text": [
      "/root/anaconda3/lib/python3.7/site-packages/torch/utils/data/dataloader.py:560: UserWarning: This DataLoader will create 64 worker processes in total. Our suggested max number of worker in current system is 32, which is smaller than what this DataLoader is going to create. Please be aware that excessive worker creation might get DataLoader running slow or even freeze, lower the worker number to avoid potential slowness/freeze if necessary.\n",
      "  cpuset_checked))\n"
     ]
    },
    {
     "name": "stdout",
     "output_type": "stream",
     "text": [
      "Epoch: 512/600, train loss: 5359.264\n",
      "\n",
      "Inferring ...\n",
      "Subset: 0, modalities ['rna']: test size: 100055\n",
      "Processing subset 0: ['rna']\n"
     ]
    },
    {
     "name": "stderr",
     "output_type": "stream",
     "text": [
      "/root/anaconda3/lib/python3.7/site-packages/torch/utils/data/dataloader.py:560: UserWarning: This DataLoader will create 64 worker processes in total. Our suggested max number of worker in current system is 32, which is smaller than what this DataLoader is going to create. Please be aware that excessive worker creation might get DataLoader running slow or even freeze, lower the worker number to avoid potential slowness/freeze if necessary.\n",
      "  cpuset_checked))\n"
     ]
    },
    {
     "name": "stdout",
     "output_type": "stream",
     "text": [
      "Epoch: 513/600, train loss: 5359.712\n",
      "\n",
      "Inferring ...\n",
      "Subset: 0, modalities ['rna']: test size: 100055\n",
      "Processing subset 0: ['rna']\n"
     ]
    },
    {
     "name": "stderr",
     "output_type": "stream",
     "text": [
      "/root/anaconda3/lib/python3.7/site-packages/torch/utils/data/dataloader.py:560: UserWarning: This DataLoader will create 64 worker processes in total. Our suggested max number of worker in current system is 32, which is smaller than what this DataLoader is going to create. Please be aware that excessive worker creation might get DataLoader running slow or even freeze, lower the worker number to avoid potential slowness/freeze if necessary.\n",
      "  cpuset_checked))\n"
     ]
    },
    {
     "name": "stdout",
     "output_type": "stream",
     "text": [
      "Epoch: 514/600, train loss: 5358.725\n",
      "\n",
      "Inferring ...\n",
      "Subset: 0, modalities ['rna']: test size: 100055\n",
      "Processing subset 0: ['rna']\n"
     ]
    },
    {
     "name": "stderr",
     "output_type": "stream",
     "text": [
      "/root/anaconda3/lib/python3.7/site-packages/torch/utils/data/dataloader.py:560: UserWarning: This DataLoader will create 64 worker processes in total. Our suggested max number of worker in current system is 32, which is smaller than what this DataLoader is going to create. Please be aware that excessive worker creation might get DataLoader running slow or even freeze, lower the worker number to avoid potential slowness/freeze if necessary.\n",
      "  cpuset_checked))\n"
     ]
    },
    {
     "name": "stdout",
     "output_type": "stream",
     "text": [
      "Epoch: 515/600, train loss: 5358.875\n",
      "\n",
      "Inferring ...\n",
      "Subset: 0, modalities ['rna']: test size: 100055\n",
      "Processing subset 0: ['rna']\n"
     ]
    },
    {
     "name": "stderr",
     "output_type": "stream",
     "text": [
      "/root/anaconda3/lib/python3.7/site-packages/torch/utils/data/dataloader.py:560: UserWarning: This DataLoader will create 64 worker processes in total. Our suggested max number of worker in current system is 32, which is smaller than what this DataLoader is going to create. Please be aware that excessive worker creation might get DataLoader running slow or even freeze, lower the worker number to avoid potential slowness/freeze if necessary.\n",
      "  cpuset_checked))\n"
     ]
    },
    {
     "name": "stdout",
     "output_type": "stream",
     "text": [
      "Epoch: 516/600, train loss: 5359.205\n",
      "\n",
      "Inferring ...\n",
      "Subset: 0, modalities ['rna']: test size: 100055\n",
      "Processing subset 0: ['rna']\n"
     ]
    },
    {
     "name": "stderr",
     "output_type": "stream",
     "text": [
      "/root/anaconda3/lib/python3.7/site-packages/torch/utils/data/dataloader.py:560: UserWarning: This DataLoader will create 64 worker processes in total. Our suggested max number of worker in current system is 32, which is smaller than what this DataLoader is going to create. Please be aware that excessive worker creation might get DataLoader running slow or even freeze, lower the worker number to avoid potential slowness/freeze if necessary.\n",
      "  cpuset_checked))\n"
     ]
    },
    {
     "name": "stdout",
     "output_type": "stream",
     "text": [
      "Epoch: 517/600, train loss: 5358.369\n",
      "\n",
      "Inferring ...\n",
      "Subset: 0, modalities ['rna']: test size: 100055\n",
      "Processing subset 0: ['rna']\n"
     ]
    },
    {
     "name": "stderr",
     "output_type": "stream",
     "text": [
      "/root/anaconda3/lib/python3.7/site-packages/torch/utils/data/dataloader.py:560: UserWarning: This DataLoader will create 64 worker processes in total. Our suggested max number of worker in current system is 32, which is smaller than what this DataLoader is going to create. Please be aware that excessive worker creation might get DataLoader running slow or even freeze, lower the worker number to avoid potential slowness/freeze if necessary.\n",
      "  cpuset_checked))\n"
     ]
    },
    {
     "name": "stdout",
     "output_type": "stream",
     "text": [
      "Epoch: 518/600, train loss: 5358.803\n",
      "\n",
      "Inferring ...\n",
      "Subset: 0, modalities ['rna']: test size: 100055\n",
      "Processing subset 0: ['rna']\n"
     ]
    },
    {
     "name": "stderr",
     "output_type": "stream",
     "text": [
      "/root/anaconda3/lib/python3.7/site-packages/torch/utils/data/dataloader.py:560: UserWarning: This DataLoader will create 64 worker processes in total. Our suggested max number of worker in current system is 32, which is smaller than what this DataLoader is going to create. Please be aware that excessive worker creation might get DataLoader running slow or even freeze, lower the worker number to avoid potential slowness/freeze if necessary.\n",
      "  cpuset_checked))\n"
     ]
    },
    {
     "name": "stdout",
     "output_type": "stream",
     "text": [
      "Epoch: 519/600, train loss: 5358.706\n",
      "\n",
      "Inferring ...\n",
      "Subset: 0, modalities ['rna']: test size: 100055\n",
      "Processing subset 0: ['rna']\n"
     ]
    },
    {
     "name": "stderr",
     "output_type": "stream",
     "text": [
      "/root/anaconda3/lib/python3.7/site-packages/torch/utils/data/dataloader.py:560: UserWarning: This DataLoader will create 64 worker processes in total. Our suggested max number of worker in current system is 32, which is smaller than what this DataLoader is going to create. Please be aware that excessive worker creation might get DataLoader running slow or even freeze, lower the worker number to avoid potential slowness/freeze if necessary.\n",
      "  cpuset_checked))\n"
     ]
    },
    {
     "name": "stdout",
     "output_type": "stream",
     "text": [
      "Epoch: 520/600, train loss: 5358.852\n",
      "\n",
      "Inferring ...\n",
      "Subset: 0, modalities ['rna']: test size: 100055\n",
      "Processing subset 0: ['rna']\n"
     ]
    },
    {
     "name": "stderr",
     "output_type": "stream",
     "text": [
      "/root/anaconda3/lib/python3.7/site-packages/torch/utils/data/dataloader.py:560: UserWarning: This DataLoader will create 64 worker processes in total. Our suggested max number of worker in current system is 32, which is smaller than what this DataLoader is going to create. Please be aware that excessive worker creation might get DataLoader running slow or even freeze, lower the worker number to avoid potential slowness/freeze if necessary.\n",
      "  cpuset_checked))\n"
     ]
    },
    {
     "name": "stdout",
     "output_type": "stream",
     "text": [
      "Epoch: 521/600, train loss: 5358.248\n",
      "\n",
      "Inferring ...\n",
      "Subset: 0, modalities ['rna']: test size: 100055\n",
      "Processing subset 0: ['rna']\n"
     ]
    },
    {
     "name": "stderr",
     "output_type": "stream",
     "text": [
      "/root/anaconda3/lib/python3.7/site-packages/torch/utils/data/dataloader.py:560: UserWarning: This DataLoader will create 64 worker processes in total. Our suggested max number of worker in current system is 32, which is smaller than what this DataLoader is going to create. Please be aware that excessive worker creation might get DataLoader running slow or even freeze, lower the worker number to avoid potential slowness/freeze if necessary.\n",
      "  cpuset_checked))\n"
     ]
    },
    {
     "name": "stdout",
     "output_type": "stream",
     "text": [
      "Epoch: 522/600, train loss: 5359.034\n",
      "\n",
      "Inferring ...\n",
      "Subset: 0, modalities ['rna']: test size: 100055\n",
      "Processing subset 0: ['rna']\n"
     ]
    },
    {
     "name": "stderr",
     "output_type": "stream",
     "text": [
      "/root/anaconda3/lib/python3.7/site-packages/torch/utils/data/dataloader.py:560: UserWarning: This DataLoader will create 64 worker processes in total. Our suggested max number of worker in current system is 32, which is smaller than what this DataLoader is going to create. Please be aware that excessive worker creation might get DataLoader running slow or even freeze, lower the worker number to avoid potential slowness/freeze if necessary.\n",
      "  cpuset_checked))\n"
     ]
    },
    {
     "name": "stdout",
     "output_type": "stream",
     "text": [
      "Epoch: 523/600, train loss: 5358.501\n",
      "\n",
      "Inferring ...\n",
      "Subset: 0, modalities ['rna']: test size: 100055\n",
      "Processing subset 0: ['rna']\n"
     ]
    },
    {
     "name": "stderr",
     "output_type": "stream",
     "text": [
      "/root/anaconda3/lib/python3.7/site-packages/torch/utils/data/dataloader.py:560: UserWarning: This DataLoader will create 64 worker processes in total. Our suggested max number of worker in current system is 32, which is smaller than what this DataLoader is going to create. Please be aware that excessive worker creation might get DataLoader running slow or even freeze, lower the worker number to avoid potential slowness/freeze if necessary.\n",
      "  cpuset_checked))\n"
     ]
    },
    {
     "name": "stdout",
     "output_type": "stream",
     "text": [
      "Epoch: 524/600, train loss: 5357.900\n",
      "\n",
      "Inferring ...\n",
      "Subset: 0, modalities ['rna']: test size: 100055\n",
      "Processing subset 0: ['rna']\n"
     ]
    },
    {
     "name": "stderr",
     "output_type": "stream",
     "text": [
      "/root/anaconda3/lib/python3.7/site-packages/torch/utils/data/dataloader.py:560: UserWarning: This DataLoader will create 64 worker processes in total. Our suggested max number of worker in current system is 32, which is smaller than what this DataLoader is going to create. Please be aware that excessive worker creation might get DataLoader running slow or even freeze, lower the worker number to avoid potential slowness/freeze if necessary.\n",
      "  cpuset_checked))\n"
     ]
    },
    {
     "name": "stdout",
     "output_type": "stream",
     "text": [
      "Epoch: 525/600, train loss: 5358.414\n",
      "\n",
      "Inferring ...\n",
      "Subset: 0, modalities ['rna']: test size: 100055\n",
      "Processing subset 0: ['rna']\n"
     ]
    },
    {
     "name": "stderr",
     "output_type": "stream",
     "text": [
      "/root/anaconda3/lib/python3.7/site-packages/torch/utils/data/dataloader.py:560: UserWarning: This DataLoader will create 64 worker processes in total. Our suggested max number of worker in current system is 32, which is smaller than what this DataLoader is going to create. Please be aware that excessive worker creation might get DataLoader running slow or even freeze, lower the worker number to avoid potential slowness/freeze if necessary.\n",
      "  cpuset_checked))\n"
     ]
    },
    {
     "name": "stdout",
     "output_type": "stream",
     "text": [
      "Epoch: 526/600, train loss: 5358.690\n",
      "\n",
      "Inferring ...\n",
      "Subset: 0, modalities ['rna']: test size: 100055\n",
      "Processing subset 0: ['rna']\n"
     ]
    },
    {
     "name": "stderr",
     "output_type": "stream",
     "text": [
      "/root/anaconda3/lib/python3.7/site-packages/torch/utils/data/dataloader.py:560: UserWarning: This DataLoader will create 64 worker processes in total. Our suggested max number of worker in current system is 32, which is smaller than what this DataLoader is going to create. Please be aware that excessive worker creation might get DataLoader running slow or even freeze, lower the worker number to avoid potential slowness/freeze if necessary.\n",
      "  cpuset_checked))\n"
     ]
    },
    {
     "name": "stdout",
     "output_type": "stream",
     "text": [
      "Epoch: 527/600, train loss: 5358.276\n",
      "\n",
      "Inferring ...\n",
      "Subset: 0, modalities ['rna']: test size: 100055\n",
      "Processing subset 0: ['rna']\n"
     ]
    },
    {
     "name": "stderr",
     "output_type": "stream",
     "text": [
      "/root/anaconda3/lib/python3.7/site-packages/torch/utils/data/dataloader.py:560: UserWarning: This DataLoader will create 64 worker processes in total. Our suggested max number of worker in current system is 32, which is smaller than what this DataLoader is going to create. Please be aware that excessive worker creation might get DataLoader running slow or even freeze, lower the worker number to avoid potential slowness/freeze if necessary.\n",
      "  cpuset_checked))\n"
     ]
    },
    {
     "name": "stdout",
     "output_type": "stream",
     "text": [
      "Epoch: 528/600, train loss: 5358.152\n",
      "\n",
      "Inferring ...\n",
      "Subset: 0, modalities ['rna']: test size: 100055\n",
      "Processing subset 0: ['rna']\n"
     ]
    },
    {
     "name": "stderr",
     "output_type": "stream",
     "text": [
      "/root/anaconda3/lib/python3.7/site-packages/torch/utils/data/dataloader.py:560: UserWarning: This DataLoader will create 64 worker processes in total. Our suggested max number of worker in current system is 32, which is smaller than what this DataLoader is going to create. Please be aware that excessive worker creation might get DataLoader running slow or even freeze, lower the worker number to avoid potential slowness/freeze if necessary.\n",
      "  cpuset_checked))\n"
     ]
    },
    {
     "name": "stdout",
     "output_type": "stream",
     "text": [
      "Epoch: 529/600, train loss: 5358.370\n",
      "\n",
      "Inferring ...\n",
      "Subset: 0, modalities ['rna']: test size: 100055\n",
      "Processing subset 0: ['rna']\n"
     ]
    },
    {
     "name": "stderr",
     "output_type": "stream",
     "text": [
      "/root/anaconda3/lib/python3.7/site-packages/torch/utils/data/dataloader.py:560: UserWarning: This DataLoader will create 64 worker processes in total. Our suggested max number of worker in current system is 32, which is smaller than what this DataLoader is going to create. Please be aware that excessive worker creation might get DataLoader running slow or even freeze, lower the worker number to avoid potential slowness/freeze if necessary.\n",
      "  cpuset_checked))\n"
     ]
    },
    {
     "name": "stdout",
     "output_type": "stream",
     "text": [
      "Epoch: 530/600, train loss: 5357.900\n",
      "\n",
      "Inferring ...\n",
      "Subset: 0, modalities ['rna']: test size: 100055\n",
      "Processing subset 0: ['rna']\n"
     ]
    },
    {
     "name": "stderr",
     "output_type": "stream",
     "text": [
      "/root/anaconda3/lib/python3.7/site-packages/torch/utils/data/dataloader.py:560: UserWarning: This DataLoader will create 64 worker processes in total. Our suggested max number of worker in current system is 32, which is smaller than what this DataLoader is going to create. Please be aware that excessive worker creation might get DataLoader running slow or even freeze, lower the worker number to avoid potential slowness/freeze if necessary.\n",
      "  cpuset_checked))\n"
     ]
    },
    {
     "name": "stdout",
     "output_type": "stream",
     "text": [
      "Epoch: 531/600, train loss: 5358.119\n",
      "\n",
      "Inferring ...\n",
      "Subset: 0, modalities ['rna']: test size: 100055\n",
      "Processing subset 0: ['rna']\n"
     ]
    },
    {
     "name": "stderr",
     "output_type": "stream",
     "text": [
      "/root/anaconda3/lib/python3.7/site-packages/torch/utils/data/dataloader.py:560: UserWarning: This DataLoader will create 64 worker processes in total. Our suggested max number of worker in current system is 32, which is smaller than what this DataLoader is going to create. Please be aware that excessive worker creation might get DataLoader running slow or even freeze, lower the worker number to avoid potential slowness/freeze if necessary.\n",
      "  cpuset_checked))\n"
     ]
    },
    {
     "name": "stdout",
     "output_type": "stream",
     "text": [
      "Epoch: 532/600, train loss: 5357.855\n",
      "\n",
      "Inferring ...\n",
      "Subset: 0, modalities ['rna']: test size: 100055\n",
      "Processing subset 0: ['rna']\n"
     ]
    },
    {
     "name": "stderr",
     "output_type": "stream",
     "text": [
      "/root/anaconda3/lib/python3.7/site-packages/torch/utils/data/dataloader.py:560: UserWarning: This DataLoader will create 64 worker processes in total. Our suggested max number of worker in current system is 32, which is smaller than what this DataLoader is going to create. Please be aware that excessive worker creation might get DataLoader running slow or even freeze, lower the worker number to avoid potential slowness/freeze if necessary.\n",
      "  cpuset_checked))\n"
     ]
    },
    {
     "name": "stdout",
     "output_type": "stream",
     "text": [
      "Epoch: 533/600, train loss: 5357.781\n",
      "\n",
      "Inferring ...\n",
      "Subset: 0, modalities ['rna']: test size: 100055\n",
      "Processing subset 0: ['rna']\n"
     ]
    },
    {
     "name": "stderr",
     "output_type": "stream",
     "text": [
      "/root/anaconda3/lib/python3.7/site-packages/torch/utils/data/dataloader.py:560: UserWarning: This DataLoader will create 64 worker processes in total. Our suggested max number of worker in current system is 32, which is smaller than what this DataLoader is going to create. Please be aware that excessive worker creation might get DataLoader running slow or even freeze, lower the worker number to avoid potential slowness/freeze if necessary.\n",
      "  cpuset_checked))\n"
     ]
    },
    {
     "name": "stdout",
     "output_type": "stream",
     "text": [
      "Epoch: 534/600, train loss: 5358.277\n",
      "\n",
      "Inferring ...\n",
      "Subset: 0, modalities ['rna']: test size: 100055\n",
      "Processing subset 0: ['rna']\n"
     ]
    },
    {
     "name": "stderr",
     "output_type": "stream",
     "text": [
      "/root/anaconda3/lib/python3.7/site-packages/torch/utils/data/dataloader.py:560: UserWarning: This DataLoader will create 64 worker processes in total. Our suggested max number of worker in current system is 32, which is smaller than what this DataLoader is going to create. Please be aware that excessive worker creation might get DataLoader running slow or even freeze, lower the worker number to avoid potential slowness/freeze if necessary.\n",
      "  cpuset_checked))\n"
     ]
    },
    {
     "name": "stdout",
     "output_type": "stream",
     "text": [
      "Epoch: 535/600, train loss: 5358.611\n",
      "\n",
      "Inferring ...\n",
      "Subset: 0, modalities ['rna']: test size: 100055\n",
      "Processing subset 0: ['rna']\n"
     ]
    },
    {
     "name": "stderr",
     "output_type": "stream",
     "text": [
      "/root/anaconda3/lib/python3.7/site-packages/torch/utils/data/dataloader.py:560: UserWarning: This DataLoader will create 64 worker processes in total. Our suggested max number of worker in current system is 32, which is smaller than what this DataLoader is going to create. Please be aware that excessive worker creation might get DataLoader running slow or even freeze, lower the worker number to avoid potential slowness/freeze if necessary.\n",
      "  cpuset_checked))\n"
     ]
    },
    {
     "name": "stdout",
     "output_type": "stream",
     "text": [
      "Epoch: 536/600, train loss: 5357.536\n",
      "\n",
      "Inferring ...\n",
      "Subset: 0, modalities ['rna']: test size: 100055\n",
      "Processing subset 0: ['rna']\n"
     ]
    },
    {
     "name": "stderr",
     "output_type": "stream",
     "text": [
      "/root/anaconda3/lib/python3.7/site-packages/torch/utils/data/dataloader.py:560: UserWarning: This DataLoader will create 64 worker processes in total. Our suggested max number of worker in current system is 32, which is smaller than what this DataLoader is going to create. Please be aware that excessive worker creation might get DataLoader running slow or even freeze, lower the worker number to avoid potential slowness/freeze if necessary.\n",
      "  cpuset_checked))\n"
     ]
    },
    {
     "name": "stdout",
     "output_type": "stream",
     "text": [
      "Epoch: 537/600, train loss: 5358.169\n",
      "\n",
      "Inferring ...\n",
      "Subset: 0, modalities ['rna']: test size: 100055\n",
      "Processing subset 0: ['rna']\n"
     ]
    },
    {
     "name": "stderr",
     "output_type": "stream",
     "text": [
      "/root/anaconda3/lib/python3.7/site-packages/torch/utils/data/dataloader.py:560: UserWarning: This DataLoader will create 64 worker processes in total. Our suggested max number of worker in current system is 32, which is smaller than what this DataLoader is going to create. Please be aware that excessive worker creation might get DataLoader running slow or even freeze, lower the worker number to avoid potential slowness/freeze if necessary.\n",
      "  cpuset_checked))\n"
     ]
    },
    {
     "name": "stdout",
     "output_type": "stream",
     "text": [
      "Epoch: 538/600, train loss: 5357.263\n",
      "\n",
      "Inferring ...\n",
      "Subset: 0, modalities ['rna']: test size: 100055\n",
      "Processing subset 0: ['rna']\n"
     ]
    },
    {
     "name": "stderr",
     "output_type": "stream",
     "text": [
      "/root/anaconda3/lib/python3.7/site-packages/torch/utils/data/dataloader.py:560: UserWarning: This DataLoader will create 64 worker processes in total. Our suggested max number of worker in current system is 32, which is smaller than what this DataLoader is going to create. Please be aware that excessive worker creation might get DataLoader running slow or even freeze, lower the worker number to avoid potential slowness/freeze if necessary.\n",
      "  cpuset_checked))\n"
     ]
    },
    {
     "name": "stdout",
     "output_type": "stream",
     "text": [
      "Epoch: 539/600, train loss: 5358.075\n",
      "\n",
      "Inferring ...\n",
      "Subset: 0, modalities ['rna']: test size: 100055\n",
      "Processing subset 0: ['rna']\n"
     ]
    },
    {
     "name": "stderr",
     "output_type": "stream",
     "text": [
      "/root/anaconda3/lib/python3.7/site-packages/torch/utils/data/dataloader.py:560: UserWarning: This DataLoader will create 64 worker processes in total. Our suggested max number of worker in current system is 32, which is smaller than what this DataLoader is going to create. Please be aware that excessive worker creation might get DataLoader running slow or even freeze, lower the worker number to avoid potential slowness/freeze if necessary.\n",
      "  cpuset_checked))\n"
     ]
    },
    {
     "name": "stdout",
     "output_type": "stream",
     "text": [
      "Epoch: 540/600, train loss: 5357.677\n",
      "\n",
      "Inferring ...\n",
      "Subset: 0, modalities ['rna']: test size: 100055\n",
      "Processing subset 0: ['rna']\n"
     ]
    },
    {
     "name": "stderr",
     "output_type": "stream",
     "text": [
      "/root/anaconda3/lib/python3.7/site-packages/torch/utils/data/dataloader.py:560: UserWarning: This DataLoader will create 64 worker processes in total. Our suggested max number of worker in current system is 32, which is smaller than what this DataLoader is going to create. Please be aware that excessive worker creation might get DataLoader running slow or even freeze, lower the worker number to avoid potential slowness/freeze if necessary.\n",
      "  cpuset_checked))\n"
     ]
    },
    {
     "name": "stdout",
     "output_type": "stream",
     "text": [
      "Epoch: 541/600, train loss: 5358.036\n",
      "\n",
      "Inferring ...\n",
      "Subset: 0, modalities ['rna']: test size: 100055\n",
      "Processing subset 0: ['rna']\n"
     ]
    },
    {
     "name": "stderr",
     "output_type": "stream",
     "text": [
      "/root/anaconda3/lib/python3.7/site-packages/torch/utils/data/dataloader.py:560: UserWarning: This DataLoader will create 64 worker processes in total. Our suggested max number of worker in current system is 32, which is smaller than what this DataLoader is going to create. Please be aware that excessive worker creation might get DataLoader running slow or even freeze, lower the worker number to avoid potential slowness/freeze if necessary.\n",
      "  cpuset_checked))\n"
     ]
    },
    {
     "name": "stdout",
     "output_type": "stream",
     "text": [
      "Epoch: 542/600, train loss: 5357.475\n",
      "\n",
      "Inferring ...\n",
      "Subset: 0, modalities ['rna']: test size: 100055\n",
      "Processing subset 0: ['rna']\n"
     ]
    },
    {
     "name": "stderr",
     "output_type": "stream",
     "text": [
      "/root/anaconda3/lib/python3.7/site-packages/torch/utils/data/dataloader.py:560: UserWarning: This DataLoader will create 64 worker processes in total. Our suggested max number of worker in current system is 32, which is smaller than what this DataLoader is going to create. Please be aware that excessive worker creation might get DataLoader running slow or even freeze, lower the worker number to avoid potential slowness/freeze if necessary.\n",
      "  cpuset_checked))\n"
     ]
    },
    {
     "name": "stdout",
     "output_type": "stream",
     "text": [
      "Epoch: 543/600, train loss: 5356.973\n",
      "\n",
      "Inferring ...\n",
      "Subset: 0, modalities ['rna']: test size: 100055\n",
      "Processing subset 0: ['rna']\n"
     ]
    },
    {
     "name": "stderr",
     "output_type": "stream",
     "text": [
      "/root/anaconda3/lib/python3.7/site-packages/torch/utils/data/dataloader.py:560: UserWarning: This DataLoader will create 64 worker processes in total. Our suggested max number of worker in current system is 32, which is smaller than what this DataLoader is going to create. Please be aware that excessive worker creation might get DataLoader running slow or even freeze, lower the worker number to avoid potential slowness/freeze if necessary.\n",
      "  cpuset_checked))\n"
     ]
    },
    {
     "name": "stdout",
     "output_type": "stream",
     "text": [
      "Epoch: 544/600, train loss: 5357.547\n",
      "\n",
      "Inferring ...\n",
      "Subset: 0, modalities ['rna']: test size: 100055\n",
      "Processing subset 0: ['rna']\n"
     ]
    },
    {
     "name": "stderr",
     "output_type": "stream",
     "text": [
      "/root/anaconda3/lib/python3.7/site-packages/torch/utils/data/dataloader.py:560: UserWarning: This DataLoader will create 64 worker processes in total. Our suggested max number of worker in current system is 32, which is smaller than what this DataLoader is going to create. Please be aware that excessive worker creation might get DataLoader running slow or even freeze, lower the worker number to avoid potential slowness/freeze if necessary.\n",
      "  cpuset_checked))\n"
     ]
    },
    {
     "name": "stdout",
     "output_type": "stream",
     "text": [
      "Epoch: 545/600, train loss: 5357.415\n",
      "\n",
      "Inferring ...\n",
      "Subset: 0, modalities ['rna']: test size: 100055\n",
      "Processing subset 0: ['rna']\n"
     ]
    },
    {
     "name": "stderr",
     "output_type": "stream",
     "text": [
      "/root/anaconda3/lib/python3.7/site-packages/torch/utils/data/dataloader.py:560: UserWarning: This DataLoader will create 64 worker processes in total. Our suggested max number of worker in current system is 32, which is smaller than what this DataLoader is going to create. Please be aware that excessive worker creation might get DataLoader running slow or even freeze, lower the worker number to avoid potential slowness/freeze if necessary.\n",
      "  cpuset_checked))\n"
     ]
    },
    {
     "name": "stdout",
     "output_type": "stream",
     "text": [
      "Epoch: 546/600, train loss: 5357.293\n",
      "\n",
      "Inferring ...\n",
      "Subset: 0, modalities ['rna']: test size: 100055\n",
      "Processing subset 0: ['rna']\n"
     ]
    },
    {
     "name": "stderr",
     "output_type": "stream",
     "text": [
      "/root/anaconda3/lib/python3.7/site-packages/torch/utils/data/dataloader.py:560: UserWarning: This DataLoader will create 64 worker processes in total. Our suggested max number of worker in current system is 32, which is smaller than what this DataLoader is going to create. Please be aware that excessive worker creation might get DataLoader running slow or even freeze, lower the worker number to avoid potential slowness/freeze if necessary.\n",
      "  cpuset_checked))\n"
     ]
    },
    {
     "name": "stdout",
     "output_type": "stream",
     "text": [
      "Epoch: 547/600, train loss: 5356.632\n",
      "\n",
      "Inferring ...\n",
      "Subset: 0, modalities ['rna']: test size: 100055\n",
      "Processing subset 0: ['rna']\n"
     ]
    },
    {
     "name": "stderr",
     "output_type": "stream",
     "text": [
      "/root/anaconda3/lib/python3.7/site-packages/torch/utils/data/dataloader.py:560: UserWarning: This DataLoader will create 64 worker processes in total. Our suggested max number of worker in current system is 32, which is smaller than what this DataLoader is going to create. Please be aware that excessive worker creation might get DataLoader running slow or even freeze, lower the worker number to avoid potential slowness/freeze if necessary.\n",
      "  cpuset_checked))\n"
     ]
    },
    {
     "name": "stdout",
     "output_type": "stream",
     "text": [
      "Epoch: 548/600, train loss: 5357.598\n",
      "\n",
      "Inferring ...\n",
      "Subset: 0, modalities ['rna']: test size: 100055\n",
      "Processing subset 0: ['rna']\n"
     ]
    },
    {
     "name": "stderr",
     "output_type": "stream",
     "text": [
      "/root/anaconda3/lib/python3.7/site-packages/torch/utils/data/dataloader.py:560: UserWarning: This DataLoader will create 64 worker processes in total. Our suggested max number of worker in current system is 32, which is smaller than what this DataLoader is going to create. Please be aware that excessive worker creation might get DataLoader running slow or even freeze, lower the worker number to avoid potential slowness/freeze if necessary.\n",
      "  cpuset_checked))\n"
     ]
    },
    {
     "name": "stdout",
     "output_type": "stream",
     "text": [
      "Epoch: 549/600, train loss: 5357.368\n",
      "\n",
      "Inferring ...\n",
      "Subset: 0, modalities ['rna']: test size: 100055\n",
      "Processing subset 0: ['rna']\n"
     ]
    },
    {
     "name": "stderr",
     "output_type": "stream",
     "text": [
      "/root/anaconda3/lib/python3.7/site-packages/torch/utils/data/dataloader.py:560: UserWarning: This DataLoader will create 64 worker processes in total. Our suggested max number of worker in current system is 32, which is smaller than what this DataLoader is going to create. Please be aware that excessive worker creation might get DataLoader running slow or even freeze, lower the worker number to avoid potential slowness/freeze if necessary.\n",
      "  cpuset_checked))\n"
     ]
    },
    {
     "name": "stdout",
     "output_type": "stream",
     "text": [
      "Epoch: 550/600, train loss: 5357.760\n",
      "\n",
      "Inferring ...\n",
      "Subset: 0, modalities ['rna']: test size: 100055\n",
      "Processing subset 0: ['rna']\n"
     ]
    },
    {
     "name": "stderr",
     "output_type": "stream",
     "text": [
      "/root/anaconda3/lib/python3.7/site-packages/torch/utils/data/dataloader.py:560: UserWarning: This DataLoader will create 64 worker processes in total. Our suggested max number of worker in current system is 32, which is smaller than what this DataLoader is going to create. Please be aware that excessive worker creation might get DataLoader running slow or even freeze, lower the worker number to avoid potential slowness/freeze if necessary.\n",
      "  cpuset_checked))\n"
     ]
    },
    {
     "name": "stdout",
     "output_type": "stream",
     "text": [
      "Epoch: 551/600, train loss: 5357.293\n",
      "\n",
      "Inferring ...\n",
      "Subset: 0, modalities ['rna']: test size: 100055\n",
      "Processing subset 0: ['rna']\n"
     ]
    },
    {
     "name": "stderr",
     "output_type": "stream",
     "text": [
      "/root/anaconda3/lib/python3.7/site-packages/torch/utils/data/dataloader.py:560: UserWarning: This DataLoader will create 64 worker processes in total. Our suggested max number of worker in current system is 32, which is smaller than what this DataLoader is going to create. Please be aware that excessive worker creation might get DataLoader running slow or even freeze, lower the worker number to avoid potential slowness/freeze if necessary.\n",
      "  cpuset_checked))\n"
     ]
    },
    {
     "name": "stdout",
     "output_type": "stream",
     "text": [
      "Epoch: 552/600, train loss: 5357.195\n",
      "\n",
      "Inferring ...\n",
      "Subset: 0, modalities ['rna']: test size: 100055\n",
      "Processing subset 0: ['rna']\n"
     ]
    },
    {
     "name": "stderr",
     "output_type": "stream",
     "text": [
      "/root/anaconda3/lib/python3.7/site-packages/torch/utils/data/dataloader.py:560: UserWarning: This DataLoader will create 64 worker processes in total. Our suggested max number of worker in current system is 32, which is smaller than what this DataLoader is going to create. Please be aware that excessive worker creation might get DataLoader running slow or even freeze, lower the worker number to avoid potential slowness/freeze if necessary.\n",
      "  cpuset_checked))\n"
     ]
    },
    {
     "name": "stdout",
     "output_type": "stream",
     "text": [
      "Epoch: 553/600, train loss: 5357.229\n",
      "\n",
      "Inferring ...\n",
      "Subset: 0, modalities ['rna']: test size: 100055\n",
      "Processing subset 0: ['rna']\n"
     ]
    },
    {
     "name": "stderr",
     "output_type": "stream",
     "text": [
      "/root/anaconda3/lib/python3.7/site-packages/torch/utils/data/dataloader.py:560: UserWarning: This DataLoader will create 64 worker processes in total. Our suggested max number of worker in current system is 32, which is smaller than what this DataLoader is going to create. Please be aware that excessive worker creation might get DataLoader running slow or even freeze, lower the worker number to avoid potential slowness/freeze if necessary.\n",
      "  cpuset_checked))\n"
     ]
    },
    {
     "name": "stdout",
     "output_type": "stream",
     "text": [
      "Epoch: 554/600, train loss: 5356.818\n",
      "\n",
      "Inferring ...\n",
      "Subset: 0, modalities ['rna']: test size: 100055\n",
      "Processing subset 0: ['rna']\n"
     ]
    },
    {
     "name": "stderr",
     "output_type": "stream",
     "text": [
      "/root/anaconda3/lib/python3.7/site-packages/torch/utils/data/dataloader.py:560: UserWarning: This DataLoader will create 64 worker processes in total. Our suggested max number of worker in current system is 32, which is smaller than what this DataLoader is going to create. Please be aware that excessive worker creation might get DataLoader running slow or even freeze, lower the worker number to avoid potential slowness/freeze if necessary.\n",
      "  cpuset_checked))\n"
     ]
    },
    {
     "name": "stdout",
     "output_type": "stream",
     "text": [
      "Epoch: 555/600, train loss: 5356.895\n",
      "\n",
      "Inferring ...\n",
      "Subset: 0, modalities ['rna']: test size: 100055\n",
      "Processing subset 0: ['rna']\n"
     ]
    },
    {
     "name": "stderr",
     "output_type": "stream",
     "text": [
      "/root/anaconda3/lib/python3.7/site-packages/torch/utils/data/dataloader.py:560: UserWarning: This DataLoader will create 64 worker processes in total. Our suggested max number of worker in current system is 32, which is smaller than what this DataLoader is going to create. Please be aware that excessive worker creation might get DataLoader running slow or even freeze, lower the worker number to avoid potential slowness/freeze if necessary.\n",
      "  cpuset_checked))\n"
     ]
    },
    {
     "name": "stdout",
     "output_type": "stream",
     "text": [
      "Epoch: 556/600, train loss: 5357.253\n",
      "\n",
      "Inferring ...\n",
      "Subset: 0, modalities ['rna']: test size: 100055\n",
      "Processing subset 0: ['rna']\n"
     ]
    },
    {
     "name": "stderr",
     "output_type": "stream",
     "text": [
      "/root/anaconda3/lib/python3.7/site-packages/torch/utils/data/dataloader.py:560: UserWarning: This DataLoader will create 64 worker processes in total. Our suggested max number of worker in current system is 32, which is smaller than what this DataLoader is going to create. Please be aware that excessive worker creation might get DataLoader running slow or even freeze, lower the worker number to avoid potential slowness/freeze if necessary.\n",
      "  cpuset_checked))\n"
     ]
    },
    {
     "name": "stdout",
     "output_type": "stream",
     "text": [
      "Epoch: 557/600, train loss: 5356.798\n",
      "\n",
      "Inferring ...\n",
      "Subset: 0, modalities ['rna']: test size: 100055\n",
      "Processing subset 0: ['rna']\n"
     ]
    },
    {
     "name": "stderr",
     "output_type": "stream",
     "text": [
      "/root/anaconda3/lib/python3.7/site-packages/torch/utils/data/dataloader.py:560: UserWarning: This DataLoader will create 64 worker processes in total. Our suggested max number of worker in current system is 32, which is smaller than what this DataLoader is going to create. Please be aware that excessive worker creation might get DataLoader running slow or even freeze, lower the worker number to avoid potential slowness/freeze if necessary.\n",
      "  cpuset_checked))\n"
     ]
    },
    {
     "name": "stdout",
     "output_type": "stream",
     "text": [
      "Epoch: 558/600, train loss: 5356.882\n",
      "\n",
      "Inferring ...\n",
      "Subset: 0, modalities ['rna']: test size: 100055\n",
      "Processing subset 0: ['rna']\n"
     ]
    },
    {
     "name": "stderr",
     "output_type": "stream",
     "text": [
      "/root/anaconda3/lib/python3.7/site-packages/torch/utils/data/dataloader.py:560: UserWarning: This DataLoader will create 64 worker processes in total. Our suggested max number of worker in current system is 32, which is smaller than what this DataLoader is going to create. Please be aware that excessive worker creation might get DataLoader running slow or even freeze, lower the worker number to avoid potential slowness/freeze if necessary.\n",
      "  cpuset_checked))\n"
     ]
    },
    {
     "name": "stdout",
     "output_type": "stream",
     "text": [
      "Epoch: 559/600, train loss: 5356.919\n",
      "\n",
      "Inferring ...\n",
      "Subset: 0, modalities ['rna']: test size: 100055\n",
      "Processing subset 0: ['rna']\n"
     ]
    },
    {
     "name": "stderr",
     "output_type": "stream",
     "text": [
      "/root/anaconda3/lib/python3.7/site-packages/torch/utils/data/dataloader.py:560: UserWarning: This DataLoader will create 64 worker processes in total. Our suggested max number of worker in current system is 32, which is smaller than what this DataLoader is going to create. Please be aware that excessive worker creation might get DataLoader running slow or even freeze, lower the worker number to avoid potential slowness/freeze if necessary.\n",
      "  cpuset_checked))\n"
     ]
    },
    {
     "name": "stdout",
     "output_type": "stream",
     "text": [
      "Epoch: 560/600, train loss: 5356.445\n",
      "\n",
      "Inferring ...\n",
      "Subset: 0, modalities ['rna']: test size: 100055\n",
      "Processing subset 0: ['rna']\n"
     ]
    },
    {
     "name": "stderr",
     "output_type": "stream",
     "text": [
      "/root/anaconda3/lib/python3.7/site-packages/torch/utils/data/dataloader.py:560: UserWarning: This DataLoader will create 64 worker processes in total. Our suggested max number of worker in current system is 32, which is smaller than what this DataLoader is going to create. Please be aware that excessive worker creation might get DataLoader running slow or even freeze, lower the worker number to avoid potential slowness/freeze if necessary.\n",
      "  cpuset_checked))\n"
     ]
    },
    {
     "name": "stdout",
     "output_type": "stream",
     "text": [
      "Epoch: 561/600, train loss: 5356.686\n",
      "\n",
      "Inferring ...\n",
      "Subset: 0, modalities ['rna']: test size: 100055\n",
      "Processing subset 0: ['rna']\n"
     ]
    },
    {
     "name": "stderr",
     "output_type": "stream",
     "text": [
      "/root/anaconda3/lib/python3.7/site-packages/torch/utils/data/dataloader.py:560: UserWarning: This DataLoader will create 64 worker processes in total. Our suggested max number of worker in current system is 32, which is smaller than what this DataLoader is going to create. Please be aware that excessive worker creation might get DataLoader running slow or even freeze, lower the worker number to avoid potential slowness/freeze if necessary.\n",
      "  cpuset_checked))\n"
     ]
    },
    {
     "name": "stdout",
     "output_type": "stream",
     "text": [
      "Epoch: 562/600, train loss: 5357.234\n",
      "\n",
      "Inferring ...\n",
      "Subset: 0, modalities ['rna']: test size: 100055\n",
      "Processing subset 0: ['rna']\n"
     ]
    },
    {
     "name": "stderr",
     "output_type": "stream",
     "text": [
      "/root/anaconda3/lib/python3.7/site-packages/torch/utils/data/dataloader.py:560: UserWarning: This DataLoader will create 64 worker processes in total. Our suggested max number of worker in current system is 32, which is smaller than what this DataLoader is going to create. Please be aware that excessive worker creation might get DataLoader running slow or even freeze, lower the worker number to avoid potential slowness/freeze if necessary.\n",
      "  cpuset_checked))\n"
     ]
    },
    {
     "name": "stdout",
     "output_type": "stream",
     "text": [
      "Epoch: 563/600, train loss: 5356.343\n",
      "\n",
      "Inferring ...\n",
      "Subset: 0, modalities ['rna']: test size: 100055\n",
      "Processing subset 0: ['rna']\n"
     ]
    },
    {
     "name": "stderr",
     "output_type": "stream",
     "text": [
      "/root/anaconda3/lib/python3.7/site-packages/torch/utils/data/dataloader.py:560: UserWarning: This DataLoader will create 64 worker processes in total. Our suggested max number of worker in current system is 32, which is smaller than what this DataLoader is going to create. Please be aware that excessive worker creation might get DataLoader running slow or even freeze, lower the worker number to avoid potential slowness/freeze if necessary.\n",
      "  cpuset_checked))\n"
     ]
    },
    {
     "name": "stdout",
     "output_type": "stream",
     "text": [
      "Epoch: 564/600, train loss: 5357.082\n",
      "\n",
      "Inferring ...\n",
      "Subset: 0, modalities ['rna']: test size: 100055\n",
      "Processing subset 0: ['rna']\n"
     ]
    },
    {
     "name": "stderr",
     "output_type": "stream",
     "text": [
      "/root/anaconda3/lib/python3.7/site-packages/torch/utils/data/dataloader.py:560: UserWarning: This DataLoader will create 64 worker processes in total. Our suggested max number of worker in current system is 32, which is smaller than what this DataLoader is going to create. Please be aware that excessive worker creation might get DataLoader running slow or even freeze, lower the worker number to avoid potential slowness/freeze if necessary.\n",
      "  cpuset_checked))\n"
     ]
    },
    {
     "name": "stdout",
     "output_type": "stream",
     "text": [
      "Epoch: 565/600, train loss: 5355.981\n",
      "\n",
      "Inferring ...\n",
      "Subset: 0, modalities ['rna']: test size: 100055\n",
      "Processing subset 0: ['rna']\n"
     ]
    },
    {
     "name": "stderr",
     "output_type": "stream",
     "text": [
      "/root/anaconda3/lib/python3.7/site-packages/torch/utils/data/dataloader.py:560: UserWarning: This DataLoader will create 64 worker processes in total. Our suggested max number of worker in current system is 32, which is smaller than what this DataLoader is going to create. Please be aware that excessive worker creation might get DataLoader running slow or even freeze, lower the worker number to avoid potential slowness/freeze if necessary.\n",
      "  cpuset_checked))\n"
     ]
    },
    {
     "name": "stdout",
     "output_type": "stream",
     "text": [
      "Epoch: 566/600, train loss: 5356.694\n",
      "\n",
      "Inferring ...\n",
      "Subset: 0, modalities ['rna']: test size: 100055\n",
      "Processing subset 0: ['rna']\n"
     ]
    },
    {
     "name": "stderr",
     "output_type": "stream",
     "text": [
      "/root/anaconda3/lib/python3.7/site-packages/torch/utils/data/dataloader.py:560: UserWarning: This DataLoader will create 64 worker processes in total. Our suggested max number of worker in current system is 32, which is smaller than what this DataLoader is going to create. Please be aware that excessive worker creation might get DataLoader running slow or even freeze, lower the worker number to avoid potential slowness/freeze if necessary.\n",
      "  cpuset_checked))\n"
     ]
    },
    {
     "name": "stdout",
     "output_type": "stream",
     "text": [
      "Epoch: 567/600, train loss: 5356.294\n",
      "\n",
      "Inferring ...\n",
      "Subset: 0, modalities ['rna']: test size: 100055\n",
      "Processing subset 0: ['rna']\n"
     ]
    },
    {
     "name": "stderr",
     "output_type": "stream",
     "text": [
      "/root/anaconda3/lib/python3.7/site-packages/torch/utils/data/dataloader.py:560: UserWarning: This DataLoader will create 64 worker processes in total. Our suggested max number of worker in current system is 32, which is smaller than what this DataLoader is going to create. Please be aware that excessive worker creation might get DataLoader running slow or even freeze, lower the worker number to avoid potential slowness/freeze if necessary.\n",
      "  cpuset_checked))\n"
     ]
    },
    {
     "name": "stdout",
     "output_type": "stream",
     "text": [
      "Epoch: 568/600, train loss: 5356.162\n",
      "\n",
      "Inferring ...\n",
      "Subset: 0, modalities ['rna']: test size: 100055\n",
      "Processing subset 0: ['rna']\n"
     ]
    },
    {
     "name": "stderr",
     "output_type": "stream",
     "text": [
      "/root/anaconda3/lib/python3.7/site-packages/torch/utils/data/dataloader.py:560: UserWarning: This DataLoader will create 64 worker processes in total. Our suggested max number of worker in current system is 32, which is smaller than what this DataLoader is going to create. Please be aware that excessive worker creation might get DataLoader running slow or even freeze, lower the worker number to avoid potential slowness/freeze if necessary.\n",
      "  cpuset_checked))\n"
     ]
    },
    {
     "name": "stdout",
     "output_type": "stream",
     "text": [
      "Epoch: 569/600, train loss: 5356.950\n",
      "\n",
      "Inferring ...\n",
      "Subset: 0, modalities ['rna']: test size: 100055\n",
      "Processing subset 0: ['rna']\n"
     ]
    },
    {
     "name": "stderr",
     "output_type": "stream",
     "text": [
      "/root/anaconda3/lib/python3.7/site-packages/torch/utils/data/dataloader.py:560: UserWarning: This DataLoader will create 64 worker processes in total. Our suggested max number of worker in current system is 32, which is smaller than what this DataLoader is going to create. Please be aware that excessive worker creation might get DataLoader running slow or even freeze, lower the worker number to avoid potential slowness/freeze if necessary.\n",
      "  cpuset_checked))\n"
     ]
    },
    {
     "name": "stdout",
     "output_type": "stream",
     "text": [
      "Epoch: 570/600, train loss: 5356.705\n",
      "\n",
      "Inferring ...\n",
      "Subset: 0, modalities ['rna']: test size: 100055\n",
      "Processing subset 0: ['rna']\n"
     ]
    },
    {
     "name": "stderr",
     "output_type": "stream",
     "text": [
      "/root/anaconda3/lib/python3.7/site-packages/torch/utils/data/dataloader.py:560: UserWarning: This DataLoader will create 64 worker processes in total. Our suggested max number of worker in current system is 32, which is smaller than what this DataLoader is going to create. Please be aware that excessive worker creation might get DataLoader running slow or even freeze, lower the worker number to avoid potential slowness/freeze if necessary.\n",
      "  cpuset_checked))\n"
     ]
    },
    {
     "name": "stdout",
     "output_type": "stream",
     "text": [
      "Epoch: 571/600, train loss: 5355.906\n",
      "\n",
      "Inferring ...\n",
      "Subset: 0, modalities ['rna']: test size: 100055\n",
      "Processing subset 0: ['rna']\n"
     ]
    },
    {
     "name": "stderr",
     "output_type": "stream",
     "text": [
      "/root/anaconda3/lib/python3.7/site-packages/torch/utils/data/dataloader.py:560: UserWarning: This DataLoader will create 64 worker processes in total. Our suggested max number of worker in current system is 32, which is smaller than what this DataLoader is going to create. Please be aware that excessive worker creation might get DataLoader running slow or even freeze, lower the worker number to avoid potential slowness/freeze if necessary.\n",
      "  cpuset_checked))\n"
     ]
    },
    {
     "name": "stdout",
     "output_type": "stream",
     "text": [
      "Epoch: 572/600, train loss: 5355.995\n",
      "\n",
      "Inferring ...\n",
      "Subset: 0, modalities ['rna']: test size: 100055\n",
      "Processing subset 0: ['rna']\n"
     ]
    },
    {
     "name": "stderr",
     "output_type": "stream",
     "text": [
      "/root/anaconda3/lib/python3.7/site-packages/torch/utils/data/dataloader.py:560: UserWarning: This DataLoader will create 64 worker processes in total. Our suggested max number of worker in current system is 32, which is smaller than what this DataLoader is going to create. Please be aware that excessive worker creation might get DataLoader running slow or even freeze, lower the worker number to avoid potential slowness/freeze if necessary.\n",
      "  cpuset_checked))\n"
     ]
    },
    {
     "name": "stdout",
     "output_type": "stream",
     "text": [
      "Epoch: 573/600, train loss: 5356.223\n",
      "\n",
      "Inferring ...\n",
      "Subset: 0, modalities ['rna']: test size: 100055\n",
      "Processing subset 0: ['rna']\n"
     ]
    },
    {
     "name": "stderr",
     "output_type": "stream",
     "text": [
      "/root/anaconda3/lib/python3.7/site-packages/torch/utils/data/dataloader.py:560: UserWarning: This DataLoader will create 64 worker processes in total. Our suggested max number of worker in current system is 32, which is smaller than what this DataLoader is going to create. Please be aware that excessive worker creation might get DataLoader running slow or even freeze, lower the worker number to avoid potential slowness/freeze if necessary.\n",
      "  cpuset_checked))\n"
     ]
    },
    {
     "name": "stdout",
     "output_type": "stream",
     "text": [
      "Epoch: 574/600, train loss: 5356.143\n",
      "\n",
      "Inferring ...\n",
      "Subset: 0, modalities ['rna']: test size: 100055\n",
      "Processing subset 0: ['rna']\n"
     ]
    },
    {
     "name": "stderr",
     "output_type": "stream",
     "text": [
      "/root/anaconda3/lib/python3.7/site-packages/torch/utils/data/dataloader.py:560: UserWarning: This DataLoader will create 64 worker processes in total. Our suggested max number of worker in current system is 32, which is smaller than what this DataLoader is going to create. Please be aware that excessive worker creation might get DataLoader running slow or even freeze, lower the worker number to avoid potential slowness/freeze if necessary.\n",
      "  cpuset_checked))\n"
     ]
    },
    {
     "name": "stdout",
     "output_type": "stream",
     "text": [
      "Epoch: 575/600, train loss: 5356.342\n",
      "\n",
      "Inferring ...\n",
      "Subset: 0, modalities ['rna']: test size: 100055\n",
      "Processing subset 0: ['rna']\n"
     ]
    },
    {
     "name": "stderr",
     "output_type": "stream",
     "text": [
      "/root/anaconda3/lib/python3.7/site-packages/torch/utils/data/dataloader.py:560: UserWarning: This DataLoader will create 64 worker processes in total. Our suggested max number of worker in current system is 32, which is smaller than what this DataLoader is going to create. Please be aware that excessive worker creation might get DataLoader running slow or even freeze, lower the worker number to avoid potential slowness/freeze if necessary.\n",
      "  cpuset_checked))\n"
     ]
    },
    {
     "name": "stdout",
     "output_type": "stream",
     "text": [
      "Epoch: 576/600, train loss: 5355.978\n",
      "\n",
      "Inferring ...\n",
      "Subset: 0, modalities ['rna']: test size: 100055\n",
      "Processing subset 0: ['rna']\n"
     ]
    },
    {
     "name": "stderr",
     "output_type": "stream",
     "text": [
      "/root/anaconda3/lib/python3.7/site-packages/torch/utils/data/dataloader.py:560: UserWarning: This DataLoader will create 64 worker processes in total. Our suggested max number of worker in current system is 32, which is smaller than what this DataLoader is going to create. Please be aware that excessive worker creation might get DataLoader running slow or even freeze, lower the worker number to avoid potential slowness/freeze if necessary.\n",
      "  cpuset_checked))\n"
     ]
    },
    {
     "name": "stdout",
     "output_type": "stream",
     "text": [
      "Epoch: 577/600, train loss: 5356.345\n",
      "\n",
      "Inferring ...\n",
      "Subset: 0, modalities ['rna']: test size: 100055\n",
      "Processing subset 0: ['rna']\n"
     ]
    },
    {
     "name": "stderr",
     "output_type": "stream",
     "text": [
      "/root/anaconda3/lib/python3.7/site-packages/torch/utils/data/dataloader.py:560: UserWarning: This DataLoader will create 64 worker processes in total. Our suggested max number of worker in current system is 32, which is smaller than what this DataLoader is going to create. Please be aware that excessive worker creation might get DataLoader running slow or even freeze, lower the worker number to avoid potential slowness/freeze if necessary.\n",
      "  cpuset_checked))\n"
     ]
    },
    {
     "name": "stdout",
     "output_type": "stream",
     "text": [
      "Epoch: 578/600, train loss: 5355.758\n",
      "\n",
      "Inferring ...\n",
      "Subset: 0, modalities ['rna']: test size: 100055\n",
      "Processing subset 0: ['rna']\n"
     ]
    },
    {
     "name": "stderr",
     "output_type": "stream",
     "text": [
      "/root/anaconda3/lib/python3.7/site-packages/torch/utils/data/dataloader.py:560: UserWarning: This DataLoader will create 64 worker processes in total. Our suggested max number of worker in current system is 32, which is smaller than what this DataLoader is going to create. Please be aware that excessive worker creation might get DataLoader running slow or even freeze, lower the worker number to avoid potential slowness/freeze if necessary.\n",
      "  cpuset_checked))\n"
     ]
    },
    {
     "name": "stdout",
     "output_type": "stream",
     "text": [
      "Epoch: 579/600, train loss: 5356.545\n",
      "\n",
      "Inferring ...\n",
      "Subset: 0, modalities ['rna']: test size: 100055\n",
      "Processing subset 0: ['rna']\n"
     ]
    },
    {
     "name": "stderr",
     "output_type": "stream",
     "text": [
      "/root/anaconda3/lib/python3.7/site-packages/torch/utils/data/dataloader.py:560: UserWarning: This DataLoader will create 64 worker processes in total. Our suggested max number of worker in current system is 32, which is smaller than what this DataLoader is going to create. Please be aware that excessive worker creation might get DataLoader running slow or even freeze, lower the worker number to avoid potential slowness/freeze if necessary.\n",
      "  cpuset_checked))\n"
     ]
    },
    {
     "name": "stdout",
     "output_type": "stream",
     "text": [
      "Epoch: 580/600, train loss: 5356.221\n",
      "\n",
      "Inferring ...\n",
      "Subset: 0, modalities ['rna']: test size: 100055\n",
      "Processing subset 0: ['rna']\n"
     ]
    },
    {
     "name": "stderr",
     "output_type": "stream",
     "text": [
      "/root/anaconda3/lib/python3.7/site-packages/torch/utils/data/dataloader.py:560: UserWarning: This DataLoader will create 64 worker processes in total. Our suggested max number of worker in current system is 32, which is smaller than what this DataLoader is going to create. Please be aware that excessive worker creation might get DataLoader running slow or even freeze, lower the worker number to avoid potential slowness/freeze if necessary.\n",
      "  cpuset_checked))\n"
     ]
    },
    {
     "name": "stdout",
     "output_type": "stream",
     "text": [
      "Epoch: 581/600, train loss: 5355.657\n",
      "\n",
      "Inferring ...\n",
      "Subset: 0, modalities ['rna']: test size: 100055\n",
      "Processing subset 0: ['rna']\n"
     ]
    },
    {
     "name": "stderr",
     "output_type": "stream",
     "text": [
      "/root/anaconda3/lib/python3.7/site-packages/torch/utils/data/dataloader.py:560: UserWarning: This DataLoader will create 64 worker processes in total. Our suggested max number of worker in current system is 32, which is smaller than what this DataLoader is going to create. Please be aware that excessive worker creation might get DataLoader running slow or even freeze, lower the worker number to avoid potential slowness/freeze if necessary.\n",
      "  cpuset_checked))\n"
     ]
    },
    {
     "name": "stdout",
     "output_type": "stream",
     "text": [
      "Epoch: 582/600, train loss: 5355.658\n",
      "\n",
      "Inferring ...\n",
      "Subset: 0, modalities ['rna']: test size: 100055\n",
      "Processing subset 0: ['rna']\n"
     ]
    },
    {
     "name": "stderr",
     "output_type": "stream",
     "text": [
      "/root/anaconda3/lib/python3.7/site-packages/torch/utils/data/dataloader.py:560: UserWarning: This DataLoader will create 64 worker processes in total. Our suggested max number of worker in current system is 32, which is smaller than what this DataLoader is going to create. Please be aware that excessive worker creation might get DataLoader running slow or even freeze, lower the worker number to avoid potential slowness/freeze if necessary.\n",
      "  cpuset_checked))\n"
     ]
    },
    {
     "name": "stdout",
     "output_type": "stream",
     "text": [
      "Epoch: 583/600, train loss: 5357.158\n",
      "\n",
      "Inferring ...\n",
      "Subset: 0, modalities ['rna']: test size: 100055\n",
      "Processing subset 0: ['rna']\n"
     ]
    },
    {
     "name": "stderr",
     "output_type": "stream",
     "text": [
      "/root/anaconda3/lib/python3.7/site-packages/torch/utils/data/dataloader.py:560: UserWarning: This DataLoader will create 64 worker processes in total. Our suggested max number of worker in current system is 32, which is smaller than what this DataLoader is going to create. Please be aware that excessive worker creation might get DataLoader running slow or even freeze, lower the worker number to avoid potential slowness/freeze if necessary.\n",
      "  cpuset_checked))\n"
     ]
    },
    {
     "name": "stdout",
     "output_type": "stream",
     "text": [
      "Epoch: 584/600, train loss: 5355.399\n",
      "\n",
      "Inferring ...\n",
      "Subset: 0, modalities ['rna']: test size: 100055\n",
      "Processing subset 0: ['rna']\n"
     ]
    },
    {
     "name": "stderr",
     "output_type": "stream",
     "text": [
      "/root/anaconda3/lib/python3.7/site-packages/torch/utils/data/dataloader.py:560: UserWarning: This DataLoader will create 64 worker processes in total. Our suggested max number of worker in current system is 32, which is smaller than what this DataLoader is going to create. Please be aware that excessive worker creation might get DataLoader running slow or even freeze, lower the worker number to avoid potential slowness/freeze if necessary.\n",
      "  cpuset_checked))\n"
     ]
    },
    {
     "name": "stdout",
     "output_type": "stream",
     "text": [
      "Epoch: 585/600, train loss: 5355.257\n",
      "\n",
      "Inferring ...\n",
      "Subset: 0, modalities ['rna']: test size: 100055\n",
      "Processing subset 0: ['rna']\n"
     ]
    },
    {
     "name": "stderr",
     "output_type": "stream",
     "text": [
      "/root/anaconda3/lib/python3.7/site-packages/torch/utils/data/dataloader.py:560: UserWarning: This DataLoader will create 64 worker processes in total. Our suggested max number of worker in current system is 32, which is smaller than what this DataLoader is going to create. Please be aware that excessive worker creation might get DataLoader running slow or even freeze, lower the worker number to avoid potential slowness/freeze if necessary.\n",
      "  cpuset_checked))\n"
     ]
    },
    {
     "name": "stdout",
     "output_type": "stream",
     "text": [
      "Epoch: 586/600, train loss: 5355.456\n",
      "\n",
      "Inferring ...\n",
      "Subset: 0, modalities ['rna']: test size: 100055\n",
      "Processing subset 0: ['rna']\n"
     ]
    },
    {
     "name": "stderr",
     "output_type": "stream",
     "text": [
      "/root/anaconda3/lib/python3.7/site-packages/torch/utils/data/dataloader.py:560: UserWarning: This DataLoader will create 64 worker processes in total. Our suggested max number of worker in current system is 32, which is smaller than what this DataLoader is going to create. Please be aware that excessive worker creation might get DataLoader running slow or even freeze, lower the worker number to avoid potential slowness/freeze if necessary.\n",
      "  cpuset_checked))\n"
     ]
    },
    {
     "name": "stdout",
     "output_type": "stream",
     "text": [
      "Epoch: 587/600, train loss: 5356.036\n",
      "\n",
      "Inferring ...\n",
      "Subset: 0, modalities ['rna']: test size: 100055\n",
      "Processing subset 0: ['rna']\n"
     ]
    },
    {
     "name": "stderr",
     "output_type": "stream",
     "text": [
      "/root/anaconda3/lib/python3.7/site-packages/torch/utils/data/dataloader.py:560: UserWarning: This DataLoader will create 64 worker processes in total. Our suggested max number of worker in current system is 32, which is smaller than what this DataLoader is going to create. Please be aware that excessive worker creation might get DataLoader running slow or even freeze, lower the worker number to avoid potential slowness/freeze if necessary.\n",
      "  cpuset_checked))\n"
     ]
    },
    {
     "name": "stdout",
     "output_type": "stream",
     "text": [
      "Epoch: 588/600, train loss: 5355.989\n",
      "\n",
      "Inferring ...\n",
      "Subset: 0, modalities ['rna']: test size: 100055\n",
      "Processing subset 0: ['rna']\n"
     ]
    },
    {
     "name": "stderr",
     "output_type": "stream",
     "text": [
      "/root/anaconda3/lib/python3.7/site-packages/torch/utils/data/dataloader.py:560: UserWarning: This DataLoader will create 64 worker processes in total. Our suggested max number of worker in current system is 32, which is smaller than what this DataLoader is going to create. Please be aware that excessive worker creation might get DataLoader running slow or even freeze, lower the worker number to avoid potential slowness/freeze if necessary.\n",
      "  cpuset_checked))\n"
     ]
    },
    {
     "name": "stdout",
     "output_type": "stream",
     "text": [
      "Epoch: 589/600, train loss: 5356.060\n",
      "\n",
      "Inferring ...\n",
      "Subset: 0, modalities ['rna']: test size: 100055\n",
      "Processing subset 0: ['rna']\n"
     ]
    },
    {
     "name": "stderr",
     "output_type": "stream",
     "text": [
      "/root/anaconda3/lib/python3.7/site-packages/torch/utils/data/dataloader.py:560: UserWarning: This DataLoader will create 64 worker processes in total. Our suggested max number of worker in current system is 32, which is smaller than what this DataLoader is going to create. Please be aware that excessive worker creation might get DataLoader running slow or even freeze, lower the worker number to avoid potential slowness/freeze if necessary.\n",
      "  cpuset_checked))\n"
     ]
    },
    {
     "name": "stdout",
     "output_type": "stream",
     "text": [
      "Epoch: 590/600, train loss: 5355.355\n",
      "\n",
      "Inferring ...\n",
      "Subset: 0, modalities ['rna']: test size: 100055\n",
      "Processing subset 0: ['rna']\n"
     ]
    },
    {
     "name": "stderr",
     "output_type": "stream",
     "text": [
      "/root/anaconda3/lib/python3.7/site-packages/torch/utils/data/dataloader.py:560: UserWarning: This DataLoader will create 64 worker processes in total. Our suggested max number of worker in current system is 32, which is smaller than what this DataLoader is going to create. Please be aware that excessive worker creation might get DataLoader running slow or even freeze, lower the worker number to avoid potential slowness/freeze if necessary.\n",
      "  cpuset_checked))\n"
     ]
    },
    {
     "name": "stdout",
     "output_type": "stream",
     "text": [
      "Epoch: 591/600, train loss: 5355.528\n",
      "\n",
      "Inferring ...\n",
      "Subset: 0, modalities ['rna']: test size: 100055\n",
      "Processing subset 0: ['rna']\n"
     ]
    },
    {
     "name": "stderr",
     "output_type": "stream",
     "text": [
      "/root/anaconda3/lib/python3.7/site-packages/torch/utils/data/dataloader.py:560: UserWarning: This DataLoader will create 64 worker processes in total. Our suggested max number of worker in current system is 32, which is smaller than what this DataLoader is going to create. Please be aware that excessive worker creation might get DataLoader running slow or even freeze, lower the worker number to avoid potential slowness/freeze if necessary.\n",
      "  cpuset_checked))\n"
     ]
    },
    {
     "name": "stdout",
     "output_type": "stream",
     "text": [
      "Epoch: 592/600, train loss: 5355.367\n",
      "\n",
      "Inferring ...\n",
      "Subset: 0, modalities ['rna']: test size: 100055\n",
      "Processing subset 0: ['rna']\n"
     ]
    },
    {
     "name": "stderr",
     "output_type": "stream",
     "text": [
      "/root/anaconda3/lib/python3.7/site-packages/torch/utils/data/dataloader.py:560: UserWarning: This DataLoader will create 64 worker processes in total. Our suggested max number of worker in current system is 32, which is smaller than what this DataLoader is going to create. Please be aware that excessive worker creation might get DataLoader running slow or even freeze, lower the worker number to avoid potential slowness/freeze if necessary.\n",
      "  cpuset_checked))\n"
     ]
    },
    {
     "name": "stdout",
     "output_type": "stream",
     "text": [
      "Epoch: 593/600, train loss: 5355.130\n",
      "\n",
      "Inferring ...\n",
      "Subset: 0, modalities ['rna']: test size: 100055\n",
      "Processing subset 0: ['rna']\n"
     ]
    },
    {
     "name": "stderr",
     "output_type": "stream",
     "text": [
      "/root/anaconda3/lib/python3.7/site-packages/torch/utils/data/dataloader.py:560: UserWarning: This DataLoader will create 64 worker processes in total. Our suggested max number of worker in current system is 32, which is smaller than what this DataLoader is going to create. Please be aware that excessive worker creation might get DataLoader running slow or even freeze, lower the worker number to avoid potential slowness/freeze if necessary.\n",
      "  cpuset_checked))\n"
     ]
    },
    {
     "name": "stdout",
     "output_type": "stream",
     "text": [
      "Epoch: 594/600, train loss: 5355.592\n",
      "\n",
      "Inferring ...\n",
      "Subset: 0, modalities ['rna']: test size: 100055\n",
      "Processing subset 0: ['rna']\n"
     ]
    },
    {
     "name": "stderr",
     "output_type": "stream",
     "text": [
      "/root/anaconda3/lib/python3.7/site-packages/torch/utils/data/dataloader.py:560: UserWarning: This DataLoader will create 64 worker processes in total. Our suggested max number of worker in current system is 32, which is smaller than what this DataLoader is going to create. Please be aware that excessive worker creation might get DataLoader running slow or even freeze, lower the worker number to avoid potential slowness/freeze if necessary.\n",
      "  cpuset_checked))\n"
     ]
    },
    {
     "name": "stdout",
     "output_type": "stream",
     "text": [
      "Epoch: 595/600, train loss: 5354.871\n",
      "\n",
      "Inferring ...\n",
      "Subset: 0, modalities ['rna']: test size: 100055\n",
      "Processing subset 0: ['rna']\n"
     ]
    },
    {
     "name": "stderr",
     "output_type": "stream",
     "text": [
      "/root/anaconda3/lib/python3.7/site-packages/torch/utils/data/dataloader.py:560: UserWarning: This DataLoader will create 64 worker processes in total. Our suggested max number of worker in current system is 32, which is smaller than what this DataLoader is going to create. Please be aware that excessive worker creation might get DataLoader running slow or even freeze, lower the worker number to avoid potential slowness/freeze if necessary.\n",
      "  cpuset_checked))\n"
     ]
    },
    {
     "name": "stdout",
     "output_type": "stream",
     "text": [
      "Epoch: 596/600, train loss: 5354.884\n",
      "\n",
      "Inferring ...\n",
      "Subset: 0, modalities ['rna']: test size: 100055\n",
      "Processing subset 0: ['rna']\n"
     ]
    },
    {
     "name": "stderr",
     "output_type": "stream",
     "text": [
      "/root/anaconda3/lib/python3.7/site-packages/torch/utils/data/dataloader.py:560: UserWarning: This DataLoader will create 64 worker processes in total. Our suggested max number of worker in current system is 32, which is smaller than what this DataLoader is going to create. Please be aware that excessive worker creation might get DataLoader running slow or even freeze, lower the worker number to avoid potential slowness/freeze if necessary.\n",
      "  cpuset_checked))\n"
     ]
    },
    {
     "name": "stdout",
     "output_type": "stream",
     "text": [
      "Epoch: 597/600, train loss: 5354.994\n",
      "\n",
      "Inferring ...\n",
      "Subset: 0, modalities ['rna']: test size: 100055\n",
      "Processing subset 0: ['rna']\n"
     ]
    },
    {
     "name": "stderr",
     "output_type": "stream",
     "text": [
      "/root/anaconda3/lib/python3.7/site-packages/torch/utils/data/dataloader.py:560: UserWarning: This DataLoader will create 64 worker processes in total. Our suggested max number of worker in current system is 32, which is smaller than what this DataLoader is going to create. Please be aware that excessive worker creation might get DataLoader running slow or even freeze, lower the worker number to avoid potential slowness/freeze if necessary.\n",
      "  cpuset_checked))\n"
     ]
    },
    {
     "name": "stdout",
     "output_type": "stream",
     "text": [
      "Epoch: 598/600, train loss: 5355.022\n",
      "\n",
      "Inferring ...\n",
      "Subset: 0, modalities ['rna']: test size: 100055\n",
      "Processing subset 0: ['rna']\n"
     ]
    },
    {
     "name": "stderr",
     "output_type": "stream",
     "text": [
      "/root/anaconda3/lib/python3.7/site-packages/torch/utils/data/dataloader.py:560: UserWarning: This DataLoader will create 64 worker processes in total. Our suggested max number of worker in current system is 32, which is smaller than what this DataLoader is going to create. Please be aware that excessive worker creation might get DataLoader running slow or even freeze, lower the worker number to avoid potential slowness/freeze if necessary.\n",
      "  cpuset_checked))\n"
     ]
    },
    {
     "name": "stdout",
     "output_type": "stream",
     "text": [
      "Epoch: 599/600, train loss: 5355.467\n",
      "\n",
      "Inferring ...\n",
      "Subset: 0, modalities ['rna']: test size: 100055\n",
      "Processing subset 0: ['rna']\n"
     ]
    },
    {
     "name": "stderr",
     "output_type": "stream",
     "text": [
      "/root/anaconda3/lib/python3.7/site-packages/torch/utils/data/dataloader.py:560: UserWarning: This DataLoader will create 64 worker processes in total. Our suggested max number of worker in current system is 32, which is smaller than what this DataLoader is going to create. Please be aware that excessive worker creation might get DataLoader running slow or even freeze, lower the worker number to avoid potential slowness/freeze if necessary.\n",
      "  cpuset_checked))\n"
     ]
    },
    {
     "name": "stdout",
     "output_type": "stream",
     "text": [
      "Epoch: 600/600, train loss: 5355.109\n",
      "\n",
      "Inferring ...\n",
      "Subset: 0, modalities ['rna']: test size: 100055\n",
      "Processing subset 0: ['rna']\n"
     ]
    }
   ],
   "source": [
    "initialize()\n",
    "# if o.action == \"print_model\":\n",
    "print_model() ##\n",
    "# elif o.action == \"train\":\n",
    "train() #"
   ]
  },
  {
   "cell_type": "code",
   "execution_count": 33,
   "metadata": {},
   "outputs": [
    {
     "name": "stdout",
     "output_type": "stream",
     "text": [
      "Inferring ...\n"
     ]
    },
    {
     "name": "stderr",
     "output_type": "stream",
     "text": [
      "/root/anaconda3/lib/python3.7/site-packages/torch/utils/data/dataloader.py:560: UserWarning: This DataLoader will create 64 worker processes in total. Our suggested max number of worker in current system is 32, which is smaller than what this DataLoader is going to create. Please be aware that excessive worker creation might get DataLoader running slow or even freeze, lower the worker number to avoid potential slowness/freeze if necessary.\n",
      "  cpuset_checked))\n"
     ]
    },
    {
     "name": "stdout",
     "output_type": "stream",
     "text": [
      "Subset: 0, modalities ['rna']: test size: 100055\n",
      "Processing subset 0: ['rna']\n",
      "Removing directory \"result/Orozco/e0/default/represent/subset_0/z/joint\"\n",
      "Removing directory \"result/Orozco/e0/default/represent/subset_0/z/rna\"\n",
      "Removing directory \"result/Orozco/e0/default/represent/subset_0/x_r_pre/rna\"\n",
      "Removing directory \"result/Orozco/e0/default/represent/subset_0/x/rna\"\n"
     ]
    },
    {
     "name": "stderr",
     "output_type": "stream",
     "text": [
      "100%|██████████| 196/196 [05:20<00:00,  1.63s/it]\n"
     ]
    },
    {
     "name": "stdout",
     "output_type": "stream",
     "text": [
      "ari: 0.9409280244437133\n",
      "nmi: 0.8198413412727857\n",
      "sc: 0.6658855229616165\n"
     ]
    }
   ],
   "source": [
    "infer_latent(only_joint=False, impute=False, save_input=True)###\n"
   ]
  },
  {
   "cell_type": "code",
   "execution_count": null,
   "metadata": {},
   "outputs": [],
   "source": []
  }
 ],
 "metadata": {
  "kernelspec": {
   "display_name": "base",
   "language": "python",
   "name": "python3"
  },
  "language_info": {
   "codemirror_mode": {
    "name": "ipython",
    "version": 3
   },
   "file_extension": ".py",
   "mimetype": "text/x-python",
   "name": "python",
   "nbconvert_exporter": "python",
   "pygments_lexer": "ipython3",
   "version": "3.7.11"
  },
  "orig_nbformat": 4
 },
 "nbformat": 4,
 "nbformat_minor": 2
}
