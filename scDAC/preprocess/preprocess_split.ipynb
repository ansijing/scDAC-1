{
 "cells": [
  {
   "cell_type": "code",
   "execution_count": 1,
   "metadata": {},
   "outputs": [],
   "source": [
    "import os\n",
    "os.chdir(\"/scDAC-main/scDAC\")\n",
    "import os.path as path\n",
    "from os.path import join as pj\n",
    "import argparse\n",
    "import sys\n",
    "sys.path.append(\"modules\")\n",
    "from modules import utils\n",
    "import csv\n",
    "import math\n",
    "from glob import glob\n",
    "from tqdm import tqdm"
   ]
  },
  {
   "cell_type": "code",
   "execution_count": null,
   "metadata": {},
   "outputs": [],
   "source": [
    "mat = utils.load_csv('./data/processed/Orozco/subset_0/mat/rna.csv')\n",
    "cell_num = len(mat) - 1\n",
    "feat_num = len(mat[0]) - 1\n",
    "print(\"Spliting: %d cells, %d features\" % (cell_num, feat_num))\n",
    "base_dir = '/scDAC-main/scDAC/data/Orozco/vec/rna'\n",
    "utils.mkdirs(base_dir, remove_old=True)\n",
    "vec_name_fmt = utils.get_name_fmt(cell_num) + \".csv\"\n",
    "vec_name_fmt = pj(base_dir, vec_name_fmt)\n",
    "for cell_id in tqdm(range(cell_num)):\n",
    "    vec_name = vec_name_fmt % cell_id\n",
    "    utils.save_list_to_csv([mat[cell_id+1][1:]], vec_name)"
   ]
  },
  {
   "cell_type": "code",
   "execution_count": null,
   "metadata": {},
   "outputs": [],
   "source": []
  },
  {
   "cell_type": "code",
   "execution_count": null,
   "metadata": {},
   "outputs": [],
   "source": []
  }
 ],
 "metadata": {
  "kernelspec": {
   "display_name": "base",
   "language": "python",
   "name": "python3"
  },
  "language_info": {
   "codemirror_mode": {
    "name": "ipython",
    "version": 3
   },
   "file_extension": ".py",
   "mimetype": "text/x-python",
   "name": "python",
   "nbconvert_exporter": "python",
   "pygments_lexer": "ipython3",
   "version": "3.7.11"
  },
  "orig_nbformat": 4,
  "vscode": {
   "interpreter": {
    "hash": "61a57a4b5406d2de388e2f91097d4e4bcd7d5f4a46f53a795aa28a02eed27fc5"
   }
  }
 },
 "nbformat": 4,
 "nbformat_minor": 2
}
