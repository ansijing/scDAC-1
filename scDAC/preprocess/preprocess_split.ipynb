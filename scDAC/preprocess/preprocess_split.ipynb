{
 "cells": [
  {
   "attachments": {},
   "cell_type": "markdown",
   "metadata": {},
   "source": [
    "# split the expression matrix for the input"
   ]
  },
  {
   "cell_type": "code",
   "execution_count": 1,
   "metadata": {},
   "outputs": [],
   "source": [
    "import os\n",
    "import os.path as path\n",
    "from os.path import join as pj\n",
    "import argparse\n",
    "import sys\n",
    "sys.path.append(\"modules\")\n",
    "from modules import utils\n",
    "import csv\n",
    "import math\n",
    "from glob import glob\n",
    "from tqdm import tqdm"
   ]
  },
  {
   "attachments": {},
   "cell_type": "markdown",
   "metadata": {},
   "source": [
    "Slyoer"
   ]
  },
  {
   "cell_type": "code",
   "execution_count": 2,
   "metadata": {},
   "outputs": [
    {
     "name": "stdout",
     "output_type": "stream",
     "text": [
      "Spliting: 8204 cells, 4000 features\n",
      "Removing directory \"/root/data/asj/2023/0507/scDAC/data/v1\"\n"
     ]
    },
    {
     "name": "stderr",
     "output_type": "stream",
     "text": [
      "100%|██████████| 8204/8204 [01:47<00:00, 76.19it/s] \n"
     ]
    }
   ],
   "source": [
    "mat = utils.load_csv('.data/mat/features_count_har.csv')\n",
    "cell_num = len(mat) - 1\n",
    "feat_num = len(mat[0]) - 1\n",
    "print(\"Spliting: %d cells, %d features\" % (cell_num, feat_num))\n",
    "base_dir = './data/chen_10/subset_0/vec'\n",
    "utils.mkdirs(base_dir, remove_old=True)\n",
    "vec_name_fmt = utils.get_name_fmt(cell_num) + \".csv\"\n",
    "vec_name_fmt = pj(base_dir, vec_name_fmt)\n",
    "for cell_id in tqdm(range(cell_num)):\n",
    "    vec_name = vec_name_fmt % cell_id\n",
    "    utils.save_list_to_csv([mat[cell_id+1][1:]], vec_name)"
   ]
  }
 ],
 "metadata": {
  "kernelspec": {
   "display_name": "base",
   "language": "python",
   "name": "python3"
  },
  "language_info": {
   "codemirror_mode": {
    "name": "ipython",
    "version": 3
   },
   "file_extension": ".py",
   "mimetype": "text/x-python",
   "name": "python",
   "nbconvert_exporter": "python",
   "pygments_lexer": "ipython3",
   "version": "3.7.11"
  },
  "orig_nbformat": 4,
  "vscode": {
   "interpreter": {
    "hash": "61a57a4b5406d2de388e2f91097d4e4bcd7d5f4a46f53a795aa28a02eed27fc5"
   }
  }
 },
 "nbformat": 4,
 "nbformat_minor": 2
}
