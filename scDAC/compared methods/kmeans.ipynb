{
 "cells": [
  {
   "cell_type": "code",
   "execution_count": 2,
   "metadata": {},
   "outputs": [],
   "source": [
    "from os import path\n",
    "from os.path import join as pj #os.path 模块主要用于获取文件的属性。join:把目录和文件名合成一个路径\n",
    "import math\n",
    "import numpy as np\n",
    "import torch as th\n",
    "import pandas as pd\n",
    "import os\n",
    "from torch import nn, autograd #autograd：提供了类和函数用来对任意标量函数进行求导\n",
    "from sklearn.mixture import BayesianGaussianMixture\n",
    "from modules import models, utils\n",
    "from sklearn.metrics.cluster import adjusted_rand_score\n",
    "from sklearn.metrics.cluster import normalized_mutual_info_score\n",
    "from sklearn.metrics import silhouette_score\n",
    "from sklearn import metrics\n",
    "from numpy import *\n",
    "from sklearn.cluster import KMeans"
   ]
  },
  {
   "attachments": {},
   "cell_type": "markdown",
   "metadata": {},
   "source": [
    "# Baron"
   ]
  },
  {
   "cell_type": "code",
   "execution_count": 3,
   "metadata": {},
   "outputs": [],
   "source": [
    "path_z = '/scDAC-main/scDAC/result/baron_single/e0/default/represent/z.csv'\n",
    "z_list = utils.load_csv(path_z)\n",
    "z_np = np.array(z_list, dtype=np.float64)\n",
    "path_label = './data/b1/label_seurat/l1.csv'"
   ]
  },
  {
   "cell_type": "code",
   "execution_count": 4,
   "metadata": {},
   "outputs": [],
   "source": [
    "label_true = utils.load_csv(path_label)\n",
    "label_tlist = utils.transpose_list(label_true)[1][1:]"
   ]
  },
  {
   "cell_type": "code",
   "execution_count": 5,
   "metadata": {},
   "outputs": [],
   "source": [
    "kmeans = KMeans(n_clusters=14, random_state=0, n_init=100).fit(z_np)\n",
    "label_predict = kmeans.labels_\n",
    "label_pre_ten = th.Tensor(label_predict).unsqueeze(1)\n",
    "# utils.save_tensor_to_csv(label_pre_ten, filename = 'label_p.csv')\n",
    "utils.save_tensor_to_csv(label_pre_ten, \"/scDAC-main/scDAC/data/baron_single/label_KMEANSAE.csv\")\n",
    "label_true = np.array(label_tlist)"
   ]
  },
  {
   "cell_type": "code",
   "execution_count": null,
   "metadata": {},
   "outputs": [],
   "source": [
    "ariscore = adjusted_rand_score(label_predict, label_true) #AE\n",
    "nmiscore = normalized_mutual_info_score(label_predict, label_true)#AE\n",
    "scscore = silhouette_score(z_np, label_predict)#AE\n",
    "print(\"ariscore\",ariscore)\n",
    "print(\"nmscore\",nmiscore)\n",
    "print(\"scscore\",(1+scscore)/2)"
   ]
  },
  {
   "attachments": {},
   "cell_type": "markdown",
   "metadata": {},
   "source": [
    "# Orozco"
   ]
  },
  {
   "cell_type": "code",
   "execution_count": 7,
   "metadata": {},
   "outputs": [],
   "source": [
    "\n",
    "path_z = '/scDAC-main/scDAC/result/Orozco/e0/default/represent/z.csv'\n",
    "z_list = utils.load_csv(path_z)\n",
    "z_np = np.array(z_list, dtype=np.float64)\n",
    "path_label = './data/o1/label_seurat/label.csv'\n",
    "label_true = utils.load_csv(path_label)\n",
    "label_tlist = utils.transpose_list(label_true)[1][1:]\n",
    "kmeans = KMeans(n_clusters=11, random_state=0, n_init=100).fit(z_np)\n",
    "label_predict = kmeans.labels_\n",
    "label_pre_ten = th.Tensor(label_predict).unsqueeze(1)\n",
    "# utils.save_tensor_to_csv(label_pre_ten, filename = 'label_p.csv')\n",
    "utils.save_tensor_to_csv(label_pre_ten, \"./data/Orozco/label_KMEANSAE.csv\")\n",
    "label_true = np.array(label_tlist)"
   ]
  },
  {
   "cell_type": "code",
   "execution_count": 8,
   "metadata": {},
   "outputs": [
    {
     "name": "stdout",
     "output_type": "stream",
     "text": [
      "ariscore 0.8806030915132481\n",
      "nmscore 0.7951308232546263\n",
      "scscore 0.7595747438946954\n"
     ]
    }
   ],
   "source": [
    "\n",
    "ariscore = adjusted_rand_score(label_predict, label_true) #AE\n",
    "nmiscore = normalized_mutual_info_score(label_predict, label_true)#AE\n",
    "scscore = silhouette_score(z_np, label_predict)#AE\n",
    "print(\"ariscore\",ariscore)\n",
    "print(\"nmscore\",nmiscore)\n",
    "print(\"scscore\",(1+scscore)/2)"
   ]
  },
  {
   "attachments": {},
   "cell_type": "markdown",
   "metadata": {},
   "source": [
    "# Slyper"
   ]
  },
  {
   "cell_type": "code",
   "execution_count": 5,
   "metadata": {},
   "outputs": [],
   "source": [
    "path_z = '/scDAC-main/scDAC/result/Slyper/e0/default/represent/z.csv'\n",
    "z_list = utils.load_csv(path_z)\n",
    "z_np = np.array(z_list, dtype=np.float64)\n",
    "path_label = './data/s1/label_seurat/label.csv'\n",
    "label_true = utils.load_csv(path_label)\n",
    "label_tlist = utils.transpose_list(label_true)[1][1:]\n",
    "kmeans = KMeans(n_clusters=8, random_state=0, n_init=100).fit(z_np)\n",
    "label_predict = kmeans.labels_\n",
    "label_pre_ten = th.Tensor(label_predict).unsqueeze(1)\n",
    "# utils.save_tensor_to_csv(label_pre_ten, filename = 'label_p.csv')\n",
    "utils.save_tensor_to_csv(label_pre_ten, \"./data/Slyper/label_KMEANSAE.csv\")\n",
    "label_true = np.array(label_tlist)"
   ]
  },
  {
   "cell_type": "code",
   "execution_count": 6,
   "metadata": {},
   "outputs": [
    {
     "name": "stdout",
     "output_type": "stream",
     "text": [
      "ariscore 0.2689171950111419\n",
      "nmscore 0.5813173091204041\n",
      "scscore 0.551418103212854\n"
     ]
    }
   ],
   "source": [
    "ariscore = adjusted_rand_score(label_predict, label_true) #AE\n",
    "nmiscore = normalized_mutual_info_score(label_predict, label_true)#AE\n",
    "scscore = silhouette_score(z_np, label_predict)#AE\n",
    "print(\"ariscore\",ariscore)\n",
    "print(\"nmscore\",nmiscore)\n",
    "print(\"scscore\",(1+scscore)/2)"
   ]
  },
  {
   "attachments": {},
   "cell_type": "markdown",
   "metadata": {},
   "source": [
    "# Zilionis"
   ]
  },
  {
   "cell_type": "code",
   "execution_count": 7,
   "metadata": {},
   "outputs": [],
   "source": [
    "path_z = '/scDAC-main/scDAC/result/Zilionis/e0/default/represent/z.csv'\n",
    "z_list = utils.load_csv(path_z)\n",
    "z_np = np.array(z_list, dtype=np.float64)\n",
    "path_label = './data/z1/label_seurat/label.csv'\n",
    "label_true = utils.load_csv(path_label)\n",
    "label_tlist = utils.transpose_list(label_true)[1][1:]\n",
    "kmeans = KMeans(n_clusters=9, random_state=0, n_init=100).fit(z_np)\n",
    "label_predict = kmeans.labels_\n",
    "label_pre_ten = th.Tensor(label_predict).unsqueeze(1)\n",
    "# utils.save_tensor_to_csv(label_pre_ten, filename = 'label_p.csv')\n",
    "utils.save_tensor_to_csv(label_pre_ten, \"./data/Zilionis/label_KMEANSAE.csv\")\n",
    "label_true = np.array(label_tlist)"
   ]
  },
  {
   "cell_type": "code",
   "execution_count": 12,
   "metadata": {},
   "outputs": [
    {
     "name": "stdout",
     "output_type": "stream",
     "text": [
      "ariscore 0.7410097384400338\n",
      "nmscore 0.7629100424515276\n",
      "scscore 0.5485001421977274\n"
     ]
    }
   ],
   "source": [
    "ariscore = adjusted_rand_score(label_predict, label_true) #AE\n",
    "nmiscore = normalized_mutual_info_score(label_predict, label_true)#AE\n",
    "scscore = silhouette_score(z_np, label_predict)#AE\n",
    "print(\"ariscore\",ariscore)\n",
    "print(\"nmscore\",nmiscore)\n",
    "print(\"scscore\",(1+scscore)/2)"
   ]
  },
  {
   "attachments": {},
   "cell_type": "markdown",
   "metadata": {},
   "source": [
    "# kozareva"
   ]
  },
  {
   "cell_type": "code",
   "execution_count": 3,
   "metadata": {},
   "outputs": [],
   "source": [
    "path_z = '/scDAC-main/scDAC/result/Kozareva_total/e0/default/represent/z.csv'\n",
    "z_list = utils.load_csv(path_z)\n",
    "z_np = np.array(z_list, dtype=np.float64)\n",
    "path_label = './data/k_t/label_seurat/label1.csv'\n",
    "label_true = utils.load_csv(path_label)\n",
    "label_tlist = utils.transpose_list(label_true)[1][1:]\n",
    "kmeans = KMeans(n_clusters=18, random_state=0, n_init=100).fit(z_np)\n",
    "label_predict = kmeans.labels_\n",
    "label_pre_ten = th.Tensor(label_predict).unsqueeze(1)\n",
    "# utils.save_tensor_to_csv(label_pre_ten, filename = 'label_p.csv')\n",
    "utils.save_tensor_to_csv(label_pre_ten, \"./data/Kozareva_total/label_KMEANSAE.csv\")\n",
    "label_true = np.array(label_tlist)"
   ]
  },
  {
   "cell_type": "code",
   "execution_count": 4,
   "metadata": {},
   "outputs": [
    {
     "name": "stdout",
     "output_type": "stream",
     "text": [
      "ariscore 0.4722423080944721\n",
      "nmscore 0.7450075329101723\n",
      "scscore 0.5792635654889466\n"
     ]
    }
   ],
   "source": [
    "ariscore = adjusted_rand_score(label_predict, label_true) #AE\n",
    "nmiscore = normalized_mutual_info_score(label_predict, label_true)#AE\n",
    "scscore = silhouette_score(z_np, label_predict)#AE\n",
    "print(\"ariscore\",ariscore)\n",
    "print(\"nmscore\",nmiscore)\n",
    "print(\"scscore\",(1+scscore)/2)"
   ]
  }
 ],
 "metadata": {
  "kernelspec": {
   "display_name": "base",
   "language": "python",
   "name": "python3"
  },
  "language_info": {
   "codemirror_mode": {
    "name": "ipython",
    "version": 3
   },
   "file_extension": ".py",
   "mimetype": "text/x-python",
   "name": "python",
   "nbconvert_exporter": "python",
   "pygments_lexer": "ipython3",
   "version": "3.7.11"
  },
  "orig_nbformat": 4
 },
 "nbformat": 4,
 "nbformat_minor": 2
}
