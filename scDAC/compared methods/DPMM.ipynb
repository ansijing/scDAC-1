{
 "cells": [
  {
   "cell_type": "code",
   "execution_count": null,
   "metadata": {},
   "outputs": [],
   "source": [
    "from os import path\n",
    "from os.path import join as pj #os.path 模块主要用于获取文件的属性。join:把目录和文件名合成一个路径\n",
    "import math\n",
    "import numpy as np\n",
    "import torch as th\n",
    "import pandas as pd\n",
    "import os\n",
    "from torch import nn, autograd #autograd：提供了类和函数用来对任意标量函数进行求导\n",
    "from sklearn.mixture import BayesianGaussianMixture\n",
    "from modules import models, utils\n",
    "from sklearn.metrics.cluster import adjusted_rand_score\n",
    "from sklearn.metrics.cluster import normalized_mutual_info_score\n",
    "from sklearn.metrics import silhouette_score\n",
    "from sklearn import metrics\n",
    "from numpy import *"
   ]
  },
  {
   "cell_type": "code",
   "execution_count": null,
   "metadata": {},
   "outputs": [],
   "source": [
    "\n",
    "\n",
    "path_z = '/scDAC-main/scDAC/result/baron_single/e0/default/represent/z.csv'\n",
    "path_label = './data/b1/label_seurat/l1.csv'\n",
    "\n",
    "z_list = utils.load_csv(path_z)\n",
    "z_np = np.array(z_list, dtype=np.float64)\n",
    "\n",
    "label_true = utils.load_csv(path_label)\n",
    "label_tlist = utils.transpose_list(label_true)[1][1:]\n",
    "results = {}\n",
    "# weightrange = arange(0.01, 5, 1)\n",
    "# for cn_components in np.array([12,14,16, 17, 18]):\n",
    "for cweight_concentration_prior in np.array([1e-20, 1e-10, 1e-5, 1e-2, 1e+0,1e+2,1e+5]):\n",
    "    cbgm = BayesianGaussianMixture(\n",
    "        n_components=50, weight_concentration_prior=cweight_concentration_prior, covariance_type = 'full', init_params ='kmeans',random_state=42, max_iter=1000\n",
    "        ).fit(z_np)\n",
    "    label_predict = cbgm.predict(z_np)\n",
    "    label_true = np.array(label_tlist)\n",
    "    ariscore = adjusted_rand_score(label_predict, label_true)\n",
    "    nmiscore = normalized_mutual_info_score(label_predict, label_true)\n",
    "    sc = silhouette_score(z_np, label_predict)\n",
    "    print(\"w\", cweight_concentration_prior,\"ari\", ariscore, \"nmi\", nmiscore, \"sc\", sc)\n",
    "    # print(\"w\", cweight_concentration_prior,\"m\",cmean_precision_prior, \"k\", cn_components, \"ari\", ariscore)\n",
    "    results['%s-%s-%s'%(cweight_concentration_prior)]= ariscore "
   ]
  }
 ],
 "metadata": {
  "language_info": {
   "name": "python"
  },
  "orig_nbformat": 4
 },
 "nbformat": 4,
 "nbformat_minor": 2
}
