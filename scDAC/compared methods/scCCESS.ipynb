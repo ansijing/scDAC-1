{
 "cells": [
  {
   "cell_type": "code",
   "execution_count": null,
   "metadata": {
    "vscode": {
     "languageId": "r"
    }
   },
   "outputs": [],
   "source": [
    "library(SIMLR)\n",
    "library(scCCESS)\n",
    "library(keras)\n",
    "library(tensorflow)\n",
    "path = './data/processed/Slyper/subset_0/mat/features_count_har.csv'\n",
    "brainTags <- t(read.csv(path,header = T, row.names = 1))\n",
    "dat = brainTags\n",
    "encode(dat, seed = 1, max_random_projection = 2048, encoded_dim = 32, hidden_dims = c(128), \n",
    "  learning_rate = 0.001, batch_size = 32, epochs = 100, verbose = 1, scale = FALSE,\n",
    "  genes_as_rows = FALSE)\n",
    "ensemble_cluster(dat, seed = 1, cluster_func = function(x) kmeans(x, centers=5), \n",
    "  ensemble_sizes = c(1, 5, 10, 20, 50))\n",
    "res = estimate_k(dat,\n",
    "               seed = 1, \n",
    "               cluster_func = function(x,centers) { \n",
    "                 set.seed(42);\n",
    "                 kmeans(x, centers)\n",
    "               },\n",
    "               criteria_method = \"NMI\",\n",
    "               krange = 5:20, ensemble_sizes = 10,\n",
    "               cores = 8\n",
    ")\n",
    "cluster = ensemble_cluster(dat, \n",
    "                          seed = 1, \n",
    "                          cluster_func = function(x) {\n",
    "                            set.seed(1)\n",
    "                            kmeans(x, centers = res$ngroups)\n",
    "                          }, \n",
    "                          cores = 8, \n",
    "                          genes_as_rows = T, \n",
    "                          ensemble_sizes = 10, \n",
    "                          verbose = 0, \n",
    "                          scale = F, \n",
    "                          batch_size = 64\n",
    ")\n",
    "cluslis = list(cluster)\n",
    "write.csv(cluslis, \"./data/s1/predictscccesskmeans.csv\")"
   ]
  },
  {
   "cell_type": "code",
   "execution_count": null,
   "metadata": {
    "vscode": {
     "languageId": "r"
    }
   },
   "outputs": [],
   "source": [
    "library(SIMLR)\n",
    "library(scCCESS)\n",
    "library(keras)\n",
    "library(tensorflow)\n",
    "path = './data/processed/Orozco/subset_0/mat/features_count_har.csv'\n",
    "brainTags <- t(read.csv(path,header = T, row.names = 1))\n",
    "dat = brainTags\n",
    "encode(dat, seed = 1, max_random_projection = 2048, encoded_dim = 32, hidden_dims = c(128), \n",
    "  learning_rate = 0.001, batch_size = 32, epochs = 100, verbose = 1, scale = FALSE,\n",
    "  genes_as_rows = FALSE)\n",
    "ensemble_cluster(dat, seed = 1, cluster_func = function(x) kmeans(x, centers=5), \n",
    "  ensemble_sizes = c(1, 5, 10, 20, 50))\n",
    "res = estimate_k(dat,\n",
    "               seed = 1, \n",
    "               cluster_func = function(x,centers) { \n",
    "                 set.seed(42);\n",
    "                 kmeans(x, centers)\n",
    "               },\n",
    "               criteria_method = \"NMI\",\n",
    "               krange = 5:20, ensemble_sizes = 10,\n",
    "               cores = 8\n",
    ")\n",
    "cluster = ensemble_cluster(dat, \n",
    "                          seed = 1, \n",
    "                          cluster_func = function(x) {\n",
    "                            set.seed(1)\n",
    "                            kmeans(x, centers = res$ngroups)\n",
    "                          }, \n",
    "                          cores = 8, \n",
    "                          genes_as_rows = T, \n",
    "                          ensemble_sizes = 10, \n",
    "                          verbose = 0, \n",
    "                          scale = F, \n",
    "                          batch_size = 64\n",
    ")\n",
    "cluslis = list(cluster)\n",
    "write.csv(cluslis, \"./data/o1/predictscccesskmeans.csv\")"
   ]
  },
  {
   "cell_type": "code",
   "execution_count": null,
   "metadata": {
    "vscode": {
     "languageId": "r"
    }
   },
   "outputs": [],
   "source": [
    "library(SIMLR)\n",
    "library(scCCESS)\n",
    "library(keras)\n",
    "library(tensorflow)\n",
    "path = './data/processed/baron_single/subset_0/mat/rna.csv'\n",
    "brainTags <- t(read.csv(path,header = T, row.names = 1))\n",
    "dat = brainTags\n",
    "encode(dat, seed = 1, max_random_projection = 2048, encoded_dim = 32, hidden_dims = c(128), \n",
    "  learning_rate = 0.001, batch_size = 32, epochs = 100, verbose = 1, scale = FALSE,\n",
    "  genes_as_rows = FALSE)\n",
    "ensemble_cluster(dat, seed = 1, cluster_func = function(x) kmeans(x, centers=5), \n",
    "  ensemble_sizes = c(1, 5, 10, 20, 50))\n",
    "res = estimate_k(dat,\n",
    "               seed = 1, \n",
    "               cluster_func = function(x,centers) { \n",
    "                 set.seed(42);\n",
    "                 kmeans(x, centers)\n",
    "               },\n",
    "               criteria_method = \"NMI\",\n",
    "               krange = 5:20, ensemble_sizes = 10,\n",
    "               cores = 8\n",
    ")\n",
    "cluster = ensemble_cluster(dat, \n",
    "                          seed = 1, \n",
    "                          cluster_func = function(x) {\n",
    "                            set.seed(1)\n",
    "                            kmeans(x, centers = res$ngroups)\n",
    "                          }, \n",
    "                          cores = 8, \n",
    "                          genes_as_rows = T, \n",
    "                          ensemble_sizes = 10, \n",
    "                          verbose = 0, \n",
    "                          scale = F, \n",
    "                          batch_size = 64\n",
    ")\n",
    "cluslis = list(cluster)\n",
    "write.csv(cluslis, \"./data/b1/predictscccesskmeans.csv\")"
   ]
  }
 ],
 "metadata": {
  "kernelspec": {
   "display_name": "R",
   "language": "R",
   "name": "ir"
  },
  "language_info": {
   "name": "R",
   "version": "3.6.9 (default, Oct  8 2020, 12:12:24) \n[GCC 8.4.0]"
  },
  "orig_nbformat": 4,
  "vscode": {
   "interpreter": {
    "hash": "31f2aee4e71d21fbe5cf8b01ff0e069b9275f58929596ceb00d14d90e3e16cd6"
   }
  }
 },
 "nbformat": 4,
 "nbformat_minor": 2
}
